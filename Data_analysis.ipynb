{
 "cells": [
  {
   "cell_type": "markdown",
   "metadata": {},
   "source": [
    "### *This notebook runs ok in Jupyter, but not so well in Google Colab, due to a possible bug in Colab interaction with ipywidgets and plotly."
   ]
  },
  {
   "cell_type": "markdown",
   "metadata": {},
   "source": [
    "# Imports and options"
   ]
  },
  {
   "cell_type": "code",
   "execution_count": 1,
   "metadata": {},
   "outputs": [],
   "source": [
    "import numpy as np\n",
    "import pandas as pd\n",
    "import plotly.graph_objects as go\n",
    "from matplotlib.colors import LinearSegmentedColormap, to_hex\n",
    "import ipywidgets as widgets\n",
    "from scipy.stats import skew\n",
    "import plotly.express as px\n",
    "\n",
    "# Display options:\n",
    "pd.set_option(\"display.width\", 1200)\n",
    "pd.set_option(\"display.max_columns\", 300)\n",
    "pd.set_option(\"display.max_rows\", 300)"
   ]
  },
  {
   "cell_type": "markdown",
   "metadata": {},
   "source": [
    "# Dataset"
   ]
  },
  {
   "cell_type": "code",
   "execution_count": 2,
   "metadata": {},
   "outputs": [],
   "source": [
    "# Read the data:\n",
    "df_videos = pd.read_csv(\"data/videos_data.csv\", sep = \";\")"
   ]
  },
  {
   "cell_type": "code",
   "execution_count": 3,
   "metadata": {},
   "outputs": [
    {
     "data": {
      "text/html": [
       "<div>\n",
       "<style scoped>\n",
       "    .dataframe tbody tr th:only-of-type {\n",
       "        vertical-align: middle;\n",
       "    }\n",
       "\n",
       "    .dataframe tbody tr th {\n",
       "        vertical-align: top;\n",
       "    }\n",
       "\n",
       "    .dataframe thead th {\n",
       "        text-align: right;\n",
       "    }\n",
       "</style>\n",
       "<table border=\"1\" class=\"dataframe\">\n",
       "  <thead>\n",
       "    <tr style=\"text-align: right;\">\n",
       "      <th></th>\n",
       "      <th>channel_title</th>\n",
       "      <th>channel_id</th>\n",
       "      <th>video_title</th>\n",
       "      <th>video_id</th>\n",
       "      <th>video_upload_date</th>\n",
       "      <th>views</th>\n",
       "      <th>likes</th>\n",
       "      <th>dislikes</th>\n",
       "      <th>comments</th>\n",
       "      <th>age_days</th>\n",
       "      <th>likes_dislikes_ratio</th>\n",
       "      <th>comments_views_ratio</th>\n",
       "      <th>mean_views_day</th>\n",
       "    </tr>\n",
       "  </thead>\n",
       "  <tbody>\n",
       "    <tr>\n",
       "      <th>0</th>\n",
       "      <td>3Blue1Brown</td>\n",
       "      <td>UCYO_jab_esuFRV4b17AJtAw</td>\n",
       "      <td>How a Mandelbrot set arises from Newton’s work</td>\n",
       "      <td>LqbZpur38nw</td>\n",
       "      <td>2021-10-15 16:41:50+00:00</td>\n",
       "      <td>568689</td>\n",
       "      <td>26102</td>\n",
       "      <td>146</td>\n",
       "      <td>1216</td>\n",
       "      <td>8.0</td>\n",
       "      <td>178.780822</td>\n",
       "      <td>0.002138</td>\n",
       "      <td>71086.125000</td>\n",
       "    </tr>\n",
       "    <tr>\n",
       "      <th>1</th>\n",
       "      <td>3Blue1Brown</td>\n",
       "      <td>UCYO_jab_esuFRV4b17AJtAw</td>\n",
       "      <td>Newton's Fractal (which Newton knew nothing ab...</td>\n",
       "      <td>-RdOwhmqP5s</td>\n",
       "      <td>2021-10-07 02:19:39+00:00</td>\n",
       "      <td>1195545</td>\n",
       "      <td>61723</td>\n",
       "      <td>284</td>\n",
       "      <td>2810</td>\n",
       "      <td>16.0</td>\n",
       "      <td>217.334507</td>\n",
       "      <td>0.002350</td>\n",
       "      <td>74721.562500</td>\n",
       "    </tr>\n",
       "    <tr>\n",
       "      <th>2</th>\n",
       "      <td>3Blue1Brown</td>\n",
       "      <td>UCYO_jab_esuFRV4b17AJtAw</td>\n",
       "      <td>The Summer of Math Exposition</td>\n",
       "      <td>ojjzXyQCzso</td>\n",
       "      <td>2021-07-16 15:37:16+00:00</td>\n",
       "      <td>610550</td>\n",
       "      <td>29300</td>\n",
       "      <td>215</td>\n",
       "      <td>1719</td>\n",
       "      <td>99.0</td>\n",
       "      <td>136.279070</td>\n",
       "      <td>0.002815</td>\n",
       "      <td>6167.171717</td>\n",
       "    </tr>\n",
       "    <tr>\n",
       "      <th>3</th>\n",
       "      <td>3Blue1Brown</td>\n",
       "      <td>UCYO_jab_esuFRV4b17AJtAw</td>\n",
       "      <td>A quick trick for computing eigenvalues | Chap...</td>\n",
       "      <td>e50Bj7jn9IQ</td>\n",
       "      <td>2021-05-07 19:01:16+00:00</td>\n",
       "      <td>421914</td>\n",
       "      <td>17032</td>\n",
       "      <td>145</td>\n",
       "      <td>1146</td>\n",
       "      <td>169.0</td>\n",
       "      <td>117.462069</td>\n",
       "      <td>0.002716</td>\n",
       "      <td>2496.532544</td>\n",
       "    </tr>\n",
       "    <tr>\n",
       "      <th>4</th>\n",
       "      <td>3Blue1Brown</td>\n",
       "      <td>UCYO_jab_esuFRV4b17AJtAw</td>\n",
       "      <td>How (and why) to raise e to the power of a mat...</td>\n",
       "      <td>O85OWBJ2ayo</td>\n",
       "      <td>2021-04-01 06:38:35+00:00</td>\n",
       "      <td>1161654</td>\n",
       "      <td>46425</td>\n",
       "      <td>296</td>\n",
       "      <td>2586</td>\n",
       "      <td>205.0</td>\n",
       "      <td>156.841216</td>\n",
       "      <td>0.002226</td>\n",
       "      <td>5666.604878</td>\n",
       "    </tr>\n",
       "  </tbody>\n",
       "</table>\n",
       "</div>"
      ],
      "text/plain": [
       "  channel_title                channel_id                                        video_title     video_id          video_upload_date    views  likes  dislikes  comments  age_days  likes_dislikes_ratio  comments_views_ratio  mean_views_day\n",
       "0   3Blue1Brown  UCYO_jab_esuFRV4b17AJtAw     How a Mandelbrot set arises from Newton’s work  LqbZpur38nw  2021-10-15 16:41:50+00:00   568689  26102       146      1216       8.0            178.780822              0.002138    71086.125000\n",
       "1   3Blue1Brown  UCYO_jab_esuFRV4b17AJtAw  Newton's Fractal (which Newton knew nothing ab...  -RdOwhmqP5s  2021-10-07 02:19:39+00:00  1195545  61723       284      2810      16.0            217.334507              0.002350    74721.562500\n",
       "2   3Blue1Brown  UCYO_jab_esuFRV4b17AJtAw                      The Summer of Math Exposition  ojjzXyQCzso  2021-07-16 15:37:16+00:00   610550  29300       215      1719      99.0            136.279070              0.002815     6167.171717\n",
       "3   3Blue1Brown  UCYO_jab_esuFRV4b17AJtAw  A quick trick for computing eigenvalues | Chap...  e50Bj7jn9IQ  2021-05-07 19:01:16+00:00   421914  17032       145      1146     169.0            117.462069              0.002716     2496.532544\n",
       "4   3Blue1Brown  UCYO_jab_esuFRV4b17AJtAw  How (and why) to raise e to the power of a mat...  O85OWBJ2ayo  2021-04-01 06:38:35+00:00  1161654  46425       296      2586     205.0            156.841216              0.002226     5666.604878"
      ]
     },
     "execution_count": 3,
     "metadata": {},
     "output_type": "execute_result"
    }
   ],
   "source": [
    "df_videos.head(5)"
   ]
  },
  {
   "cell_type": "code",
   "execution_count": 4,
   "metadata": {},
   "outputs": [],
   "source": [
    "# Int to float:\n",
    "df_videos = df_videos.astype({\n",
    "    \"views\": \"float64\",\n",
    "    \"likes\": \"float64\",\n",
    "    \"dislikes\": \"float64\",\n",
    "    \"comments\": \"float64\"\n",
    "})"
   ]
  },
  {
   "cell_type": "code",
   "execution_count": 5,
   "metadata": {},
   "outputs": [
    {
     "data": {
      "text/plain": [
       "channel_title            object\n",
       "channel_id               object\n",
       "video_title              object\n",
       "video_id                 object\n",
       "video_upload_date        object\n",
       "views                   float64\n",
       "likes                   float64\n",
       "dislikes                float64\n",
       "comments                float64\n",
       "age_days                float64\n",
       "likes_dislikes_ratio    float64\n",
       "comments_views_ratio    float64\n",
       "mean_views_day          float64\n",
       "dtype: object"
      ]
     },
     "execution_count": 5,
     "metadata": {},
     "output_type": "execute_result"
    }
   ],
   "source": [
    "df_videos.dtypes"
   ]
  },
  {
   "cell_type": "code",
   "execution_count": 6,
   "metadata": {},
   "outputs": [
    {
     "data": {
      "text/html": [
       "<div>\n",
       "<style scoped>\n",
       "    .dataframe tbody tr th:only-of-type {\n",
       "        vertical-align: middle;\n",
       "    }\n",
       "\n",
       "    .dataframe tbody tr th {\n",
       "        vertical-align: top;\n",
       "    }\n",
       "\n",
       "    .dataframe thead th {\n",
       "        text-align: right;\n",
       "    }\n",
       "</style>\n",
       "<table border=\"1\" class=\"dataframe\">\n",
       "  <thead>\n",
       "    <tr style=\"text-align: right;\">\n",
       "      <th></th>\n",
       "      <th>views</th>\n",
       "      <th>likes</th>\n",
       "      <th>dislikes</th>\n",
       "      <th>comments</th>\n",
       "      <th>age_days</th>\n",
       "      <th>likes_dislikes_ratio</th>\n",
       "      <th>comments_views_ratio</th>\n",
       "      <th>mean_views_day</th>\n",
       "    </tr>\n",
       "  </thead>\n",
       "  <tbody>\n",
       "    <tr>\n",
       "      <th>count</th>\n",
       "      <td>1.098460e+05</td>\n",
       "      <td>1.098460e+05</td>\n",
       "      <td>1.098460e+05</td>\n",
       "      <td>109846.000000</td>\n",
       "      <td>109846.000000</td>\n",
       "      <td>109846.000000</td>\n",
       "      <td>109846.000000</td>\n",
       "      <td>1.098460e+05</td>\n",
       "    </tr>\n",
       "    <tr>\n",
       "      <th>mean</th>\n",
       "      <td>6.610286e+05</td>\n",
       "      <td>1.330979e+04</td>\n",
       "      <td>4.659040e+02</td>\n",
       "      <td>769.009704</td>\n",
       "      <td>1832.925086</td>\n",
       "      <td>56.087365</td>\n",
       "      <td>0.003138</td>\n",
       "      <td>9.710691e+02</td>\n",
       "    </tr>\n",
       "    <tr>\n",
       "      <th>std</th>\n",
       "      <td>3.376990e+06</td>\n",
       "      <td>4.733249e+04</td>\n",
       "      <td>7.937290e+03</td>\n",
       "      <td>3076.690459</td>\n",
       "      <td>1226.744715</td>\n",
       "      <td>78.512940</td>\n",
       "      <td>0.006612</td>\n",
       "      <td>8.986223e+03</td>\n",
       "    </tr>\n",
       "    <tr>\n",
       "      <th>min</th>\n",
       "      <td>1.000000e+00</td>\n",
       "      <td>0.000000e+00</td>\n",
       "      <td>1.000000e+00</td>\n",
       "      <td>0.000000</td>\n",
       "      <td>2.000000</td>\n",
       "      <td>0.000000</td>\n",
       "      <td>0.000000</td>\n",
       "      <td>7.012623e-04</td>\n",
       "    </tr>\n",
       "    <tr>\n",
       "      <th>25%</th>\n",
       "      <td>1.622925e+04</td>\n",
       "      <td>2.270000e+02</td>\n",
       "      <td>1.000000e+01</td>\n",
       "      <td>24.000000</td>\n",
       "      <td>883.000000</td>\n",
       "      <td>12.797303</td>\n",
       "      <td>0.000647</td>\n",
       "      <td>9.232827e+00</td>\n",
       "    </tr>\n",
       "    <tr>\n",
       "      <th>50%</th>\n",
       "      <td>6.793150e+04</td>\n",
       "      <td>1.356000e+03</td>\n",
       "      <td>4.000000e+01</td>\n",
       "      <td>120.000000</td>\n",
       "      <td>1648.000000</td>\n",
       "      <td>32.076923</td>\n",
       "      <td>0.001555</td>\n",
       "      <td>5.030444e+01</td>\n",
       "    </tr>\n",
       "    <tr>\n",
       "      <th>75%</th>\n",
       "      <td>2.880425e+05</td>\n",
       "      <td>7.036000e+03</td>\n",
       "      <td>1.690000e+02</td>\n",
       "      <td>509.000000</td>\n",
       "      <td>2570.000000</td>\n",
       "      <td>68.630233</td>\n",
       "      <td>0.003415</td>\n",
       "      <td>2.946639e+02</td>\n",
       "    </tr>\n",
       "    <tr>\n",
       "      <th>max</th>\n",
       "      <td>3.244799e+08</td>\n",
       "      <td>3.061149e+06</td>\n",
       "      <td>2.384345e+06</td>\n",
       "      <td>298356.000000</td>\n",
       "      <td>5732.000000</td>\n",
       "      <td>2635.000000</td>\n",
       "      <td>0.440313</td>\n",
       "      <td>1.030206e+06</td>\n",
       "    </tr>\n",
       "  </tbody>\n",
       "</table>\n",
       "</div>"
      ],
      "text/plain": [
       "              views         likes      dislikes       comments       age_days  likes_dislikes_ratio  comments_views_ratio  mean_views_day\n",
       "count  1.098460e+05  1.098460e+05  1.098460e+05  109846.000000  109846.000000         109846.000000         109846.000000    1.098460e+05\n",
       "mean   6.610286e+05  1.330979e+04  4.659040e+02     769.009704    1832.925086             56.087365              0.003138    9.710691e+02\n",
       "std    3.376990e+06  4.733249e+04  7.937290e+03    3076.690459    1226.744715             78.512940              0.006612    8.986223e+03\n",
       "min    1.000000e+00  0.000000e+00  1.000000e+00       0.000000       2.000000              0.000000              0.000000    7.012623e-04\n",
       "25%    1.622925e+04  2.270000e+02  1.000000e+01      24.000000     883.000000             12.797303              0.000647    9.232827e+00\n",
       "50%    6.793150e+04  1.356000e+03  4.000000e+01     120.000000    1648.000000             32.076923              0.001555    5.030444e+01\n",
       "75%    2.880425e+05  7.036000e+03  1.690000e+02     509.000000    2570.000000             68.630233              0.003415    2.946639e+02\n",
       "max    3.244799e+08  3.061149e+06  2.384345e+06  298356.000000    5732.000000           2635.000000              0.440313    1.030206e+06"
      ]
     },
     "execution_count": 6,
     "metadata": {},
     "output_type": "execute_result"
    }
   ],
   "source": [
    "df_videos.describe()"
   ]
  },
  {
   "cell_type": "markdown",
   "metadata": {},
   "source": [
    "# Plots"
   ]
  },
  {
   "cell_type": "markdown",
   "metadata": {},
   "source": [
    "## Barplot of the number of videos by channel"
   ]
  },
  {
   "cell_type": "code",
   "execution_count": 9,
   "metadata": {},
   "outputs": [
    {
     "data": {
      "application/vnd.plotly.v1+json": {
       "config": {
        "plotlyServerURL": "https://plot.ly"
       },
       "data": [
        {
         "alignmentgroup": "True",
         "hovertemplate": "<b>Channel: %{x}<br>Frequency: %{y:}</b><extra></extra>",
         "legendgroup": "BBC",
         "marker": {
          "color": "#111539",
          "pattern": {
           "shape": ""
          }
         },
         "name": "BBC",
         "offsetgroup": "BBC",
         "orientation": "v",
         "showlegend": true,
         "text": [
          "11.999%"
         ],
         "textfont": {
          "color": "#535a88",
          "size": 15
         },
         "textposition": "outside",
         "type": "bar",
         "x": [
          "BBC"
         ],
         "xaxis": "x",
         "y": [
          13180
         ],
         "yaxis": "y"
        },
        {
         "alignmentgroup": "True",
         "hovertemplate": "<b>Channel: %{x}<br>Frequency: %{y:}</b><extra></extra>",
         "legendgroup": "CNBC",
         "marker": {
          "color": "#12163a",
          "pattern": {
           "shape": ""
          }
         },
         "name": "CNBC",
         "offsetgroup": "CNBC",
         "orientation": "v",
         "showlegend": true,
         "text": [
          "9.813%"
         ],
         "textfont": {
          "color": "#535a88",
          "size": 15
         },
         "textposition": "outside",
         "type": "bar",
         "x": [
          "CNBC"
         ],
         "xaxis": "x",
         "y": [
          10779
         ],
         "yaxis": "y"
        },
        {
         "alignmentgroup": "True",
         "hovertemplate": "<b>Channel: %{x}<br>Frequency: %{y:}</b><extra></extra>",
         "legendgroup": "Classic Mr Bean",
         "marker": {
          "color": "#13173c",
          "pattern": {
           "shape": ""
          }
         },
         "name": "Classic Mr Bean",
         "offsetgroup": "Classic Mr Bean",
         "orientation": "v",
         "showlegend": true,
         "text": [
          "8.496%"
         ],
         "textfont": {
          "color": "#535a88",
          "size": 15
         },
         "textposition": "outside",
         "type": "bar",
         "x": [
          "Classic Mr Bean"
         ],
         "xaxis": "x",
         "y": [
          9332
         ],
         "yaxis": "y"
        },
        {
         "alignmentgroup": "True",
         "hovertemplate": "<b>Channel: %{x}<br>Frequency: %{y:}</b><extra></extra>",
         "legendgroup": "Netflix",
         "marker": {
          "color": "#14183d",
          "pattern": {
           "shape": ""
          }
         },
         "name": "Netflix",
         "offsetgroup": "Netflix",
         "orientation": "v",
         "showlegend": true,
         "text": [
          "4.518%"
         ],
         "textfont": {
          "color": "#535a88",
          "size": 15
         },
         "textposition": "outside",
         "type": "bar",
         "x": [
          "Netflix"
         ],
         "xaxis": "x",
         "y": [
          4963
         ],
         "yaxis": "y"
        },
        {
         "alignmentgroup": "True",
         "hovertemplate": "<b>Channel: %{x}<br>Frequency: %{y:}</b><extra></extra>",
         "legendgroup": "Business Insider",
         "marker": {
          "color": "#15193e",
          "pattern": {
           "shape": ""
          }
         },
         "name": "Business Insider",
         "offsetgroup": "Business Insider",
         "orientation": "v",
         "showlegend": true,
         "text": [
          "4.365%"
         ],
         "textfont": {
          "color": "#535a88",
          "size": 15
         },
         "textposition": "outside",
         "type": "bar",
         "x": [
          "Business Insider"
         ],
         "xaxis": "x",
         "y": [
          4795
         ],
         "yaxis": "y"
        },
        {
         "alignmentgroup": "True",
         "hovertemplate": "<b>Channel: %{x}<br>Frequency: %{y:}</b><extra></extra>",
         "legendgroup": "Adam Savage’s Tested",
         "marker": {
          "color": "#161a3f",
          "pattern": {
           "shape": ""
          }
         },
         "name": "Adam Savage’s Tested",
         "offsetgroup": "Adam Savage’s Tested",
         "orientation": "v",
         "showlegend": true,
         "text": [
          "4.052%"
         ],
         "textfont": {
          "color": "#535a88",
          "size": 15
         },
         "textposition": "outside",
         "type": "bar",
         "x": [
          "Adam Savage’s Tested"
         ],
         "xaxis": "x",
         "y": [
          4451
         ],
         "yaxis": "y"
        },
        {
         "alignmentgroup": "True",
         "hovertemplate": "<b>Channel: %{x}<br>Frequency: %{y:}</b><extra></extra>",
         "legendgroup": "NASA",
         "marker": {
          "color": "#171c41",
          "pattern": {
           "shape": ""
          }
         },
         "name": "NASA",
         "offsetgroup": "NASA",
         "orientation": "v",
         "showlegend": true,
         "text": [
          "3.853%"
         ],
         "textfont": {
          "color": "#535a88",
          "size": 15
         },
         "textposition": "outside",
         "type": "bar",
         "x": [
          "NASA"
         ],
         "xaxis": "x",
         "y": [
          4232
         ],
         "yaxis": "y"
        },
        {
         "alignmentgroup": "True",
         "hovertemplate": "<b>Channel: %{x}<br>Frequency: %{y:}</b><extra></extra>",
         "legendgroup": "TED",
         "marker": {
          "color": "#181d42",
          "pattern": {
           "shape": ""
          }
         },
         "name": "TED",
         "offsetgroup": "TED",
         "orientation": "v",
         "showlegend": true,
         "text": [
          "3.362%"
         ],
         "textfont": {
          "color": "#535a88",
          "size": 15
         },
         "textposition": "outside",
         "type": "bar",
         "x": [
          "TED"
         ],
         "xaxis": "x",
         "y": [
          3693
         ],
         "yaxis": "y"
        },
        {
         "alignmentgroup": "True",
         "hovertemplate": "<b>Channel: %{x}<br>Frequency: %{y:}</b><extra></extra>",
         "legendgroup": "SpaceToday",
         "marker": {
          "color": "#191e43",
          "pattern": {
           "shape": ""
          }
         },
         "name": "SpaceToday",
         "offsetgroup": "SpaceToday",
         "orientation": "v",
         "showlegend": true,
         "text": [
          "3.11%"
         ],
         "textfont": {
          "color": "#535a88",
          "size": 15
         },
         "textposition": "outside",
         "type": "bar",
         "x": [
          "SpaceToday"
         ],
         "xaxis": "x",
         "y": [
          3416
         ],
         "yaxis": "y"
        },
        {
         "alignmentgroup": "True",
         "hovertemplate": "<b>Channel: %{x}<br>Frequency: %{y:}</b><extra></extra>",
         "legendgroup": "European Space Agency, ESA",
         "marker": {
          "color": "#1a1f44",
          "pattern": {
           "shape": ""
          }
         },
         "name": "European Space Agency, ESA",
         "offsetgroup": "European Space Agency, ESA",
         "orientation": "v",
         "showlegend": true,
         "text": [
          "2.769%"
         ],
         "textfont": {
          "color": "#535a88",
          "size": 15
         },
         "textposition": "outside",
         "type": "bar",
         "x": [
          "European Space Agency, ESA"
         ],
         "xaxis": "x",
         "y": [
          3042
         ],
         "yaxis": "y"
        },
        {
         "alignmentgroup": "True",
         "hovertemplate": "<b>Channel: %{x}<br>Frequency: %{y:}</b><extra></extra>",
         "legendgroup": "SciShow",
         "marker": {
          "color": "#1c2046",
          "pattern": {
           "shape": ""
          }
         },
         "name": "SciShow",
         "offsetgroup": "SciShow",
         "orientation": "v",
         "showlegend": true,
         "text": [
          "2.542%"
         ],
         "textfont": {
          "color": "#535a88",
          "size": 15
         },
         "textposition": "outside",
         "type": "bar",
         "x": [
          "SciShow"
         ],
         "xaxis": "x",
         "y": [
          2792
         ],
         "yaxis": "y"
        },
        {
         "alignmentgroup": "True",
         "hovertemplate": "<b>Channel: %{x}<br>Frequency: %{y:}</b><extra></extra>",
         "legendgroup": "Scott Manley",
         "marker": {
          "color": "#1d2147",
          "pattern": {
           "shape": ""
          }
         },
         "name": "Scott Manley",
         "offsetgroup": "Scott Manley",
         "orientation": "v",
         "showlegend": true,
         "text": [
          "2.183%"
         ],
         "textfont": {
          "color": "#535a88",
          "size": 15
         },
         "textposition": "outside",
         "type": "bar",
         "x": [
          "Scott Manley"
         ],
         "xaxis": "x",
         "y": [
          2398
         ],
         "yaxis": "y"
        },
        {
         "alignmentgroup": "True",
         "hovertemplate": "<b>Channel: %{x}<br>Frequency: %{y:}</b><extra></extra>",
         "legendgroup": "Canal do Schwarza",
         "marker": {
          "color": "#1e2248",
          "pattern": {
           "shape": ""
          }
         },
         "name": "Canal do Schwarza",
         "offsetgroup": "Canal do Schwarza",
         "orientation": "v",
         "showlegend": true,
         "text": [
          "2.149%"
         ],
         "textfont": {
          "color": "#535a88",
          "size": 15
         },
         "textposition": "outside",
         "type": "bar",
         "x": [
          "Canal do Schwarza"
         ],
         "xaxis": "x",
         "y": [
          2361
         ],
         "yaxis": "y"
        },
        {
         "alignmentgroup": "True",
         "hovertemplate": "<b>Channel: %{x}<br>Frequency: %{y:}</b><extra></extra>",
         "legendgroup": "Disney Parks",
         "marker": {
          "color": "#1f2349",
          "pattern": {
           "shape": ""
          }
         },
         "name": "Disney Parks",
         "offsetgroup": "Disney Parks",
         "orientation": "v",
         "showlegend": true,
         "text": [
          "2.095%"
         ],
         "textfont": {
          "color": "#535a88",
          "size": 15
         },
         "textposition": "outside",
         "type": "bar",
         "x": [
          "Disney Parks"
         ],
         "xaxis": "x",
         "y": [
          2301
         ],
         "yaxis": "y"
        },
        {
         "alignmentgroup": "True",
         "hovertemplate": "<b>Channel: %{x}<br>Frequency: %{y:}</b><extra></extra>",
         "legendgroup": "Porta dos Fundos",
         "marker": {
          "color": "#20244b",
          "pattern": {
           "shape": ""
          }
         },
         "name": "Porta dos Fundos",
         "offsetgroup": "Porta dos Fundos",
         "orientation": "v",
         "showlegend": true,
         "text": [
          "1.579%"
         ],
         "textfont": {
          "color": "#535a88",
          "size": 15
         },
         "textposition": "outside",
         "type": "bar",
         "x": [
          "Porta dos Fundos"
         ],
         "xaxis": "x",
         "y": [
          1735
         ],
         "yaxis": "y"
        },
        {
         "alignmentgroup": "True",
         "hovertemplate": "<b>Channel: %{x}<br>Frequency: %{y:}</b><extra></extra>",
         "legendgroup": "Jacques Slade",
         "marker": {
          "color": "#21254c",
          "pattern": {
           "shape": ""
          }
         },
         "name": "Jacques Slade",
         "offsetgroup": "Jacques Slade",
         "orientation": "v",
         "showlegend": true,
         "text": [
          "1.554%"
         ],
         "textfont": {
          "color": "#535a88",
          "size": 15
         },
         "textposition": "outside",
         "type": "bar",
         "x": [
          "Jacques Slade"
         ],
         "xaxis": "x",
         "y": [
          1707
         ],
         "yaxis": "y"
        },
        {
         "alignmentgroup": "True",
         "hovertemplate": "<b>Channel: %{x}<br>Frequency: %{y:}</b><extra></extra>",
         "legendgroup": "Meteoro Brasil",
         "marker": {
          "color": "#22274d",
          "pattern": {
           "shape": ""
          }
         },
         "name": "Meteoro Brasil",
         "offsetgroup": "Meteoro Brasil",
         "orientation": "v",
         "showlegend": true,
         "text": [
          "1.397%"
         ],
         "textfont": {
          "color": "#535a88",
          "size": 15
         },
         "textposition": "outside",
         "type": "bar",
         "x": [
          "Meteoro Brasil"
         ],
         "xaxis": "x",
         "y": [
          1535
         ],
         "yaxis": "y"
        },
        {
         "alignmentgroup": "True",
         "hovertemplate": "<b>Channel: %{x}<br>Frequency: %{y:}</b><extra></extra>",
         "legendgroup": "Guinness World Records",
         "marker": {
          "color": "#23284e",
          "pattern": {
           "shape": ""
          }
         },
         "name": "Guinness World Records",
         "offsetgroup": "Guinness World Records",
         "orientation": "v",
         "showlegend": true,
         "text": [
          "1.319%"
         ],
         "textfont": {
          "color": "#535a88",
          "size": 15
         },
         "textposition": "outside",
         "type": "bar",
         "x": [
          "Guinness World Records"
         ],
         "xaxis": "x",
         "y": [
          1449
         ],
         "yaxis": "y"
        },
        {
         "alignmentgroup": "True",
         "hovertemplate": "<b>Channel: %{x}<br>Frequency: %{y:}</b><extra></extra>",
         "legendgroup": "Parafernalha",
         "marker": {
          "color": "#242950",
          "pattern": {
           "shape": ""
          }
         },
         "name": "Parafernalha",
         "offsetgroup": "Parafernalha",
         "orientation": "v",
         "showlegend": true,
         "text": [
          "1.084%"
         ],
         "textfont": {
          "color": "#535a88",
          "size": 15
         },
         "textposition": "outside",
         "type": "bar",
         "x": [
          "Parafernalha"
         ],
         "xaxis": "x",
         "y": [
          1191
         ],
         "yaxis": "y"
        },
        {
         "alignmentgroup": "True",
         "hovertemplate": "<b>Channel: %{x}<br>Frequency: %{y:}</b><extra></extra>",
         "legendgroup": "Aviões e Músicas com Lito Sousa",
         "marker": {
          "color": "#252a51",
          "pattern": {
           "shape": ""
          }
         },
         "name": "Aviões e Músicas com Lito Sousa",
         "offsetgroup": "Aviões e Músicas com Lito Sousa",
         "orientation": "v",
         "showlegend": true,
         "text": [
          "0.99%"
         ],
         "textfont": {
          "color": "#535a88",
          "size": 15
         },
         "textposition": "outside",
         "type": "bar",
         "x": [
          "Aviões e Músicas com Lito Sousa"
         ],
         "xaxis": "x",
         "y": [
          1088
         ],
         "yaxis": "y"
        },
        {
         "alignmentgroup": "True",
         "hovertemplate": "<b>Channel: %{x}<br>Frequency: %{y:}</b><extra></extra>",
         "legendgroup": "Fabio Chaves",
         "marker": {
          "color": "#262b52",
          "pattern": {
           "shape": ""
          }
         },
         "name": "Fabio Chaves",
         "offsetgroup": "Fabio Chaves",
         "orientation": "v",
         "showlegend": true,
         "text": [
          "0.919%"
         ],
         "textfont": {
          "color": "#535a88",
          "size": 15
         },
         "textposition": "outside",
         "type": "bar",
         "x": [
          "Fabio Chaves"
         ],
         "xaxis": "x",
         "y": [
          1010
         ],
         "yaxis": "y"
        },
        {
         "alignmentgroup": "True",
         "hovertemplate": "<b>Channel: %{x}<br>Frequency: %{y:}</b><extra></extra>",
         "legendgroup": "UrAvgConsumer",
         "marker": {
          "color": "#282d54",
          "pattern": {
           "shape": ""
          }
         },
         "name": "UrAvgConsumer",
         "offsetgroup": "UrAvgConsumer",
         "orientation": "v",
         "showlegend": true,
         "text": [
          "0.893%"
         ],
         "textfont": {
          "color": "#535a88",
          "size": 15
         },
         "textposition": "outside",
         "type": "bar",
         "x": [
          "UrAvgConsumer"
         ],
         "xaxis": "x",
         "y": [
          981
         ],
         "yaxis": "y"
        },
        {
         "alignmentgroup": "True",
         "hovertemplate": "<b>Channel: %{x}<br>Frequency: %{y:}</b><extra></extra>",
         "legendgroup": "Roberto Blake",
         "marker": {
          "color": "#292e55",
          "pattern": {
           "shape": ""
          }
         },
         "name": "Roberto Blake",
         "offsetgroup": "Roberto Blake",
         "orientation": "v",
         "showlegend": true,
         "text": [
          "0.882%"
         ],
         "textfont": {
          "color": "#535a88",
          "size": 15
         },
         "textposition": "outside",
         "type": "bar",
         "x": [
          "Roberto Blake"
         ],
         "xaxis": "x",
         "y": [
          969
         ],
         "yaxis": "y"
        },
        {
         "alignmentgroup": "True",
         "hovertemplate": "<b>Channel: %{x}<br>Frequency: %{y:}</b><extra></extra>",
         "legendgroup": "Disney",
         "marker": {
          "color": "#2a2f56",
          "pattern": {
           "shape": ""
          }
         },
         "name": "Disney",
         "offsetgroup": "Disney",
         "orientation": "v",
         "showlegend": true,
         "text": [
          "0.837%"
         ],
         "textfont": {
          "color": "#535a88",
          "size": 15
         },
         "textposition": "outside",
         "type": "bar",
         "x": [
          "Disney"
         ],
         "xaxis": "x",
         "y": [
          919
         ],
         "yaxis": "y"
        },
        {
         "alignmentgroup": "True",
         "hovertemplate": "<b>Channel: %{x}<br>Frequency: %{y:}</b><extra></extra>",
         "legendgroup": "Traversy Media",
         "marker": {
          "color": "#2b3058",
          "pattern": {
           "shape": ""
          }
         },
         "name": "Traversy Media",
         "offsetgroup": "Traversy Media",
         "orientation": "v",
         "showlegend": true,
         "text": [
          "0.769%"
         ],
         "textfont": {
          "color": "#535a88",
          "size": 15
         },
         "textposition": "outside",
         "type": "bar",
         "x": [
          "Traversy Media"
         ],
         "xaxis": "x",
         "y": [
          845
         ],
         "yaxis": "y"
        },
        {
         "alignmentgroup": "True",
         "hovertemplate": "<b>Channel: %{x}<br>Frequency: %{y:}</b><extra></extra>",
         "legendgroup": "Rebecca Watson",
         "marker": {
          "color": "#2c3159",
          "pattern": {
           "shape": ""
          }
         },
         "name": "Rebecca Watson",
         "offsetgroup": "Rebecca Watson",
         "orientation": "v",
         "showlegend": true,
         "text": [
          "0.763%"
         ],
         "textfont": {
          "color": "#535a88",
          "size": 15
         },
         "textposition": "outside",
         "type": "bar",
         "x": [
          "Rebecca Watson"
         ],
         "xaxis": "x",
         "y": [
          838
         ],
         "yaxis": "y"
        },
        {
         "alignmentgroup": "True",
         "hovertemplate": "<b>Channel: %{x}<br>Frequency: %{y:}</b><extra></extra>",
         "legendgroup": "DW Euromaxx",
         "marker": {
          "color": "#2d325a",
          "pattern": {
           "shape": ""
          }
         },
         "name": "DW Euromaxx",
         "offsetgroup": "DW Euromaxx",
         "orientation": "v",
         "showlegend": true,
         "text": [
          "0.76%"
         ],
         "textfont": {
          "color": "#535a88",
          "size": 15
         },
         "textposition": "outside",
         "type": "bar",
         "x": [
          "DW Euromaxx"
         ],
         "xaxis": "x",
         "y": [
          835
         ],
         "yaxis": "y"
        },
        {
         "alignmentgroup": "True",
         "hovertemplate": "<b>Channel: %{x}<br>Frequency: %{y:}</b><extra></extra>",
         "legendgroup": "Rachel's English",
         "marker": {
          "color": "#2e335c",
          "pattern": {
           "shape": ""
          }
         },
         "name": "Rachel's English",
         "offsetgroup": "Rachel's English",
         "orientation": "v",
         "showlegend": true,
         "text": [
          "0.754%"
         ],
         "textfont": {
          "color": "#535a88",
          "size": 15
         },
         "textposition": "outside",
         "type": "bar",
         "x": [
          "Rachel's English"
         ],
         "xaxis": "x",
         "y": [
          828
         ],
         "yaxis": "y"
        },
        {
         "alignmentgroup": "True",
         "hovertemplate": "<b>Channel: %{x}<br>Frequency: %{y:}</b><extra></extra>",
         "legendgroup": "Computerphile",
         "marker": {
          "color": "#2f345d",
          "pattern": {
           "shape": ""
          }
         },
         "name": "Computerphile",
         "offsetgroup": "Computerphile",
         "orientation": "v",
         "showlegend": true,
         "text": [
          "0.648%"
         ],
         "textfont": {
          "color": "#535a88",
          "size": 15
         },
         "textposition": "outside",
         "type": "bar",
         "x": [
          "Computerphile"
         ],
         "xaxis": "x",
         "y": [
          712
         ],
         "yaxis": "y"
        },
        {
         "alignmentgroup": "True",
         "hovertemplate": "<b>Channel: %{x}<br>Frequency: %{y:}</b><extra></extra>",
         "legendgroup": "Aero Por Trás da Aviação",
         "marker": {
          "color": "#30355e",
          "pattern": {
           "shape": ""
          }
         },
         "name": "Aero Por Trás da Aviação",
         "offsetgroup": "Aero Por Trás da Aviação",
         "orientation": "v",
         "showlegend": true,
         "text": [
          "0.639%"
         ],
         "textfont": {
          "color": "#535a88",
          "size": 15
         },
         "textposition": "outside",
         "type": "bar",
         "x": [
          "Aero Por Trás da Aviação"
         ],
         "xaxis": "x",
         "y": [
          702
         ],
         "yaxis": "y"
        },
        {
         "alignmentgroup": "True",
         "hovertemplate": "<b>Channel: %{x}<br>Frequency: %{y:}</b><extra></extra>",
         "legendgroup": "Azusa Barbie",
         "marker": {
          "color": "#31365f",
          "pattern": {
           "shape": ""
          }
         },
         "name": "Azusa Barbie",
         "offsetgroup": "Azusa Barbie",
         "orientation": "v",
         "showlegend": true,
         "text": [
          "0.634%"
         ],
         "textfont": {
          "color": "#535a88",
          "size": 15
         },
         "textposition": "outside",
         "type": "bar",
         "x": [
          "Azusa Barbie"
         ],
         "xaxis": "x",
         "y": [
          696
         ],
         "yaxis": "y"
        },
        {
         "alignmentgroup": "True",
         "hovertemplate": "<b>Channel: %{x}<br>Frequency: %{y:}</b><extra></extra>",
         "legendgroup": "Periodic Videos",
         "marker": {
          "color": "#323861",
          "pattern": {
           "shape": ""
          }
         },
         "name": "Periodic Videos",
         "offsetgroup": "Periodic Videos",
         "orientation": "v",
         "showlegend": true,
         "text": [
          "0.628%"
         ],
         "textfont": {
          "color": "#535a88",
          "size": 15
         },
         "textposition": "outside",
         "type": "bar",
         "x": [
          "Periodic Videos"
         ],
         "xaxis": "x",
         "y": [
          690
         ],
         "yaxis": "y"
        },
        {
         "alignmentgroup": "True",
         "hovertemplate": "<b>Channel: %{x}<br>Frequency: %{y:}</b><extra></extra>",
         "legendgroup": "Joe Scott",
         "marker": {
          "color": "#333962",
          "pattern": {
           "shape": ""
          }
         },
         "name": "Joe Scott",
         "offsetgroup": "Joe Scott",
         "orientation": "v",
         "showlegend": true,
         "text": [
          "0.59%"
         ],
         "textfont": {
          "color": "#535a88",
          "size": 15
         },
         "textposition": "outside",
         "type": "bar",
         "x": [
          "Joe Scott"
         ],
         "xaxis": "x",
         "y": [
          648
         ],
         "yaxis": "y"
        },
        {
         "alignmentgroup": "True",
         "hovertemplate": "<b>Channel: %{x}<br>Frequency: %{y:}</b><extra></extra>",
         "legendgroup": "Simple Flying",
         "marker": {
          "color": "#343a63",
          "pattern": {
           "shape": ""
          }
         },
         "name": "Simple Flying",
         "offsetgroup": "Simple Flying",
         "orientation": "v",
         "showlegend": true,
         "text": [
          "0.585%"
         ],
         "textfont": {
          "color": "#535a88",
          "size": 15
         },
         "textposition": "outside",
         "type": "bar",
         "x": [
          "Simple Flying"
         ],
         "xaxis": "x",
         "y": [
          643
         ],
         "yaxis": "y"
        },
        {
         "alignmentgroup": "True",
         "hovertemplate": "<b>Channel: %{x}<br>Frequency: %{y:}</b><extra></extra>",
         "legendgroup": "Tom Scott",
         "marker": {
          "color": "#353b64",
          "pattern": {
           "shape": ""
          }
         },
         "name": "Tom Scott",
         "offsetgroup": "Tom Scott",
         "orientation": "v",
         "showlegend": true,
         "text": [
          "0.564%"
         ],
         "textfont": {
          "color": "#535a88",
          "size": 15
         },
         "textposition": "outside",
         "type": "bar",
         "x": [
          "Tom Scott"
         ],
         "xaxis": "x",
         "y": [
          620
         ],
         "yaxis": "y"
        },
        {
         "alignmentgroup": "True",
         "hovertemplate": "<b>Channel: %{x}<br>Frequency: %{y:}</b><extra></extra>",
         "legendgroup": "Numberphile",
         "marker": {
          "color": "#363c66",
          "pattern": {
           "shape": ""
          }
         },
         "name": "Numberphile",
         "offsetgroup": "Numberphile",
         "orientation": "v",
         "showlegend": true,
         "text": [
          "0.562%"
         ],
         "textfont": {
          "color": "#535a88",
          "size": 15
         },
         "textposition": "outside",
         "type": "bar",
         "x": [
          "Numberphile"
         ],
         "xaxis": "x",
         "y": [
          617
         ],
         "yaxis": "y"
        },
        {
         "alignmentgroup": "True",
         "hovertemplate": "<b>Channel: %{x}<br>Frequency: %{y:}</b><extra></extra>",
         "legendgroup": "Código Fonte TV",
         "marker": {
          "color": "#373d67",
          "pattern": {
           "shape": ""
          }
         },
         "name": "Código Fonte TV",
         "offsetgroup": "Código Fonte TV",
         "orientation": "v",
         "showlegend": true,
         "text": [
          "0.469%"
         ],
         "textfont": {
          "color": "#535a88",
          "size": 15
         },
         "textposition": "outside",
         "type": "bar",
         "x": [
          "Código Fonte TV"
         ],
         "xaxis": "x",
         "y": [
          515
         ],
         "yaxis": "y"
        },
        {
         "alignmentgroup": "True",
         "hovertemplate": "<b>Channel: %{x}<br>Frequency: %{y:}</b><extra></extra>",
         "legendgroup": "Bob Ross",
         "marker": {
          "color": "#383e68",
          "pattern": {
           "shape": ""
          }
         },
         "name": "Bob Ross",
         "offsetgroup": "Bob Ross",
         "orientation": "v",
         "showlegend": true,
         "text": [
          "0.446%"
         ],
         "textfont": {
          "color": "#535a88",
          "size": 15
         },
         "textposition": "outside",
         "type": "bar",
         "x": [
          "Bob Ross"
         ],
         "xaxis": "x",
         "y": [
          490
         ],
         "yaxis": "y"
        },
        {
         "alignmentgroup": "True",
         "hovertemplate": "<b>Channel: %{x}<br>Frequency: %{y:}</b><extra></extra>",
         "legendgroup": "Professor Noslen",
         "marker": {
          "color": "#393f69",
          "pattern": {
           "shape": ""
          }
         },
         "name": "Professor Noslen",
         "offsetgroup": "Professor Noslen",
         "orientation": "v",
         "showlegend": true,
         "text": [
          "0.442%"
         ],
         "textfont": {
          "color": "#535a88",
          "size": 15
         },
         "textposition": "outside",
         "type": "bar",
         "x": [
          "Professor Noslen"
         ],
         "xaxis": "x",
         "y": [
          485
         ],
         "yaxis": "y"
        },
        {
         "alignmentgroup": "True",
         "hovertemplate": "<b>Channel: %{x}<br>Frequency: %{y:}</b><extra></extra>",
         "legendgroup": "Buenas Ideias",
         "marker": {
          "color": "#3b406b",
          "pattern": {
           "shape": ""
          }
         },
         "name": "Buenas Ideias",
         "offsetgroup": "Buenas Ideias",
         "orientation": "v",
         "showlegend": true,
         "text": [
          "0.422%"
         ],
         "textfont": {
          "color": "#535a88",
          "size": 15
         },
         "textposition": "outside",
         "type": "bar",
         "x": [
          "Buenas Ideias"
         ],
         "xaxis": "x",
         "y": [
          463
         ],
         "yaxis": "y"
        },
        {
         "alignmentgroup": "True",
         "hovertemplate": "<b>Channel: %{x}<br>Frequency: %{y:}</b><extra></extra>",
         "legendgroup": "Cheddar",
         "marker": {
          "color": "#3c416c",
          "pattern": {
           "shape": ""
          }
         },
         "name": "Cheddar",
         "offsetgroup": "Cheddar",
         "orientation": "v",
         "showlegend": true,
         "text": [
          "0.414%"
         ],
         "textfont": {
          "color": "#535a88",
          "size": 15
         },
         "textposition": "outside",
         "type": "bar",
         "x": [
          "Cheddar"
         ],
         "xaxis": "x",
         "y": [
          455
         ],
         "yaxis": "y"
        },
        {
         "alignmentgroup": "True",
         "hovertemplate": "<b>Channel: %{x}<br>Frequency: %{y:}</b><extra></extra>",
         "legendgroup": "AWE me",
         "marker": {
          "color": "#3d436d",
          "pattern": {
           "shape": ""
          }
         },
         "name": "AWE me",
         "offsetgroup": "AWE me",
         "orientation": "v",
         "showlegend": true,
         "text": [
          "0.38%"
         ],
         "textfont": {
          "color": "#535a88",
          "size": 15
         },
         "textposition": "outside",
         "type": "bar",
         "x": [
          "AWE me"
         ],
         "xaxis": "x",
         "y": [
          417
         ],
         "yaxis": "y"
        },
        {
         "alignmentgroup": "True",
         "hovertemplate": "<b>Channel: %{x}<br>Frequency: %{y:}</b><extra></extra>",
         "legendgroup": "Professor Julio Borbo",
         "marker": {
          "color": "#3e446f",
          "pattern": {
           "shape": ""
          }
         },
         "name": "Professor Julio Borbo",
         "offsetgroup": "Professor Julio Borbo",
         "orientation": "v",
         "showlegend": true,
         "text": [
          "0.369%"
         ],
         "textfont": {
          "color": "#535a88",
          "size": 15
         },
         "textposition": "outside",
         "type": "bar",
         "x": [
          "Professor Julio Borbo"
         ],
         "xaxis": "x",
         "y": [
          405
         ],
         "yaxis": "y"
        },
        {
         "alignmentgroup": "True",
         "hovertemplate": "<b>Channel: %{x}<br>Frequency: %{y:}</b><extra></extra>",
         "legendgroup": "The British Museum",
         "marker": {
          "color": "#3f4570",
          "pattern": {
           "shape": ""
          }
         },
         "name": "The British Museum",
         "offsetgroup": "The British Museum",
         "orientation": "v",
         "showlegend": true,
         "text": [
          "0.361%"
         ],
         "textfont": {
          "color": "#535a88",
          "size": 15
         },
         "textposition": "outside",
         "type": "bar",
         "x": [
          "The British Museum"
         ],
         "xaxis": "x",
         "y": [
          397
         ],
         "yaxis": "y"
        },
        {
         "alignmentgroup": "True",
         "hovertemplate": "<b>Channel: %{x}<br>Frequency: %{y:}</b><extra></extra>",
         "legendgroup": "CaspianReport",
         "marker": {
          "color": "#404671",
          "pattern": {
           "shape": ""
          }
         },
         "name": "CaspianReport",
         "offsetgroup": "CaspianReport",
         "orientation": "v",
         "showlegend": true,
         "text": [
          "0.354%"
         ],
         "textfont": {
          "color": "#535a88",
          "size": 15
         },
         "textposition": "outside",
         "type": "bar",
         "x": [
          "CaspianReport"
         ],
         "xaxis": "x",
         "y": [
          389
         ],
         "yaxis": "y"
        },
        {
         "alignmentgroup": "True",
         "hovertemplate": "<b>Channel: %{x}<br>Frequency: %{y:}</b><extra></extra>",
         "legendgroup": "Cole and Marmalade",
         "marker": {
          "color": "#414873",
          "pattern": {
           "shape": ""
          }
         },
         "name": "Cole and Marmalade",
         "offsetgroup": "Cole and Marmalade",
         "orientation": "v",
         "showlegend": true,
         "text": [
          "0.345%"
         ],
         "textfont": {
          "color": "#535a88",
          "size": 15
         },
         "textposition": "outside",
         "type": "bar",
         "x": [
          "Cole and Marmalade"
         ],
         "xaxis": "x",
         "y": [
          379
         ],
         "yaxis": "y"
        },
        {
         "alignmentgroup": "True",
         "hovertemplate": "<b>Channel: %{x}<br>Frequency: %{y:}</b><extra></extra>",
         "legendgroup": "Tá Querida",
         "marker": {
          "color": "#424974",
          "pattern": {
           "shape": ""
          }
         },
         "name": "Tá Querida",
         "offsetgroup": "Tá Querida",
         "orientation": "v",
         "showlegend": true,
         "text": [
          "0.343%"
         ],
         "textfont": {
          "color": "#535a88",
          "size": 15
         },
         "textposition": "outside",
         "type": "bar",
         "x": [
          "Tá Querida"
         ],
         "xaxis": "x",
         "y": [
          377
         ],
         "yaxis": "y"
        },
        {
         "alignmentgroup": "True",
         "hovertemplate": "<b>Channel: %{x}<br>Frequency: %{y:}</b><extra></extra>",
         "legendgroup": "Hydraulic Press Channel",
         "marker": {
          "color": "#434a75",
          "pattern": {
           "shape": ""
          }
         },
         "name": "Hydraulic Press Channel",
         "offsetgroup": "Hydraulic Press Channel",
         "orientation": "v",
         "showlegend": true,
         "text": [
          "0.33%"
         ],
         "textfont": {
          "color": "#535a88",
          "size": 15
         },
         "textposition": "outside",
         "type": "bar",
         "x": [
          "Hydraulic Press Channel"
         ],
         "xaxis": "x",
         "y": [
          363
         ],
         "yaxis": "y"
        },
        {
         "alignmentgroup": "True",
         "hovertemplate": "<b>Channel: %{x}<br>Frequency: %{y:}</b><extra></extra>",
         "legendgroup": "MathTheBeautiful",
         "marker": {
          "color": "#444b76",
          "pattern": {
           "shape": ""
          }
         },
         "name": "MathTheBeautiful",
         "offsetgroup": "MathTheBeautiful",
         "orientation": "v",
         "showlegend": true,
         "text": [
          "0.328%"
         ],
         "textfont": {
          "color": "#535a88",
          "size": 15
         },
         "textposition": "outside",
         "type": "bar",
         "x": [
          "MathTheBeautiful"
         ],
         "xaxis": "x",
         "y": [
          360
         ],
         "yaxis": "y"
        },
        {
         "alignmentgroup": "True",
         "hovertemplate": "<b>Channel: %{x}<br>Frequency: %{y:}</b><extra></extra>",
         "legendgroup": "TÁ NA MESA VEGG",
         "marker": {
          "color": "#464c78",
          "pattern": {
           "shape": ""
          }
         },
         "name": "TÁ NA MESA VEGG",
         "offsetgroup": "TÁ NA MESA VEGG",
         "orientation": "v",
         "showlegend": true,
         "text": [
          "0.315%"
         ],
         "textfont": {
          "color": "#535a88",
          "size": 15
         },
         "textposition": "outside",
         "type": "bar",
         "x": [
          "TÁ NA MESA VEGG"
         ],
         "xaxis": "x",
         "y": [
          346
         ],
         "yaxis": "y"
        },
        {
         "alignmentgroup": "True",
         "hovertemplate": "<b>Channel: %{x}<br>Frequency: %{y:}</b><extra></extra>",
         "legendgroup": "SmarterEveryDay",
         "marker": {
          "color": "#474d79",
          "pattern": {
           "shape": ""
          }
         },
         "name": "SmarterEveryDay",
         "offsetgroup": "SmarterEveryDay",
         "orientation": "v",
         "showlegend": true,
         "text": [
          "0.315%"
         ],
         "textfont": {
          "color": "#535a88",
          "size": 15
         },
         "textposition": "outside",
         "type": "bar",
         "x": [
          "SmarterEveryDay"
         ],
         "xaxis": "x",
         "y": [
          346
         ],
         "yaxis": "y"
        },
        {
         "alignmentgroup": "True",
         "hovertemplate": "<b>Channel: %{x}<br>Frequency: %{y:}</b><extra></extra>",
         "legendgroup": "SpaceX",
         "marker": {
          "color": "#484e7a",
          "pattern": {
           "shape": ""
          }
         },
         "name": "SpaceX",
         "offsetgroup": "SpaceX",
         "orientation": "v",
         "showlegend": true,
         "text": [
          "0.31%"
         ],
         "textfont": {
          "color": "#535a88",
          "size": 15
         },
         "textposition": "outside",
         "type": "bar",
         "x": [
          "SpaceX"
         ],
         "xaxis": "x",
         "y": [
          341
         ],
         "yaxis": "y"
        },
        {
         "alignmentgroup": "True",
         "hovertemplate": "<b>Channel: %{x}<br>Frequency: %{y:}</b><extra></extra>",
         "legendgroup": "Everyday Astronaut",
         "marker": {
          "color": "#494f7c",
          "pattern": {
           "shape": ""
          }
         },
         "name": "Everyday Astronaut",
         "offsetgroup": "Everyday Astronaut",
         "orientation": "v",
         "showlegend": true,
         "text": [
          "0.305%"
         ],
         "textfont": {
          "color": "#535a88",
          "size": 15
         },
         "textposition": "outside",
         "type": "bar",
         "x": [
          "Everyday Astronaut"
         ],
         "xaxis": "x",
         "y": [
          335
         ],
         "yaxis": "y"
        },
        {
         "alignmentgroup": "True",
         "hovertemplate": "<b>Channel: %{x}<br>Frequency: %{y:}</b><extra></extra>",
         "legendgroup": "The B1M",
         "marker": {
          "color": "#4a507d",
          "pattern": {
           "shape": ""
          }
         },
         "name": "The B1M",
         "offsetgroup": "The B1M",
         "orientation": "v",
         "showlegend": true,
         "text": [
          "0.302%"
         ],
         "textfont": {
          "color": "#535a88",
          "size": 15
         },
         "textposition": "outside",
         "type": "bar",
         "x": [
          "The B1M"
         ],
         "xaxis": "x",
         "y": [
          332
         ],
         "yaxis": "y"
        },
        {
         "alignmentgroup": "True",
         "hovertemplate": "<b>Channel: %{x}<br>Frequency: %{y:}</b><extra></extra>",
         "legendgroup": "Riddle",
         "marker": {
          "color": "#4b517e",
          "pattern": {
           "shape": ""
          }
         },
         "name": "Riddle",
         "offsetgroup": "Riddle",
         "orientation": "v",
         "showlegend": true,
         "text": [
          "0.297%"
         ],
         "textfont": {
          "color": "#535a88",
          "size": 15
         },
         "textposition": "outside",
         "type": "bar",
         "x": [
          "Riddle"
         ],
         "xaxis": "x",
         "y": [
          326
         ],
         "yaxis": "y"
        },
        {
         "alignmentgroup": "True",
         "hovertemplate": "<b>Channel: %{x}<br>Frequency: %{y:}</b><extra></extra>",
         "legendgroup": "Veritasium",
         "marker": {
          "color": "#4c527f",
          "pattern": {
           "shape": ""
          }
         },
         "name": "Veritasium",
         "offsetgroup": "Veritasium",
         "orientation": "v",
         "showlegend": true,
         "text": [
          "0.293%"
         ],
         "textfont": {
          "color": "#535a88",
          "size": 15
         },
         "textposition": "outside",
         "type": "bar",
         "x": [
          "Veritasium"
         ],
         "xaxis": "x",
         "y": [
          322
         ],
         "yaxis": "y"
        },
        {
         "alignmentgroup": "True",
         "hovertemplate": "<b>Channel: %{x}<br>Frequency: %{y:}</b><extra></extra>",
         "legendgroup": "TopMovieClips",
         "marker": {
          "color": "#4d5481",
          "pattern": {
           "shape": ""
          }
         },
         "name": "TopMovieClips",
         "offsetgroup": "TopMovieClips",
         "orientation": "v",
         "showlegend": true,
         "text": [
          "0.272%"
         ],
         "textfont": {
          "color": "#535a88",
          "size": 15
         },
         "textposition": "outside",
         "type": "bar",
         "x": [
          "TopMovieClips"
         ],
         "xaxis": "x",
         "y": [
          299
         ],
         "yaxis": "y"
        },
        {
         "alignmentgroup": "True",
         "hovertemplate": "<b>Channel: %{x}<br>Frequency: %{y:}</b><extra></extra>",
         "legendgroup": "PBS Space Time",
         "marker": {
          "color": "#4e5582",
          "pattern": {
           "shape": ""
          }
         },
         "name": "PBS Space Time",
         "offsetgroup": "PBS Space Time",
         "orientation": "v",
         "showlegend": true,
         "text": [
          "0.27%"
         ],
         "textfont": {
          "color": "#535a88",
          "size": 15
         },
         "textposition": "outside",
         "type": "bar",
         "x": [
          "PBS Space Time"
         ],
         "xaxis": "x",
         "y": [
          297
         ],
         "yaxis": "y"
        },
        {
         "alignmentgroup": "True",
         "hovertemplate": "<b>Channel: %{x}<br>Frequency: %{y:}</b><extra></extra>",
         "legendgroup": "Tyta Montrase",
         "marker": {
          "color": "#4f5683",
          "pattern": {
           "shape": ""
          }
         },
         "name": "Tyta Montrase",
         "offsetgroup": "Tyta Montrase",
         "orientation": "v",
         "showlegend": true,
         "text": [
          "0.27%"
         ],
         "textfont": {
          "color": "#535a88",
          "size": 15
         },
         "textposition": "outside",
         "type": "bar",
         "x": [
          "Tyta Montrase"
         ],
         "xaxis": "x",
         "y": [
          297
         ],
         "yaxis": "y"
        },
        {
         "alignmentgroup": "True",
         "hovertemplate": "<b>Channel: %{x}<br>Frequency: %{y:}</b><extra></extra>",
         "legendgroup": "The Slow Mo Guys",
         "marker": {
          "color": "#505784",
          "pattern": {
           "shape": ""
          }
         },
         "name": "The Slow Mo Guys",
         "offsetgroup": "The Slow Mo Guys",
         "orientation": "v",
         "showlegend": true,
         "text": [
          "0.259%"
         ],
         "textfont": {
          "color": "#535a88",
          "size": 15
         },
         "textposition": "outside",
         "type": "bar",
         "x": [
          "The Slow Mo Guys"
         ],
         "xaxis": "x",
         "y": [
          285
         ],
         "yaxis": "y"
        },
        {
         "alignmentgroup": "True",
         "hovertemplate": "<b>Channel: %{x}<br>Frequency: %{y:}</b><extra></extra>",
         "legendgroup": "Living Big In A Tiny House",
         "marker": {
          "color": "#515886",
          "pattern": {
           "shape": ""
          }
         },
         "name": "Living Big In A Tiny House",
         "offsetgroup": "Living Big In A Tiny House",
         "orientation": "v",
         "showlegend": true,
         "text": [
          "0.258%"
         ],
         "textfont": {
          "color": "#535a88",
          "size": 15
         },
         "textposition": "outside",
         "type": "bar",
         "x": [
          "Living Big In A Tiny House"
         ],
         "xaxis": "x",
         "y": [
          283
         ],
         "yaxis": "y"
        },
        {
         "alignmentgroup": "True",
         "hovertemplate": "<b>Channel: %{x}<br>Frequency: %{y:}</b><extra></extra>",
         "legendgroup": "Nyma Tang",
         "marker": {
          "color": "#525987",
          "pattern": {
           "shape": ""
          }
         },
         "name": "Nyma Tang",
         "offsetgroup": "Nyma Tang",
         "orientation": "v",
         "showlegend": true,
         "text": [
          "0.243%"
         ],
         "textfont": {
          "color": "#535a88",
          "size": 15
         },
         "textposition": "outside",
         "type": "bar",
         "x": [
          "Nyma Tang"
         ],
         "xaxis": "x",
         "y": [
          267
         ],
         "yaxis": "y"
        },
        {
         "alignmentgroup": "True",
         "hovertemplate": "<b>Channel: %{x}<br>Frequency: %{y:}</b><extra></extra>",
         "legendgroup": "Ask a Mortician",
         "marker": {
          "color": "#535a88",
          "pattern": {
           "shape": ""
          }
         },
         "name": "Ask a Mortician",
         "offsetgroup": "Ask a Mortician",
         "orientation": "v",
         "showlegend": true,
         "text": [
          "0.233%"
         ],
         "textfont": {
          "color": "#535a88",
          "size": 15
         },
         "textposition": "outside",
         "type": "bar",
         "x": [
          "Ask a Mortician"
         ],
         "xaxis": "x",
         "y": [
          256
         ],
         "yaxis": "y"
        },
        {
         "alignmentgroup": "True",
         "hovertemplate": "<b>Channel: %{x}<br>Frequency: %{y:}</b><extra></extra>",
         "legendgroup": "RealLifeLore",
         "marker": {
          "color": "#555c8a",
          "pattern": {
           "shape": ""
          }
         },
         "name": "RealLifeLore",
         "offsetgroup": "RealLifeLore",
         "orientation": "v",
         "showlegend": true,
         "text": [
          "0.229%"
         ],
         "textfont": {
          "color": "#535a88",
          "size": 15
         },
         "textposition": "outside",
         "type": "bar",
         "x": [
          "RealLifeLore"
         ],
         "xaxis": "x",
         "y": [
          251
         ],
         "yaxis": "y"
        },
        {
         "alignmentgroup": "True",
         "hovertemplate": "<b>Channel: %{x}<br>Frequency: %{y:}</b><extra></extra>",
         "legendgroup": "Knowledgia",
         "marker": {
          "color": "#565d8b",
          "pattern": {
           "shape": ""
          }
         },
         "name": "Knowledgia",
         "offsetgroup": "Knowledgia",
         "orientation": "v",
         "showlegend": true,
         "text": [
          "0.227%"
         ],
         "textfont": {
          "color": "#535a88",
          "size": 15
         },
         "textposition": "outside",
         "type": "bar",
         "x": [
          "Knowledgia"
         ],
         "xaxis": "x",
         "y": [
          249
         ],
         "yaxis": "y"
        },
        {
         "alignmentgroup": "True",
         "hovertemplate": "<b>Channel: %{x}<br>Frequency: %{y:}</b><extra></extra>",
         "legendgroup": "Prowalk Tours",
         "marker": {
          "color": "#575e8c",
          "pattern": {
           "shape": ""
          }
         },
         "name": "Prowalk Tours",
         "offsetgroup": "Prowalk Tours",
         "orientation": "v",
         "showlegend": true,
         "text": [
          "0.218%"
         ],
         "textfont": {
          "color": "#535a88",
          "size": 15
         },
         "textposition": "outside",
         "type": "bar",
         "x": [
          "Prowalk Tours"
         ],
         "xaxis": "x",
         "y": [
          240
         ],
         "yaxis": "y"
        },
        {
         "alignmentgroup": "True",
         "hovertemplate": "<b>Channel: %{x}<br>Frequency: %{y:}</b><extra></extra>",
         "legendgroup": "Kirsten & Joerg",
         "marker": {
          "color": "#585f8e",
          "pattern": {
           "shape": ""
          }
         },
         "name": "Kirsten & Joerg",
         "offsetgroup": "Kirsten & Joerg",
         "orientation": "v",
         "showlegend": true,
         "text": [
          "0.215%"
         ],
         "textfont": {
          "color": "#535a88",
          "size": 15
         },
         "textposition": "outside",
         "type": "bar",
         "x": [
          "Kirsten & Joerg"
         ],
         "xaxis": "x",
         "y": [
          236
         ],
         "yaxis": "y"
        },
        {
         "alignmentgroup": "True",
         "hovertemplate": "<b>Channel: %{x}<br>Frequency: %{y:}</b><extra></extra>",
         "legendgroup": "Tempero Drag",
         "marker": {
          "color": "#59608f",
          "pattern": {
           "shape": ""
          }
         },
         "name": "Tempero Drag",
         "offsetgroup": "Tempero Drag",
         "orientation": "v",
         "showlegend": true,
         "text": [
          "0.207%"
         ],
         "textfont": {
          "color": "#535a88",
          "size": 15
         },
         "textposition": "outside",
         "type": "bar",
         "x": [
          "Tempero Drag"
         ],
         "xaxis": "x",
         "y": [
          227
         ],
         "yaxis": "y"
        },
        {
         "alignmentgroup": "True",
         "hovertemplate": "<b>Channel: %{x}<br>Frequency: %{y:}</b><extra></extra>",
         "legendgroup": "Animalogic",
         "marker": {
          "color": "#5a6190",
          "pattern": {
           "shape": ""
          }
         },
         "name": "Animalogic",
         "offsetgroup": "Animalogic",
         "orientation": "v",
         "showlegend": true,
         "text": [
          "0.194%"
         ],
         "textfont": {
          "color": "#535a88",
          "size": 15
         },
         "textposition": "outside",
         "type": "bar",
         "x": [
          "Animalogic"
         ],
         "xaxis": "x",
         "y": [
          213
         ],
         "yaxis": "y"
        },
        {
         "alignmentgroup": "True",
         "hovertemplate": "<b>Channel: %{x}<br>Frequency: %{y:}</b><extra></extra>",
         "legendgroup": "Earthling Ed",
         "marker": {
          "color": "#5b6291",
          "pattern": {
           "shape": ""
          }
         },
         "name": "Earthling Ed",
         "offsetgroup": "Earthling Ed",
         "orientation": "v",
         "showlegend": true,
         "text": [
          "0.194%"
         ],
         "textfont": {
          "color": "#535a88",
          "size": 15
         },
         "textposition": "outside",
         "type": "bar",
         "x": [
          "Earthling Ed"
         ],
         "xaxis": "x",
         "y": [
          213
         ],
         "yaxis": "y"
        },
        {
         "alignmentgroup": "True",
         "hovertemplate": "<b>Channel: %{x}<br>Frequency: %{y:}</b><extra></extra>",
         "legendgroup": "zefrank1",
         "marker": {
          "color": "#5c6493",
          "pattern": {
           "shape": ""
          }
         },
         "name": "zefrank1",
         "offsetgroup": "zefrank1",
         "orientation": "v",
         "showlegend": true,
         "text": [
          "0.177%"
         ],
         "textfont": {
          "color": "#535a88",
          "size": 15
         },
         "textposition": "outside",
         "type": "bar",
         "x": [
          "zefrank1"
         ],
         "xaxis": "x",
         "y": [
          194
         ],
         "yaxis": "y"
        },
        {
         "alignmentgroup": "True",
         "hovertemplate": "<b>Channel: %{x}<br>Frequency: %{y:}</b><extra></extra>",
         "legendgroup": "Nox et Lux",
         "marker": {
          "color": "#5d6594",
          "pattern": {
           "shape": ""
          }
         },
         "name": "Nox et Lux",
         "offsetgroup": "Nox et Lux",
         "orientation": "v",
         "showlegend": true,
         "text": [
          "0.177%"
         ],
         "textfont": {
          "color": "#535a88",
          "size": 15
         },
         "textposition": "outside",
         "type": "bar",
         "x": [
          "Nox et Lux"
         ],
         "xaxis": "x",
         "y": [
          194
         ],
         "yaxis": "y"
        },
        {
         "alignmentgroup": "True",
         "hovertemplate": "<b>Channel: %{x}<br>Frequency: %{y:}</b><extra></extra>",
         "legendgroup": "Wanderlust Travel Videos",
         "marker": {
          "color": "#5e6695",
          "pattern": {
           "shape": ""
          }
         },
         "name": "Wanderlust Travel Videos",
         "offsetgroup": "Wanderlust Travel Videos",
         "orientation": "v",
         "showlegend": true,
         "text": [
          "0.176%"
         ],
         "textfont": {
          "color": "#535a88",
          "size": 15
         },
         "textposition": "outside",
         "type": "bar",
         "x": [
          "Wanderlust Travel Videos"
         ],
         "xaxis": "x",
         "y": [
          193
         ],
         "yaxis": "y"
        },
        {
         "alignmentgroup": "True",
         "hovertemplate": "<b>Channel: %{x}<br>Frequency: %{y:}</b><extra></extra>",
         "legendgroup": "Uma história a mais",
         "marker": {
          "color": "#5f6796",
          "pattern": {
           "shape": ""
          }
         },
         "name": "Uma história a mais",
         "offsetgroup": "Uma história a mais",
         "orientation": "v",
         "showlegend": true,
         "text": [
          "0.168%"
         ],
         "textfont": {
          "color": "#535a88",
          "size": 15
         },
         "textposition": "outside",
         "type": "bar",
         "x": [
          "Uma história a mais"
         ],
         "xaxis": "x",
         "y": [
          184
         ],
         "yaxis": "y"
        },
        {
         "alignmentgroup": "True",
         "hovertemplate": "<b>Channel: %{x}<br>Frequency: %{y:}</b><extra></extra>",
         "legendgroup": "Physics Girl",
         "marker": {
          "color": "#606898",
          "pattern": {
           "shape": ""
          }
         },
         "name": "Physics Girl",
         "offsetgroup": "Physics Girl",
         "orientation": "v",
         "showlegend": true,
         "text": [
          "0.167%"
         ],
         "textfont": {
          "color": "#535a88",
          "size": 15
         },
         "textposition": "outside",
         "type": "bar",
         "x": [
          "Physics Girl"
         ],
         "xaxis": "x",
         "y": [
          183
         ],
         "yaxis": "y"
        },
        {
         "alignmentgroup": "True",
         "hovertemplate": "<b>Channel: %{x}<br>Frequency: %{y:}</b><extra></extra>",
         "legendgroup": "Curious Droid",
         "marker": {
          "color": "#616999",
          "pattern": {
           "shape": ""
          }
         },
         "name": "Curious Droid",
         "offsetgroup": "Curious Droid",
         "orientation": "v",
         "showlegend": true,
         "text": [
          "0.166%"
         ],
         "textfont": {
          "color": "#535a88",
          "size": 15
         },
         "textposition": "outside",
         "type": "bar",
         "x": [
          "Curious Droid"
         ],
         "xaxis": "x",
         "y": [
          182
         ],
         "yaxis": "y"
        },
        {
         "alignmentgroup": "True",
         "hovertemplate": "<b>Channel: %{x}<br>Frequency: %{y:}</b><extra></extra>",
         "legendgroup": "Astrum",
         "marker": {
          "color": "#626a9a",
          "pattern": {
           "shape": ""
          }
         },
         "name": "Astrum",
         "offsetgroup": "Astrum",
         "orientation": "v",
         "showlegend": true,
         "text": [
          "0.165%"
         ],
         "textfont": {
          "color": "#535a88",
          "size": 15
         },
         "textposition": "outside",
         "type": "bar",
         "x": [
          "Astrum"
         ],
         "xaxis": "x",
         "y": [
          181
         ],
         "yaxis": "y"
        },
        {
         "alignmentgroup": "True",
         "hovertemplate": "<b>Channel: %{x}<br>Frequency: %{y:}</b><extra></extra>",
         "legendgroup": "PBS Eons",
         "marker": {
          "color": "#646b9c",
          "pattern": {
           "shape": ""
          }
         },
         "name": "PBS Eons",
         "offsetgroup": "PBS Eons",
         "orientation": "v",
         "showlegend": true,
         "text": [
          "0.161%"
         ],
         "textfont": {
          "color": "#535a88",
          "size": 15
         },
         "textposition": "outside",
         "type": "bar",
         "x": [
          "PBS Eons"
         ],
         "xaxis": "x",
         "y": [
          177
         ],
         "yaxis": "y"
        },
        {
         "alignmentgroup": "True",
         "hovertemplate": "<b>Channel: %{x}<br>Frequency: %{y:}</b><extra></extra>",
         "legendgroup": "Launch Pad Astronomy",
         "marker": {
          "color": "#656c9d",
          "pattern": {
           "shape": ""
          }
         },
         "name": "Launch Pad Astronomy",
         "offsetgroup": "Launch Pad Astronomy",
         "orientation": "v",
         "showlegend": true,
         "text": [
          "0.156%"
         ],
         "textfont": {
          "color": "#535a88",
          "size": 15
         },
         "textposition": "outside",
         "type": "bar",
         "x": [
          "Launch Pad Astronomy"
         ],
         "xaxis": "x",
         "y": [
          171
         ],
         "yaxis": "y"
        },
        {
         "alignmentgroup": "True",
         "hovertemplate": "<b>Channel: %{x}<br>Frequency: %{y:}</b><extra></extra>",
         "legendgroup": "Marcel Vos",
         "marker": {
          "color": "#666d9e",
          "pattern": {
           "shape": ""
          }
         },
         "name": "Marcel Vos",
         "offsetgroup": "Marcel Vos",
         "orientation": "v",
         "showlegend": true,
         "text": [
          "0.147%"
         ],
         "textfont": {
          "color": "#535a88",
          "size": 15
         },
         "textposition": "outside",
         "type": "bar",
         "x": [
          "Marcel Vos"
         ],
         "xaxis": "x",
         "y": [
          161
         ],
         "yaxis": "y"
        },
        {
         "alignmentgroup": "True",
         "hovertemplate": "<b>Channel: %{x}<br>Frequency: %{y:}</b><extra></extra>",
         "legendgroup": "MetaBallStudios",
         "marker": {
          "color": "#676e9f",
          "pattern": {
           "shape": ""
          }
         },
         "name": "MetaBallStudios",
         "offsetgroup": "MetaBallStudios",
         "orientation": "v",
         "showlegend": true,
         "text": [
          "0.146%"
         ],
         "textfont": {
          "color": "#535a88",
          "size": 15
         },
         "textposition": "outside",
         "type": "bar",
         "x": [
          "MetaBallStudios"
         ],
         "xaxis": "x",
         "y": [
          160
         ],
         "yaxis": "y"
        },
        {
         "alignmentgroup": "True",
         "hovertemplate": "<b>Channel: %{x}<br>Frequency: %{y:}</b><extra></extra>",
         "legendgroup": "Primitive Building",
         "marker": {
          "color": "#6870a1",
          "pattern": {
           "shape": ""
          }
         },
         "name": "Primitive Building",
         "offsetgroup": "Primitive Building",
         "orientation": "v",
         "showlegend": true,
         "text": [
          "0.137%"
         ],
         "textfont": {
          "color": "#535a88",
          "size": 15
         },
         "textposition": "outside",
         "type": "bar",
         "x": [
          "Primitive Building"
         ],
         "xaxis": "x",
         "y": [
          151
         ],
         "yaxis": "y"
        },
        {
         "alignmentgroup": "True",
         "hovertemplate": "<b>Channel: %{x}<br>Frequency: %{y:}</b><extra></extra>",
         "legendgroup": "Kurzgesagt – In a Nutshell",
         "marker": {
          "color": "#6971a2",
          "pattern": {
           "shape": ""
          }
         },
         "name": "Kurzgesagt – In a Nutshell",
         "offsetgroup": "Kurzgesagt – In a Nutshell",
         "orientation": "v",
         "showlegend": true,
         "text": [
          "0.136%"
         ],
         "textfont": {
          "color": "#535a88",
          "size": 15
         },
         "textposition": "outside",
         "type": "bar",
         "x": [
          "Kurzgesagt – In a Nutshell"
         ],
         "xaxis": "x",
         "y": [
          149
         ],
         "yaxis": "y"
        },
        {
         "alignmentgroup": "True",
         "hovertemplate": "<b>Channel: %{x}<br>Frequency: %{y:}</b><extra></extra>",
         "legendgroup": "Prof. André Azevedo da Fonseca",
         "marker": {
          "color": "#6a72a3",
          "pattern": {
           "shape": ""
          }
         },
         "name": "Prof. André Azevedo da Fonseca",
         "offsetgroup": "Prof. André Azevedo da Fonseca",
         "orientation": "v",
         "showlegend": true,
         "text": [
          "0.129%"
         ],
         "textfont": {
          "color": "#535a88",
          "size": 15
         },
         "textposition": "outside",
         "type": "bar",
         "x": [
          "Prof. André Azevedo da Fonseca"
         ],
         "xaxis": "x",
         "y": [
          142
         ],
         "yaxis": "y"
        },
        {
         "alignmentgroup": "True",
         "hovertemplate": "<b>Channel: %{x}<br>Frequency: %{y:}</b><extra></extra>",
         "legendgroup": "Chaves Estranho",
         "marker": {
          "color": "#6b73a5",
          "pattern": {
           "shape": ""
          }
         },
         "name": "Chaves Estranho",
         "offsetgroup": "Chaves Estranho",
         "orientation": "v",
         "showlegend": true,
         "text": [
          "0.127%"
         ],
         "textfont": {
          "color": "#535a88",
          "size": 15
         },
         "textposition": "outside",
         "type": "bar",
         "x": [
          "Chaves Estranho"
         ],
         "xaxis": "x",
         "y": [
          139
         ],
         "yaxis": "y"
        },
        {
         "alignmentgroup": "True",
         "hovertemplate": "<b>Channel: %{x}<br>Frequency: %{y:}</b><extra></extra>",
         "legendgroup": "Mintfaery",
         "marker": {
          "color": "#6c75a6",
          "pattern": {
           "shape": ""
          }
         },
         "name": "Mintfaery",
         "offsetgroup": "Mintfaery",
         "orientation": "v",
         "showlegend": true,
         "text": [
          "0.126%"
         ],
         "textfont": {
          "color": "#535a88",
          "size": 15
         },
         "textposition": "outside",
         "type": "bar",
         "x": [
          "Mintfaery"
         ],
         "xaxis": "x",
         "y": [
          138
         ],
         "yaxis": "y"
        },
        {
         "alignmentgroup": "True",
         "hovertemplate": "<b>Channel: %{x}<br>Frequency: %{y:}</b><extra></extra>",
         "legendgroup": "Atila Iamarino",
         "marker": {
          "color": "#6d76a7",
          "pattern": {
           "shape": ""
          }
         },
         "name": "Atila Iamarino",
         "offsetgroup": "Atila Iamarino",
         "orientation": "v",
         "showlegend": true,
         "text": [
          "0.12%"
         ],
         "textfont": {
          "color": "#535a88",
          "size": 15
         },
         "textposition": "outside",
         "type": "bar",
         "x": [
          "Atila Iamarino"
         ],
         "xaxis": "x",
         "y": [
          132
         ],
         "yaxis": "y"
        },
        {
         "alignmentgroup": "True",
         "hovertemplate": "<b>Channel: %{x}<br>Frequency: %{y:}</b><extra></extra>",
         "legendgroup": "Real Engineering",
         "marker": {
          "color": "#6f77a9",
          "pattern": {
           "shape": ""
          }
         },
         "name": "Real Engineering",
         "offsetgroup": "Real Engineering",
         "orientation": "v",
         "showlegend": true,
         "text": [
          "0.118%"
         ],
         "textfont": {
          "color": "#535a88",
          "size": 15
         },
         "textposition": "outside",
         "type": "bar",
         "x": [
          "Real Engineering"
         ],
         "xaxis": "x",
         "y": [
          130
         ],
         "yaxis": "y"
        },
        {
         "alignmentgroup": "True",
         "hovertemplate": "<b>Channel: %{x}<br>Frequency: %{y:}</b><extra></extra>",
         "legendgroup": "Hello Korea",
         "marker": {
          "color": "#7078aa",
          "pattern": {
           "shape": ""
          }
         },
         "name": "Hello Korea",
         "offsetgroup": "Hello Korea",
         "orientation": "v",
         "showlegend": true,
         "text": [
          "0.116%"
         ],
         "textfont": {
          "color": "#535a88",
          "size": 15
         },
         "textposition": "outside",
         "type": "bar",
         "x": [
          "Hello Korea"
         ],
         "xaxis": "x",
         "y": [
          127
         ],
         "yaxis": "y"
        },
        {
         "alignmentgroup": "True",
         "hovertemplate": "<b>Channel: %{x}<br>Frequency: %{y:}</b><extra></extra>",
         "legendgroup": "O Pimentinha",
         "marker": {
          "color": "#7179ab",
          "pattern": {
           "shape": ""
          }
         },
         "name": "O Pimentinha",
         "offsetgroup": "O Pimentinha",
         "orientation": "v",
         "showlegend": true,
         "text": [
          "0.113%"
         ],
         "textfont": {
          "color": "#535a88",
          "size": 15
         },
         "textposition": "outside",
         "type": "bar",
         "x": [
          "O Pimentinha"
         ],
         "xaxis": "x",
         "y": [
          124
         ],
         "yaxis": "y"
        },
        {
         "alignmentgroup": "True",
         "hovertemplate": "<b>Channel: %{x}<br>Frequency: %{y:}</b><extra></extra>",
         "legendgroup": "Journey to the Microcosmos",
         "marker": {
          "color": "#727aac",
          "pattern": {
           "shape": ""
          }
         },
         "name": "Journey to the Microcosmos",
         "offsetgroup": "Journey to the Microcosmos",
         "orientation": "v",
         "showlegend": true,
         "text": [
          "0.108%"
         ],
         "textfont": {
          "color": "#535a88",
          "size": 15
         },
         "textposition": "outside",
         "type": "bar",
         "x": [
          "Journey to the Microcosmos"
         ],
         "xaxis": "x",
         "y": [
          119
         ],
         "yaxis": "y"
        },
        {
         "alignmentgroup": "True",
         "hovertemplate": "<b>Channel: %{x}<br>Frequency: %{y:}</b><extra></extra>",
         "legendgroup": "3Blue1Brown",
         "marker": {
          "color": "#737bae",
          "pattern": {
           "shape": ""
          }
         },
         "name": "3Blue1Brown",
         "offsetgroup": "3Blue1Brown",
         "orientation": "v",
         "showlegend": true,
         "text": [
          "0.107%"
         ],
         "textfont": {
          "color": "#535a88",
          "size": 15
         },
         "textposition": "outside",
         "type": "bar",
         "x": [
          "3Blue1Brown"
         ],
         "xaxis": "x",
         "y": [
          117
         ],
         "yaxis": "y"
        },
        {
         "alignmentgroup": "True",
         "hovertemplate": "<b>Channel: %{x}<br>Frequency: %{y:}</b><extra></extra>",
         "legendgroup": "Nerdforge",
         "marker": {
          "color": "#747caf",
          "pattern": {
           "shape": ""
          }
         },
         "name": "Nerdforge",
         "offsetgroup": "Nerdforge",
         "orientation": "v",
         "showlegend": true,
         "text": [
          "0.102%"
         ],
         "textfont": {
          "color": "#535a88",
          "size": 15
         },
         "textposition": "outside",
         "type": "bar",
         "x": [
          "Nerdforge"
         ],
         "xaxis": "x",
         "y": [
          112
         ],
         "yaxis": "y"
        },
        {
         "alignmentgroup": "True",
         "hovertemplate": "<b>Channel: %{x}<br>Frequency: %{y:}</b><extra></extra>",
         "legendgroup": "Anglo-Link",
         "marker": {
          "color": "#757db0",
          "pattern": {
           "shape": ""
          }
         },
         "name": "Anglo-Link",
         "offsetgroup": "Anglo-Link",
         "orientation": "v",
         "showlegend": true,
         "text": [
          "0.097%"
         ],
         "textfont": {
          "color": "#535a88",
          "size": 15
         },
         "textposition": "outside",
         "type": "bar",
         "x": [
          "Anglo-Link"
         ],
         "xaxis": "x",
         "y": [
          107
         ],
         "yaxis": "y"
        },
        {
         "alignmentgroup": "True",
         "hovertemplate": "<b>Channel: %{x}<br>Frequency: %{y:}</b><extra></extra>",
         "legendgroup": "Simone Giertz",
         "marker": {
          "color": "#767eb1",
          "pattern": {
           "shape": ""
          }
         },
         "name": "Simone Giertz",
         "offsetgroup": "Simone Giertz",
         "orientation": "v",
         "showlegend": true,
         "text": [
          "0.092%"
         ],
         "textfont": {
          "color": "#535a88",
          "size": 15
         },
         "textposition": "outside",
         "type": "bar",
         "x": [
          "Simone Giertz"
         ],
         "xaxis": "x",
         "y": [
          101
         ],
         "yaxis": "y"
        },
        {
         "alignmentgroup": "True",
         "hovertemplate": "<b>Channel: %{x}<br>Frequency: %{y:}</b><extra></extra>",
         "legendgroup": "Intensivo Pedagógico",
         "marker": {
          "color": "#7780b3",
          "pattern": {
           "shape": ""
          }
         },
         "name": "Intensivo Pedagógico",
         "offsetgroup": "Intensivo Pedagógico",
         "orientation": "v",
         "showlegend": true,
         "text": [
          "0.092%"
         ],
         "textfont": {
          "color": "#535a88",
          "size": 15
         },
         "textposition": "outside",
         "type": "bar",
         "x": [
          "Intensivo Pedagógico"
         ],
         "xaxis": "x",
         "y": [
          101
         ],
         "yaxis": "y"
        },
        {
         "alignmentgroup": "True",
         "hovertemplate": "<b>Channel: %{x}<br>Frequency: %{y:}</b><extra></extra>",
         "legendgroup": "Matt Jordan",
         "marker": {
          "color": "#7881b4",
          "pattern": {
           "shape": ""
          }
         },
         "name": "Matt Jordan",
         "offsetgroup": "Matt Jordan",
         "orientation": "v",
         "showlegend": true,
         "text": [
          "0.09%"
         ],
         "textfont": {
          "color": "#535a88",
          "size": 15
         },
         "textposition": "outside",
         "type": "bar",
         "x": [
          "Matt Jordan"
         ],
         "xaxis": "x",
         "y": [
          99
         ],
         "yaxis": "y"
        },
        {
         "alignmentgroup": "True",
         "hovertemplate": "<b>Channel: %{x}<br>Frequency: %{y:}</b><extra></extra>",
         "legendgroup": "Stefan Milo",
         "marker": {
          "color": "#7982b5",
          "pattern": {
           "shape": ""
          }
         },
         "name": "Stefan Milo",
         "offsetgroup": "Stefan Milo",
         "orientation": "v",
         "showlegend": true,
         "text": [
          "0.086%"
         ],
         "textfont": {
          "color": "#535a88",
          "size": 15
         },
         "textposition": "outside",
         "type": "bar",
         "x": [
          "Stefan Milo"
         ],
         "xaxis": "x",
         "y": [
          95
         ],
         "yaxis": "y"
        },
        {
         "alignmentgroup": "True",
         "hovertemplate": "<b>Channel: %{x}<br>Frequency: %{y:}</b><extra></extra>",
         "legendgroup": "The Green Witch",
         "marker": {
          "color": "#7a83b6",
          "pattern": {
           "shape": ""
          }
         },
         "name": "The Green Witch",
         "offsetgroup": "The Green Witch",
         "orientation": "v",
         "showlegend": true,
         "text": [
          "0.085%"
         ],
         "textfont": {
          "color": "#535a88",
          "size": 15
         },
         "textposition": "outside",
         "type": "bar",
         "x": [
          "The Green Witch"
         ],
         "xaxis": "x",
         "y": [
          93
         ],
         "yaxis": "y"
        },
        {
         "alignmentgroup": "True",
         "hovertemplate": "<b>Channel: %{x}<br>Frequency: %{y:}</b><extra></extra>",
         "legendgroup": "OwlKitty",
         "marker": {
          "color": "#7b84b8",
          "pattern": {
           "shape": ""
          }
         },
         "name": "OwlKitty",
         "offsetgroup": "OwlKitty",
         "orientation": "v",
         "showlegend": true,
         "text": [
          "0.082%"
         ],
         "textfont": {
          "color": "#535a88",
          "size": 15
         },
         "textposition": "outside",
         "type": "bar",
         "x": [
          "OwlKitty"
         ],
         "xaxis": "x",
         "y": [
          90
         ],
         "yaxis": "y"
        },
        {
         "alignmentgroup": "True",
         "hovertemplate": "<b>Channel: %{x}<br>Frequency: %{y:}</b><extra></extra>",
         "legendgroup": "Planeta Aves",
         "marker": {
          "color": "#7c85b9",
          "pattern": {
           "shape": ""
          }
         },
         "name": "Planeta Aves",
         "offsetgroup": "Planeta Aves",
         "orientation": "v",
         "showlegend": true,
         "text": [
          "0.078%"
         ],
         "textfont": {
          "color": "#535a88",
          "size": 15
         },
         "textposition": "outside",
         "type": "bar",
         "x": [
          "Planeta Aves"
         ],
         "xaxis": "x",
         "y": [
          86
         ],
         "yaxis": "y"
        },
        {
         "alignmentgroup": "True",
         "hovertemplate": "<b>Channel: %{x}<br>Frequency: %{y:}</b><extra></extra>",
         "legendgroup": "Jay Foreman",
         "marker": {
          "color": "#7d86ba",
          "pattern": {
           "shape": ""
          }
         },
         "name": "Jay Foreman",
         "offsetgroup": "Jay Foreman",
         "orientation": "v",
         "showlegend": true,
         "text": [
          "0.076%"
         ],
         "textfont": {
          "color": "#535a88",
          "size": 15
         },
         "textposition": "outside",
         "type": "bar",
         "x": [
          "Jay Foreman"
         ],
         "xaxis": "x",
         "y": [
          84
         ],
         "yaxis": "y"
        },
        {
         "alignmentgroup": "True",
         "hovertemplate": "<b>Channel: %{x}<br>Frequency: %{y:}</b><extra></extra>",
         "legendgroup": "The Tim Traveller",
         "marker": {
          "color": "#7e87bc",
          "pattern": {
           "shape": ""
          }
         },
         "name": "The Tim Traveller",
         "offsetgroup": "The Tim Traveller",
         "orientation": "v",
         "showlegend": true,
         "text": [
          "0.076%"
         ],
         "textfont": {
          "color": "#535a88",
          "size": 15
         },
         "textposition": "outside",
         "type": "bar",
         "x": [
          "The Tim Traveller"
         ],
         "xaxis": "x",
         "y": [
          83
         ],
         "yaxis": "y"
        },
        {
         "alignmentgroup": "True",
         "hovertemplate": "<b>Channel: %{x}<br>Frequency: %{y:}</b><extra></extra>",
         "legendgroup": "cyriak",
         "marker": {
          "color": "#7f88bd",
          "pattern": {
           "shape": ""
          }
         },
         "name": "cyriak",
         "offsetgroup": "cyriak",
         "orientation": "v",
         "showlegend": true,
         "text": [
          "0.071%"
         ],
         "textfont": {
          "color": "#535a88",
          "size": 15
         },
         "textposition": "outside",
         "type": "bar",
         "x": [
          "cyriak"
         ],
         "xaxis": "x",
         "y": [
          78
         ],
         "yaxis": "y"
        },
        {
         "alignmentgroup": "True",
         "hovertemplate": "<b>Channel: %{x}<br>Frequency: %{y:}</b><extra></extra>",
         "legendgroup": "Microsoft Flight Simulator",
         "marker": {
          "color": "#8089be",
          "pattern": {
           "shape": ""
          }
         },
         "name": "Microsoft Flight Simulator",
         "offsetgroup": "Microsoft Flight Simulator",
         "orientation": "v",
         "showlegend": true,
         "text": [
          "0.07%"
         ],
         "textfont": {
          "color": "#535a88",
          "size": 15
         },
         "textposition": "outside",
         "type": "bar",
         "x": [
          "Microsoft Flight Simulator"
         ],
         "xaxis": "x",
         "y": [
          77
         ],
         "yaxis": "y"
        },
        {
         "alignmentgroup": "True",
         "hovertemplate": "<b>Channel: %{x}<br>Frequency: %{y:}</b><extra></extra>",
         "legendgroup": "Fala Vegan",
         "marker": {
          "color": "#828bc0",
          "pattern": {
           "shape": ""
          }
         },
         "name": "Fala Vegan",
         "offsetgroup": "Fala Vegan",
         "orientation": "v",
         "showlegend": true,
         "text": [
          "0.061%"
         ],
         "textfont": {
          "color": "#535a88",
          "size": 15
         },
         "textposition": "outside",
         "type": "bar",
         "x": [
          "Fala Vegan"
         ],
         "xaxis": "x",
         "y": [
          67
         ],
         "yaxis": "y"
        },
        {
         "alignmentgroup": "True",
         "hovertemplate": "<b>Channel: %{x}<br>Frequency: %{y:}</b><extra></extra>",
         "legendgroup": "Integrando Conhecimento",
         "marker": {
          "color": "#838cc1",
          "pattern": {
           "shape": ""
          }
         },
         "name": "Integrando Conhecimento",
         "offsetgroup": "Integrando Conhecimento",
         "orientation": "v",
         "showlegend": true,
         "text": [
          "0.058%"
         ],
         "textfont": {
          "color": "#535a88",
          "size": 15
         },
         "textposition": "outside",
         "type": "bar",
         "x": [
          "Integrando Conhecimento"
         ],
         "xaxis": "x",
         "y": [
          64
         ],
         "yaxis": "y"
        },
        {
         "alignmentgroup": "True",
         "hovertemplate": "<b>Channel: %{x}<br>Frequency: %{y:}</b><extra></extra>",
         "legendgroup": "OneikaTraveller",
         "marker": {
          "color": "#848dc2",
          "pattern": {
           "shape": ""
          }
         },
         "name": "OneikaTraveller",
         "offsetgroup": "OneikaTraveller",
         "orientation": "v",
         "showlegend": true,
         "text": [
          "0.057%"
         ],
         "textfont": {
          "color": "#535a88",
          "size": 15
         },
         "textposition": "outside",
         "type": "bar",
         "x": [
          "OneikaTraveller"
         ],
         "xaxis": "x",
         "y": [
          63
         ],
         "yaxis": "y"
        },
        {
         "alignmentgroup": "True",
         "hovertemplate": "<b>Channel: %{x}<br>Frequency: %{y:}</b><extra></extra>",
         "legendgroup": "chilli music",
         "marker": {
          "color": "#858ec4",
          "pattern": {
           "shape": ""
          }
         },
         "name": "chilli music",
         "offsetgroup": "chilli music",
         "orientation": "v",
         "showlegend": true,
         "text": [
          "0.053%"
         ],
         "textfont": {
          "color": "#535a88",
          "size": 15
         },
         "textposition": "outside",
         "type": "bar",
         "x": [
          "chilli music"
         ],
         "xaxis": "x",
         "y": [
          58
         ],
         "yaxis": "y"
        },
        {
         "alignmentgroup": "True",
         "hovertemplate": "<b>Channel: %{x}<br>Frequency: %{y:}</b><extra></extra>",
         "legendgroup": "OnlyConnect Fan",
         "marker": {
          "color": "#868fc5",
          "pattern": {
           "shape": ""
          }
         },
         "name": "OnlyConnect Fan",
         "offsetgroup": "OnlyConnect Fan",
         "orientation": "v",
         "showlegend": true,
         "text": [
          "0.049%"
         ],
         "textfont": {
          "color": "#535a88",
          "size": 15
         },
         "textposition": "outside",
         "type": "bar",
         "x": [
          "OnlyConnect Fan"
         ],
         "xaxis": "x",
         "y": [
          54
         ],
         "yaxis": "y"
        },
        {
         "alignmentgroup": "True",
         "hovertemplate": "<b>Channel: %{x}<br>Frequency: %{y:}</b><extra></extra>",
         "legendgroup": "Dinosaurs",
         "marker": {
          "color": "#8791c6",
          "pattern": {
           "shape": ""
          }
         },
         "name": "Dinosaurs",
         "offsetgroup": "Dinosaurs",
         "orientation": "v",
         "showlegend": true,
         "text": [
          "0.043%"
         ],
         "textfont": {
          "color": "#535a88",
          "size": 15
         },
         "textposition": "outside",
         "type": "bar",
         "x": [
          "Dinosaurs"
         ],
         "xaxis": "x",
         "y": [
          47
         ],
         "yaxis": "y"
        },
        {
         "alignmentgroup": "True",
         "hovertemplate": "<b>Channel: %{x}<br>Frequency: %{y:}</b><extra></extra>",
         "legendgroup": "VeganBlackMetalChef",
         "marker": {
          "color": "#8892c7",
          "pattern": {
           "shape": ""
          }
         },
         "name": "VeganBlackMetalChef",
         "offsetgroup": "VeganBlackMetalChef",
         "orientation": "v",
         "showlegend": true,
         "text": [
          "0.043%"
         ],
         "textfont": {
          "color": "#535a88",
          "size": 15
         },
         "textposition": "outside",
         "type": "bar",
         "x": [
          "VeganBlackMetalChef"
         ],
         "xaxis": "x",
         "y": [
          47
         ],
         "yaxis": "y"
        },
        {
         "alignmentgroup": "True",
         "hovertemplate": "<b>Channel: %{x}<br>Frequency: %{y:}</b><extra></extra>",
         "legendgroup": "Cradle Of Filth",
         "marker": {
          "color": "#8993c9",
          "pattern": {
           "shape": ""
          }
         },
         "name": "Cradle Of Filth",
         "offsetgroup": "Cradle Of Filth",
         "orientation": "v",
         "showlegend": true,
         "text": [
          "0.043%"
         ],
         "textfont": {
          "color": "#535a88",
          "size": 15
         },
         "textposition": "outside",
         "type": "bar",
         "x": [
          "Cradle Of Filth"
         ],
         "xaxis": "x",
         "y": [
          47
         ],
         "yaxis": "y"
        },
        {
         "alignmentgroup": "True",
         "hovertemplate": "<b>Channel: %{x}<br>Frequency: %{y:}</b><extra></extra>",
         "legendgroup": "Subject Zero Science",
         "marker": {
          "color": "#8a94ca",
          "pattern": {
           "shape": ""
          }
         },
         "name": "Subject Zero Science",
         "offsetgroup": "Subject Zero Science",
         "orientation": "v",
         "showlegend": true,
         "text": [
          "0.039%"
         ],
         "textfont": {
          "color": "#535a88",
          "size": 15
         },
         "textposition": "outside",
         "type": "bar",
         "x": [
          "Subject Zero Science"
         ],
         "xaxis": "x",
         "y": [
          43
         ],
         "yaxis": "y"
        },
        {
         "alignmentgroup": "True",
         "hovertemplate": "<b>Channel: %{x}<br>Frequency: %{y:}</b><extra></extra>",
         "legendgroup": "Mustard",
         "marker": {
          "color": "#8b95cb",
          "pattern": {
           "shape": ""
          }
         },
         "name": "Mustard",
         "offsetgroup": "Mustard",
         "orientation": "v",
         "showlegend": true,
         "text": [
          "0.033%"
         ],
         "textfont": {
          "color": "#535a88",
          "size": 15
         },
         "textposition": "outside",
         "type": "bar",
         "x": [
          "Mustard"
         ],
         "xaxis": "x",
         "y": [
          36
         ],
         "yaxis": "y"
        },
        {
         "alignmentgroup": "True",
         "hovertemplate": "<b>Channel: %{x}<br>Frequency: %{y:}</b><extra></extra>",
         "legendgroup": "Huygens Optics",
         "marker": {
          "color": "#8c96cc",
          "pattern": {
           "shape": ""
          }
         },
         "name": "Huygens Optics",
         "offsetgroup": "Huygens Optics",
         "orientation": "v",
         "showlegend": true,
         "text": [
          "0.027%"
         ],
         "textfont": {
          "color": "#535a88",
          "size": 15
         },
         "textposition": "outside",
         "type": "bar",
         "x": [
          "Huygens Optics"
         ],
         "xaxis": "x",
         "y": [
          30
         ],
         "yaxis": "y"
        },
        {
         "alignmentgroup": "True",
         "hovertemplate": "<b>Channel: %{x}<br>Frequency: %{y:}</b><extra></extra>",
         "legendgroup": "Fancy Fairy Wings & Things",
         "marker": {
          "color": "#8e97ce",
          "pattern": {
           "shape": ""
          }
         },
         "name": "Fancy Fairy Wings & Things",
         "offsetgroup": "Fancy Fairy Wings & Things",
         "orientation": "v",
         "showlegend": true,
         "text": [
          "0.027%"
         ],
         "textfont": {
          "color": "#535a88",
          "size": 15
         },
         "textposition": "outside",
         "type": "bar",
         "x": [
          "Fancy Fairy Wings & Things"
         ],
         "xaxis": "x",
         "y": [
          30
         ],
         "yaxis": "y"
        },
        {
         "alignmentgroup": "True",
         "hovertemplate": "<b>Channel: %{x}<br>Frequency: %{y:}</b><extra></extra>",
         "legendgroup": "MAKE UP FOR EVER",
         "marker": {
          "color": "#8f98cf",
          "pattern": {
           "shape": ""
          }
         },
         "name": "MAKE UP FOR EVER",
         "offsetgroup": "MAKE UP FOR EVER",
         "orientation": "v",
         "showlegend": true,
         "text": [
          "0.027%"
         ],
         "textfont": {
          "color": "#535a88",
          "size": 15
         },
         "textposition": "outside",
         "type": "bar",
         "x": [
          "MAKE UP FOR EVER"
         ],
         "xaxis": "x",
         "y": [
          30
         ],
         "yaxis": "y"
        },
        {
         "alignmentgroup": "True",
         "hovertemplate": "<b>Channel: %{x}<br>Frequency: %{y:}</b><extra></extra>",
         "legendgroup": "Jessica in the Kitchen - Vegan Recipes",
         "marker": {
          "color": "#9099d0",
          "pattern": {
           "shape": ""
          }
         },
         "name": "Jessica in the Kitchen - Vegan Recipes",
         "offsetgroup": "Jessica in the Kitchen - Vegan Recipes",
         "orientation": "v",
         "showlegend": true,
         "text": [
          "0.024%"
         ],
         "textfont": {
          "color": "#535a88",
          "size": 15
         },
         "textposition": "outside",
         "type": "bar",
         "x": [
          "Jessica in the Kitchen - Vegan Recipes"
         ],
         "xaxis": "x",
         "y": [
          26
         ],
         "yaxis": "y"
        },
        {
         "alignmentgroup": "True",
         "hovertemplate": "<b>Channel: %{x}<br>Frequency: %{y:}</b><extra></extra>",
         "legendgroup": "Your Dinosaurs Are Wrong",
         "marker": {
          "color": "#919ad1",
          "pattern": {
           "shape": ""
          }
         },
         "name": "Your Dinosaurs Are Wrong",
         "offsetgroup": "Your Dinosaurs Are Wrong",
         "orientation": "v",
         "showlegend": true,
         "text": [
          "0.024%"
         ],
         "textfont": {
          "color": "#535a88",
          "size": 15
         },
         "textposition": "outside",
         "type": "bar",
         "x": [
          "Your Dinosaurs Are Wrong"
         ],
         "xaxis": "x",
         "y": [
          26
         ],
         "yaxis": "y"
        },
        {
         "alignmentgroup": "True",
         "hovertemplate": "<b>Channel: %{x}<br>Frequency: %{y:}</b><extra></extra>",
         "legendgroup": "Studson Studio",
         "marker": {
          "color": "#929cd3",
          "pattern": {
           "shape": ""
          }
         },
         "name": "Studson Studio",
         "offsetgroup": "Studson Studio",
         "orientation": "v",
         "showlegend": true,
         "text": [
          "0.022%"
         ],
         "textfont": {
          "color": "#535a88",
          "size": 15
         },
         "textposition": "outside",
         "type": "bar",
         "x": [
          "Studson Studio"
         ],
         "xaxis": "x",
         "y": [
          24
         ],
         "yaxis": "y"
        },
        {
         "alignmentgroup": "True",
         "hovertemplate": "<b>Channel: %{x}<br>Frequency: %{y:}</b><extra></extra>",
         "legendgroup": "Reverse Engineering",
         "marker": {
          "color": "#939dd4",
          "pattern": {
           "shape": ""
          }
         },
         "name": "Reverse Engineering",
         "offsetgroup": "Reverse Engineering",
         "orientation": "v",
         "showlegend": true,
         "text": [
          "0.015%"
         ],
         "textfont": {
          "color": "#535a88",
          "size": 15
         },
         "textposition": "outside",
         "type": "bar",
         "x": [
          "Reverse Engineering"
         ],
         "xaxis": "x",
         "y": [
          16
         ],
         "yaxis": "y"
        },
        {
         "alignmentgroup": "True",
         "hovertemplate": "<b>Channel: %{x}<br>Frequency: %{y:}</b><extra></extra>",
         "legendgroup": "Steve Cutts",
         "marker": {
          "color": "#949ed5",
          "pattern": {
           "shape": ""
          }
         },
         "name": "Steve Cutts",
         "offsetgroup": "Steve Cutts",
         "orientation": "v",
         "showlegend": true,
         "text": [
          "0.011%"
         ],
         "textfont": {
          "color": "#535a88",
          "size": 15
         },
         "textposition": "outside",
         "type": "bar",
         "x": [
          "Steve Cutts"
         ],
         "xaxis": "x",
         "y": [
          12
         ],
         "yaxis": "y"
        },
        {
         "alignmentgroup": "True",
         "hovertemplate": "<b>Channel: %{x}<br>Frequency: %{y:}</b><extra></extra>",
         "legendgroup": "Naomi Farr",
         "marker": {
          "color": "#959fd6",
          "pattern": {
           "shape": ""
          }
         },
         "name": "Naomi Farr",
         "offsetgroup": "Naomi Farr",
         "orientation": "v",
         "showlegend": true,
         "text": [
          "0.011%"
         ],
         "textfont": {
          "color": "#535a88",
          "size": 15
         },
         "textposition": "outside",
         "type": "bar",
         "x": [
          "Naomi Farr"
         ],
         "xaxis": "x",
         "y": [
          12
         ],
         "yaxis": "y"
        },
        {
         "alignmentgroup": "True",
         "hovertemplate": "<b>Channel: %{x}<br>Frequency: %{y:}</b><extra></extra>",
         "legendgroup": "Perception",
         "marker": {
          "color": "#96a0d8",
          "pattern": {
           "shape": ""
          }
         },
         "name": "Perception",
         "offsetgroup": "Perception",
         "orientation": "v",
         "showlegend": true,
         "text": [
          "0.009%"
         ],
         "textfont": {
          "color": "#535a88",
          "size": 15
         },
         "textposition": "outside",
         "type": "bar",
         "x": [
          "Perception"
         ],
         "xaxis": "x",
         "y": [
          10
         ],
         "yaxis": "y"
        }
       ],
       "layout": {
        "barmode": "relative",
        "font": {
         "size": 18
        },
        "height": 600,
        "hoverlabel": {
         "font": {
          "family": "Rockwell",
          "size": 18
         }
        },
        "legend": {
         "title": {
          "text": "channel"
         },
         "tracegroupgap": 0
        },
        "margin": {
         "b": 20,
         "l": 20,
         "r": 20,
         "t": 50
        },
        "plot_bgcolor": "white",
        "showlegend": false,
        "template": {
         "data": {
          "bar": [
           {
            "error_x": {
             "color": "#2a3f5f"
            },
            "error_y": {
             "color": "#2a3f5f"
            },
            "marker": {
             "line": {
              "color": "#E5ECF6",
              "width": 0.5
             },
             "pattern": {
              "fillmode": "overlay",
              "size": 10,
              "solidity": 0.2
             }
            },
            "type": "bar"
           }
          ],
          "barpolar": [
           {
            "marker": {
             "line": {
              "color": "#E5ECF6",
              "width": 0.5
             },
             "pattern": {
              "fillmode": "overlay",
              "size": 10,
              "solidity": 0.2
             }
            },
            "type": "barpolar"
           }
          ],
          "carpet": [
           {
            "aaxis": {
             "endlinecolor": "#2a3f5f",
             "gridcolor": "white",
             "linecolor": "white",
             "minorgridcolor": "white",
             "startlinecolor": "#2a3f5f"
            },
            "baxis": {
             "endlinecolor": "#2a3f5f",
             "gridcolor": "white",
             "linecolor": "white",
             "minorgridcolor": "white",
             "startlinecolor": "#2a3f5f"
            },
            "type": "carpet"
           }
          ],
          "choropleth": [
           {
            "colorbar": {
             "outlinewidth": 0,
             "ticks": ""
            },
            "type": "choropleth"
           }
          ],
          "contour": [
           {
            "colorbar": {
             "outlinewidth": 0,
             "ticks": ""
            },
            "colorscale": [
             [
              0,
              "#0d0887"
             ],
             [
              0.1111111111111111,
              "#46039f"
             ],
             [
              0.2222222222222222,
              "#7201a8"
             ],
             [
              0.3333333333333333,
              "#9c179e"
             ],
             [
              0.4444444444444444,
              "#bd3786"
             ],
             [
              0.5555555555555556,
              "#d8576b"
             ],
             [
              0.6666666666666666,
              "#ed7953"
             ],
             [
              0.7777777777777778,
              "#fb9f3a"
             ],
             [
              0.8888888888888888,
              "#fdca26"
             ],
             [
              1,
              "#f0f921"
             ]
            ],
            "type": "contour"
           }
          ],
          "contourcarpet": [
           {
            "colorbar": {
             "outlinewidth": 0,
             "ticks": ""
            },
            "type": "contourcarpet"
           }
          ],
          "heatmap": [
           {
            "colorbar": {
             "outlinewidth": 0,
             "ticks": ""
            },
            "colorscale": [
             [
              0,
              "#0d0887"
             ],
             [
              0.1111111111111111,
              "#46039f"
             ],
             [
              0.2222222222222222,
              "#7201a8"
             ],
             [
              0.3333333333333333,
              "#9c179e"
             ],
             [
              0.4444444444444444,
              "#bd3786"
             ],
             [
              0.5555555555555556,
              "#d8576b"
             ],
             [
              0.6666666666666666,
              "#ed7953"
             ],
             [
              0.7777777777777778,
              "#fb9f3a"
             ],
             [
              0.8888888888888888,
              "#fdca26"
             ],
             [
              1,
              "#f0f921"
             ]
            ],
            "type": "heatmap"
           }
          ],
          "heatmapgl": [
           {
            "colorbar": {
             "outlinewidth": 0,
             "ticks": ""
            },
            "colorscale": [
             [
              0,
              "#0d0887"
             ],
             [
              0.1111111111111111,
              "#46039f"
             ],
             [
              0.2222222222222222,
              "#7201a8"
             ],
             [
              0.3333333333333333,
              "#9c179e"
             ],
             [
              0.4444444444444444,
              "#bd3786"
             ],
             [
              0.5555555555555556,
              "#d8576b"
             ],
             [
              0.6666666666666666,
              "#ed7953"
             ],
             [
              0.7777777777777778,
              "#fb9f3a"
             ],
             [
              0.8888888888888888,
              "#fdca26"
             ],
             [
              1,
              "#f0f921"
             ]
            ],
            "type": "heatmapgl"
           }
          ],
          "histogram": [
           {
            "marker": {
             "pattern": {
              "fillmode": "overlay",
              "size": 10,
              "solidity": 0.2
             }
            },
            "type": "histogram"
           }
          ],
          "histogram2d": [
           {
            "colorbar": {
             "outlinewidth": 0,
             "ticks": ""
            },
            "colorscale": [
             [
              0,
              "#0d0887"
             ],
             [
              0.1111111111111111,
              "#46039f"
             ],
             [
              0.2222222222222222,
              "#7201a8"
             ],
             [
              0.3333333333333333,
              "#9c179e"
             ],
             [
              0.4444444444444444,
              "#bd3786"
             ],
             [
              0.5555555555555556,
              "#d8576b"
             ],
             [
              0.6666666666666666,
              "#ed7953"
             ],
             [
              0.7777777777777778,
              "#fb9f3a"
             ],
             [
              0.8888888888888888,
              "#fdca26"
             ],
             [
              1,
              "#f0f921"
             ]
            ],
            "type": "histogram2d"
           }
          ],
          "histogram2dcontour": [
           {
            "colorbar": {
             "outlinewidth": 0,
             "ticks": ""
            },
            "colorscale": [
             [
              0,
              "#0d0887"
             ],
             [
              0.1111111111111111,
              "#46039f"
             ],
             [
              0.2222222222222222,
              "#7201a8"
             ],
             [
              0.3333333333333333,
              "#9c179e"
             ],
             [
              0.4444444444444444,
              "#bd3786"
             ],
             [
              0.5555555555555556,
              "#d8576b"
             ],
             [
              0.6666666666666666,
              "#ed7953"
             ],
             [
              0.7777777777777778,
              "#fb9f3a"
             ],
             [
              0.8888888888888888,
              "#fdca26"
             ],
             [
              1,
              "#f0f921"
             ]
            ],
            "type": "histogram2dcontour"
           }
          ],
          "mesh3d": [
           {
            "colorbar": {
             "outlinewidth": 0,
             "ticks": ""
            },
            "type": "mesh3d"
           }
          ],
          "parcoords": [
           {
            "line": {
             "colorbar": {
              "outlinewidth": 0,
              "ticks": ""
             }
            },
            "type": "parcoords"
           }
          ],
          "pie": [
           {
            "automargin": true,
            "type": "pie"
           }
          ],
          "scatter": [
           {
            "marker": {
             "colorbar": {
              "outlinewidth": 0,
              "ticks": ""
             }
            },
            "type": "scatter"
           }
          ],
          "scatter3d": [
           {
            "line": {
             "colorbar": {
              "outlinewidth": 0,
              "ticks": ""
             }
            },
            "marker": {
             "colorbar": {
              "outlinewidth": 0,
              "ticks": ""
             }
            },
            "type": "scatter3d"
           }
          ],
          "scattercarpet": [
           {
            "marker": {
             "colorbar": {
              "outlinewidth": 0,
              "ticks": ""
             }
            },
            "type": "scattercarpet"
           }
          ],
          "scattergeo": [
           {
            "marker": {
             "colorbar": {
              "outlinewidth": 0,
              "ticks": ""
             }
            },
            "type": "scattergeo"
           }
          ],
          "scattergl": [
           {
            "marker": {
             "colorbar": {
              "outlinewidth": 0,
              "ticks": ""
             }
            },
            "type": "scattergl"
           }
          ],
          "scattermapbox": [
           {
            "marker": {
             "colorbar": {
              "outlinewidth": 0,
              "ticks": ""
             }
            },
            "type": "scattermapbox"
           }
          ],
          "scatterpolar": [
           {
            "marker": {
             "colorbar": {
              "outlinewidth": 0,
              "ticks": ""
             }
            },
            "type": "scatterpolar"
           }
          ],
          "scatterpolargl": [
           {
            "marker": {
             "colorbar": {
              "outlinewidth": 0,
              "ticks": ""
             }
            },
            "type": "scatterpolargl"
           }
          ],
          "scatterternary": [
           {
            "marker": {
             "colorbar": {
              "outlinewidth": 0,
              "ticks": ""
             }
            },
            "type": "scatterternary"
           }
          ],
          "surface": [
           {
            "colorbar": {
             "outlinewidth": 0,
             "ticks": ""
            },
            "colorscale": [
             [
              0,
              "#0d0887"
             ],
             [
              0.1111111111111111,
              "#46039f"
             ],
             [
              0.2222222222222222,
              "#7201a8"
             ],
             [
              0.3333333333333333,
              "#9c179e"
             ],
             [
              0.4444444444444444,
              "#bd3786"
             ],
             [
              0.5555555555555556,
              "#d8576b"
             ],
             [
              0.6666666666666666,
              "#ed7953"
             ],
             [
              0.7777777777777778,
              "#fb9f3a"
             ],
             [
              0.8888888888888888,
              "#fdca26"
             ],
             [
              1,
              "#f0f921"
             ]
            ],
            "type": "surface"
           }
          ],
          "table": [
           {
            "cells": {
             "fill": {
              "color": "#EBF0F8"
             },
             "line": {
              "color": "white"
             }
            },
            "header": {
             "fill": {
              "color": "#C8D4E3"
             },
             "line": {
              "color": "white"
             }
            },
            "type": "table"
           }
          ]
         },
         "layout": {
          "annotationdefaults": {
           "arrowcolor": "#2a3f5f",
           "arrowhead": 0,
           "arrowwidth": 1
          },
          "autotypenumbers": "strict",
          "coloraxis": {
           "colorbar": {
            "outlinewidth": 0,
            "ticks": ""
           }
          },
          "colorscale": {
           "diverging": [
            [
             0,
             "#8e0152"
            ],
            [
             0.1,
             "#c51b7d"
            ],
            [
             0.2,
             "#de77ae"
            ],
            [
             0.3,
             "#f1b6da"
            ],
            [
             0.4,
             "#fde0ef"
            ],
            [
             0.5,
             "#f7f7f7"
            ],
            [
             0.6,
             "#e6f5d0"
            ],
            [
             0.7,
             "#b8e186"
            ],
            [
             0.8,
             "#7fbc41"
            ],
            [
             0.9,
             "#4d9221"
            ],
            [
             1,
             "#276419"
            ]
           ],
           "sequential": [
            [
             0,
             "#0d0887"
            ],
            [
             0.1111111111111111,
             "#46039f"
            ],
            [
             0.2222222222222222,
             "#7201a8"
            ],
            [
             0.3333333333333333,
             "#9c179e"
            ],
            [
             0.4444444444444444,
             "#bd3786"
            ],
            [
             0.5555555555555556,
             "#d8576b"
            ],
            [
             0.6666666666666666,
             "#ed7953"
            ],
            [
             0.7777777777777778,
             "#fb9f3a"
            ],
            [
             0.8888888888888888,
             "#fdca26"
            ],
            [
             1,
             "#f0f921"
            ]
           ],
           "sequentialminus": [
            [
             0,
             "#0d0887"
            ],
            [
             0.1111111111111111,
             "#46039f"
            ],
            [
             0.2222222222222222,
             "#7201a8"
            ],
            [
             0.3333333333333333,
             "#9c179e"
            ],
            [
             0.4444444444444444,
             "#bd3786"
            ],
            [
             0.5555555555555556,
             "#d8576b"
            ],
            [
             0.6666666666666666,
             "#ed7953"
            ],
            [
             0.7777777777777778,
             "#fb9f3a"
            ],
            [
             0.8888888888888888,
             "#fdca26"
            ],
            [
             1,
             "#f0f921"
            ]
           ]
          },
          "colorway": [
           "#636efa",
           "#EF553B",
           "#00cc96",
           "#ab63fa",
           "#FFA15A",
           "#19d3f3",
           "#FF6692",
           "#B6E880",
           "#FF97FF",
           "#FECB52"
          ],
          "font": {
           "color": "#2a3f5f"
          },
          "geo": {
           "bgcolor": "white",
           "lakecolor": "white",
           "landcolor": "#E5ECF6",
           "showlakes": true,
           "showland": true,
           "subunitcolor": "white"
          },
          "hoverlabel": {
           "align": "left"
          },
          "hovermode": "closest",
          "mapbox": {
           "style": "light"
          },
          "paper_bgcolor": "white",
          "plot_bgcolor": "#E5ECF6",
          "polar": {
           "angularaxis": {
            "gridcolor": "white",
            "linecolor": "white",
            "ticks": ""
           },
           "bgcolor": "#E5ECF6",
           "radialaxis": {
            "gridcolor": "white",
            "linecolor": "white",
            "ticks": ""
           }
          },
          "scene": {
           "xaxis": {
            "backgroundcolor": "#E5ECF6",
            "gridcolor": "white",
            "gridwidth": 2,
            "linecolor": "white",
            "showbackground": true,
            "ticks": "",
            "zerolinecolor": "white"
           },
           "yaxis": {
            "backgroundcolor": "#E5ECF6",
            "gridcolor": "white",
            "gridwidth": 2,
            "linecolor": "white",
            "showbackground": true,
            "ticks": "",
            "zerolinecolor": "white"
           },
           "zaxis": {
            "backgroundcolor": "#E5ECF6",
            "gridcolor": "white",
            "gridwidth": 2,
            "linecolor": "white",
            "showbackground": true,
            "ticks": "",
            "zerolinecolor": "white"
           }
          },
          "shapedefaults": {
           "line": {
            "color": "#2a3f5f"
           }
          },
          "ternary": {
           "aaxis": {
            "gridcolor": "white",
            "linecolor": "white",
            "ticks": ""
           },
           "baxis": {
            "gridcolor": "white",
            "linecolor": "white",
            "ticks": ""
           },
           "bgcolor": "#E5ECF6",
           "caxis": {
            "gridcolor": "white",
            "linecolor": "white",
            "ticks": ""
           }
          },
          "title": {
           "x": 0.05
          },
          "xaxis": {
           "automargin": true,
           "gridcolor": "white",
           "linecolor": "white",
           "ticks": "",
           "title": {
            "standoff": 15
           },
           "zerolinecolor": "white",
           "zerolinewidth": 2
          },
          "yaxis": {
           "automargin": true,
           "gridcolor": "white",
           "linecolor": "white",
           "ticks": "",
           "title": {
            "standoff": 15
           },
           "zerolinecolor": "white",
           "zerolinewidth": 2
          }
         }
        },
        "xaxis": {
         "anchor": "y",
         "categoryarray": [
          "BBC",
          "CNBC",
          "Classic Mr Bean",
          "Netflix",
          "Business Insider",
          "Adam Savage’s Tested",
          "NASA",
          "TED",
          "SpaceToday",
          "European Space Agency, ESA",
          "SciShow",
          "Scott Manley",
          "Canal do Schwarza",
          "Disney Parks",
          "Porta dos Fundos",
          "Jacques Slade",
          "Meteoro Brasil",
          "Guinness World Records",
          "Parafernalha",
          "Aviões e Músicas com Lito Sousa",
          "Fabio Chaves",
          "UrAvgConsumer",
          "Roberto Blake",
          "Disney",
          "Traversy Media",
          "Rebecca Watson",
          "DW Euromaxx",
          "Rachel's English",
          "Computerphile",
          "Aero Por Trás da Aviação",
          "Azusa Barbie",
          "Periodic Videos",
          "Joe Scott",
          "Simple Flying",
          "Tom Scott",
          "Numberphile",
          "Código Fonte TV",
          "Bob Ross",
          "Professor Noslen",
          "Buenas Ideias",
          "Cheddar",
          "AWE me",
          "Professor Julio Borbo",
          "The British Museum",
          "CaspianReport",
          "Cole and Marmalade",
          "Tá Querida",
          "Hydraulic Press Channel",
          "MathTheBeautiful",
          "TÁ NA MESA VEGG",
          "SmarterEveryDay",
          "SpaceX",
          "Everyday Astronaut",
          "The B1M",
          "Riddle",
          "Veritasium",
          "TopMovieClips",
          "PBS Space Time",
          "Tyta Montrase",
          "The Slow Mo Guys",
          "Living Big In A Tiny House",
          "Nyma Tang",
          "Ask a Mortician",
          "RealLifeLore",
          "Knowledgia",
          "Prowalk Tours",
          "Kirsten & Joerg",
          "Tempero Drag",
          "Animalogic",
          "Earthling Ed",
          "zefrank1",
          "Nox et Lux",
          "Wanderlust Travel Videos",
          "Uma história a mais",
          "Physics Girl",
          "Curious Droid",
          "Astrum",
          "PBS Eons",
          "Launch Pad Astronomy",
          "Marcel Vos",
          "MetaBallStudios",
          "Primitive Building",
          "Kurzgesagt – In a Nutshell",
          "Prof. André Azevedo da Fonseca",
          "Chaves Estranho",
          "Mintfaery",
          "Atila Iamarino",
          "Real Engineering",
          "Hello Korea",
          "O Pimentinha",
          "Journey to the Microcosmos",
          "3Blue1Brown",
          "Nerdforge",
          "Anglo-Link",
          "Simone Giertz",
          "Intensivo Pedagógico",
          "Matt Jordan",
          "Stefan Milo",
          "The Green Witch",
          "OwlKitty",
          "Planeta Aves",
          "Jay Foreman",
          "The Tim Traveller",
          "cyriak",
          "Microsoft Flight Simulator",
          "Fala Vegan",
          "Integrando Conhecimento",
          "OneikaTraveller",
          "chilli music",
          "OnlyConnect Fan",
          "Dinosaurs",
          "VeganBlackMetalChef",
          "Cradle Of Filth",
          "Subject Zero Science",
          "Mustard",
          "Huygens Optics",
          "Fancy Fairy Wings & Things",
          "MAKE UP FOR EVER",
          "Jessica in the Kitchen - Vegan Recipes",
          "Your Dinosaurs Are Wrong",
          "Studson Studio",
          "Reverse Engineering",
          "Steve Cutts",
          "Naomi Farr",
          "Perception"
         ],
         "categoryorder": "array",
         "domain": [
          0,
          1
         ],
         "tickangle": 40,
         "title": {
          "text": "<b>Channel</b>"
         }
        },
        "yaxis": {
         "anchor": "x",
         "domain": [
          0,
          1
         ],
         "title": {
          "text": "<b>Number of Videos</b>"
         },
         "type": "log"
        }
       }
      }
     },
     "metadata": {},
     "output_type": "display_data"
    }
   ],
   "source": [
    "# Frequencie of videos:\n",
    "video_counts = df_videos['channel_title'].value_counts()\n",
    "df_plot = pd.DataFrame(\n",
    "    {\n",
    "        \"channel\": video_counts.index.tolist(),\n",
    "        \"freq\": video_counts.tolist()\n",
    "    }\n",
    ")\n",
    "\n",
    "# Relative frequency:\n",
    "df_plot[\"freq_rel\"] = [round(i/sum(df_plot[\"freq\"])*100, 3) for i in df_plot[\"freq\"]]\n",
    "df_plot[\"freq_rel_char\"] = [str(i) + \"%\" for i in df_plot[\"freq_rel\"]]\n",
    "\n",
    "# Palette:\n",
    "n_levels = df_plot.shape[0]\n",
    "cmap = LinearSegmentedColormap.from_list(\"my_palette\", [\"#111539\", \"#97A1D9\"])\n",
    "my_palette = [to_hex(j) for j in  [cmap(i/n_levels) for i in np.array(range(n_levels))]]\n",
    "\n",
    "# Plot:\n",
    "fig = px.bar(\n",
    "    data_frame = df_plot,\n",
    "    x = \"channel\",\n",
    "    y = \"freq\",\n",
    "    log_y = True,\n",
    "    color = \"channel\",\n",
    "    color_discrete_sequence = my_palette,\n",
    "    text = \"freq_rel_char\"\n",
    ")\n",
    "fig.update_traces(\n",
    "    textposition = \"outside\",\n",
    "    textfont_color = my_palette[n_levels//2],\n",
    "    textfont_size = 15,\n",
    "    hovertemplate = \"<b>Channel: %{x}<br>Frequency: %{y:}</b><extra></extra>\"\n",
    ")\n",
    "fig.update_layout(\n",
    "    xaxis_title = \"<b>Channel</b>\" ,\n",
    "    yaxis_title = \"<b>Number of Videos</b>\",\n",
    "    xaxis = dict(\n",
    "        tickangle = 40\n",
    "    ),\n",
    "    font = dict(\n",
    "        size = 18\n",
    "    ),\n",
    "    showlegend = False,\n",
    "    plot_bgcolor = \"white\",\n",
    "    hoverlabel = dict(\n",
    "        font_size = 18,\n",
    "        font_family = \"Rockwell\"\n",
    "    ),\n",
    "    margin = dict(\n",
    "        l = 20,\n",
    "        r = 20,\n",
    "        t = 50,\n",
    "        b = 20\n",
    "    ),\n",
    "    height = 600\n",
    ")"
   ]
  },
  {
   "cell_type": "markdown",
   "metadata": {},
   "source": [
    "# Dynamic plots"
   ]
  },
  {
   "cell_type": "markdown",
   "metadata": {},
   "source": [
    "## Variables and options"
   ]
  },
  {
   "cell_type": "code",
   "execution_count": 10,
   "metadata": {},
   "outputs": [],
   "source": [
    "# Variables names:\n",
    "vars_names = {\n",
    "    \"Views\": \"views\",\n",
    "    \"Likes\": \"likes\",\n",
    "    \"Dislikes\": \"dislikes\",\n",
    "    \"Comments\": \"comments\",\n",
    "    \"Likes/dislikes\": \"likes_dislikes_ratio\",\n",
    "    \"Age (days)\": \"age_days\",\n",
    "    \"Comments/views\": \"comments_views_ratio\",\n",
    "    \"Mean views/day\": \"mean_views_day\"\n",
    "}\n",
    "\n",
    "# Options:\n",
    "opts_channel = np.sort(df_videos[\"channel_title\"].unique()).tolist()\n",
    "opts_vars = list(vars_names.keys())\n",
    "opts_vars = [i for i in vars_names.keys()]\n",
    "opts_vars.sort()\n",
    "\n",
    "# Custom hovers:\n",
    "custom_vars = list(vars_names.values())\n",
    "custom_template = \"<b>Video title: %{text}<br>\"\n",
    "for i in range(0, len(custom_vars)):\n",
    "    custom_template += list(vars_names.keys())[i] + \": %{customdata[\" + str(i) + \"]:}<br>\"\n",
    "custom_template = custom_template + \"</b><extra></extra>\""
   ]
  },
  {
   "cell_type": "markdown",
   "metadata": {},
   "source": [
    "## 1D histogram"
   ]
  },
  {
   "cell_type": "code",
   "execution_count": 11,
   "metadata": {},
   "outputs": [
    {
     "data": {
      "application/vnd.jupyter.widget-view+json": {
       "model_id": "538e53b0104745cfa2d4400de718a705",
       "version_major": 2,
       "version_minor": 0
      },
      "text/plain": [
       "VBox(children=(HBox(children=(Dropdown(description='Variable: ', options=('Views', 'Likes', 'Dislikes', 'Comme…"
      ]
     },
     "metadata": {},
     "output_type": "display_data"
    }
   ],
   "source": [
    "# Variable and filters widgets:\n",
    "input_xvar = widgets.Dropdown(\n",
    "    description = \"Variable: \",\n",
    "    options = list(vars_names.keys()),\n",
    "    value = list(vars_names.keys())[0]\n",
    ")\n",
    "input_channels = widgets.Dropdown(\n",
    "    description = \"Channel: \",\n",
    "    options = opts_channel,\n",
    "    value = opts_channel[0]\n",
    ")\n",
    "input_bins = widgets.IntSlider(\n",
    "    description = \"Bins: \",\n",
    "    min = 10,\n",
    "    max = 1000,\n",
    "    step = 10,\n",
    "    value = 200\n",
    ")\n",
    "input_xmin = widgets.FloatText(\n",
    "    value = np.min(df_videos[vars_names[input_xvar.value]]),\n",
    "    description = \"Min: \"\n",
    ")\n",
    "input_xmax = widgets.FloatText(\n",
    "    value = np.max(df_videos[vars_names[input_xvar.value]]),\n",
    "    description = \"Max: \"\n",
    ")\n",
    "\n",
    "# Statistics in the title:\n",
    "def plot_title(x):\n",
    "    title = \"Filtered sample statistics<br>\" +\\\n",
    "            \"<b style = 'color: #900c3f'>Mean</b>: \" + f\"{np.mean(x):.7g}      \" +\\\n",
    "            \"<b style = 'color: #ffc300'>Median</b>: \" + f\"{np.median(x):.7g}      \" +\\\n",
    "            \"<b>Standard deviation</b>: \" + f\"{np.std(x):.7g}      \" +\\\n",
    "            \"<b>Skewness</b>: \" + f\"{skew(x):.3g}\"\n",
    "    return(title)\n",
    "\n",
    "# Mean and median lines:\n",
    "def vert_lines(x):\n",
    "    vertical_lines = [\n",
    "        {\n",
    "            'line': {\n",
    "                'color': '#900c3f',\n",
    "                'dash': 'dash',\n",
    "                'width': 2\n",
    "            },\n",
    "            'type': 'line',\n",
    "            'x0': np.mean(x),\n",
    "            'x1': np.mean(x),\n",
    "            'xref': 'x',\n",
    "            'y0': 0,\n",
    "            'y1': 1,\n",
    "            'yref': 'paper'\n",
    "        },\n",
    "        {\n",
    "            'line': {\n",
    "                'color': '#ffc300',\n",
    "                'dash': 'dash',\n",
    "                'width': 2\n",
    "            },\n",
    "            'type': 'line',\n",
    "            'x0': np.median(x),\n",
    "            'x1': np.median(x),\n",
    "            'xref': 'x',\n",
    "            'y0': 0,\n",
    "            'y1': 1,\n",
    "            'yref': 'paper'\n",
    "        }\n",
    "    ]\n",
    "    return(vertical_lines)\n",
    "\n",
    "# Initialize the figure:\n",
    "x_init = df_videos.loc[df_videos[\"channel_title\"] == opts_channel[0], vars_names[input_xvar.value]]\n",
    "x_mean = np.mean(x_init)\n",
    "x_median = np.median(x_init)\n",
    "fig = go.FigureWidget(\n",
    "    data = [\n",
    "        go.Histogram(\n",
    "            x = x_init,\n",
    "            histfunc = \"count\",\n",
    "            nbinsx = input_bins.value,\n",
    "            marker_color = \"#00baad\",\n",
    "            opacity = 0.9\n",
    "        )\n",
    "    ],\n",
    "    layout = go.Layout(\n",
    "        title = plot_title(x_init),\n",
    "        xaxis_title = \"<b>\" + input_xvar.value + \"</b>\",\n",
    "        yaxis_title = \"<b>Counts</b>\",\n",
    "        font = dict(\n",
    "            size = 18\n",
    "        ),\n",
    "        showlegend = False,\n",
    "        plot_bgcolor = \"white\",\n",
    "        hoverlabel = dict(\n",
    "            font_size = 18,\n",
    "            font_family = \"Rockwell\"\n",
    "        ),\n",
    "        margin = dict(\n",
    "            l = 20,\n",
    "            r = 20,\n",
    "            t = 100,\n",
    "            b = 20\n",
    "        ),\n",
    "        height = 600,\n",
    "        shapes = vert_lines(x_init)\n",
    "    )\n",
    ")\n",
    "\n",
    "# Filter and update function:\n",
    "def filtering(chosen_xvar, chosen_channel, chosen_bins, chosen_xmin, chosen_xmax):\n",
    "    # Filter by channel:\n",
    "    df_filtered = df_videos.copy()[df_videos[\"channel_title\"] == chosen_channel]\n",
    "    \n",
    "    # Variable:\n",
    "    x_vals = df_filtered[vars_names[chosen_xvar]]\n",
    "\n",
    "    # Filter the range:\n",
    "    if chosen_xmin >= chosen_xmax or chosen_xmax < np.min(x_vals) or chosen_xmin > np.max(x_vals):\n",
    "        pass\n",
    "    else:\n",
    "        if chosen_xmin < np.min(x_vals):\n",
    "            pass\n",
    "        else:\n",
    "            x_vals = x_vals[x_vals > chosen_xmin]\n",
    "        if chosen_xmax > np.max(x_vals):\n",
    "            pass\n",
    "        else:\n",
    "            x_vals = x_vals[x_vals < chosen_xmax]\n",
    "    \n",
    "    # Drop the nan:\n",
    "    x_vals = x_vals.dropna()\n",
    "\n",
    "    # Update the figure:\n",
    "    with fig.batch_update():\n",
    "        fig.data[0].x = x_vals\n",
    "        fig.data[0].nbinsx = chosen_bins\n",
    "        fig.layout.xaxis.title = \"<b>\" + chosen_xvar + \"</b>\"\n",
    "        fig.layout.title = plot_title(x_vals)\n",
    "        fig.layout.shapes = vert_lines(x_vals)\n",
    "\n",
    "# Event handlers:\n",
    "def eventhandler_xvar(change):\n",
    "    filtering(chosen_xvar = change.new,\n",
    "              chosen_channel = input_channels.value,\n",
    "              chosen_bins = input_bins.value,\n",
    "              chosen_xmin = input_xmin.value,\n",
    "              chosen_xmax = input_xmax.value)\n",
    "def eventhandler_channels(change):\n",
    "    filtering(chosen_xvar = input_xvar.value,\n",
    "              chosen_channel = change.new,\n",
    "              chosen_bins = input_bins.value,\n",
    "              chosen_xmin = input_xmin.value,\n",
    "              chosen_xmax = input_xmax.value)\n",
    "def eventhandler_bins(change):\n",
    "    filtering(chosen_xvar = input_xvar.value,\n",
    "              chosen_channel = input_channels.value,\n",
    "              chosen_bins = change.new,\n",
    "              chosen_xmin = input_xmin.value,\n",
    "              chosen_xmax = input_xmax.value)\n",
    "def eventhandler_xmin(change):\n",
    "    filtering(chosen_xvar = input_xvar.value,\n",
    "              chosen_channel = input_channels.value,\n",
    "              chosen_bins = input_bins.value,\n",
    "              chosen_xmin = change.new,\n",
    "              chosen_xmax = input_xmax.value)\n",
    "def eventhandler_xmax(change):\n",
    "    filtering(chosen_xvar = input_xvar.value,\n",
    "              chosen_channel = input_channels.value,\n",
    "              chosen_bins = input_bins.value,\n",
    "              chosen_xmin = input_xmin.value,\n",
    "              chosen_xmax = change.new)\n",
    "\n",
    "# Observes:\n",
    "input_xvar.observe(eventhandler_xvar,\n",
    "                   names = \"value\")\n",
    "input_channels.observe(eventhandler_channels,\n",
    "                       names = \"value\")\n",
    "input_bins.observe(eventhandler_bins,\n",
    "                   names = \"value\")\n",
    "input_xmin.observe(eventhandler_xmin,\n",
    "                   names = \"value\")\n",
    "input_xmax.observe(eventhandler_xmax,\n",
    "                   names = \"value\")\n",
    "\n",
    "# Row of filters:\n",
    "row_filters = widgets.HBox(\n",
    "    [\n",
    "        input_xvar,\n",
    "        input_channels,\n",
    "        input_bins,\n",
    "        input_xmin,\n",
    "        input_xmax\n",
    "    ]\n",
    ")\n",
    "\n",
    "# Main box:\n",
    "widgets.VBox(\n",
    "    [\n",
    "        row_filters,\n",
    "        fig\n",
    "    ]\n",
    ")"
   ]
  },
  {
   "cell_type": "markdown",
   "metadata": {},
   "source": [
    "## 2D Density"
   ]
  },
  {
   "cell_type": "code",
   "execution_count": 12,
   "metadata": {},
   "outputs": [
    {
     "data": {
      "application/vnd.jupyter.widget-view+json": {
       "model_id": "e680ebae0e5f4afd94d73ce7c387b9cf",
       "version_major": 2,
       "version_minor": 0
      },
      "text/plain": [
       "VBox(children=(HBox(children=(Dropdown(description='x: ', options=('Views', 'Likes', 'Dislikes', 'Comments', '…"
      ]
     },
     "metadata": {},
     "output_type": "display_data"
    }
   ],
   "source": [
    "# Variables and filters widgets:\n",
    "input_xvar = widgets.Dropdown(\n",
    "    description = \"x: \",\n",
    "    options = list(vars_names.keys()),\n",
    "    value = list(vars_names.keys())[0]\n",
    ")\n",
    "input_yvar = widgets.Dropdown(\n",
    "    description = \"y: \",\n",
    "    options = list(vars_names.keys()),\n",
    "    value = list(vars_names.keys())[1]\n",
    ")\n",
    "input_channels = widgets.Dropdown(\n",
    "    description = \"Channel: \",\n",
    "    options = opts_channel,\n",
    "    value = opts_channel[0]\n",
    ")\n",
    "\n",
    "# Palette:\n",
    "my_colors = [\"#000000\", \"#E008F8\", \"#F81D08\", \"#F88A08\", \"#F7FE04\"]\n",
    "\n",
    "# Initialize the figure:\n",
    "df_plot = df_videos[df_videos[\"channel_title\"] == opts_channel[0]]\n",
    "x_init = df_plot[vars_names[input_xvar.value]]\n",
    "y_init = df_plot[vars_names[input_yvar.value]]\n",
    "fig = go.FigureWidget(\n",
    "    data = [\n",
    "        go.Histogram2dContour(\n",
    "            x = x_init,\n",
    "            y = y_init,\n",
    "            colorscale = my_colors,\n",
    "            ncontours = 10,\n",
    "            histnorm = \"probability density\",\n",
    "            colorbar = dict(\n",
    "                title = \"<b>Density</b>\"\n",
    "            )\n",
    "        )\n",
    "    ],\n",
    "    layout = go.Layout(\n",
    "        xaxis_title = \"<b>\" + input_xvar.value + \"</b>\",\n",
    "        yaxis_title = \"<b>\" + input_yvar.value + \"</b>\",\n",
    "        font = dict(\n",
    "            size = 18\n",
    "        ),\n",
    "        showlegend = False,\n",
    "        plot_bgcolor = \"white\",\n",
    "        hoverlabel = dict(\n",
    "            font_size = 18,\n",
    "            font_family = \"Rockwell\"\n",
    "        ),\n",
    "        margin = dict(\n",
    "            l = 400,\n",
    "            r = 20,\n",
    "            t = 20,\n",
    "            b = 20\n",
    "        ),\n",
    "        height = 600,\n",
    "        width = 1100\n",
    "    )\n",
    ")\n",
    "\n",
    "# Filter and update function:\n",
    "def filtering(chosen_xvar, chosen_yvar, chosen_channel):\n",
    "    # Filter by channel:\n",
    "    df_filtered = df_videos.copy()[df_videos[\"channel_title\"] == chosen_channel]\n",
    "    \n",
    "    # Variables:\n",
    "    x_vals = df_filtered[vars_names[chosen_xvar]]\n",
    "    y_vals = df_filtered[vars_names[chosen_yvar]]\n",
    "\n",
    "    # Update the figure:\n",
    "    with fig.batch_update():\n",
    "        fig.data[0].x = x_vals\n",
    "        fig.data[0].y = y_vals\n",
    "        fig.layout.xaxis.title = \"<b>\" + chosen_xvar + \"</b>\"\n",
    "        fig.layout.yaxis.title = \"<b>\" + chosen_yvar + \"</b>\"\n",
    "\n",
    "# Event handlers:\n",
    "def eventhandler_xvar(change):\n",
    "    filtering(chosen_xvar = change.new,\n",
    "              chosen_yvar = input_yvar.value,\n",
    "              chosen_channel = input_channels.value)\n",
    "def eventhandler_yvar(change):\n",
    "    filtering(chosen_xvar = input_xvar.value,\n",
    "              chosen_yvar = change.new,\n",
    "              chosen_channel = input_channels.value)\n",
    "def eventhandler_channels(change):\n",
    "    filtering(chosen_xvar = input_xvar.value,\n",
    "              chosen_yvar = input_yvar.value,\n",
    "              chosen_channel = change.new)\n",
    "\n",
    "# Observes:\n",
    "input_xvar.observe(eventhandler_xvar,\n",
    "                   names = \"value\")\n",
    "input_yvar.observe(eventhandler_yvar,\n",
    "                   names = \"value\")\n",
    "input_channels.observe(eventhandler_channels,\n",
    "                       names = \"value\")\n",
    "\n",
    "# Row of filters:\n",
    "row_filters = widgets.HBox(\n",
    "    [\n",
    "        input_xvar,\n",
    "        input_yvar,\n",
    "        input_channels\n",
    "    ]\n",
    ")\n",
    "\n",
    "# Main box:\n",
    "widgets.VBox(\n",
    "    [\n",
    "        row_filters,\n",
    "        fig\n",
    "    ]\n",
    ")"
   ]
  },
  {
   "cell_type": "markdown",
   "metadata": {},
   "source": [
    "## Scatter with colors"
   ]
  },
  {
   "cell_type": "code",
   "execution_count": 17,
   "metadata": {},
   "outputs": [
    {
     "data": {
      "application/vnd.jupyter.widget-view+json": {
       "model_id": "aca3c076ebb8425f8e513c1eeada077d",
       "version_major": 2,
       "version_minor": 0
      },
      "text/plain": [
       "VBox(children=(HBox(children=(Dropdown(description='x: ', options=('Views', 'Likes', 'Dislikes', 'Comments', '…"
      ]
     },
     "metadata": {},
     "output_type": "display_data"
    }
   ],
   "source": [
    "# Variables and filters widgets:\n",
    "input_xvar = widgets.Dropdown(\n",
    "    description = \"x: \",\n",
    "    options = list(vars_names.keys()),\n",
    "    value = list(vars_names.keys())[0]\n",
    ")\n",
    "input_yvar = widgets.Dropdown(\n",
    "    description = \"y: \",\n",
    "    options = list(vars_names.keys()),\n",
    "    value = list(vars_names.keys())[1]\n",
    ")\n",
    "input_cvar = widgets.Dropdown(\n",
    "    description = \"color: \",\n",
    "    options = list(vars_names.keys()),\n",
    "    value = list(vars_names.keys())[2]\n",
    ")\n",
    "input_channels = widgets.Dropdown(\n",
    "    description = \"Channel: \",\n",
    "    options = opts_channel,\n",
    "    value = opts_channel[0]\n",
    ")\n",
    "\n",
    "# Palette:\n",
    "n_colors = 100\n",
    "my_colors = [\"#000000\", \"#E008F8\", \"#F81D08\", \"#F88A08\", \"#F7FE04\"]\n",
    "cmap = LinearSegmentedColormap.from_list(\"my_palette\", my_colors)\n",
    "my_palette = [to_hex(j) for j in  [cmap(i/n_colors) for i in np.array(range(n_colors))]]\n",
    "\n",
    "# Initialize the figure:\n",
    "df_plot = df_videos[df_videos[\"channel_title\"] == opts_channel[0]]\n",
    "x_init = df_plot[vars_names[input_xvar.value]]\n",
    "y_init = df_plot[vars_names[input_yvar.value]]\n",
    "c_init = df_plot[vars_names[input_cvar.value]]\n",
    "fig = go.FigureWidget(\n",
    "    data = [\n",
    "        go.Scatter(\n",
    "            x = x_init,\n",
    "            y = y_init,\n",
    "            mode = \"markers\",\n",
    "            marker = {\n",
    "                \"size\": 7,\n",
    "                \"color\": c_init,\n",
    "                \"colorscale\": my_palette,\n",
    "                \"showscale\": True,\n",
    "                \"colorbar\": {\n",
    "                    \"title\": \"<b>\" + input_cvar.value + \"</b>\"\n",
    "                }\n",
    "            },\n",
    "            text = df_plot[\"video_title\"],\n",
    "            customdata = df_plot[custom_vars],\n",
    "            hovertemplate = custom_template\n",
    "        )\n",
    "    ],\n",
    "    layout = go.Layout(\n",
    "        xaxis_title = \"<b>\" + input_xvar.value + \"</b>\",\n",
    "        yaxis_title = \"<b>\" + input_yvar.value + \"</b>\",\n",
    "        font = dict(\n",
    "            size = 18\n",
    "        ),\n",
    "        showlegend = False,\n",
    "        plot_bgcolor = \"white\",\n",
    "        hoverlabel = dict(\n",
    "            font_size = 18,\n",
    "            font_family = \"Rockwell\"\n",
    "        ),\n",
    "        margin = dict(\n",
    "            l = 20,\n",
    "            r = 20,\n",
    "            t = 20,\n",
    "            b = 20\n",
    "        ),\n",
    "        height = 600\n",
    "    )\n",
    ")\n",
    "\n",
    "# Filter and update function:\n",
    "def filtering(chosen_xvar, chosen_yvar, chosen_cvar, chosen_channel):\n",
    "    # Filter by channel:\n",
    "    df_filtered = df_videos.copy()[df_videos[\"channel_title\"] == chosen_channel]\n",
    "    \n",
    "    # Variables:\n",
    "    x_vals = df_filtered[vars_names[chosen_xvar]]\n",
    "    y_vals = df_filtered[vars_names[chosen_yvar]]\n",
    "    c_vals = df_filtered[vars_names[chosen_cvar]]\n",
    "\n",
    "    # Update the figure:\n",
    "    with fig.batch_update():\n",
    "        fig.data[0].x = x_vals\n",
    "        fig.data[0].y = y_vals\n",
    "        fig.layout.xaxis.title = \"<b>\" + chosen_xvar + \"</b>\"\n",
    "        fig.layout.yaxis.title = \"<b>\" + chosen_yvar + \"</b>\"\n",
    "        fig.data[0].marker.color = c_vals\n",
    "        fig.data[0].marker.colorbar.title = \"<b>\" + chosen_cvar + \"</b>\"\n",
    "        fig.data[0].text = df_filtered[\"video_title\"]\n",
    "        fig.data[0].customdata = df_filtered[custom_vars]\n",
    "\n",
    "# Event handlers:\n",
    "def eventhandler_xvar(change):\n",
    "    filtering(chosen_xvar = change.new,\n",
    "              chosen_yvar = input_yvar.value,\n",
    "              chosen_cvar = input_cvar.value,\n",
    "              chosen_channel = input_channels.value)\n",
    "def eventhandler_yvar(change):\n",
    "    filtering(chosen_xvar = input_xvar.value,\n",
    "              chosen_yvar = change.new,\n",
    "              chosen_cvar = input_cvar.value,\n",
    "              chosen_channel = input_channels.value)\n",
    "def eventhandler_cvar(change):\n",
    "    filtering(chosen_xvar = input_xvar.value,\n",
    "              chosen_yvar = input_yvar.value,\n",
    "              chosen_cvar = change.new,\n",
    "              chosen_channel = input_channels.value)\n",
    "def eventhandler_channels(change):\n",
    "    filtering(chosen_xvar = input_xvar.value,\n",
    "              chosen_yvar = input_yvar.value,\n",
    "              chosen_cvar = input_cvar.value,\n",
    "              chosen_channel = change.new)\n",
    "\n",
    "# Observes:\n",
    "input_xvar.observe(eventhandler_xvar,\n",
    "                   names = \"value\")\n",
    "input_yvar.observe(eventhandler_yvar,\n",
    "                   names = \"value\")\n",
    "input_cvar.observe(eventhandler_cvar,\n",
    "                   names = \"value\")\n",
    "input_channels.observe(eventhandler_channels,\n",
    "                       names = \"value\")\n",
    "\n",
    "# Row of filters:\n",
    "row_filters = widgets.HBox(\n",
    "    [\n",
    "        input_xvar,\n",
    "        input_yvar,\n",
    "        input_cvar,\n",
    "        input_channels\n",
    "    ]\n",
    ")\n",
    "\n",
    "# Main box:\n",
    "widgets.VBox(\n",
    "    [\n",
    "        row_filters,\n",
    "        fig\n",
    "    ]\n",
    ")"
   ]
  },
  {
   "cell_type": "markdown",
   "metadata": {},
   "source": [
    "## Bubble with colors"
   ]
  },
  {
   "cell_type": "code",
   "execution_count": 16,
   "metadata": {},
   "outputs": [
    {
     "data": {
      "application/vnd.jupyter.widget-view+json": {
       "model_id": "5e2612ee4c504ef9866ed826633aba46",
       "version_major": 2,
       "version_minor": 0
      },
      "text/plain": [
       "VBox(children=(HBox(children=(Dropdown(description='x: ', options=('Views', 'Likes', 'Dislikes', 'Comments', '…"
      ]
     },
     "metadata": {},
     "output_type": "display_data"
    }
   ],
   "source": [
    "# Variables and filters widgets:\n",
    "input_xvar = widgets.Dropdown(\n",
    "    description = \"x: \",\n",
    "    options = list(vars_names.keys()),\n",
    "    value = list(vars_names.keys())[0]\n",
    ")\n",
    "input_yvar = widgets.Dropdown(\n",
    "    description = \"y: \",\n",
    "    options = list(vars_names.keys()),\n",
    "    value = list(vars_names.keys())[1]\n",
    ")\n",
    "input_cvar = widgets.Dropdown(\n",
    "    description = \"color: \",\n",
    "    options = list(vars_names.keys()),\n",
    "    value = list(vars_names.keys())[2]\n",
    ")\n",
    "input_svar = widgets.Dropdown(\n",
    "    description = \"size: \",\n",
    "    options = list(vars_names.keys()),\n",
    "    value = list(vars_names.keys())[3]\n",
    ")\n",
    "input_channels = widgets.Dropdown(\n",
    "    description = \"Channel: \",\n",
    "    options = opts_channel,\n",
    "    value = opts_channel[0]\n",
    ")\n",
    "\n",
    "# Palette:\n",
    "n_colors = 100\n",
    "my_colors = [\"#000000\", \"#E008F8\", \"#F81D08\", \"#F88A08\", \"#F7FE04\"]\n",
    "cmap = LinearSegmentedColormap.from_list(\"my_palette\", my_colors)\n",
    "my_palette = [to_hex(j) for j in  [cmap(i/n_colors) for i in np.array(range(n_colors))]]\n",
    "\n",
    "# Dynamic bubble size:\n",
    "def size_func(s_vals):\n",
    "    ref_size = max(s_init)/(20**2)\n",
    "    return(ref_size)\n",
    "\n",
    "# Initialize the figure:\n",
    "df_plot = df_videos[df_videos[\"channel_title\"] == opts_channel[0]]\n",
    "x_init = df_plot[vars_names[input_xvar.value]]\n",
    "y_init = df_plot[vars_names[input_yvar.value]]\n",
    "c_init = df_plot[vars_names[input_cvar.value]]\n",
    "s_init = df_plot[vars_names[input_svar.value]]\n",
    "fig = go.FigureWidget(\n",
    "    data = [\n",
    "        go.Scatter(\n",
    "            x = x_init,\n",
    "            y = y_init,\n",
    "            mode = \"markers\",\n",
    "            marker = {\n",
    "                \"color\": c_init,\n",
    "                \"colorscale\": my_palette,\n",
    "                \"showscale\": True,\n",
    "                \"colorbar\": {\n",
    "                    \"title\": \"<b>\" + input_cvar.value + \"</b>\"\n",
    "                },\n",
    "                \"size\": s_init,\n",
    "                \"opacity\": 0.9,\n",
    "                \"sizemode\": \"area\",\n",
    "                \"sizeref\": size_func(s_init),\n",
    "                \"sizemin\": 2\n",
    "            },\n",
    "            text = df_plot[\"video_title\"],\n",
    "            customdata = df_plot[custom_vars],\n",
    "            hovertemplate = custom_template\n",
    "        )\n",
    "    ],\n",
    "    layout = go.Layout(\n",
    "        xaxis_title = \"<b>\" + input_xvar.value + \"</b>\",\n",
    "        yaxis_title = \"<b>\" + input_yvar.value + \"</b>\",\n",
    "        font = dict(\n",
    "            size = 18\n",
    "        ),\n",
    "        showlegend = False,\n",
    "        plot_bgcolor = \"white\",\n",
    "        hoverlabel = dict(\n",
    "            font_size = 18,\n",
    "            font_family = \"Rockwell\"\n",
    "        ),\n",
    "        margin = dict(\n",
    "            l = 20,\n",
    "            r = 20,\n",
    "            t = 20,\n",
    "            b = 20\n",
    "        ),\n",
    "        height = 600\n",
    "    )\n",
    ")\n",
    "\n",
    "# Filter and update function:\n",
    "def filtering(chosen_xvar, chosen_yvar, chosen_cvar, chosen_svar, chosen_channel):\n",
    "    # Filter by channel:\n",
    "    df_filtered = df_videos.copy()[df_videos[\"channel_title\"] == chosen_channel]\n",
    "    \n",
    "    # Variables:\n",
    "    x_vals = df_filtered[vars_names[chosen_xvar]]\n",
    "    y_vals = df_filtered[vars_names[chosen_yvar]]\n",
    "    c_vals = df_filtered[vars_names[chosen_cvar]]\n",
    "    s_vals = df_filtered[vars_names[chosen_svar]]\n",
    "\n",
    "    # Update the figure:\n",
    "    with fig.batch_update():\n",
    "        fig.data[0].x = x_vals\n",
    "        fig.data[0].y = y_vals\n",
    "        fig.layout.xaxis.title = \"<b>\" + chosen_xvar + \"</b>\"\n",
    "        fig.layout.yaxis.title = \"<b>\" + chosen_yvar + \"</b>\"\n",
    "        fig.data[0].marker.color = c_vals\n",
    "        fig.data[0].marker.colorbar.title = \"<b>\" + chosen_cvar + \"</b>\"\n",
    "        fig.data[0].text = df_filtered[\"video_title\"]\n",
    "        fig.data[0].customdata = df_filtered[custom_vars]\n",
    "        fig.data[0].marker.size = s_vals\n",
    "        fig.data[0].marker.size = size_func(s_vals)\n",
    "\n",
    "# Event handlers:\n",
    "def eventhandler_xvar(change):\n",
    "    filtering(chosen_xvar = change.new,\n",
    "              chosen_yvar = input_yvar.value,\n",
    "              chosen_cvar = input_cvar.value,\n",
    "              chosen_svar = input_svar.value,\n",
    "              chosen_channel = input_channels.value)\n",
    "def eventhandler_yvar(change):\n",
    "    filtering(chosen_xvar = input_xvar.value,\n",
    "              chosen_yvar = change.new,\n",
    "              chosen_cvar = input_cvar.value,\n",
    "              chosen_svar = input_svar.value,\n",
    "              chosen_channel = input_channels.value)\n",
    "def eventhandler_cvar(change):\n",
    "    filtering(chosen_xvar = input_xvar.value,\n",
    "              chosen_yvar = input_yvar.value,\n",
    "              chosen_cvar = change.new,\n",
    "              chosen_svar = input_svar.value,\n",
    "              chosen_channel = input_channels.value)\n",
    "def eventhandler_svar(change):\n",
    "    filtering(chosen_xvar = input_xvar.value,\n",
    "              chosen_yvar = input_yvar.value,\n",
    "              chosen_cvar = input_cvar.value,\n",
    "              chosen_svar = change.new,\n",
    "              chosen_channel = input_channels.value)\n",
    "def eventhandler_channels(change):\n",
    "    filtering(chosen_xvar = input_xvar.value,\n",
    "              chosen_yvar = input_yvar.value,\n",
    "              chosen_cvar = input_cvar.value,\n",
    "              chosen_svar = input_svar.value,\n",
    "              chosen_channel = change.new)\n",
    "\n",
    "# Observes:\n",
    "input_xvar.observe(eventhandler_xvar,\n",
    "                   names = \"value\")\n",
    "input_yvar.observe(eventhandler_yvar,\n",
    "                   names = \"value\")\n",
    "input_cvar.observe(eventhandler_cvar,\n",
    "                   names = \"value\")\n",
    "input_svar.observe(eventhandler_svar,\n",
    "                   names = \"value\")\n",
    "input_channels.observe(eventhandler_channels,\n",
    "                       names = \"value\")\n",
    "\n",
    "# Row of filters:\n",
    "row_filters = widgets.HBox(\n",
    "    [\n",
    "        input_xvar,\n",
    "        input_yvar,\n",
    "        input_cvar,\n",
    "        input_svar,\n",
    "        input_channels\n",
    "    ]\n",
    ")\n",
    "\n",
    "# Main box:\n",
    "widgets.VBox(\n",
    "    [\n",
    "        row_filters,\n",
    "        fig\n",
    "    ]\n",
    ")"
   ]
  },
  {
   "cell_type": "markdown",
   "metadata": {},
   "source": [
    "## Scatter to compare 2 channels"
   ]
  },
  {
   "cell_type": "code",
   "execution_count": 19,
   "metadata": {},
   "outputs": [
    {
     "data": {
      "application/vnd.jupyter.widget-view+json": {
       "model_id": "a4031c26dc6d4915a7e0ca8f207b4c25",
       "version_major": 2,
       "version_minor": 0
      },
      "text/plain": [
       "VBox(children=(HBox(children=(Dropdown(description='x: ', options=('Views', 'Likes', 'Dislikes', 'Comments', '…"
      ]
     },
     "metadata": {},
     "output_type": "display_data"
    }
   ],
   "source": [
    "# Variables and filters widgets:\n",
    "input_xvar = widgets.Dropdown(\n",
    "    description = \"x: \",\n",
    "    options = list(vars_names.keys()),\n",
    "    value = list(vars_names.keys())[0]\n",
    ")\n",
    "input_yvar = widgets.Dropdown(\n",
    "    description = \"y: \",\n",
    "    options = list(vars_names.keys()),\n",
    "    value = list(vars_names.keys())[1]\n",
    ")\n",
    "input_channel1 = widgets.Dropdown(\n",
    "    description = \"Channel 1: \",\n",
    "    options = opts_channel,\n",
    "    value = opts_channel[0]\n",
    ")\n",
    "input_channel2 = widgets.Dropdown(\n",
    "    description = \"Channel 2: \",\n",
    "    options = opts_channel,\n",
    "    value = opts_channel[1]\n",
    ")\n",
    "\n",
    "# Initialize the figure:\n",
    "df_plot1 = df_videos[df_videos[\"channel_title\"] == opts_channel[0]]\n",
    "x_init1 = df_plot1[vars_names[input_xvar.value]]\n",
    "y_init1 = df_plot1[vars_names[input_yvar.value]]\n",
    "df_plot2 = df_videos[df_videos[\"channel_title\"] == opts_channel[1]]\n",
    "x_init2 = df_plot2[vars_names[input_xvar.value]]\n",
    "y_init2 = df_plot2[vars_names[input_yvar.value]]\n",
    "\n",
    "fig = go.FigureWidget(\n",
    "    data = [\n",
    "        go.Scatter(\n",
    "            x = x_init1,\n",
    "            y = y_init1,\n",
    "            mode = \"markers\",\n",
    "            marker = {\n",
    "                \"size\": 7,\n",
    "                \"color\": \"#2a7b9b\"\n",
    "            },\n",
    "            name = opts_channel[0],\n",
    "            text = df_plot1[\"video_title\"],\n",
    "            customdata = df_plot1[custom_vars],\n",
    "            hovertemplate = custom_template\n",
    "        ),\n",
    "        go.Scatter(\n",
    "            x = x_init1,\n",
    "            y = y_init1,\n",
    "            mode = \"markers\",\n",
    "            marker = {\n",
    "                \"size\": 7,\n",
    "                \"color\": \"#ff8d1a\"\n",
    "            },\n",
    "            name = opts_channel[1],\n",
    "            text = df_plot2[\"video_title\"],\n",
    "            customdata = df_plot2[custom_vars],\n",
    "            hovertemplate = custom_template\n",
    "        )\n",
    "    ],\n",
    "    layout = go.Layout(\n",
    "        xaxis_title = \"<b>\" + input_xvar.value + \"</b>\",\n",
    "        yaxis_title = \"<b>\" + input_yvar.value + \"</b>\",\n",
    "        font = dict(\n",
    "            size = 18\n",
    "        ),\n",
    "        showlegend = True,\n",
    "        plot_bgcolor = \"white\",\n",
    "        hoverlabel = dict(\n",
    "            font_size = 18,\n",
    "            font_family = \"Rockwell\"\n",
    "        ),\n",
    "        margin = dict(\n",
    "            l = 20,\n",
    "            r = 20,\n",
    "            t = 20,\n",
    "            b = 20\n",
    "        ),\n",
    "        height = 600\n",
    "    )\n",
    ")\n",
    "\n",
    "# Filter and update function:\n",
    "def filtering(chosen_xvar, chosen_yvar, chosen_channel1, chosen_channel2):\n",
    "    # Filter by channel:\n",
    "    df_filtered1 = df_videos.copy()[df_videos[\"channel_title\"] == chosen_channel1]\n",
    "    df_filtered2 = df_videos.copy()[df_videos[\"channel_title\"] == chosen_channel2]\n",
    "    \n",
    "    # Variables:\n",
    "    x_vals1 = df_filtered1[vars_names[chosen_xvar]]\n",
    "    y_vals1 = df_filtered1[vars_names[chosen_yvar]]\n",
    "    x_vals2 = df_filtered2[vars_names[chosen_xvar]]\n",
    "    y_vals2 = df_filtered2[vars_names[chosen_yvar]]\n",
    "\n",
    "    # Update the figure:\n",
    "    with fig.batch_update():\n",
    "        fig.data[0].x = x_vals1\n",
    "        fig.data[0].y = y_vals1\n",
    "        fig.data[1].x = x_vals2\n",
    "        fig.data[1].y = y_vals2\n",
    "        fig.layout.xaxis.title = \"<b>\" + chosen_xvar + \"</b>\"\n",
    "        fig.layout.yaxis.title = \"<b>\" + chosen_yvar + \"</b>\"\n",
    "        fig.data[0].name = chosen_channel1\n",
    "        fig.data[1].name = chosen_channel2\n",
    "        fig.data[0].text = df_filtered1[\"video_title\"]\n",
    "        fig.data[0].customdata = df_filtered1[custom_vars]\n",
    "        fig.data[1].text = df_filtered2[\"video_title\"]\n",
    "        fig.data[1].customdata = df_filtered2[custom_vars]\n",
    "\n",
    "# Event handlers:\n",
    "def eventhandler_xvar(change):\n",
    "    filtering(chosen_xvar = change.new,\n",
    "              chosen_yvar = input_yvar.value,\n",
    "              chosen_channel1 = input_channel1.value,\n",
    "              chosen_channel2 = input_channel2.value)\n",
    "def eventhandler_yvar(change):\n",
    "    filtering(chosen_xvar = input_xvar.value,\n",
    "              chosen_yvar = change.new,\n",
    "              chosen_channel1 = input_channel1.value,\n",
    "              chosen_channel2 = input_channel2.value)\n",
    "def eventhandler_channel1(change):\n",
    "    filtering(chosen_xvar = input_xvar.value,\n",
    "              chosen_yvar = input_yvar.value,\n",
    "              chosen_channel1 = change.new,\n",
    "              chosen_channel2 = input_channel2.value)\n",
    "def eventhandler_channel2(change):\n",
    "    filtering(chosen_xvar = input_xvar.value,\n",
    "              chosen_yvar = input_yvar.value,\n",
    "              chosen_channel1 = input_channel1.value,\n",
    "              chosen_channel2 = change.new)\n",
    "\n",
    "# Observes:\n",
    "input_xvar.observe(eventhandler_xvar,\n",
    "                   names = \"value\")\n",
    "input_yvar.observe(eventhandler_yvar,\n",
    "                   names = \"value\")\n",
    "input_channel1.observe(eventhandler_channel1,\n",
    "                       names = \"value\")\n",
    "input_channel2.observe(eventhandler_channel2,\n",
    "                       names = \"value\")\n",
    "\n",
    "# Row of filters:\n",
    "row_filters = widgets.HBox(\n",
    "    [\n",
    "        input_xvar,\n",
    "        input_yvar,\n",
    "        input_channel1,\n",
    "        input_channel2\n",
    "    ]\n",
    ")\n",
    "\n",
    "# Main box:\n",
    "widgets.VBox(\n",
    "    [\n",
    "        row_filters,\n",
    "        fig\n",
    "    ]\n",
    ")"
   ]
  },
  {
   "cell_type": "markdown",
   "metadata": {},
   "source": [
    "## Correlation matrix"
   ]
  },
  {
   "cell_type": "code",
   "execution_count": 18,
   "metadata": {},
   "outputs": [
    {
     "data": {
      "application/vnd.jupyter.widget-view+json": {
       "model_id": "d2da8fa8de5348d4ac5eddb5a4366c1e",
       "version_major": 2,
       "version_minor": 0
      },
      "text/plain": [
       "VBox(children=(HBox(children=(Dropdown(description='Channel: ', options=('3Blue1Brown', 'AWE me', 'Adam Savage…"
      ]
     },
     "metadata": {},
     "output_type": "display_data"
    }
   ],
   "source": [
    "# Variables and filters widgets:\n",
    "input_channels = widgets.Dropdown(\n",
    "    description = \"Channel: \",\n",
    "    options = opts_channel,\n",
    "    value = opts_channel[0]\n",
    ")\n",
    "\n",
    "# Palette:\n",
    "n_colors = 100\n",
    "my_colors = [\"#000000\", \"#E008F8\", \"#F81D08\", \"#F88A08\", \"#F7FE04\"]\n",
    "cmap = LinearSegmentedColormap.from_list(\"my_palette\", my_colors)\n",
    "my_palette = [to_hex(j) for j in  [cmap(i/n_colors) for i in np.array(range(n_colors))]]\n",
    "\n",
    "# Initialize the figure:\n",
    "xy_names = list(vars_names.keys())\n",
    "df_plot = df_videos[df_videos[\"channel_title\"] == opts_channel[0]]\n",
    "df_plot = df_plot[list(vars_names.values())]\n",
    "corr_init = df_plot.corr()\n",
    "fig = go.FigureWidget(\n",
    "    data = [\n",
    "        go.Heatmap(\n",
    "            x = xy_names,\n",
    "            y = xy_names,\n",
    "            z = corr_init,\n",
    "            colorscale = my_palette,\n",
    "            colorbar = dict(\n",
    "                title = \"<b>Pearson correlation </b>\"\n",
    "            ),\n",
    "            zmin = -1,\n",
    "            zmax = 1,\n",
    "            hovertemplate = \"<b>\" +\n",
    "                            \"%{x}<br>\" +\n",
    "                            \"%{y}</br>\" +\n",
    "                            \"Correlation: %{z:, }</b><extra></extra>\"\n",
    "        )\n",
    "    ],\n",
    "    layout = go.Layout(\n",
    "        font = dict(\n",
    "            size = 18\n",
    "        ),\n",
    "        showlegend = False,\n",
    "        plot_bgcolor = \"white\",\n",
    "        hoverlabel = dict(\n",
    "            font_size = 18,\n",
    "            font_family = \"Rockwell\"\n",
    "        ),\n",
    "        margin = dict(\n",
    "            l = 400,\n",
    "            r = 20,\n",
    "            t = 20,\n",
    "            b = 20\n",
    "        ),\n",
    "        height = 600,\n",
    "        width = 1100\n",
    "    )\n",
    ")\n",
    "\n",
    "# Filter and update function:\n",
    "def filtering(chosen_channel):\n",
    "    # Filter by channel:\n",
    "    df_filtered = df_videos.copy()[df_videos[\"channel_title\"] == chosen_channel]\n",
    "    \n",
    "    # Variables:\n",
    "    df_filtered = df_filtered[list(vars_names.values())]\n",
    "    corr_vals = df_filtered.corr()\n",
    "\n",
    "    # Update the figure:\n",
    "    with fig.batch_update():\n",
    "        fig.data[0].z = corr_vals\n",
    "\n",
    "# Event handlers:\n",
    "def eventhandler_channels(change):\n",
    "    filtering(chosen_channel = change.new)\n",
    "\n",
    "# Observes:\n",
    "input_channels.observe(eventhandler_channels,\n",
    "                       names = \"value\")\n",
    "\n",
    "# Row of filters:\n",
    "row_filters = widgets.HBox(\n",
    "    [\n",
    "        input_channels\n",
    "    ]\n",
    ")\n",
    "\n",
    "# Main box:\n",
    "widgets.VBox(\n",
    "    [\n",
    "        row_filters,\n",
    "        fig\n",
    "    ]\n",
    ")"
   ]
  },
  {
   "cell_type": "code",
   "execution_count": null,
   "metadata": {},
   "outputs": [],
   "source": []
  },
  {
   "cell_type": "code",
   "execution_count": null,
   "metadata": {},
   "outputs": [],
   "source": []
  }
 ],
 "metadata": {
  "interpreter": {
   "hash": "df1daafec530e3a216b78e890da387731a57cc07fa0b2d3ae60d44cd480dcb69"
  },
  "kernelspec": {
   "display_name": "Python 3.8.10 64-bit ('venv': venv)",
   "name": "python3"
  },
  "language_info": {
   "codemirror_mode": {
    "name": "ipython",
    "version": 3
   },
   "file_extension": ".py",
   "mimetype": "text/x-python",
   "name": "python",
   "nbconvert_exporter": "python",
   "pygments_lexer": "ipython3",
   "version": "3.8.10"
  }
 },
 "nbformat": 4,
 "nbformat_minor": 4
}
