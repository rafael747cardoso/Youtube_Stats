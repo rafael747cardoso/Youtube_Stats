{
 "cells": [
  {
   "cell_type": "markdown",
   "metadata": {},
   "source": [
    "### *This notebook runs ok in Jupyter, but not so well in Google Colab, due to a possible bug in Colab interaction with ipywidgets and plotly."
   ]
  },
  {
   "cell_type": "markdown",
   "metadata": {},
   "source": [
    "# Imports and options"
   ]
  },
  {
   "cell_type": "code",
   "execution_count": 1,
   "metadata": {},
   "outputs": [
    {
     "data": {
      "text/html": [
       "<style type='text/css'>\n",
       ".datatable table.frame { margin-bottom: 0; }\n",
       ".datatable table.frame thead { border-bottom: none; }\n",
       ".datatable table.frame tr.coltypes td {  color: #FFFFFF;  line-height: 6px;  padding: 0 0.5em;}\n",
       ".datatable .bool    { background: #DDDD99; }\n",
       ".datatable .object  { background: #565656; }\n",
       ".datatable .int     { background: #5D9E5D; }\n",
       ".datatable .float   { background: #4040CC; }\n",
       ".datatable .str     { background: #CC4040; }\n",
       ".datatable .time    { background: #40CC40; }\n",
       ".datatable .row_index {  background: var(--jp-border-color3);  border-right: 1px solid var(--jp-border-color0);  color: var(--jp-ui-font-color3);  font-size: 9px;}\n",
       ".datatable .frame tbody td { text-align: left; }\n",
       ".datatable .frame tr.coltypes .row_index {  background: var(--jp-border-color0);}\n",
       ".datatable th:nth-child(2) { padding-left: 12px; }\n",
       ".datatable .hellipsis {  color: var(--jp-cell-editor-border-color);}\n",
       ".datatable .vellipsis {  background: var(--jp-layout-color0);  color: var(--jp-cell-editor-border-color);}\n",
       ".datatable .na {  color: var(--jp-cell-editor-border-color);  font-size: 80%;}\n",
       ".datatable .sp {  opacity: 0.25;}\n",
       ".datatable .footer { font-size: 9px; }\n",
       ".datatable .frame_dimensions {  background: var(--jp-border-color3);  border-top: 1px solid var(--jp-border-color0);  color: var(--jp-ui-font-color3);  display: inline-block;  opacity: 0.6;  padding: 1px 10px 1px 5px;}\n",
       "</style>\n"
      ],
      "text/plain": [
       "<IPython.core.display.HTML object>"
      ]
     },
     "metadata": {},
     "output_type": "display_data"
    }
   ],
   "source": [
    "import numpy as np\n",
    "import pandas as pd\n",
    "import datatable as dt\n",
    "import plotly.graph_objects as go\n",
    "from matplotlib.colors import LinearSegmentedColormap, to_hex\n",
    "import ipywidgets as widgets\n",
    "from scipy.stats import skew\n",
    "import plotly.express as px\n",
    "\n",
    "# Display options:\n",
    "pd.set_option(\"display.width\", 1200)\n",
    "pd.set_option(\"display.max_columns\", 300)\n",
    "pd.set_option(\"display.max_rows\", 300)"
   ]
  },
  {
   "cell_type": "markdown",
   "metadata": {},
   "source": [
    "# Dataset"
   ]
  },
  {
   "cell_type": "code",
   "execution_count": 2,
   "metadata": {},
   "outputs": [],
   "source": [
    "# Read the data:\n",
    "df_videos = dt.fread(\"data/videos_data.csv\", sep = \";\").to_pandas()"
   ]
  },
  {
   "cell_type": "code",
   "execution_count": 3,
   "metadata": {},
   "outputs": [
    {
     "data": {
      "text/html": [
       "<div>\n",
       "<style scoped>\n",
       "    .dataframe tbody tr th:only-of-type {\n",
       "        vertical-align: middle;\n",
       "    }\n",
       "\n",
       "    .dataframe tbody tr th {\n",
       "        vertical-align: top;\n",
       "    }\n",
       "\n",
       "    .dataframe thead th {\n",
       "        text-align: right;\n",
       "    }\n",
       "</style>\n",
       "<table border=\"1\" class=\"dataframe\">\n",
       "  <thead>\n",
       "    <tr style=\"text-align: right;\">\n",
       "      <th></th>\n",
       "      <th>channel_title</th>\n",
       "      <th>channel_id</th>\n",
       "      <th>video_title</th>\n",
       "      <th>video_id</th>\n",
       "      <th>video_upload_date</th>\n",
       "      <th>views</th>\n",
       "      <th>likes</th>\n",
       "      <th>dislikes</th>\n",
       "      <th>comments</th>\n",
       "      <th>age_days</th>\n",
       "      <th>likes_dislikes_ratio</th>\n",
       "      <th>likes_views_ratio</th>\n",
       "      <th>dislikes_views_ratio</th>\n",
       "      <th>comments_views_ratio</th>\n",
       "      <th>comments_likes_ratio</th>\n",
       "      <th>comments_dislikes_ratio</th>\n",
       "      <th>mean_views_day</th>\n",
       "      <th>mean_likes_day</th>\n",
       "      <th>mean_dislikes_day</th>\n",
       "      <th>mean_comments_day</th>\n",
       "      <th>mean_likes_dislikes_ratio_day</th>\n",
       "      <th>mean_likes_views_ratio_day</th>\n",
       "      <th>mean_dislikes_views_ratio_day</th>\n",
       "      <th>mean_comments_views_ratio_day</th>\n",
       "      <th>mean_comments_likes_ratio_day</th>\n",
       "      <th>mean_comments_dislikes_ratio_day</th>\n",
       "    </tr>\n",
       "  </thead>\n",
       "  <tbody>\n",
       "    <tr>\n",
       "      <th>0</th>\n",
       "      <td>3Blue1Brown</td>\n",
       "      <td>UCYO_jab_esuFRV4b17AJtAw</td>\n",
       "      <td>A few of the best math explainers from this su...</td>\n",
       "      <td>F3Qixy-r_rQ</td>\n",
       "      <td>2021-10-23 18:11:23+00:00</td>\n",
       "      <td>537453</td>\n",
       "      <td>30720</td>\n",
       "      <td>113</td>\n",
       "      <td>785</td>\n",
       "      <td>18.0</td>\n",
       "      <td>271.858407</td>\n",
       "      <td>0.057158</td>\n",
       "      <td>0.000210</td>\n",
       "      <td>0.001461</td>\n",
       "      <td>0.025553</td>\n",
       "      <td>6.946903</td>\n",
       "      <td>29858.500000</td>\n",
       "      <td>1706.666667</td>\n",
       "      <td>6.277778</td>\n",
       "      <td>43.611111</td>\n",
       "      <td>15.103245</td>\n",
       "      <td>0.003175</td>\n",
       "      <td>0.000012</td>\n",
       "      <td>0.000081</td>\n",
       "      <td>0.001420</td>\n",
       "      <td>0.385939</td>\n",
       "    </tr>\n",
       "    <tr>\n",
       "      <th>1</th>\n",
       "      <td>3Blue1Brown</td>\n",
       "      <td>UCYO_jab_esuFRV4b17AJtAw</td>\n",
       "      <td>How a Mandelbrot set arises from Newton’s work</td>\n",
       "      <td>LqbZpur38nw</td>\n",
       "      <td>2021-10-15 16:41:50+00:00</td>\n",
       "      <td>621248</td>\n",
       "      <td>27411</td>\n",
       "      <td>156</td>\n",
       "      <td>1248</td>\n",
       "      <td>26.0</td>\n",
       "      <td>175.711538</td>\n",
       "      <td>0.044122</td>\n",
       "      <td>0.000251</td>\n",
       "      <td>0.002009</td>\n",
       "      <td>0.045529</td>\n",
       "      <td>8.000000</td>\n",
       "      <td>23894.153846</td>\n",
       "      <td>1054.269231</td>\n",
       "      <td>6.000000</td>\n",
       "      <td>48.000000</td>\n",
       "      <td>6.758136</td>\n",
       "      <td>0.001697</td>\n",
       "      <td>0.000010</td>\n",
       "      <td>0.000077</td>\n",
       "      <td>0.001751</td>\n",
       "      <td>0.307692</td>\n",
       "    </tr>\n",
       "    <tr>\n",
       "      <th>2</th>\n",
       "      <td>3Blue1Brown</td>\n",
       "      <td>UCYO_jab_esuFRV4b17AJtAw</td>\n",
       "      <td>Newton's Fractal (which Newton knew nothing ab...</td>\n",
       "      <td>-RdOwhmqP5s</td>\n",
       "      <td>2021-10-07 02:19:39+00:00</td>\n",
       "      <td>1267428</td>\n",
       "      <td>63787</td>\n",
       "      <td>304</td>\n",
       "      <td>2864</td>\n",
       "      <td>34.0</td>\n",
       "      <td>209.825658</td>\n",
       "      <td>0.050328</td>\n",
       "      <td>0.000240</td>\n",
       "      <td>0.002260</td>\n",
       "      <td>0.044899</td>\n",
       "      <td>9.421053</td>\n",
       "      <td>37277.294118</td>\n",
       "      <td>1876.088235</td>\n",
       "      <td>8.941176</td>\n",
       "      <td>84.235294</td>\n",
       "      <td>6.171343</td>\n",
       "      <td>0.001480</td>\n",
       "      <td>0.000007</td>\n",
       "      <td>0.000066</td>\n",
       "      <td>0.001321</td>\n",
       "      <td>0.277090</td>\n",
       "    </tr>\n",
       "    <tr>\n",
       "      <th>3</th>\n",
       "      <td>3Blue1Brown</td>\n",
       "      <td>UCYO_jab_esuFRV4b17AJtAw</td>\n",
       "      <td>The Summer of Math Exposition</td>\n",
       "      <td>ojjzXyQCzso</td>\n",
       "      <td>2021-07-16 15:37:16+00:00</td>\n",
       "      <td>616067</td>\n",
       "      <td>29415</td>\n",
       "      <td>216</td>\n",
       "      <td>1721</td>\n",
       "      <td>117.0</td>\n",
       "      <td>136.180556</td>\n",
       "      <td>0.047746</td>\n",
       "      <td>0.000351</td>\n",
       "      <td>0.002794</td>\n",
       "      <td>0.058508</td>\n",
       "      <td>7.967593</td>\n",
       "      <td>5265.529915</td>\n",
       "      <td>251.410256</td>\n",
       "      <td>1.846154</td>\n",
       "      <td>14.709402</td>\n",
       "      <td>1.163936</td>\n",
       "      <td>0.000408</td>\n",
       "      <td>0.000003</td>\n",
       "      <td>0.000024</td>\n",
       "      <td>0.000500</td>\n",
       "      <td>0.068099</td>\n",
       "    </tr>\n",
       "    <tr>\n",
       "      <th>4</th>\n",
       "      <td>3Blue1Brown</td>\n",
       "      <td>UCYO_jab_esuFRV4b17AJtAw</td>\n",
       "      <td>A quick trick for computing eigenvalues | Chap...</td>\n",
       "      <td>e50Bj7jn9IQ</td>\n",
       "      <td>2021-05-07 19:01:16+00:00</td>\n",
       "      <td>432555</td>\n",
       "      <td>17245</td>\n",
       "      <td>145</td>\n",
       "      <td>1150</td>\n",
       "      <td>186.0</td>\n",
       "      <td>118.931034</td>\n",
       "      <td>0.039868</td>\n",
       "      <td>0.000335</td>\n",
       "      <td>0.002659</td>\n",
       "      <td>0.066686</td>\n",
       "      <td>7.931034</td>\n",
       "      <td>2325.564516</td>\n",
       "      <td>92.715054</td>\n",
       "      <td>0.779570</td>\n",
       "      <td>6.182796</td>\n",
       "      <td>0.639414</td>\n",
       "      <td>0.000214</td>\n",
       "      <td>0.000002</td>\n",
       "      <td>0.000014</td>\n",
       "      <td>0.000359</td>\n",
       "      <td>0.042640</td>\n",
       "    </tr>\n",
       "  </tbody>\n",
       "</table>\n",
       "</div>"
      ],
      "text/plain": [
       "  channel_title                channel_id                                        video_title     video_id          video_upload_date    views  likes  dislikes  comments  age_days  likes_dislikes_ratio  likes_views_ratio  dislikes_views_ratio  comments_views_ratio  comments_likes_ratio  comments_dislikes_ratio  mean_views_day  mean_likes_day  mean_dislikes_day  mean_comments_day  mean_likes_dislikes_ratio_day  mean_likes_views_ratio_day  mean_dislikes_views_ratio_day  mean_comments_views_ratio_day  mean_comments_likes_ratio_day  mean_comments_dislikes_ratio_day\n",
       "0   3Blue1Brown  UCYO_jab_esuFRV4b17AJtAw  A few of the best math explainers from this su...  F3Qixy-r_rQ  2021-10-23 18:11:23+00:00   537453  30720       113       785      18.0            271.858407           0.057158              0.000210              0.001461              0.025553                 6.946903    29858.500000     1706.666667           6.277778          43.611111                      15.103245                    0.003175                       0.000012                       0.000081                       0.001420                          0.385939\n",
       "1   3Blue1Brown  UCYO_jab_esuFRV4b17AJtAw     How a Mandelbrot set arises from Newton’s work  LqbZpur38nw  2021-10-15 16:41:50+00:00   621248  27411       156      1248      26.0            175.711538           0.044122              0.000251              0.002009              0.045529                 8.000000    23894.153846     1054.269231           6.000000          48.000000                       6.758136                    0.001697                       0.000010                       0.000077                       0.001751                          0.307692\n",
       "2   3Blue1Brown  UCYO_jab_esuFRV4b17AJtAw  Newton's Fractal (which Newton knew nothing ab...  -RdOwhmqP5s  2021-10-07 02:19:39+00:00  1267428  63787       304      2864      34.0            209.825658           0.050328              0.000240              0.002260              0.044899                 9.421053    37277.294118     1876.088235           8.941176          84.235294                       6.171343                    0.001480                       0.000007                       0.000066                       0.001321                          0.277090\n",
       "3   3Blue1Brown  UCYO_jab_esuFRV4b17AJtAw                      The Summer of Math Exposition  ojjzXyQCzso  2021-07-16 15:37:16+00:00   616067  29415       216      1721     117.0            136.180556           0.047746              0.000351              0.002794              0.058508                 7.967593     5265.529915      251.410256           1.846154          14.709402                       1.163936                    0.000408                       0.000003                       0.000024                       0.000500                          0.068099\n",
       "4   3Blue1Brown  UCYO_jab_esuFRV4b17AJtAw  A quick trick for computing eigenvalues | Chap...  e50Bj7jn9IQ  2021-05-07 19:01:16+00:00   432555  17245       145      1150     186.0            118.931034           0.039868              0.000335              0.002659              0.066686                 7.931034     2325.564516       92.715054           0.779570           6.182796                       0.639414                    0.000214                       0.000002                       0.000014                       0.000359                          0.042640"
      ]
     },
     "execution_count": 3,
     "metadata": {},
     "output_type": "execute_result"
    }
   ],
   "source": [
    "df_videos.head(5)"
   ]
  },
  {
   "cell_type": "code",
   "execution_count": 4,
   "metadata": {},
   "outputs": [],
   "source": [
    "# Int to float:\n",
    "df_videos = df_videos.astype({\n",
    "    \"views\": \"float64\",\n",
    "    \"likes\": \"float64\",\n",
    "    \"dislikes\": \"float64\",\n",
    "    \"comments\": \"float64\"\n",
    "})"
   ]
  },
  {
   "cell_type": "code",
   "execution_count": 5,
   "metadata": {},
   "outputs": [
    {
     "data": {
      "text/plain": [
       "channel_title                        object\n",
       "channel_id                           object\n",
       "video_title                          object\n",
       "video_id                             object\n",
       "video_upload_date                    object\n",
       "views                               float64\n",
       "likes                               float64\n",
       "dislikes                            float64\n",
       "comments                            float64\n",
       "age_days                            float64\n",
       "likes_dislikes_ratio                float64\n",
       "likes_views_ratio                   float64\n",
       "dislikes_views_ratio                float64\n",
       "comments_views_ratio                float64\n",
       "comments_likes_ratio                float64\n",
       "comments_dislikes_ratio             float64\n",
       "mean_views_day                      float64\n",
       "mean_likes_day                      float64\n",
       "mean_dislikes_day                   float64\n",
       "mean_comments_day                   float64\n",
       "mean_likes_dislikes_ratio_day       float64\n",
       "mean_likes_views_ratio_day          float64\n",
       "mean_dislikes_views_ratio_day       float64\n",
       "mean_comments_views_ratio_day       float64\n",
       "mean_comments_likes_ratio_day       float64\n",
       "mean_comments_dislikes_ratio_day    float64\n",
       "dtype: object"
      ]
     },
     "execution_count": 5,
     "metadata": {},
     "output_type": "execute_result"
    }
   ],
   "source": [
    "df_videos.dtypes"
   ]
  },
  {
   "cell_type": "code",
   "execution_count": 6,
   "metadata": {},
   "outputs": [
    {
     "data": {
      "text/html": [
       "<div>\n",
       "<style scoped>\n",
       "    .dataframe tbody tr th:only-of-type {\n",
       "        vertical-align: middle;\n",
       "    }\n",
       "\n",
       "    .dataframe tbody tr th {\n",
       "        vertical-align: top;\n",
       "    }\n",
       "\n",
       "    .dataframe thead th {\n",
       "        text-align: right;\n",
       "    }\n",
       "</style>\n",
       "<table border=\"1\" class=\"dataframe\">\n",
       "  <thead>\n",
       "    <tr style=\"text-align: right;\">\n",
       "      <th></th>\n",
       "      <th>views</th>\n",
       "      <th>likes</th>\n",
       "      <th>dislikes</th>\n",
       "      <th>comments</th>\n",
       "      <th>age_days</th>\n",
       "      <th>likes_dislikes_ratio</th>\n",
       "      <th>likes_views_ratio</th>\n",
       "      <th>dislikes_views_ratio</th>\n",
       "      <th>comments_views_ratio</th>\n",
       "      <th>comments_likes_ratio</th>\n",
       "      <th>comments_dislikes_ratio</th>\n",
       "      <th>mean_views_day</th>\n",
       "      <th>mean_likes_day</th>\n",
       "      <th>mean_dislikes_day</th>\n",
       "      <th>mean_comments_day</th>\n",
       "      <th>mean_likes_dislikes_ratio_day</th>\n",
       "      <th>mean_likes_views_ratio_day</th>\n",
       "      <th>mean_dislikes_views_ratio_day</th>\n",
       "      <th>mean_comments_views_ratio_day</th>\n",
       "      <th>mean_comments_likes_ratio_day</th>\n",
       "      <th>mean_comments_dislikes_ratio_day</th>\n",
       "    </tr>\n",
       "  </thead>\n",
       "  <tbody>\n",
       "    <tr>\n",
       "      <th>count</th>\n",
       "      <td>1.508990e+05</td>\n",
       "      <td>1.508990e+05</td>\n",
       "      <td>1.508990e+05</td>\n",
       "      <td>150899.000000</td>\n",
       "      <td>150899.000000</td>\n",
       "      <td>150899.000000</td>\n",
       "      <td>150899.000000</td>\n",
       "      <td>1.508990e+05</td>\n",
       "      <td>1.508990e+05</td>\n",
       "      <td>150899.000000</td>\n",
       "      <td>150899.000000</td>\n",
       "      <td>1.508990e+05</td>\n",
       "      <td>150899.000000</td>\n",
       "      <td>150899.000000</td>\n",
       "      <td>150899.000000</td>\n",
       "      <td>150899.000000</td>\n",
       "      <td>1.508990e+05</td>\n",
       "      <td>1.508990e+05</td>\n",
       "      <td>1.508990e+05</td>\n",
       "      <td>1.508990e+05</td>\n",
       "      <td>150899.000000</td>\n",
       "    </tr>\n",
       "    <tr>\n",
       "      <th>mean</th>\n",
       "      <td>6.764919e+05</td>\n",
       "      <td>1.459496e+04</td>\n",
       "      <td>4.900862e+02</td>\n",
       "      <td>970.393694</td>\n",
       "      <td>1640.070365</td>\n",
       "      <td>67.316134</td>\n",
       "      <td>0.111443</td>\n",
       "      <td>2.184485e-03</td>\n",
       "      <td>1.002503e-02</td>\n",
       "      <td>0.134334</td>\n",
       "      <td>5.863109</td>\n",
       "      <td>1.063808e+03</td>\n",
       "      <td>35.516953</td>\n",
       "      <td>0.892459</td>\n",
       "      <td>2.286351</td>\n",
       "      <td>0.212357</td>\n",
       "      <td>1.773917e-04</td>\n",
       "      <td>3.651126e-06</td>\n",
       "      <td>1.438528e-05</td>\n",
       "      <td>2.527357e-04</td>\n",
       "      <td>0.015528</td>\n",
       "    </tr>\n",
       "    <tr>\n",
       "      <th>std</th>\n",
       "      <td>2.997723e+06</td>\n",
       "      <td>4.630269e+04</td>\n",
       "      <td>6.900628e+03</td>\n",
       "      <td>3566.730200</td>\n",
       "      <td>1132.317065</td>\n",
       "      <td>83.937714</td>\n",
       "      <td>28.213952</td>\n",
       "      <td>3.982119e-01</td>\n",
       "      <td>2.490369e+00</td>\n",
       "      <td>0.213136</td>\n",
       "      <td>11.767920</td>\n",
       "      <td>8.713970e+03</td>\n",
       "      <td>382.157568</td>\n",
       "      <td>15.704292</td>\n",
       "      <td>21.051067</td>\n",
       "      <td>1.894871</td>\n",
       "      <td>8.322635e-03</td>\n",
       "      <td>1.280021e-04</td>\n",
       "      <td>7.353772e-04</td>\n",
       "      <td>2.314799e-03</td>\n",
       "      <td>0.164234</td>\n",
       "    </tr>\n",
       "    <tr>\n",
       "      <th>min</th>\n",
       "      <td>2.000000e+01</td>\n",
       "      <td>1.000000e+00</td>\n",
       "      <td>1.000000e+00</td>\n",
       "      <td>1.000000</td>\n",
       "      <td>2.000000</td>\n",
       "      <td>0.021739</td>\n",
       "      <td>0.000058</td>\n",
       "      <td>7.518938e-07</td>\n",
       "      <td>6.929110e-07</td>\n",
       "      <td>0.000017</td>\n",
       "      <td>0.000184</td>\n",
       "      <td>7.908816e-03</td>\n",
       "      <td>0.000226</td>\n",
       "      <td>0.000191</td>\n",
       "      <td>0.000192</td>\n",
       "      <td>0.000014</td>\n",
       "      <td>1.947836e-08</td>\n",
       "      <td>7.371508e-10</td>\n",
       "      <td>3.889877e-10</td>\n",
       "      <td>1.174868e-07</td>\n",
       "      <td>0.000001</td>\n",
       "    </tr>\n",
       "    <tr>\n",
       "      <th>25%</th>\n",
       "      <td>2.318250e+04</td>\n",
       "      <td>4.460000e+02</td>\n",
       "      <td>1.200000e+01</td>\n",
       "      <td>46.000000</td>\n",
       "      <td>762.000000</td>\n",
       "      <td>19.156954</td>\n",
       "      <td>0.010699</td>\n",
       "      <td>2.955819e-04</td>\n",
       "      <td>8.927642e-04</td>\n",
       "      <td>0.049850</td>\n",
       "      <td>1.616405</td>\n",
       "      <td>1.518840e+01</td>\n",
       "      <td>0.259012</td>\n",
       "      <td>0.007187</td>\n",
       "      <td>0.026692</td>\n",
       "      <td>0.010965</td>\n",
       "      <td>5.403867e-06</td>\n",
       "      <td>1.605642e-07</td>\n",
       "      <td>4.976829e-07</td>\n",
       "      <td>3.330829e-05</td>\n",
       "      <td>0.000991</td>\n",
       "    </tr>\n",
       "    <tr>\n",
       "      <th>50%</th>\n",
       "      <td>8.830700e+04</td>\n",
       "      <td>2.276000e+03</td>\n",
       "      <td>4.900000e+01</td>\n",
       "      <td>194.000000</td>\n",
       "      <td>1490.000000</td>\n",
       "      <td>42.819421</td>\n",
       "      <td>0.021290</td>\n",
       "      <td>5.607657e-04</td>\n",
       "      <td>1.958028e-03</td>\n",
       "      <td>0.081968</td>\n",
       "      <td>3.333333</td>\n",
       "      <td>7.681737e+01</td>\n",
       "      <td>1.934253</td>\n",
       "      <td>0.043736</td>\n",
       "      <td>0.168589</td>\n",
       "      <td>0.030873</td>\n",
       "      <td>1.552439e-05</td>\n",
       "      <td>4.761955e-07</td>\n",
       "      <td>1.505283e-06</td>\n",
       "      <td>6.531864e-05</td>\n",
       "      <td>0.002527</td>\n",
       "    </tr>\n",
       "    <tr>\n",
       "      <th>75%</th>\n",
       "      <td>3.625890e+05</td>\n",
       "      <td>9.841500e+03</td>\n",
       "      <td>2.050000e+02</td>\n",
       "      <td>725.000000</td>\n",
       "      <td>2217.000000</td>\n",
       "      <td>84.904409</td>\n",
       "      <td>0.042788</td>\n",
       "      <td>1.076395e-03</td>\n",
       "      <td>4.140772e-03</td>\n",
       "      <td>0.145684</td>\n",
       "      <td>6.600000</td>\n",
       "      <td>4.149035e+02</td>\n",
       "      <td>12.265823</td>\n",
       "      <td>0.265232</td>\n",
       "      <td>0.873976</td>\n",
       "      <td>0.090780</td>\n",
       "      <td>6.049856e-05</td>\n",
       "      <td>1.421126e-06</td>\n",
       "      <td>4.839349e-06</td>\n",
       "      <td>1.456903e-04</td>\n",
       "      <td>0.006848</td>\n",
       "    </tr>\n",
       "    <tr>\n",
       "      <th>max</th>\n",
       "      <td>3.264996e+08</td>\n",
       "      <td>3.298941e+06</td>\n",
       "      <td>2.387909e+06</td>\n",
       "      <td>340812.000000</td>\n",
       "      <td>5749.000000</td>\n",
       "      <td>4030.000000</td>\n",
       "      <td>10959.936877</td>\n",
       "      <td>1.546844e+02</td>\n",
       "      <td>9.674020e+02</td>\n",
       "      <td>23.500000</td>\n",
       "      <td>1455.000000</td>\n",
       "      <td>1.437207e+06</td>\n",
       "      <td>79053.600000</td>\n",
       "      <td>5248.151648</td>\n",
       "      <td>3044.800000</td>\n",
       "      <td>369.500000</td>\n",
       "      <td>3.197181e+00</td>\n",
       "      <td>4.512380e-02</td>\n",
       "      <td>2.822059e-01</td>\n",
       "      <td>3.529412e-01</td>\n",
       "      <td>38.750000</td>\n",
       "    </tr>\n",
       "  </tbody>\n",
       "</table>\n",
       "</div>"
      ],
      "text/plain": [
       "              views         likes      dislikes       comments       age_days  likes_dislikes_ratio  likes_views_ratio  dislikes_views_ratio  comments_views_ratio  comments_likes_ratio  comments_dislikes_ratio  mean_views_day  mean_likes_day  mean_dislikes_day  mean_comments_day  mean_likes_dislikes_ratio_day  mean_likes_views_ratio_day  mean_dislikes_views_ratio_day  mean_comments_views_ratio_day  mean_comments_likes_ratio_day  mean_comments_dislikes_ratio_day\n",
       "count  1.508990e+05  1.508990e+05  1.508990e+05  150899.000000  150899.000000         150899.000000      150899.000000          1.508990e+05          1.508990e+05         150899.000000            150899.000000    1.508990e+05   150899.000000      150899.000000      150899.000000                  150899.000000                1.508990e+05                   1.508990e+05                   1.508990e+05                   1.508990e+05                     150899.000000\n",
       "mean   6.764919e+05  1.459496e+04  4.900862e+02     970.393694    1640.070365             67.316134           0.111443          2.184485e-03          1.002503e-02              0.134334                 5.863109    1.063808e+03       35.516953           0.892459           2.286351                       0.212357                1.773917e-04                   3.651126e-06                   1.438528e-05                   2.527357e-04                          0.015528\n",
       "std    2.997723e+06  4.630269e+04  6.900628e+03    3566.730200    1132.317065             83.937714          28.213952          3.982119e-01          2.490369e+00              0.213136                11.767920    8.713970e+03      382.157568          15.704292          21.051067                       1.894871                8.322635e-03                   1.280021e-04                   7.353772e-04                   2.314799e-03                          0.164234\n",
       "min    2.000000e+01  1.000000e+00  1.000000e+00       1.000000       2.000000              0.021739           0.000058          7.518938e-07          6.929110e-07              0.000017                 0.000184    7.908816e-03        0.000226           0.000191           0.000192                       0.000014                1.947836e-08                   7.371508e-10                   3.889877e-10                   1.174868e-07                          0.000001\n",
       "25%    2.318250e+04  4.460000e+02  1.200000e+01      46.000000     762.000000             19.156954           0.010699          2.955819e-04          8.927642e-04              0.049850                 1.616405    1.518840e+01        0.259012           0.007187           0.026692                       0.010965                5.403867e-06                   1.605642e-07                   4.976829e-07                   3.330829e-05                          0.000991\n",
       "50%    8.830700e+04  2.276000e+03  4.900000e+01     194.000000    1490.000000             42.819421           0.021290          5.607657e-04          1.958028e-03              0.081968                 3.333333    7.681737e+01        1.934253           0.043736           0.168589                       0.030873                1.552439e-05                   4.761955e-07                   1.505283e-06                   6.531864e-05                          0.002527\n",
       "75%    3.625890e+05  9.841500e+03  2.050000e+02     725.000000    2217.000000             84.904409           0.042788          1.076395e-03          4.140772e-03              0.145684                 6.600000    4.149035e+02       12.265823           0.265232           0.873976                       0.090780                6.049856e-05                   1.421126e-06                   4.839349e-06                   1.456903e-04                          0.006848\n",
       "max    3.264996e+08  3.298941e+06  2.387909e+06  340812.000000    5749.000000           4030.000000       10959.936877          1.546844e+02          9.674020e+02             23.500000              1455.000000    1.437207e+06    79053.600000        5248.151648        3044.800000                     369.500000                3.197181e+00                   4.512380e-02                   2.822059e-01                   3.529412e-01                         38.750000"
      ]
     },
     "execution_count": 6,
     "metadata": {},
     "output_type": "execute_result"
    }
   ],
   "source": [
    "df_videos.describe()"
   ]
  },
  {
   "cell_type": "code",
   "execution_count": 8,
   "metadata": {},
   "outputs": [
    {
     "data": {
      "text/plain": [
       "(150899, 26)"
      ]
     },
     "execution_count": 8,
     "metadata": {},
     "output_type": "execute_result"
    }
   ],
   "source": [
    "df_videos.shape"
   ]
  },
  {
   "cell_type": "code",
   "execution_count": 11,
   "metadata": {},
   "outputs": [
    {
     "data": {
      "text/plain": [
       "207"
      ]
     },
     "execution_count": 11,
     "metadata": {},
     "output_type": "execute_result"
    }
   ],
   "source": [
    "len(df_videos[\"channel_title\"].unique())"
   ]
  },
  {
   "cell_type": "markdown",
   "metadata": {},
   "source": [
    "# Plots"
   ]
  },
  {
   "cell_type": "markdown",
   "metadata": {},
   "source": [
    "## Barplot of the number of videos by channel"
   ]
  },
  {
   "cell_type": "code",
   "execution_count": 8,
   "metadata": {},
   "outputs": [
    {
     "data": {
      "application/vnd.plotly.v1+json": {
       "config": {
        "plotlyServerURL": "https://plot.ly"
       },
       "data": [
        {
         "alignmentgroup": "True",
         "hovertemplate": "<b>Channel: %{x}<br>Frequency: %{y:}</b><extra></extra>",
         "legendgroup": "BBC",
         "marker": {
          "color": "#111539",
          "pattern": {
           "shape": ""
          }
         },
         "name": "BBC",
         "offsetgroup": "BBC",
         "orientation": "v",
         "showlegend": true,
         "text": [
          "10.592%"
         ],
         "textfont": {
          "color": "#545b89",
          "size": 15
         },
         "textposition": "outside",
         "type": "bar",
         "x": [
          "BBC"
         ],
         "xaxis": "x",
         "y": [
          13175
         ],
         "yaxis": "y"
        },
        {
         "alignmentgroup": "True",
         "hovertemplate": "<b>Channel: %{x}<br>Frequency: %{y:}</b><extra></extra>",
         "legendgroup": "CNBC",
         "marker": {
          "color": "#12163a",
          "pattern": {
           "shape": ""
          }
         },
         "name": "CNBC",
         "offsetgroup": "CNBC",
         "orientation": "v",
         "showlegend": true,
         "text": [
          "6.952%"
         ],
         "textfont": {
          "color": "#545b89",
          "size": 15
         },
         "textposition": "outside",
         "type": "bar",
         "x": [
          "CNBC"
         ],
         "xaxis": "x",
         "y": [
          8647
         ],
         "yaxis": "y"
        },
        {
         "alignmentgroup": "True",
         "hovertemplate": "<b>Channel: %{x}<br>Frequency: %{y:}</b><extra></extra>",
         "legendgroup": "Insider",
         "marker": {
          "color": "#13173b",
          "pattern": {
           "shape": ""
          }
         },
         "name": "Insider",
         "offsetgroup": "Insider",
         "orientation": "v",
         "showlegend": true,
         "text": [
          "5.279%"
         ],
         "textfont": {
          "color": "#545b89",
          "size": 15
         },
         "textposition": "outside",
         "type": "bar",
         "x": [
          "Insider"
         ],
         "xaxis": "x",
         "y": [
          6566
         ],
         "yaxis": "y"
        },
        {
         "alignmentgroup": "True",
         "hovertemplate": "<b>Channel: %{x}<br>Frequency: %{y:}</b><extra></extra>",
         "legendgroup": "Netflix",
         "marker": {
          "color": "#13173c",
          "pattern": {
           "shape": ""
          }
         },
         "name": "Netflix",
         "offsetgroup": "Netflix",
         "orientation": "v",
         "showlegend": true,
         "text": [
          "3.982%"
         ],
         "textfont": {
          "color": "#545b89",
          "size": 15
         },
         "textposition": "outside",
         "type": "bar",
         "x": [
          "Netflix"
         ],
         "xaxis": "x",
         "y": [
          4953
         ],
         "yaxis": "y"
        },
        {
         "alignmentgroup": "True",
         "hovertemplate": "<b>Channel: %{x}<br>Frequency: %{y:}</b><extra></extra>",
         "legendgroup": "Business Insider",
         "marker": {
          "color": "#14183d",
          "pattern": {
           "shape": ""
          }
         },
         "name": "Business Insider",
         "offsetgroup": "Business Insider",
         "orientation": "v",
         "showlegend": true,
         "text": [
          "3.763%"
         ],
         "textfont": {
          "color": "#545b89",
          "size": 15
         },
         "textposition": "outside",
         "type": "bar",
         "x": [
          "Business Insider"
         ],
         "xaxis": "x",
         "y": [
          4681
         ],
         "yaxis": "y"
        },
        {
         "alignmentgroup": "True",
         "hovertemplate": "<b>Channel: %{x}<br>Frequency: %{y:}</b><extra></extra>",
         "legendgroup": "Adam Savage’s Tested",
         "marker": {
          "color": "#15193e",
          "pattern": {
           "shape": ""
          }
         },
         "name": "Adam Savage’s Tested",
         "offsetgroup": "Adam Savage’s Tested",
         "orientation": "v",
         "showlegend": true,
         "text": [
          "3.474%"
         ],
         "textfont": {
          "color": "#545b89",
          "size": 15
         },
         "textposition": "outside",
         "type": "bar",
         "x": [
          "Adam Savage’s Tested"
         ],
         "xaxis": "x",
         "y": [
          4321
         ],
         "yaxis": "y"
        },
        {
         "alignmentgroup": "True",
         "hovertemplate": "<b>Channel: %{x}<br>Frequency: %{y:}</b><extra></extra>",
         "legendgroup": "Global Cycling Network",
         "marker": {
          "color": "#161a3f",
          "pattern": {
           "shape": ""
          }
         },
         "name": "Global Cycling Network",
         "offsetgroup": "Global Cycling Network",
         "orientation": "v",
         "showlegend": true,
         "text": [
          "3.117%"
         ],
         "textfont": {
          "color": "#545b89",
          "size": 15
         },
         "textposition": "outside",
         "type": "bar",
         "x": [
          "Global Cycling Network"
         ],
         "xaxis": "x",
         "y": [
          3877
         ],
         "yaxis": "y"
        },
        {
         "alignmentgroup": "True",
         "hovertemplate": "<b>Channel: %{x}<br>Frequency: %{y:}</b><extra></extra>",
         "legendgroup": "TED",
         "marker": {
          "color": "#171b40",
          "pattern": {
           "shape": ""
          }
         },
         "name": "TED",
         "offsetgroup": "TED",
         "orientation": "v",
         "showlegend": true,
         "text": [
          "2.977%"
         ],
         "textfont": {
          "color": "#545b89",
          "size": 15
         },
         "textposition": "outside",
         "type": "bar",
         "x": [
          "TED"
         ],
         "xaxis": "x",
         "y": [
          3703
         ],
         "yaxis": "y"
        },
        {
         "alignmentgroup": "True",
         "hovertemplate": "<b>Channel: %{x}<br>Frequency: %{y:}</b><extra></extra>",
         "legendgroup": "SpaceToday",
         "marker": {
          "color": "#171c41",
          "pattern": {
           "shape": ""
          }
         },
         "name": "SpaceToday",
         "offsetgroup": "SpaceToday",
         "orientation": "v",
         "showlegend": true,
         "text": [
          "2.757%"
         ],
         "textfont": {
          "color": "#545b89",
          "size": 15
         },
         "textposition": "outside",
         "type": "bar",
         "x": [
          "SpaceToday"
         ],
         "xaxis": "x",
         "y": [
          3429
         ],
         "yaxis": "y"
        },
        {
         "alignmentgroup": "True",
         "hovertemplate": "<b>Channel: %{x}<br>Frequency: %{y:}</b><extra></extra>",
         "legendgroup": "NASA",
         "marker": {
          "color": "#181d42",
          "pattern": {
           "shape": ""
          }
         },
         "name": "NASA",
         "offsetgroup": "NASA",
         "orientation": "v",
         "showlegend": true,
         "text": [
          "2.673%"
         ],
         "textfont": {
          "color": "#545b89",
          "size": 15
         },
         "textposition": "outside",
         "type": "bar",
         "x": [
          "NASA"
         ],
         "xaxis": "x",
         "y": [
          3325
         ],
         "yaxis": "y"
        },
        {
         "alignmentgroup": "True",
         "hovertemplate": "<b>Channel: %{x}<br>Frequency: %{y:}</b><extra></extra>",
         "legendgroup": "SciShow",
         "marker": {
          "color": "#191e43",
          "pattern": {
           "shape": ""
          }
         },
         "name": "SciShow",
         "offsetgroup": "SciShow",
         "orientation": "v",
         "showlegend": true,
         "text": [
          "2.254%"
         ],
         "textfont": {
          "color": "#545b89",
          "size": 15
         },
         "textposition": "outside",
         "type": "bar",
         "x": [
          "SciShow"
         ],
         "xaxis": "x",
         "y": [
          2803
         ],
         "yaxis": "y"
        },
        {
         "alignmentgroup": "True",
         "hovertemplate": "<b>Channel: %{x}<br>Frequency: %{y:}</b><extra></extra>",
         "legendgroup": "European Space Agency, ESA",
         "marker": {
          "color": "#1a1e44",
          "pattern": {
           "shape": ""
          }
         },
         "name": "European Space Agency, ESA",
         "offsetgroup": "European Space Agency, ESA",
         "orientation": "v",
         "showlegend": true,
         "text": [
          "2.121%"
         ],
         "textfont": {
          "color": "#545b89",
          "size": 15
         },
         "textposition": "outside",
         "type": "bar",
         "x": [
          "European Space Agency, ESA"
         ],
         "xaxis": "x",
         "y": [
          2638
         ],
         "yaxis": "y"
        },
        {
         "alignmentgroup": "True",
         "hovertemplate": "<b>Channel: %{x}<br>Frequency: %{y:}</b><extra></extra>",
         "legendgroup": "Scott Manley",
         "marker": {
          "color": "#1b1f45",
          "pattern": {
           "shape": ""
          }
         },
         "name": "Scott Manley",
         "offsetgroup": "Scott Manley",
         "orientation": "v",
         "showlegend": true,
         "text": [
          "1.931%"
         ],
         "textfont": {
          "color": "#545b89",
          "size": 15
         },
         "textposition": "outside",
         "type": "bar",
         "x": [
          "Scott Manley"
         ],
         "xaxis": "x",
         "y": [
          2402
         ],
         "yaxis": "y"
        },
        {
         "alignmentgroup": "True",
         "hovertemplate": "<b>Channel: %{x}<br>Frequency: %{y:}</b><extra></extra>",
         "legendgroup": "Canal do Schwarza",
         "marker": {
          "color": "#1c2046",
          "pattern": {
           "shape": ""
          }
         },
         "name": "Canal do Schwarza",
         "offsetgroup": "Canal do Schwarza",
         "orientation": "v",
         "showlegend": true,
         "text": [
          "1.905%"
         ],
         "textfont": {
          "color": "#545b89",
          "size": 15
         },
         "textposition": "outside",
         "type": "bar",
         "x": [
          "Canal do Schwarza"
         ],
         "xaxis": "x",
         "y": [
          2370
         ],
         "yaxis": "y"
        },
        {
         "alignmentgroup": "True",
         "hovertemplate": "<b>Channel: %{x}<br>Frequency: %{y:}</b><extra></extra>",
         "legendgroup": "Disney Parks",
         "marker": {
          "color": "#1d2147",
          "pattern": {
           "shape": ""
          }
         },
         "name": "Disney Parks",
         "offsetgroup": "Disney Parks",
         "orientation": "v",
         "showlegend": true,
         "text": [
          "1.684%"
         ],
         "textfont": {
          "color": "#545b89",
          "size": 15
         },
         "textposition": "outside",
         "type": "bar",
         "x": [
          "Disney Parks"
         ],
         "xaxis": "x",
         "y": [
          2094
         ],
         "yaxis": "y"
        },
        {
         "alignmentgroup": "True",
         "hovertemplate": "<b>Channel: %{x}<br>Frequency: %{y:}</b><extra></extra>",
         "legendgroup": "CrazyRussianHacker",
         "marker": {
          "color": "#1e2248",
          "pattern": {
           "shape": ""
          }
         },
         "name": "CrazyRussianHacker",
         "offsetgroup": "CrazyRussianHacker",
         "orientation": "v",
         "showlegend": true,
         "text": [
          "1.468%"
         ],
         "textfont": {
          "color": "#545b89",
          "size": 15
         },
         "textposition": "outside",
         "type": "bar",
         "x": [
          "CrazyRussianHacker"
         ],
         "xaxis": "x",
         "y": [
          1826
         ],
         "yaxis": "y"
        },
        {
         "alignmentgroup": "True",
         "hovertemplate": "<b>Channel: %{x}<br>Frequency: %{y:}</b><extra></extra>",
         "legendgroup": "Diolinux",
         "marker": {
          "color": "#1e2349",
          "pattern": {
           "shape": ""
          }
         },
         "name": "Diolinux",
         "offsetgroup": "Diolinux",
         "orientation": "v",
         "showlegend": true,
         "text": [
          "1.417%"
         ],
         "textfont": {
          "color": "#545b89",
          "size": 15
         },
         "textposition": "outside",
         "type": "bar",
         "x": [
          "Diolinux"
         ],
         "xaxis": "x",
         "y": [
          1762
         ],
         "yaxis": "y"
        },
        {
         "alignmentgroup": "True",
         "hovertemplate": "<b>Channel: %{x}<br>Frequency: %{y:}</b><extra></extra>",
         "legendgroup": "Porta dos Fundos",
         "marker": {
          "color": "#1f244a",
          "pattern": {
           "shape": ""
          }
         },
         "name": "Porta dos Fundos",
         "offsetgroup": "Porta dos Fundos",
         "orientation": "v",
         "showlegend": true,
         "text": [
          "1.405%"
         ],
         "textfont": {
          "color": "#545b89",
          "size": 15
         },
         "textposition": "outside",
         "type": "bar",
         "x": [
          "Porta dos Fundos"
         ],
         "xaxis": "x",
         "y": [
          1747
         ],
         "yaxis": "y"
        },
        {
         "alignmentgroup": "True",
         "hovertemplate": "<b>Channel: %{x}<br>Frequency: %{y:}</b><extra></extra>",
         "legendgroup": "Jacques Slade",
         "marker": {
          "color": "#20244b",
          "pattern": {
           "shape": ""
          }
         },
         "name": "Jacques Slade",
         "offsetgroup": "Jacques Slade",
         "orientation": "v",
         "showlegend": true,
         "text": [
          "1.376%"
         ],
         "textfont": {
          "color": "#545b89",
          "size": 15
         },
         "textposition": "outside",
         "type": "bar",
         "x": [
          "Jacques Slade"
         ],
         "xaxis": "x",
         "y": [
          1712
         ],
         "yaxis": "y"
        },
        {
         "alignmentgroup": "True",
         "hovertemplate": "<b>Channel: %{x}<br>Frequency: %{y:}</b><extra></extra>",
         "legendgroup": "Meteoro Brasil",
         "marker": {
          "color": "#21254c",
          "pattern": {
           "shape": ""
          }
         },
         "name": "Meteoro Brasil",
         "offsetgroup": "Meteoro Brasil",
         "orientation": "v",
         "showlegend": true,
         "text": [
          "1.254%"
         ],
         "textfont": {
          "color": "#545b89",
          "size": 15
         },
         "textposition": "outside",
         "type": "bar",
         "x": [
          "Meteoro Brasil"
         ],
         "xaxis": "x",
         "y": [
          1560
         ],
         "yaxis": "y"
        },
        {
         "alignmentgroup": "True",
         "hovertemplate": "<b>Channel: %{x}<br>Frequency: %{y:}</b><extra></extra>",
         "legendgroup": "Star Wars Comics",
         "marker": {
          "color": "#22274d",
          "pattern": {
           "shape": ""
          }
         },
         "name": "Star Wars Comics",
         "offsetgroup": "Star Wars Comics",
         "orientation": "v",
         "showlegend": true,
         "text": [
          "1.166%"
         ],
         "textfont": {
          "color": "#545b89",
          "size": 15
         },
         "textposition": "outside",
         "type": "bar",
         "x": [
          "Star Wars Comics"
         ],
         "xaxis": "x",
         "y": [
          1450
         ],
         "yaxis": "y"
        },
        {
         "alignmentgroup": "True",
         "hovertemplate": "<b>Channel: %{x}<br>Frequency: %{y:}</b><extra></extra>",
         "legendgroup": "Guinness World Records",
         "marker": {
          "color": "#22274e",
          "pattern": {
           "shape": ""
          }
         },
         "name": "Guinness World Records",
         "offsetgroup": "Guinness World Records",
         "orientation": "v",
         "showlegend": true,
         "text": [
          "1.163%"
         ],
         "textfont": {
          "color": "#545b89",
          "size": 15
         },
         "textposition": "outside",
         "type": "bar",
         "x": [
          "Guinness World Records"
         ],
         "xaxis": "x",
         "y": [
          1446
         ],
         "yaxis": "y"
        },
        {
         "alignmentgroup": "True",
         "hovertemplate": "<b>Channel: %{x}<br>Frequency: %{y:}</b><extra></extra>",
         "legendgroup": "GMHikaru",
         "marker": {
          "color": "#23284f",
          "pattern": {
           "shape": ""
          }
         },
         "name": "GMHikaru",
         "offsetgroup": "GMHikaru",
         "orientation": "v",
         "showlegend": true,
         "text": [
          "1.121%"
         ],
         "textfont": {
          "color": "#545b89",
          "size": 15
         },
         "textposition": "outside",
         "type": "bar",
         "x": [
          "GMHikaru"
         ],
         "xaxis": "x",
         "y": [
          1394
         ],
         "yaxis": "y"
        },
        {
         "alignmentgroup": "True",
         "hovertemplate": "<b>Channel: %{x}<br>Frequency: %{y:}</b><extra></extra>",
         "legendgroup": "LockPickingLawyer",
         "marker": {
          "color": "#242950",
          "pattern": {
           "shape": ""
          }
         },
         "name": "LockPickingLawyer",
         "offsetgroup": "LockPickingLawyer",
         "orientation": "v",
         "showlegend": true,
         "text": [
          "1.049%"
         ],
         "textfont": {
          "color": "#545b89",
          "size": 15
         },
         "textposition": "outside",
         "type": "bar",
         "x": [
          "LockPickingLawyer"
         ],
         "xaxis": "x",
         "y": [
          1305
         ],
         "yaxis": "y"
        },
        {
         "alignmentgroup": "True",
         "hovertemplate": "<b>Channel: %{x}<br>Frequency: %{y:}</b><extra></extra>",
         "legendgroup": "Parafernalha",
         "marker": {
          "color": "#252a51",
          "pattern": {
           "shape": ""
          }
         },
         "name": "Parafernalha",
         "offsetgroup": "Parafernalha",
         "orientation": "v",
         "showlegend": true,
         "text": [
          "0.964%"
         ],
         "textfont": {
          "color": "#545b89",
          "size": 15
         },
         "textposition": "outside",
         "type": "bar",
         "x": [
          "Parafernalha"
         ],
         "xaxis": "x",
         "y": [
          1199
         ],
         "yaxis": "y"
        },
        {
         "alignmentgroup": "True",
         "hovertemplate": "<b>Channel: %{x}<br>Frequency: %{y:}</b><extra></extra>",
         "legendgroup": "MW Informática",
         "marker": {
          "color": "#262b52",
          "pattern": {
           "shape": ""
          }
         },
         "name": "MW Informática",
         "offsetgroup": "MW Informática",
         "orientation": "v",
         "showlegend": true,
         "text": [
          "0.894%"
         ],
         "textfont": {
          "color": "#545b89",
          "size": 15
         },
         "textposition": "outside",
         "type": "bar",
         "x": [
          "MW Informática"
         ],
         "xaxis": "x",
         "y": [
          1112
         ],
         "yaxis": "y"
        },
        {
         "alignmentgroup": "True",
         "hovertemplate": "<b>Channel: %{x}<br>Frequency: %{y:}</b><extra></extra>",
         "legendgroup": "Aviões e Músicas com Lito Sousa",
         "marker": {
          "color": "#272c53",
          "pattern": {
           "shape": ""
          }
         },
         "name": "Aviões e Músicas com Lito Sousa",
         "offsetgroup": "Aviões e Músicas com Lito Sousa",
         "orientation": "v",
         "showlegend": true,
         "text": [
          "0.883%"
         ],
         "textfont": {
          "color": "#545b89",
          "size": 15
         },
         "textposition": "outside",
         "type": "bar",
         "x": [
          "Aviões e Músicas com Lito Sousa"
         ],
         "xaxis": "x",
         "y": [
          1098
         ],
         "yaxis": "y"
        },
        {
         "alignmentgroup": "True",
         "hovertemplate": "<b>Channel: %{x}<br>Frequency: %{y:}</b><extra></extra>",
         "legendgroup": "Fabio Chaves",
         "marker": {
          "color": "#282d54",
          "pattern": {
           "shape": ""
          }
         },
         "name": "Fabio Chaves",
         "offsetgroup": "Fabio Chaves",
         "orientation": "v",
         "showlegend": true,
         "text": [
          "0.821%"
         ],
         "textfont": {
          "color": "#545b89",
          "size": 15
         },
         "textposition": "outside",
         "type": "bar",
         "x": [
          "Fabio Chaves"
         ],
         "xaxis": "x",
         "y": [
          1021
         ],
         "yaxis": "y"
        },
        {
         "alignmentgroup": "True",
         "hovertemplate": "<b>Channel: %{x}<br>Frequency: %{y:}</b><extra></extra>",
         "legendgroup": "UrAvgConsumer",
         "marker": {
          "color": "#282d55",
          "pattern": {
           "shape": ""
          }
         },
         "name": "UrAvgConsumer",
         "offsetgroup": "UrAvgConsumer",
         "orientation": "v",
         "showlegend": true,
         "text": [
          "0.794%"
         ],
         "textfont": {
          "color": "#545b89",
          "size": 15
         },
         "textposition": "outside",
         "type": "bar",
         "x": [
          "UrAvgConsumer"
         ],
         "xaxis": "x",
         "y": [
          987
         ],
         "yaxis": "y"
        },
        {
         "alignmentgroup": "True",
         "hovertemplate": "<b>Channel: %{x}<br>Frequency: %{y:}</b><extra></extra>",
         "legendgroup": "Roberto Blake",
         "marker": {
          "color": "#292e56",
          "pattern": {
           "shape": ""
          }
         },
         "name": "Roberto Blake",
         "offsetgroup": "Roberto Blake",
         "orientation": "v",
         "showlegend": true,
         "text": [
          "0.779%"
         ],
         "textfont": {
          "color": "#545b89",
          "size": 15
         },
         "textposition": "outside",
         "type": "bar",
         "x": [
          "Roberto Blake"
         ],
         "xaxis": "x",
         "y": [
          969
         ],
         "yaxis": "y"
        },
        {
         "alignmentgroup": "True",
         "hovertemplate": "<b>Channel: %{x}<br>Frequency: %{y:}</b><extra></extra>",
         "legendgroup": "Alec Steele",
         "marker": {
          "color": "#2a2f57",
          "pattern": {
           "shape": ""
          }
         },
         "name": "Alec Steele",
         "offsetgroup": "Alec Steele",
         "orientation": "v",
         "showlegend": true,
         "text": [
          "0.779%"
         ],
         "textfont": {
          "color": "#545b89",
          "size": 15
         },
         "textposition": "outside",
         "type": "bar",
         "x": [
          "Alec Steele"
         ],
         "xaxis": "x",
         "y": [
          969
         ],
         "yaxis": "y"
        },
        {
         "alignmentgroup": "True",
         "hovertemplate": "<b>Channel: %{x}<br>Frequency: %{y:}</b><extra></extra>",
         "legendgroup": "Traversy Media",
         "marker": {
          "color": "#2b3058",
          "pattern": {
           "shape": ""
          }
         },
         "name": "Traversy Media",
         "offsetgroup": "Traversy Media",
         "orientation": "v",
         "showlegend": true,
         "text": [
          "0.678%"
         ],
         "textfont": {
          "color": "#545b89",
          "size": 15
         },
         "textposition": "outside",
         "type": "bar",
         "x": [
          "Traversy Media"
         ],
         "xaxis": "x",
         "y": [
          843
         ],
         "yaxis": "y"
        },
        {
         "alignmentgroup": "True",
         "hovertemplate": "<b>Channel: %{x}<br>Frequency: %{y:}</b><extra></extra>",
         "legendgroup": "Rebecca Watson",
         "marker": {
          "color": "#2c3159",
          "pattern": {
           "shape": ""
          }
         },
         "name": "Rebecca Watson",
         "offsetgroup": "Rebecca Watson",
         "orientation": "v",
         "showlegend": true,
         "text": [
          "0.675%"
         ],
         "textfont": {
          "color": "#545b89",
          "size": 15
         },
         "textposition": "outside",
         "type": "bar",
         "x": [
          "Rebecca Watson"
         ],
         "xaxis": "x",
         "y": [
          839
         ],
         "yaxis": "y"
        },
        {
         "alignmentgroup": "True",
         "hovertemplate": "<b>Channel: %{x}<br>Frequency: %{y:}</b><extra></extra>",
         "legendgroup": "Rachel's English",
         "marker": {
          "color": "#2c325a",
          "pattern": {
           "shape": ""
          }
         },
         "name": "Rachel's English",
         "offsetgroup": "Rachel's English",
         "orientation": "v",
         "showlegend": true,
         "text": [
          "0.668%"
         ],
         "textfont": {
          "color": "#545b89",
          "size": 15
         },
         "textposition": "outside",
         "type": "bar",
         "x": [
          "Rachel's English"
         ],
         "xaxis": "x",
         "y": [
          831
         ],
         "yaxis": "y"
        },
        {
         "alignmentgroup": "True",
         "hovertemplate": "<b>Channel: %{x}<br>Frequency: %{y:}</b><extra></extra>",
         "legendgroup": "Disney",
         "marker": {
          "color": "#2d335b",
          "pattern": {
           "shape": ""
          }
         },
         "name": "Disney",
         "offsetgroup": "Disney",
         "orientation": "v",
         "showlegend": true,
         "text": [
          "0.667%"
         ],
         "textfont": {
          "color": "#545b89",
          "size": 15
         },
         "textposition": "outside",
         "type": "bar",
         "x": [
          "Disney"
         ],
         "xaxis": "x",
         "y": [
          830
         ],
         "yaxis": "y"
        },
        {
         "alignmentgroup": "True",
         "hovertemplate": "<b>Channel: %{x}<br>Frequency: %{y:}</b><extra></extra>",
         "legendgroup": "DW Euromaxx",
         "marker": {
          "color": "#2e345c",
          "pattern": {
           "shape": ""
          }
         },
         "name": "DW Euromaxx",
         "offsetgroup": "DW Euromaxx",
         "orientation": "v",
         "showlegend": true,
         "text": [
          "0.621%"
         ],
         "textfont": {
          "color": "#545b89",
          "size": 15
         },
         "textposition": "outside",
         "type": "bar",
         "x": [
          "DW Euromaxx"
         ],
         "xaxis": "x",
         "y": [
          773
         ],
         "yaxis": "y"
        },
        {
         "alignmentgroup": "True",
         "hovertemplate": "<b>Channel: %{x}<br>Frequency: %{y:}</b><extra></extra>",
         "legendgroup": "Classic Mr Bean",
         "marker": {
          "color": "#2f345d",
          "pattern": {
           "shape": ""
          }
         },
         "name": "Classic Mr Bean",
         "offsetgroup": "Classic Mr Bean",
         "orientation": "v",
         "showlegend": true,
         "text": [
          "0.586%"
         ],
         "textfont": {
          "color": "#545b89",
          "size": 15
         },
         "textposition": "outside",
         "type": "bar",
         "x": [
          "Classic Mr Bean"
         ],
         "xaxis": "x",
         "y": [
          729
         ],
         "yaxis": "y"
        },
        {
         "alignmentgroup": "True",
         "hovertemplate": "<b>Channel: %{x}<br>Frequency: %{y:}</b><extra></extra>",
         "legendgroup": "DW Documentary",
         "marker": {
          "color": "#30355e",
          "pattern": {
           "shape": ""
          }
         },
         "name": "DW Documentary",
         "offsetgroup": "DW Documentary",
         "orientation": "v",
         "showlegend": true,
         "text": [
          "0.579%"
         ],
         "textfont": {
          "color": "#545b89",
          "size": 15
         },
         "textposition": "outside",
         "type": "bar",
         "x": [
          "DW Documentary"
         ],
         "xaxis": "x",
         "y": [
          720
         ],
         "yaxis": "y"
        },
        {
         "alignmentgroup": "True",
         "hovertemplate": "<b>Channel: %{x}<br>Frequency: %{y:}</b><extra></extra>",
         "legendgroup": "Computerphile",
         "marker": {
          "color": "#31365f",
          "pattern": {
           "shape": ""
          }
         },
         "name": "Computerphile",
         "offsetgroup": "Computerphile",
         "orientation": "v",
         "showlegend": true,
         "text": [
          "0.573%"
         ],
         "textfont": {
          "color": "#545b89",
          "size": 15
         },
         "textposition": "outside",
         "type": "bar",
         "x": [
          "Computerphile"
         ],
         "xaxis": "x",
         "y": [
          713
         ],
         "yaxis": "y"
        },
        {
         "alignmentgroup": "True",
         "hovertemplate": "<b>Channel: %{x}<br>Frequency: %{y:}</b><extra></extra>",
         "legendgroup": "Aero Por Trás da Aviação",
         "marker": {
          "color": "#323760",
          "pattern": {
           "shape": ""
          }
         },
         "name": "Aero Por Trás da Aviação",
         "offsetgroup": "Aero Por Trás da Aviação",
         "orientation": "v",
         "showlegend": true,
         "text": [
          "0.57%"
         ],
         "textfont": {
          "color": "#545b89",
          "size": 15
         },
         "textposition": "outside",
         "type": "bar",
         "x": [
          "Aero Por Trás da Aviação"
         ],
         "xaxis": "x",
         "y": [
          709
         ],
         "yaxis": "y"
        },
        {
         "alignmentgroup": "True",
         "hovertemplate": "<b>Channel: %{x}<br>Frequency: %{y:}</b><extra></extra>",
         "legendgroup": "Periodic Videos",
         "marker": {
          "color": "#333861",
          "pattern": {
           "shape": ""
          }
         },
         "name": "Periodic Videos",
         "offsetgroup": "Periodic Videos",
         "orientation": "v",
         "showlegend": true,
         "text": [
          "0.555%"
         ],
         "textfont": {
          "color": "#545b89",
          "size": 15
         },
         "textposition": "outside",
         "type": "bar",
         "x": [
          "Periodic Videos"
         ],
         "xaxis": "x",
         "y": [
          690
         ],
         "yaxis": "y"
        },
        {
         "alignmentgroup": "True",
         "hovertemplate": "<b>Channel: %{x}<br>Frequency: %{y:}</b><extra></extra>",
         "legendgroup": "Azusa Barbie",
         "marker": {
          "color": "#333962",
          "pattern": {
           "shape": ""
          }
         },
         "name": "Azusa Barbie",
         "offsetgroup": "Azusa Barbie",
         "orientation": "v",
         "showlegend": true,
         "text": [
          "0.553%"
         ],
         "textfont": {
          "color": "#545b89",
          "size": 15
         },
         "textposition": "outside",
         "type": "bar",
         "x": [
          "Azusa Barbie"
         ],
         "xaxis": "x",
         "y": [
          688
         ],
         "yaxis": "y"
        },
        {
         "alignmentgroup": "True",
         "hovertemplate": "<b>Channel: %{x}<br>Frequency: %{y:}</b><extra></extra>",
         "legendgroup": "Simple Flying",
         "marker": {
          "color": "#343a63",
          "pattern": {
           "shape": ""
          }
         },
         "name": "Simple Flying",
         "offsetgroup": "Simple Flying",
         "orientation": "v",
         "showlegend": true,
         "text": [
          "0.524%"
         ],
         "textfont": {
          "color": "#545b89",
          "size": 15
         },
         "textposition": "outside",
         "type": "bar",
         "x": [
          "Simple Flying"
         ],
         "xaxis": "x",
         "y": [
          652
         ],
         "yaxis": "y"
        },
        {
         "alignmentgroup": "True",
         "hovertemplate": "<b>Channel: %{x}<br>Frequency: %{y:}</b><extra></extra>",
         "legendgroup": "Joe Scott",
         "marker": {
          "color": "#353a64",
          "pattern": {
           "shape": ""
          }
         },
         "name": "Joe Scott",
         "offsetgroup": "Joe Scott",
         "orientation": "v",
         "showlegend": true,
         "text": [
          "0.523%"
         ],
         "textfont": {
          "color": "#545b89",
          "size": 15
         },
         "textposition": "outside",
         "type": "bar",
         "x": [
          "Joe Scott"
         ],
         "xaxis": "x",
         "y": [
          651
         ],
         "yaxis": "y"
        },
        {
         "alignmentgroup": "True",
         "hovertemplate": "<b>Channel: %{x}<br>Frequency: %{y:}</b><extra></extra>",
         "legendgroup": "Tom Scott",
         "marker": {
          "color": "#363b65",
          "pattern": {
           "shape": ""
          }
         },
         "name": "Tom Scott",
         "offsetgroup": "Tom Scott",
         "orientation": "v",
         "showlegend": true,
         "text": [
          "0.499%"
         ],
         "textfont": {
          "color": "#545b89",
          "size": 15
         },
         "textposition": "outside",
         "type": "bar",
         "x": [
          "Tom Scott"
         ],
         "xaxis": "x",
         "y": [
          621
         ],
         "yaxis": "y"
        },
        {
         "alignmentgroup": "True",
         "hovertemplate": "<b>Channel: %{x}<br>Frequency: %{y:}</b><extra></extra>",
         "legendgroup": "Numberphile",
         "marker": {
          "color": "#373d66",
          "pattern": {
           "shape": ""
          }
         },
         "name": "Numberphile",
         "offsetgroup": "Numberphile",
         "orientation": "v",
         "showlegend": true,
         "text": [
          "0.498%"
         ],
         "textfont": {
          "color": "#545b89",
          "size": 15
         },
         "textposition": "outside",
         "type": "bar",
         "x": [
          "Numberphile"
         ],
         "xaxis": "x",
         "y": [
          620
         ],
         "yaxis": "y"
        },
        {
         "alignmentgroup": "True",
         "hovertemplate": "<b>Channel: %{x}<br>Frequency: %{y:}</b><extra></extra>",
         "legendgroup": "TecLab",
         "marker": {
          "color": "#373d67",
          "pattern": {
           "shape": ""
          }
         },
         "name": "TecLab",
         "offsetgroup": "TecLab",
         "orientation": "v",
         "showlegend": true,
         "text": [
          "0.456%"
         ],
         "textfont": {
          "color": "#545b89",
          "size": 15
         },
         "textposition": "outside",
         "type": "bar",
         "x": [
          "TecLab"
         ],
         "xaxis": "x",
         "y": [
          567
         ],
         "yaxis": "y"
        },
        {
         "alignmentgroup": "True",
         "hovertemplate": "<b>Channel: %{x}<br>Frequency: %{y:}</b><extra></extra>",
         "legendgroup": "That Pedal Show",
         "marker": {
          "color": "#383e68",
          "pattern": {
           "shape": ""
          }
         },
         "name": "That Pedal Show",
         "offsetgroup": "That Pedal Show",
         "orientation": "v",
         "showlegend": true,
         "text": [
          "0.453%"
         ],
         "textfont": {
          "color": "#545b89",
          "size": 15
         },
         "textposition": "outside",
         "type": "bar",
         "x": [
          "That Pedal Show"
         ],
         "xaxis": "x",
         "y": [
          563
         ],
         "yaxis": "y"
        },
        {
         "alignmentgroup": "True",
         "hovertemplate": "<b>Channel: %{x}<br>Frequency: %{y:}</b><extra></extra>",
         "legendgroup": "Código Fonte TV",
         "marker": {
          "color": "#393f69",
          "pattern": {
           "shape": ""
          }
         },
         "name": "Código Fonte TV",
         "offsetgroup": "Código Fonte TV",
         "orientation": "v",
         "showlegend": true,
         "text": [
          "0.416%"
         ],
         "textfont": {
          "color": "#545b89",
          "size": 15
         },
         "textposition": "outside",
         "type": "bar",
         "x": [
          "Código Fonte TV"
         ],
         "xaxis": "x",
         "y": [
          517
         ],
         "yaxis": "y"
        },
        {
         "alignmentgroup": "True",
         "hovertemplate": "<b>Channel: %{x}<br>Frequency: %{y:}</b><extra></extra>",
         "legendgroup": "Loira na Estrada",
         "marker": {
          "color": "#3a406a",
          "pattern": {
           "shape": ""
          }
         },
         "name": "Loira na Estrada",
         "offsetgroup": "Loira na Estrada",
         "orientation": "v",
         "showlegend": true,
         "text": [
          "0.412%"
         ],
         "textfont": {
          "color": "#545b89",
          "size": 15
         },
         "textposition": "outside",
         "type": "bar",
         "x": [
          "Loira na Estrada"
         ],
         "xaxis": "x",
         "y": [
          512
         ],
         "yaxis": "y"
        },
        {
         "alignmentgroup": "True",
         "hovertemplate": "<b>Channel: %{x}<br>Frequency: %{y:}</b><extra></extra>",
         "legendgroup": "Bob Ross",
         "marker": {
          "color": "#3b416b",
          "pattern": {
           "shape": ""
          }
         },
         "name": "Bob Ross",
         "offsetgroup": "Bob Ross",
         "orientation": "v",
         "showlegend": true,
         "text": [
          "0.398%"
         ],
         "textfont": {
          "color": "#545b89",
          "size": 15
         },
         "textposition": "outside",
         "type": "bar",
         "x": [
          "Bob Ross"
         ],
         "xaxis": "x",
         "y": [
          495
         ],
         "yaxis": "y"
        },
        {
         "alignmentgroup": "True",
         "hovertemplate": "<b>Channel: %{x}<br>Frequency: %{y:}</b><extra></extra>",
         "legendgroup": "Professor Noslen",
         "marker": {
          "color": "#3c416c",
          "pattern": {
           "shape": ""
          }
         },
         "name": "Professor Noslen",
         "offsetgroup": "Professor Noslen",
         "orientation": "v",
         "showlegend": true,
         "text": [
          "0.392%"
         ],
         "textfont": {
          "color": "#545b89",
          "size": 15
         },
         "textposition": "outside",
         "type": "bar",
         "x": [
          "Professor Noslen"
         ],
         "xaxis": "x",
         "y": [
          488
         ],
         "yaxis": "y"
        },
        {
         "alignmentgroup": "True",
         "hovertemplate": "<b>Channel: %{x}<br>Frequency: %{y:}</b><extra></extra>",
         "legendgroup": "Buenas Ideias",
         "marker": {
          "color": "#3d436d",
          "pattern": {
           "shape": ""
          }
         },
         "name": "Buenas Ideias",
         "offsetgroup": "Buenas Ideias",
         "orientation": "v",
         "showlegend": true,
         "text": [
          "0.377%"
         ],
         "textfont": {
          "color": "#545b89",
          "size": 15
         },
         "textposition": "outside",
         "type": "bar",
         "x": [
          "Buenas Ideias"
         ],
         "xaxis": "x",
         "y": [
          469
         ],
         "yaxis": "y"
        },
        {
         "alignmentgroup": "True",
         "hovertemplate": "<b>Channel: %{x}<br>Frequency: %{y:}</b><extra></extra>",
         "legendgroup": "Cheddar",
         "marker": {
          "color": "#3d436e",
          "pattern": {
           "shape": ""
          }
         },
         "name": "Cheddar",
         "offsetgroup": "Cheddar",
         "orientation": "v",
         "showlegend": true,
         "text": [
          "0.365%"
         ],
         "textfont": {
          "color": "#545b89",
          "size": 15
         },
         "textposition": "outside",
         "type": "bar",
         "x": [
          "Cheddar"
         ],
         "xaxis": "x",
         "y": [
          454
         ],
         "yaxis": "y"
        },
        {
         "alignmentgroup": "True",
         "hovertemplate": "<b>Channel: %{x}<br>Frequency: %{y:}</b><extra></extra>",
         "legendgroup": "It's Black Friday",
         "marker": {
          "color": "#3e446f",
          "pattern": {
           "shape": ""
          }
         },
         "name": "It's Black Friday",
         "offsetgroup": "It's Black Friday",
         "orientation": "v",
         "showlegend": true,
         "text": [
          "0.363%"
         ],
         "textfont": {
          "color": "#545b89",
          "size": 15
         },
         "textposition": "outside",
         "type": "bar",
         "x": [
          "It's Black Friday"
         ],
         "xaxis": "x",
         "y": [
          451
         ],
         "yaxis": "y"
        },
        {
         "alignmentgroup": "True",
         "hovertemplate": "<b>Channel: %{x}<br>Frequency: %{y:}</b><extra></extra>",
         "legendgroup": "Naomi Brockwell",
         "marker": {
          "color": "#3f4570",
          "pattern": {
           "shape": ""
          }
         },
         "name": "Naomi Brockwell",
         "offsetgroup": "Naomi Brockwell",
         "orientation": "v",
         "showlegend": true,
         "text": [
          "0.362%"
         ],
         "textfont": {
          "color": "#545b89",
          "size": 15
         },
         "textposition": "outside",
         "type": "bar",
         "x": [
          "Naomi Brockwell"
         ],
         "xaxis": "x",
         "y": [
          450
         ],
         "yaxis": "y"
        },
        {
         "alignmentgroup": "True",
         "hovertemplate": "<b>Channel: %{x}<br>Frequency: %{y:}</b><extra></extra>",
         "legendgroup": "The Modern Rogue",
         "marker": {
          "color": "#404671",
          "pattern": {
           "shape": ""
          }
         },
         "name": "The Modern Rogue",
         "offsetgroup": "The Modern Rogue",
         "orientation": "v",
         "showlegend": true,
         "text": [
          "0.359%"
         ],
         "textfont": {
          "color": "#545b89",
          "size": 15
         },
         "textposition": "outside",
         "type": "bar",
         "x": [
          "The Modern Rogue"
         ],
         "xaxis": "x",
         "y": [
          446
         ],
         "yaxis": "y"
        },
        {
         "alignmentgroup": "True",
         "hovertemplate": "<b>Channel: %{x}<br>Frequency: %{y:}</b><extra></extra>",
         "legendgroup": "AWE me",
         "marker": {
          "color": "#414772",
          "pattern": {
           "shape": ""
          }
         },
         "name": "AWE me",
         "offsetgroup": "AWE me",
         "orientation": "v",
         "showlegend": true,
         "text": [
          "0.336%"
         ],
         "textfont": {
          "color": "#545b89",
          "size": 15
         },
         "textposition": "outside",
         "type": "bar",
         "x": [
          "AWE me"
         ],
         "xaxis": "x",
         "y": [
          418
         ],
         "yaxis": "y"
        },
        {
         "alignmentgroup": "True",
         "hovertemplate": "<b>Channel: %{x}<br>Frequency: %{y:}</b><extra></extra>",
         "legendgroup": "CaspianReport",
         "marker": {
          "color": "#414873",
          "pattern": {
           "shape": ""
          }
         },
         "name": "CaspianReport",
         "offsetgroup": "CaspianReport",
         "orientation": "v",
         "showlegend": true,
         "text": [
          "0.314%"
         ],
         "textfont": {
          "color": "#545b89",
          "size": 15
         },
         "textposition": "outside",
         "type": "bar",
         "x": [
          "CaspianReport"
         ],
         "xaxis": "x",
         "y": [
          390
         ],
         "yaxis": "y"
        },
        {
         "alignmentgroup": "True",
         "hovertemplate": "<b>Channel: %{x}<br>Frequency: %{y:}</b><extra></extra>",
         "legendgroup": "The British Museum",
         "marker": {
          "color": "#424974",
          "pattern": {
           "shape": ""
          }
         },
         "name": "The British Museum",
         "offsetgroup": "The British Museum",
         "orientation": "v",
         "showlegend": true,
         "text": [
          "0.309%"
         ],
         "textfont": {
          "color": "#545b89",
          "size": 15
         },
         "textposition": "outside",
         "type": "bar",
         "x": [
          "The British Museum"
         ],
         "xaxis": "x",
         "y": [
          384
         ],
         "yaxis": "y"
        },
        {
         "alignmentgroup": "True",
         "hovertemplate": "<b>Channel: %{x}<br>Frequency: %{y:}</b><extra></extra>",
         "legendgroup": "Cole and Marmalade",
         "marker": {
          "color": "#434a75",
          "pattern": {
           "shape": ""
          }
         },
         "name": "Cole and Marmalade",
         "offsetgroup": "Cole and Marmalade",
         "orientation": "v",
         "showlegend": true,
         "text": [
          "0.306%"
         ],
         "textfont": {
          "color": "#545b89",
          "size": 15
         },
         "textposition": "outside",
         "type": "bar",
         "x": [
          "Cole and Marmalade"
         ],
         "xaxis": "x",
         "y": [
          380
         ],
         "yaxis": "y"
        },
        {
         "alignmentgroup": "True",
         "hovertemplate": "<b>Channel: %{x}<br>Frequency: %{y:}</b><extra></extra>",
         "legendgroup": "Tá Querida",
         "marker": {
          "color": "#444a76",
          "pattern": {
           "shape": ""
          }
         },
         "name": "Tá Querida",
         "offsetgroup": "Tá Querida",
         "orientation": "v",
         "showlegend": true,
         "text": [
          "0.305%"
         ],
         "textfont": {
          "color": "#545b89",
          "size": 15
         },
         "textposition": "outside",
         "type": "bar",
         "x": [
          "Tá Querida"
         ],
         "xaxis": "x",
         "y": [
          379
         ],
         "yaxis": "y"
        },
        {
         "alignmentgroup": "True",
         "hovertemplate": "<b>Channel: %{x}<br>Frequency: %{y:}</b><extra></extra>",
         "legendgroup": "Hydraulic Press Channel",
         "marker": {
          "color": "#454b77",
          "pattern": {
           "shape": ""
          }
         },
         "name": "Hydraulic Press Channel",
         "offsetgroup": "Hydraulic Press Channel",
         "orientation": "v",
         "showlegend": true,
         "text": [
          "0.293%"
         ],
         "textfont": {
          "color": "#545b89",
          "size": 15
         },
         "textposition": "outside",
         "type": "bar",
         "x": [
          "Hydraulic Press Channel"
         ],
         "xaxis": "x",
         "y": [
          365
         ],
         "yaxis": "y"
        },
        {
         "alignmentgroup": "True",
         "hovertemplate": "<b>Channel: %{x}<br>Frequency: %{y:}</b><extra></extra>",
         "legendgroup": "MathTheBeautiful",
         "marker": {
          "color": "#464c78",
          "pattern": {
           "shape": ""
          }
         },
         "name": "MathTheBeautiful",
         "offsetgroup": "MathTheBeautiful",
         "orientation": "v",
         "showlegend": true,
         "text": [
          "0.285%"
         ],
         "textfont": {
          "color": "#545b89",
          "size": 15
         },
         "textposition": "outside",
         "type": "bar",
         "x": [
          "MathTheBeautiful"
         ],
         "xaxis": "x",
         "y": [
          355
         ],
         "yaxis": "y"
        },
        {
         "alignmentgroup": "True",
         "hovertemplate": "<b>Channel: %{x}<br>Frequency: %{y:}</b><extra></extra>",
         "legendgroup": "TÁ NA MESA VEGG",
         "marker": {
          "color": "#474d79",
          "pattern": {
           "shape": ""
          }
         },
         "name": "TÁ NA MESA VEGG",
         "offsetgroup": "TÁ NA MESA VEGG",
         "orientation": "v",
         "showlegend": true,
         "text": [
          "0.282%"
         ],
         "textfont": {
          "color": "#545b89",
          "size": 15
         },
         "textposition": "outside",
         "type": "bar",
         "x": [
          "TÁ NA MESA VEGG"
         ],
         "xaxis": "x",
         "y": [
          351
         ],
         "yaxis": "y"
        },
        {
         "alignmentgroup": "True",
         "hovertemplate": "<b>Channel: %{x}<br>Frequency: %{y:}</b><extra></extra>",
         "legendgroup": "SmarterEveryDay",
         "marker": {
          "color": "#484e7a",
          "pattern": {
           "shape": ""
          }
         },
         "name": "SmarterEveryDay",
         "offsetgroup": "SmarterEveryDay",
         "orientation": "v",
         "showlegend": true,
         "text": [
          "0.279%"
         ],
         "textfont": {
          "color": "#545b89",
          "size": 15
         },
         "textposition": "outside",
         "type": "bar",
         "x": [
          "SmarterEveryDay"
         ],
         "xaxis": "x",
         "y": [
          347
         ],
         "yaxis": "y"
        },
        {
         "alignmentgroup": "True",
         "hovertemplate": "<b>Channel: %{x}<br>Frequency: %{y:}</b><extra></extra>",
         "legendgroup": "SpaceX",
         "marker": {
          "color": "#484f7b",
          "pattern": {
           "shape": ""
          }
         },
         "name": "SpaceX",
         "offsetgroup": "SpaceX",
         "orientation": "v",
         "showlegend": true,
         "text": [
          "0.275%"
         ],
         "textfont": {
          "color": "#545b89",
          "size": 15
         },
         "textposition": "outside",
         "type": "bar",
         "x": [
          "SpaceX"
         ],
         "xaxis": "x",
         "y": [
          342
         ],
         "yaxis": "y"
        },
        {
         "alignmentgroup": "True",
         "hovertemplate": "<b>Channel: %{x}<br>Frequency: %{y:}</b><extra></extra>",
         "legendgroup": "Everyday Astronaut",
         "marker": {
          "color": "#49507c",
          "pattern": {
           "shape": ""
          }
         },
         "name": "Everyday Astronaut",
         "offsetgroup": "Everyday Astronaut",
         "orientation": "v",
         "showlegend": true,
         "text": [
          "0.269%"
         ],
         "textfont": {
          "color": "#545b89",
          "size": 15
         },
         "textposition": "outside",
         "type": "bar",
         "x": [
          "Everyday Astronaut"
         ],
         "xaxis": "x",
         "y": [
          335
         ],
         "yaxis": "y"
        },
        {
         "alignmentgroup": "True",
         "hovertemplate": "<b>Channel: %{x}<br>Frequency: %{y:}</b><extra></extra>",
         "legendgroup": "Nátaly Neri",
         "marker": {
          "color": "#4a507d",
          "pattern": {
           "shape": ""
          }
         },
         "name": "Nátaly Neri",
         "offsetgroup": "Nátaly Neri",
         "orientation": "v",
         "showlegend": true,
         "text": [
          "0.269%"
         ],
         "textfont": {
          "color": "#545b89",
          "size": 15
         },
         "textposition": "outside",
         "type": "bar",
         "x": [
          "Nátaly Neri"
         ],
         "xaxis": "x",
         "y": [
          335
         ],
         "yaxis": "y"
        },
        {
         "alignmentgroup": "True",
         "hovertemplate": "<b>Channel: %{x}<br>Frequency: %{y:}</b><extra></extra>",
         "legendgroup": "Professor Julio Borbo",
         "marker": {
          "color": "#4b517e",
          "pattern": {
           "shape": ""
          }
         },
         "name": "Professor Julio Borbo",
         "offsetgroup": "Professor Julio Borbo",
         "orientation": "v",
         "showlegend": true,
         "text": [
          "0.269%"
         ],
         "textfont": {
          "color": "#545b89",
          "size": 15
         },
         "textposition": "outside",
         "type": "bar",
         "x": [
          "Professor Julio Borbo"
         ],
         "xaxis": "x",
         "y": [
          334
         ],
         "yaxis": "y"
        },
        {
         "alignmentgroup": "True",
         "hovertemplate": "<b>Channel: %{x}<br>Frequency: %{y:}</b><extra></extra>",
         "legendgroup": "Riddle",
         "marker": {
          "color": "#4c527f",
          "pattern": {
           "shape": ""
          }
         },
         "name": "Riddle",
         "offsetgroup": "Riddle",
         "orientation": "v",
         "showlegend": true,
         "text": [
          "0.265%"
         ],
         "textfont": {
          "color": "#545b89",
          "size": 15
         },
         "textposition": "outside",
         "type": "bar",
         "x": [
          "Riddle"
         ],
         "xaxis": "x",
         "y": [
          330
         ],
         "yaxis": "y"
        },
        {
         "alignmentgroup": "True",
         "hovertemplate": "<b>Channel: %{x}<br>Frequency: %{y:}</b><extra></extra>",
         "legendgroup": "The B1M",
         "marker": {
          "color": "#4c5380",
          "pattern": {
           "shape": ""
          }
         },
         "name": "The B1M",
         "offsetgroup": "The B1M",
         "orientation": "v",
         "showlegend": true,
         "text": [
          "0.262%"
         ],
         "textfont": {
          "color": "#545b89",
          "size": 15
         },
         "textposition": "outside",
         "type": "bar",
         "x": [
          "The B1M"
         ],
         "xaxis": "x",
         "y": [
          326
         ],
         "yaxis": "y"
        },
        {
         "alignmentgroup": "True",
         "hovertemplate": "<b>Channel: %{x}<br>Frequency: %{y:}</b><extra></extra>",
         "legendgroup": "Veritasium",
         "marker": {
          "color": "#4d5481",
          "pattern": {
           "shape": ""
          }
         },
         "name": "Veritasium",
         "offsetgroup": "Veritasium",
         "orientation": "v",
         "showlegend": true,
         "text": [
          "0.26%"
         ],
         "textfont": {
          "color": "#545b89",
          "size": 15
         },
         "textposition": "outside",
         "type": "bar",
         "x": [
          "Veritasium"
         ],
         "xaxis": "x",
         "y": [
          324
         ],
         "yaxis": "y"
        },
        {
         "alignmentgroup": "True",
         "hovertemplate": "<b>Channel: %{x}<br>Frequency: %{y:}</b><extra></extra>",
         "legendgroup": "TopMovieClips",
         "marker": {
          "color": "#4e5582",
          "pattern": {
           "shape": ""
          }
         },
         "name": "TopMovieClips",
         "offsetgroup": "TopMovieClips",
         "orientation": "v",
         "showlegend": true,
         "text": [
          "0.24%"
         ],
         "textfont": {
          "color": "#545b89",
          "size": 15
         },
         "textposition": "outside",
         "type": "bar",
         "x": [
          "TopMovieClips"
         ],
         "xaxis": "x",
         "y": [
          299
         ],
         "yaxis": "y"
        },
        {
         "alignmentgroup": "True",
         "hovertemplate": "<b>Channel: %{x}<br>Frequency: %{y:}</b><extra></extra>",
         "legendgroup": "PBS Space Time",
         "marker": {
          "color": "#4f5683",
          "pattern": {
           "shape": ""
          }
         },
         "name": "PBS Space Time",
         "offsetgroup": "PBS Space Time",
         "orientation": "v",
         "showlegend": true,
         "text": [
          "0.24%"
         ],
         "textfont": {
          "color": "#545b89",
          "size": 15
         },
         "textposition": "outside",
         "type": "bar",
         "x": [
          "PBS Space Time"
         ],
         "xaxis": "x",
         "y": [
          298
         ],
         "yaxis": "y"
        },
        {
         "alignmentgroup": "True",
         "hovertemplate": "<b>Channel: %{x}<br>Frequency: %{y:}</b><extra></extra>",
         "legendgroup": "Potato Jet",
         "marker": {
          "color": "#505784",
          "pattern": {
           "shape": ""
          }
         },
         "name": "Potato Jet",
         "offsetgroup": "Potato Jet",
         "orientation": "v",
         "showlegend": true,
         "text": [
          "0.237%"
         ],
         "textfont": {
          "color": "#545b89",
          "size": 15
         },
         "textposition": "outside",
         "type": "bar",
         "x": [
          "Potato Jet"
         ],
         "xaxis": "x",
         "y": [
          295
         ],
         "yaxis": "y"
        },
        {
         "alignmentgroup": "True",
         "hovertemplate": "<b>Channel: %{x}<br>Frequency: %{y:}</b><extra></extra>",
         "legendgroup": "The Slow Mo Guys",
         "marker": {
          "color": "#515785",
          "pattern": {
           "shape": ""
          }
         },
         "name": "The Slow Mo Guys",
         "offsetgroup": "The Slow Mo Guys",
         "orientation": "v",
         "showlegend": true,
         "text": [
          "0.229%"
         ],
         "textfont": {
          "color": "#545b89",
          "size": 15
         },
         "textposition": "outside",
         "type": "bar",
         "x": [
          "The Slow Mo Guys"
         ],
         "xaxis": "x",
         "y": [
          285
         ],
         "yaxis": "y"
        },
        {
         "alignmentgroup": "True",
         "hovertemplate": "<b>Channel: %{x}<br>Frequency: %{y:}</b><extra></extra>",
         "legendgroup": "Living Big In A Tiny House",
         "marker": {
          "color": "#525986",
          "pattern": {
           "shape": ""
          }
         },
         "name": "Living Big In A Tiny House",
         "offsetgroup": "Living Big In A Tiny House",
         "orientation": "v",
         "showlegend": true,
         "text": [
          "0.228%"
         ],
         "textfont": {
          "color": "#545b89",
          "size": 15
         },
         "textposition": "outside",
         "type": "bar",
         "x": [
          "Living Big In A Tiny House"
         ],
         "xaxis": "x",
         "y": [
          283
         ],
         "yaxis": "y"
        },
        {
         "alignmentgroup": "True",
         "hovertemplate": "<b>Channel: %{x}<br>Frequency: %{y:}</b><extra></extra>",
         "legendgroup": "Tyta Montrase",
         "marker": {
          "color": "#525987",
          "pattern": {
           "shape": ""
          }
         },
         "name": "Tyta Montrase",
         "offsetgroup": "Tyta Montrase",
         "orientation": "v",
         "showlegend": true,
         "text": [
          "0.228%"
         ],
         "textfont": {
          "color": "#545b89",
          "size": 15
         },
         "textposition": "outside",
         "type": "bar",
         "x": [
          "Tyta Montrase"
         ],
         "xaxis": "x",
         "y": [
          283
         ],
         "yaxis": "y"
        },
        {
         "alignmentgroup": "True",
         "hovertemplate": "<b>Channel: %{x}<br>Frequency: %{y:}</b><extra></extra>",
         "legendgroup": "The 8-Bit Guy",
         "marker": {
          "color": "#535a88",
          "pattern": {
           "shape": ""
          }
         },
         "name": "The 8-Bit Guy",
         "offsetgroup": "The 8-Bit Guy",
         "orientation": "v",
         "showlegend": true,
         "text": [
          "0.218%"
         ],
         "textfont": {
          "color": "#545b89",
          "size": 15
         },
         "textposition": "outside",
         "type": "bar",
         "x": [
          "The 8-Bit Guy"
         ],
         "xaxis": "x",
         "y": [
          271
         ],
         "yaxis": "y"
        },
        {
         "alignmentgroup": "True",
         "hovertemplate": "<b>Channel: %{x}<br>Frequency: %{y:}</b><extra></extra>",
         "legendgroup": "Nyma Tang",
         "marker": {
          "color": "#545b89",
          "pattern": {
           "shape": ""
          }
         },
         "name": "Nyma Tang",
         "offsetgroup": "Nyma Tang",
         "orientation": "v",
         "showlegend": true,
         "text": [
          "0.215%"
         ],
         "textfont": {
          "color": "#545b89",
          "size": 15
         },
         "textposition": "outside",
         "type": "bar",
         "x": [
          "Nyma Tang"
         ],
         "xaxis": "x",
         "y": [
          268
         ],
         "yaxis": "y"
        },
        {
         "alignmentgroup": "True",
         "hovertemplate": "<b>Channel: %{x}<br>Frequency: %{y:}</b><extra></extra>",
         "legendgroup": "Ask a Mortician",
         "marker": {
          "color": "#555c8a",
          "pattern": {
           "shape": ""
          }
         },
         "name": "Ask a Mortician",
         "offsetgroup": "Ask a Mortician",
         "orientation": "v",
         "showlegend": true,
         "text": [
          "0.206%"
         ],
         "textfont": {
          "color": "#545b89",
          "size": 15
         },
         "textposition": "outside",
         "type": "bar",
         "x": [
          "Ask a Mortician"
         ],
         "xaxis": "x",
         "y": [
          256
         ],
         "yaxis": "y"
        },
        {
         "alignmentgroup": "True",
         "hovertemplate": "<b>Channel: %{x}<br>Frequency: %{y:}</b><extra></extra>",
         "legendgroup": "Marc Rebillet",
         "marker": {
          "color": "#565d8b",
          "pattern": {
           "shape": ""
          }
         },
         "name": "Marc Rebillet",
         "offsetgroup": "Marc Rebillet",
         "orientation": "v",
         "showlegend": true,
         "text": [
          "0.205%"
         ],
         "textfont": {
          "color": "#545b89",
          "size": 15
         },
         "textposition": "outside",
         "type": "bar",
         "x": [
          "Marc Rebillet"
         ],
         "xaxis": "x",
         "y": [
          255
         ],
         "yaxis": "y"
        },
        {
         "alignmentgroup": "True",
         "hovertemplate": "<b>Channel: %{x}<br>Frequency: %{y:}</b><extra></extra>",
         "legendgroup": "RealLifeLore",
         "marker": {
          "color": "#565d8c",
          "pattern": {
           "shape": ""
          }
         },
         "name": "RealLifeLore",
         "offsetgroup": "RealLifeLore",
         "orientation": "v",
         "showlegend": true,
         "text": [
          "0.203%"
         ],
         "textfont": {
          "color": "#545b89",
          "size": 15
         },
         "textposition": "outside",
         "type": "bar",
         "x": [
          "RealLifeLore"
         ],
         "xaxis": "x",
         "y": [
          253
         ],
         "yaxis": "y"
        },
        {
         "alignmentgroup": "True",
         "hovertemplate": "<b>Channel: %{x}<br>Frequency: %{y:}</b><extra></extra>",
         "legendgroup": "Knowledgia",
         "marker": {
          "color": "#575f8d",
          "pattern": {
           "shape": ""
          }
         },
         "name": "Knowledgia",
         "offsetgroup": "Knowledgia",
         "orientation": "v",
         "showlegend": true,
         "text": [
          "0.202%"
         ],
         "textfont": {
          "color": "#545b89",
          "size": 15
         },
         "textposition": "outside",
         "type": "bar",
         "x": [
          "Knowledgia"
         ],
         "xaxis": "x",
         "y": [
          251
         ],
         "yaxis": "y"
        },
        {
         "alignmentgroup": "True",
         "hovertemplate": "<b>Channel: %{x}<br>Frequency: %{y:}</b><extra></extra>",
         "legendgroup": "Darko Audio",
         "marker": {
          "color": "#58608e",
          "pattern": {
           "shape": ""
          }
         },
         "name": "Darko Audio",
         "offsetgroup": "Darko Audio",
         "orientation": "v",
         "showlegend": true,
         "text": [
          "0.195%"
         ],
         "textfont": {
          "color": "#545b89",
          "size": 15
         },
         "textposition": "outside",
         "type": "bar",
         "x": [
          "Darko Audio"
         ],
         "xaxis": "x",
         "y": [
          242
         ],
         "yaxis": "y"
        },
        {
         "alignmentgroup": "True",
         "hovertemplate": "<b>Channel: %{x}<br>Frequency: %{y:}</b><extra></extra>",
         "legendgroup": "Prowalk Tours",
         "marker": {
          "color": "#59608f",
          "pattern": {
           "shape": ""
          }
         },
         "name": "Prowalk Tours",
         "offsetgroup": "Prowalk Tours",
         "orientation": "v",
         "showlegend": true,
         "text": [
          "0.194%"
         ],
         "textfont": {
          "color": "#545b89",
          "size": 15
         },
         "textposition": "outside",
         "type": "bar",
         "x": [
          "Prowalk Tours"
         ],
         "xaxis": "x",
         "y": [
          241
         ],
         "yaxis": "y"
        },
        {
         "alignmentgroup": "True",
         "hovertemplate": "<b>Channel: %{x}<br>Frequency: %{y:}</b><extra></extra>",
         "legendgroup": "Kirsten & Joerg",
         "marker": {
          "color": "#5a6190",
          "pattern": {
           "shape": ""
          }
         },
         "name": "Kirsten & Joerg",
         "offsetgroup": "Kirsten & Joerg",
         "orientation": "v",
         "showlegend": true,
         "text": [
          "0.191%"
         ],
         "textfont": {
          "color": "#545b89",
          "size": 15
         },
         "textposition": "outside",
         "type": "bar",
         "x": [
          "Kirsten & Joerg"
         ],
         "xaxis": "x",
         "y": [
          238
         ],
         "yaxis": "y"
        },
        {
         "alignmentgroup": "True",
         "hovertemplate": "<b>Channel: %{x}<br>Frequency: %{y:}</b><extra></extra>",
         "legendgroup": "Tempero Drag",
         "marker": {
          "color": "#5b6291",
          "pattern": {
           "shape": ""
          }
         },
         "name": "Tempero Drag",
         "offsetgroup": "Tempero Drag",
         "orientation": "v",
         "showlegend": true,
         "text": [
          "0.183%"
         ],
         "textfont": {
          "color": "#545b89",
          "size": 15
         },
         "textposition": "outside",
         "type": "bar",
         "x": [
          "Tempero Drag"
         ],
         "xaxis": "x",
         "y": [
          228
         ],
         "yaxis": "y"
        },
        {
         "alignmentgroup": "True",
         "hovertemplate": "<b>Channel: %{x}<br>Frequency: %{y:}</b><extra></extra>",
         "legendgroup": "UM BOTÂNICO NO APARTAMENTO",
         "marker": {
          "color": "#5c6392",
          "pattern": {
           "shape": ""
          }
         },
         "name": "UM BOTÂNICO NO APARTAMENTO",
         "offsetgroup": "UM BOTÂNICO NO APARTAMENTO",
         "orientation": "v",
         "showlegend": true,
         "text": [
          "0.181%"
         ],
         "textfont": {
          "color": "#545b89",
          "size": 15
         },
         "textposition": "outside",
         "type": "bar",
         "x": [
          "UM BOTÂNICO NO APARTAMENTO"
         ],
         "xaxis": "x",
         "y": [
          225
         ],
         "yaxis": "y"
        },
        {
         "alignmentgroup": "True",
         "hovertemplate": "<b>Channel: %{x}<br>Frequency: %{y:}</b><extra></extra>",
         "legendgroup": "Urban Gardening",
         "marker": {
          "color": "#5d6493",
          "pattern": {
           "shape": ""
          }
         },
         "name": "Urban Gardening",
         "offsetgroup": "Urban Gardening",
         "orientation": "v",
         "showlegend": true,
         "text": [
          "0.176%"
         ],
         "textfont": {
          "color": "#545b89",
          "size": 15
         },
         "textposition": "outside",
         "type": "bar",
         "x": [
          "Urban Gardening"
         ],
         "xaxis": "x",
         "y": [
          219
         ],
         "yaxis": "y"
        },
        {
         "alignmentgroup": "True",
         "hovertemplate": "<b>Channel: %{x}<br>Frequency: %{y:}</b><extra></extra>",
         "legendgroup": "Animalogic",
         "marker": {
          "color": "#5d6594",
          "pattern": {
           "shape": ""
          }
         },
         "name": "Animalogic",
         "offsetgroup": "Animalogic",
         "orientation": "v",
         "showlegend": true,
         "text": [
          "0.173%"
         ],
         "textfont": {
          "color": "#545b89",
          "size": 15
         },
         "textposition": "outside",
         "type": "bar",
         "x": [
          "Animalogic"
         ],
         "xaxis": "x",
         "y": [
          215
         ],
         "yaxis": "y"
        },
        {
         "alignmentgroup": "True",
         "hovertemplate": "<b>Channel: %{x}<br>Frequency: %{y:}</b><extra></extra>",
         "legendgroup": "Earthling Ed",
         "marker": {
          "color": "#5e6695",
          "pattern": {
           "shape": ""
          }
         },
         "name": "Earthling Ed",
         "offsetgroup": "Earthling Ed",
         "orientation": "v",
         "showlegend": true,
         "text": [
          "0.172%"
         ],
         "textfont": {
          "color": "#545b89",
          "size": 15
         },
         "textposition": "outside",
         "type": "bar",
         "x": [
          "Earthling Ed"
         ],
         "xaxis": "x",
         "y": [
          214
         ],
         "yaxis": "y"
        },
        {
         "alignmentgroup": "True",
         "hovertemplate": "<b>Channel: %{x}<br>Frequency: %{y:}</b><extra></extra>",
         "legendgroup": "Maven of the Eventide",
         "marker": {
          "color": "#5f6696",
          "pattern": {
           "shape": ""
          }
         },
         "name": "Maven of the Eventide",
         "offsetgroup": "Maven of the Eventide",
         "orientation": "v",
         "showlegend": true,
         "text": [
          "0.158%"
         ],
         "textfont": {
          "color": "#545b89",
          "size": 15
         },
         "textposition": "outside",
         "type": "bar",
         "x": [
          "Maven of the Eventide"
         ],
         "xaxis": "x",
         "y": [
          196
         ],
         "yaxis": "y"
        },
        {
         "alignmentgroup": "True",
         "hovertemplate": "<b>Channel: %{x}<br>Frequency: %{y:}</b><extra></extra>",
         "legendgroup": "Wanderlust Travel Videos",
         "marker": {
          "color": "#606797",
          "pattern": {
           "shape": ""
          }
         },
         "name": "Wanderlust Travel Videos",
         "offsetgroup": "Wanderlust Travel Videos",
         "orientation": "v",
         "showlegend": true,
         "text": [
          "0.156%"
         ],
         "textfont": {
          "color": "#545b89",
          "size": 15
         },
         "textposition": "outside",
         "type": "bar",
         "x": [
          "Wanderlust Travel Videos"
         ],
         "xaxis": "x",
         "y": [
          194
         ],
         "yaxis": "y"
        },
        {
         "alignmentgroup": "True",
         "hovertemplate": "<b>Channel: %{x}<br>Frequency: %{y:}</b><extra></extra>",
         "legendgroup": "zefrank1",
         "marker": {
          "color": "#616898",
          "pattern": {
           "shape": ""
          }
         },
         "name": "zefrank1",
         "offsetgroup": "zefrank1",
         "orientation": "v",
         "showlegend": true,
         "text": [
          "0.156%"
         ],
         "textfont": {
          "color": "#545b89",
          "size": 15
         },
         "textposition": "outside",
         "type": "bar",
         "x": [
          "zefrank1"
         ],
         "xaxis": "x",
         "y": [
          194
         ],
         "yaxis": "y"
        },
        {
         "alignmentgroup": "True",
         "hovertemplate": "<b>Channel: %{x}<br>Frequency: %{y:}</b><extra></extra>",
         "legendgroup": "Nox et Lux",
         "marker": {
          "color": "#616999",
          "pattern": {
           "shape": ""
          }
         },
         "name": "Nox et Lux",
         "offsetgroup": "Nox et Lux",
         "orientation": "v",
         "showlegend": true,
         "text": [
          "0.151%"
         ],
         "textfont": {
          "color": "#545b89",
          "size": 15
         },
         "textposition": "outside",
         "type": "bar",
         "x": [
          "Nox et Lux"
         ],
         "xaxis": "x",
         "y": [
          188
         ],
         "yaxis": "y"
        },
        {
         "alignmentgroup": "True",
         "hovertemplate": "<b>Channel: %{x}<br>Frequency: %{y:}</b><extra></extra>",
         "legendgroup": "Uma história a mais",
         "marker": {
          "color": "#626a9a",
          "pattern": {
           "shape": ""
          }
         },
         "name": "Uma história a mais",
         "offsetgroup": "Uma história a mais",
         "orientation": "v",
         "showlegend": true,
         "text": [
          "0.149%"
         ],
         "textfont": {
          "color": "#545b89",
          "size": 15
         },
         "textposition": "outside",
         "type": "bar",
         "x": [
          "Uma história a mais"
         ],
         "xaxis": "x",
         "y": [
          185
         ],
         "yaxis": "y"
        },
        {
         "alignmentgroup": "True",
         "hovertemplate": "<b>Channel: %{x}<br>Frequency: %{y:}</b><extra></extra>",
         "legendgroup": "Curious Droid",
         "marker": {
          "color": "#636b9b",
          "pattern": {
           "shape": ""
          }
         },
         "name": "Curious Droid",
         "offsetgroup": "Curious Droid",
         "orientation": "v",
         "showlegend": true,
         "text": [
          "0.147%"
         ],
         "textfont": {
          "color": "#545b89",
          "size": 15
         },
         "textposition": "outside",
         "type": "bar",
         "x": [
          "Curious Droid"
         ],
         "xaxis": "x",
         "y": [
          183
         ],
         "yaxis": "y"
        },
        {
         "alignmentgroup": "True",
         "hovertemplate": "<b>Channel: %{x}<br>Frequency: %{y:}</b><extra></extra>",
         "legendgroup": "Astrum",
         "marker": {
          "color": "#646c9c",
          "pattern": {
           "shape": ""
          }
         },
         "name": "Astrum",
         "offsetgroup": "Astrum",
         "orientation": "v",
         "showlegend": true,
         "text": [
          "0.147%"
         ],
         "textfont": {
          "color": "#545b89",
          "size": 15
         },
         "textposition": "outside",
         "type": "bar",
         "x": [
          "Astrum"
         ],
         "xaxis": "x",
         "y": [
          183
         ],
         "yaxis": "y"
        },
        {
         "alignmentgroup": "True",
         "hovertemplate": "<b>Channel: %{x}<br>Frequency: %{y:}</b><extra></extra>",
         "legendgroup": "Physics Girl",
         "marker": {
          "color": "#656d9d",
          "pattern": {
           "shape": ""
          }
         },
         "name": "Physics Girl",
         "offsetgroup": "Physics Girl",
         "orientation": "v",
         "showlegend": true,
         "text": [
          "0.146%"
         ],
         "textfont": {
          "color": "#545b89",
          "size": 15
         },
         "textposition": "outside",
         "type": "bar",
         "x": [
          "Physics Girl"
         ],
         "xaxis": "x",
         "y": [
          182
         ],
         "yaxis": "y"
        },
        {
         "alignmentgroup": "True",
         "hovertemplate": "<b>Channel: %{x}<br>Frequency: %{y:}</b><extra></extra>",
         "legendgroup": "PBS Eons",
         "marker": {
          "color": "#666d9e",
          "pattern": {
           "shape": ""
          }
         },
         "name": "PBS Eons",
         "offsetgroup": "PBS Eons",
         "orientation": "v",
         "showlegend": true,
         "text": [
          "0.144%"
         ],
         "textfont": {
          "color": "#545b89",
          "size": 15
         },
         "textposition": "outside",
         "type": "bar",
         "x": [
          "PBS Eons"
         ],
         "xaxis": "x",
         "y": [
          179
         ],
         "yaxis": "y"
        },
        {
         "alignmentgroup": "True",
         "hovertemplate": "<b>Channel: %{x}<br>Frequency: %{y:}</b><extra></extra>",
         "legendgroup": "Imperial War Museums",
         "marker": {
          "color": "#676e9f",
          "pattern": {
           "shape": ""
          }
         },
         "name": "Imperial War Museums",
         "offsetgroup": "Imperial War Museums",
         "orientation": "v",
         "showlegend": true,
         "text": [
          "0.141%"
         ],
         "textfont": {
          "color": "#545b89",
          "size": 15
         },
         "textposition": "outside",
         "type": "bar",
         "x": [
          "Imperial War Museums"
         ],
         "xaxis": "x",
         "y": [
          176
         ],
         "yaxis": "y"
        },
        {
         "alignmentgroup": "True",
         "hovertemplate": "<b>Channel: %{x}<br>Frequency: %{y:}</b><extra></extra>",
         "legendgroup": "Launch Pad Astronomy",
         "marker": {
          "color": "#676fa0",
          "pattern": {
           "shape": ""
          }
         },
         "name": "Launch Pad Astronomy",
         "offsetgroup": "Launch Pad Astronomy",
         "orientation": "v",
         "showlegend": true,
         "text": [
          "0.135%"
         ],
         "textfont": {
          "color": "#545b89",
          "size": 15
         },
         "textposition": "outside",
         "type": "bar",
         "x": [
          "Launch Pad Astronomy"
         ],
         "xaxis": "x",
         "y": [
          168
         ],
         "yaxis": "y"
        },
        {
         "alignmentgroup": "True",
         "hovertemplate": "<b>Channel: %{x}<br>Frequency: %{y:}</b><extra></extra>",
         "legendgroup": "Marcel Vos",
         "marker": {
          "color": "#6870a1",
          "pattern": {
           "shape": ""
          }
         },
         "name": "Marcel Vos",
         "offsetgroup": "Marcel Vos",
         "orientation": "v",
         "showlegend": true,
         "text": [
          "0.132%"
         ],
         "textfont": {
          "color": "#545b89",
          "size": 15
         },
         "textposition": "outside",
         "type": "bar",
         "x": [
          "Marcel Vos"
         ],
         "xaxis": "x",
         "y": [
          164
         ],
         "yaxis": "y"
        },
        {
         "alignmentgroup": "True",
         "hovertemplate": "<b>Channel: %{x}<br>Frequency: %{y:}</b><extra></extra>",
         "legendgroup": "VIEWGANAS",
         "marker": {
          "color": "#6971a2",
          "pattern": {
           "shape": ""
          }
         },
         "name": "VIEWGANAS",
         "offsetgroup": "VIEWGANAS",
         "orientation": "v",
         "showlegend": true,
         "text": [
          "0.129%"
         ],
         "textfont": {
          "color": "#545b89",
          "size": 15
         },
         "textposition": "outside",
         "type": "bar",
         "x": [
          "VIEWGANAS"
         ],
         "xaxis": "x",
         "y": [
          161
         ],
         "yaxis": "y"
        },
        {
         "alignmentgroup": "True",
         "hovertemplate": "<b>Channel: %{x}<br>Frequency: %{y:}</b><extra></extra>",
         "legendgroup": "MetaBallStudios",
         "marker": {
          "color": "#6a72a3",
          "pattern": {
           "shape": ""
          }
         },
         "name": "MetaBallStudios",
         "offsetgroup": "MetaBallStudios",
         "orientation": "v",
         "showlegend": true,
         "text": [
          "0.129%"
         ],
         "textfont": {
          "color": "#545b89",
          "size": 15
         },
         "textposition": "outside",
         "type": "bar",
         "x": [
          "MetaBallStudios"
         ],
         "xaxis": "x",
         "y": [
          161
         ],
         "yaxis": "y"
        },
        {
         "alignmentgroup": "True",
         "hovertemplate": "<b>Channel: %{x}<br>Frequency: %{y:}</b><extra></extra>",
         "legendgroup": "AstroTubers",
         "marker": {
          "color": "#6b73a4",
          "pattern": {
           "shape": ""
          }
         },
         "name": "AstroTubers",
         "offsetgroup": "AstroTubers",
         "orientation": "v",
         "showlegend": true,
         "text": [
          "0.125%"
         ],
         "textfont": {
          "color": "#545b89",
          "size": 15
         },
         "textposition": "outside",
         "type": "bar",
         "x": [
          "AstroTubers"
         ],
         "xaxis": "x",
         "y": [
          155
         ],
         "yaxis": "y"
        },
        {
         "alignmentgroup": "True",
         "hovertemplate": "<b>Channel: %{x}<br>Frequency: %{y:}</b><extra></extra>",
         "legendgroup": "Primitive Building",
         "marker": {
          "color": "#6b73a5",
          "pattern": {
           "shape": ""
          }
         },
         "name": "Primitive Building",
         "offsetgroup": "Primitive Building",
         "orientation": "v",
         "showlegend": true,
         "text": [
          "0.122%"
         ],
         "textfont": {
          "color": "#545b89",
          "size": 15
         },
         "textposition": "outside",
         "type": "bar",
         "x": [
          "Primitive Building"
         ],
         "xaxis": "x",
         "y": [
          152
         ],
         "yaxis": "y"
        },
        {
         "alignmentgroup": "True",
         "hovertemplate": "<b>Channel: %{x}<br>Frequency: %{y:}</b><extra></extra>",
         "legendgroup": "Kurzgesagt – In a Nutshell",
         "marker": {
          "color": "#6c75a6",
          "pattern": {
           "shape": ""
          }
         },
         "name": "Kurzgesagt – In a Nutshell",
         "offsetgroup": "Kurzgesagt – In a Nutshell",
         "orientation": "v",
         "showlegend": true,
         "text": [
          "0.121%"
         ],
         "textfont": {
          "color": "#545b89",
          "size": 15
         },
         "textposition": "outside",
         "type": "bar",
         "x": [
          "Kurzgesagt – In a Nutshell"
         ],
         "xaxis": "x",
         "y": [
          150
         ],
         "yaxis": "y"
        },
        {
         "alignmentgroup": "True",
         "hovertemplate": "<b>Channel: %{x}<br>Frequency: %{y:}</b><extra></extra>",
         "legendgroup": "Prof. André Azevedo da Fonseca",
         "marker": {
          "color": "#6d76a7",
          "pattern": {
           "shape": ""
          }
         },
         "name": "Prof. André Azevedo da Fonseca",
         "offsetgroup": "Prof. André Azevedo da Fonseca",
         "orientation": "v",
         "showlegend": true,
         "text": [
          "0.113%"
         ],
         "textfont": {
          "color": "#545b89",
          "size": 15
         },
         "textposition": "outside",
         "type": "bar",
         "x": [
          "Prof. André Azevedo da Fonseca"
         ],
         "xaxis": "x",
         "y": [
          141
         ],
         "yaxis": "y"
        },
        {
         "alignmentgroup": "True",
         "hovertemplate": "<b>Channel: %{x}<br>Frequency: %{y:}</b><extra></extra>",
         "legendgroup": "Mintfaery",
         "marker": {
          "color": "#6e76a8",
          "pattern": {
           "shape": ""
          }
         },
         "name": "Mintfaery",
         "offsetgroup": "Mintfaery",
         "orientation": "v",
         "showlegend": true,
         "text": [
          "0.112%"
         ],
         "textfont": {
          "color": "#545b89",
          "size": 15
         },
         "textposition": "outside",
         "type": "bar",
         "x": [
          "Mintfaery"
         ],
         "xaxis": "x",
         "y": [
          139
         ],
         "yaxis": "y"
        },
        {
         "alignmentgroup": "True",
         "hovertemplate": "<b>Channel: %{x}<br>Frequency: %{y:}</b><extra></extra>",
         "legendgroup": "Chaves Estranho",
         "marker": {
          "color": "#6f77a9",
          "pattern": {
           "shape": ""
          }
         },
         "name": "Chaves Estranho",
         "offsetgroup": "Chaves Estranho",
         "orientation": "v",
         "showlegend": true,
         "text": [
          "0.112%"
         ],
         "textfont": {
          "color": "#545b89",
          "size": 15
         },
         "textposition": "outside",
         "type": "bar",
         "x": [
          "Chaves Estranho"
         ],
         "xaxis": "x",
         "y": [
          139
         ],
         "yaxis": "y"
        },
        {
         "alignmentgroup": "True",
         "hovertemplate": "<b>Channel: %{x}<br>Frequency: %{y:}</b><extra></extra>",
         "legendgroup": "Atila Iamarino",
         "marker": {
          "color": "#7078aa",
          "pattern": {
           "shape": ""
          }
         },
         "name": "Atila Iamarino",
         "offsetgroup": "Atila Iamarino",
         "orientation": "v",
         "showlegend": true,
         "text": [
          "0.108%"
         ],
         "textfont": {
          "color": "#545b89",
          "size": 15
         },
         "textposition": "outside",
         "type": "bar",
         "x": [
          "Atila Iamarino"
         ],
         "xaxis": "x",
         "y": [
          134
         ],
         "yaxis": "y"
        },
        {
         "alignmentgroup": "True",
         "hovertemplate": "<b>Channel: %{x}<br>Frequency: %{y:}</b><extra></extra>",
         "legendgroup": "Real Engineering",
         "marker": {
          "color": "#7179ab",
          "pattern": {
           "shape": ""
          }
         },
         "name": "Real Engineering",
         "offsetgroup": "Real Engineering",
         "orientation": "v",
         "showlegend": true,
         "text": [
          "0.105%"
         ],
         "textfont": {
          "color": "#545b89",
          "size": 15
         },
         "textposition": "outside",
         "type": "bar",
         "x": [
          "Real Engineering"
         ],
         "xaxis": "x",
         "y": [
          131
         ],
         "yaxis": "y"
        },
        {
         "alignmentgroup": "True",
         "hovertemplate": "<b>Channel: %{x}<br>Frequency: %{y:}</b><extra></extra>",
         "legendgroup": "O Pimentinha",
         "marker": {
          "color": "#727aac",
          "pattern": {
           "shape": ""
          }
         },
         "name": "O Pimentinha",
         "offsetgroup": "O Pimentinha",
         "orientation": "v",
         "showlegend": true,
         "text": [
          "0.105%"
         ],
         "textfont": {
          "color": "#545b89",
          "size": 15
         },
         "textposition": "outside",
         "type": "bar",
         "x": [
          "O Pimentinha"
         ],
         "xaxis": "x",
         "y": [
          130
         ],
         "yaxis": "y"
        },
        {
         "alignmentgroup": "True",
         "hovertemplate": "<b>Channel: %{x}<br>Frequency: %{y:}</b><extra></extra>",
         "legendgroup": "Hello Korea",
         "marker": {
          "color": "#727bad",
          "pattern": {
           "shape": ""
          }
         },
         "name": "Hello Korea",
         "offsetgroup": "Hello Korea",
         "orientation": "v",
         "showlegend": true,
         "text": [
          "0.104%"
         ],
         "textfont": {
          "color": "#545b89",
          "size": 15
         },
         "textposition": "outside",
         "type": "bar",
         "x": [
          "Hello Korea"
         ],
         "xaxis": "x",
         "y": [
          129
         ],
         "yaxis": "y"
        },
        {
         "alignmentgroup": "True",
         "hovertemplate": "<b>Channel: %{x}<br>Frequency: %{y:}</b><extra></extra>",
         "legendgroup": "Journey to the Microcosmos",
         "marker": {
          "color": "#737cae",
          "pattern": {
           "shape": ""
          }
         },
         "name": "Journey to the Microcosmos",
         "offsetgroup": "Journey to the Microcosmos",
         "orientation": "v",
         "showlegend": true,
         "text": [
          "0.097%"
         ],
         "textfont": {
          "color": "#545b89",
          "size": 15
         },
         "textposition": "outside",
         "type": "bar",
         "x": [
          "Journey to the Microcosmos"
         ],
         "xaxis": "x",
         "y": [
          121
         ],
         "yaxis": "y"
        },
        {
         "alignmentgroup": "True",
         "hovertemplate": "<b>Channel: %{x}<br>Frequency: %{y:}</b><extra></extra>",
         "legendgroup": "3Blue1Brown",
         "marker": {
          "color": "#747caf",
          "pattern": {
           "shape": ""
          }
         },
         "name": "3Blue1Brown",
         "offsetgroup": "3Blue1Brown",
         "orientation": "v",
         "showlegend": true,
         "text": [
          "0.095%"
         ],
         "textfont": {
          "color": "#545b89",
          "size": 15
         },
         "textposition": "outside",
         "type": "bar",
         "x": [
          "3Blue1Brown"
         ],
         "xaxis": "x",
         "y": [
          118
         ],
         "yaxis": "y"
        },
        {
         "alignmentgroup": "True",
         "hovertemplate": "<b>Channel: %{x}<br>Frequency: %{y:}</b><extra></extra>",
         "legendgroup": "Nerdforge",
         "marker": {
          "color": "#757db0",
          "pattern": {
           "shape": ""
          }
         },
         "name": "Nerdforge",
         "offsetgroup": "Nerdforge",
         "orientation": "v",
         "showlegend": true,
         "text": [
          "0.091%"
         ],
         "textfont": {
          "color": "#545b89",
          "size": 15
         },
         "textposition": "outside",
         "type": "bar",
         "x": [
          "Nerdforge"
         ],
         "xaxis": "x",
         "y": [
          113
         ],
         "yaxis": "y"
        },
        {
         "alignmentgroup": "True",
         "hovertemplate": "<b>Channel: %{x}<br>Frequency: %{y:}</b><extra></extra>",
         "legendgroup": "Anglo-Link",
         "marker": {
          "color": "#767eb1",
          "pattern": {
           "shape": ""
          }
         },
         "name": "Anglo-Link",
         "offsetgroup": "Anglo-Link",
         "orientation": "v",
         "showlegend": true,
         "text": [
          "0.087%"
         ],
         "textfont": {
          "color": "#545b89",
          "size": 15
         },
         "textposition": "outside",
         "type": "bar",
         "x": [
          "Anglo-Link"
         ],
         "xaxis": "x",
         "y": [
          108
         ],
         "yaxis": "y"
        },
        {
         "alignmentgroup": "True",
         "hovertemplate": "<b>Channel: %{x}<br>Frequency: %{y:}</b><extra></extra>",
         "legendgroup": "Simone Giertz",
         "marker": {
          "color": "#767fb2",
          "pattern": {
           "shape": ""
          }
         },
         "name": "Simone Giertz",
         "offsetgroup": "Simone Giertz",
         "orientation": "v",
         "showlegend": true,
         "text": [
          "0.082%"
         ],
         "textfont": {
          "color": "#545b89",
          "size": 15
         },
         "textposition": "outside",
         "type": "bar",
         "x": [
          "Simone Giertz"
         ],
         "xaxis": "x",
         "y": [
          102
         ],
         "yaxis": "y"
        },
        {
         "alignmentgroup": "True",
         "hovertemplate": "<b>Channel: %{x}<br>Frequency: %{y:}</b><extra></extra>",
         "legendgroup": "Matt Jordan",
         "marker": {
          "color": "#7780b3",
          "pattern": {
           "shape": ""
          }
         },
         "name": "Matt Jordan",
         "offsetgroup": "Matt Jordan",
         "orientation": "v",
         "showlegend": true,
         "text": [
          "0.081%"
         ],
         "textfont": {
          "color": "#545b89",
          "size": 15
         },
         "textposition": "outside",
         "type": "bar",
         "x": [
          "Matt Jordan"
         ],
         "xaxis": "x",
         "y": [
          101
         ],
         "yaxis": "y"
        },
        {
         "alignmentgroup": "True",
         "hovertemplate": "<b>Channel: %{x}<br>Frequency: %{y:}</b><extra></extra>",
         "legendgroup": "Captain Disillusion",
         "marker": {
          "color": "#7881b4",
          "pattern": {
           "shape": ""
          }
         },
         "name": "Captain Disillusion",
         "offsetgroup": "Captain Disillusion",
         "orientation": "v",
         "showlegend": true,
         "text": [
          "0.081%"
         ],
         "textfont": {
          "color": "#545b89",
          "size": 15
         },
         "textposition": "outside",
         "type": "bar",
         "x": [
          "Captain Disillusion"
         ],
         "xaxis": "x",
         "y": [
          101
         ],
         "yaxis": "y"
        },
        {
         "alignmentgroup": "True",
         "hovertemplate": "<b>Channel: %{x}<br>Frequency: %{y:}</b><extra></extra>",
         "legendgroup": "Baumgartner Restoration",
         "marker": {
          "color": "#7982b5",
          "pattern": {
           "shape": ""
          }
         },
         "name": "Baumgartner Restoration",
         "offsetgroup": "Baumgartner Restoration",
         "orientation": "v",
         "showlegend": true,
         "text": [
          "0.08%"
         ],
         "textfont": {
          "color": "#545b89",
          "size": 15
         },
         "textposition": "outside",
         "type": "bar",
         "x": [
          "Baumgartner Restoration"
         ],
         "xaxis": "x",
         "y": [
          100
         ],
         "yaxis": "y"
        },
        {
         "alignmentgroup": "True",
         "hovertemplate": "<b>Channel: %{x}<br>Frequency: %{y:}</b><extra></extra>",
         "legendgroup": "All Things Secured",
         "marker": {
          "color": "#7a83b6",
          "pattern": {
           "shape": ""
          }
         },
         "name": "All Things Secured",
         "offsetgroup": "All Things Secured",
         "orientation": "v",
         "showlegend": true,
         "text": [
          "0.08%"
         ],
         "textfont": {
          "color": "#545b89",
          "size": 15
         },
         "textposition": "outside",
         "type": "bar",
         "x": [
          "All Things Secured"
         ],
         "xaxis": "x",
         "y": [
          99
         ],
         "yaxis": "y"
        },
        {
         "alignmentgroup": "True",
         "hovertemplate": "<b>Channel: %{x}<br>Frequency: %{y:}</b><extra></extra>",
         "legendgroup": "Intensivo Pedagógico",
         "marker": {
          "color": "#7b83b7",
          "pattern": {
           "shape": ""
          }
         },
         "name": "Intensivo Pedagógico",
         "offsetgroup": "Intensivo Pedagógico",
         "orientation": "v",
         "showlegend": true,
         "text": [
          "0.079%"
         ],
         "textfont": {
          "color": "#545b89",
          "size": 15
         },
         "textposition": "outside",
         "type": "bar",
         "x": [
          "Intensivo Pedagógico"
         ],
         "xaxis": "x",
         "y": [
          98
         ],
         "yaxis": "y"
        },
        {
         "alignmentgroup": "True",
         "hovertemplate": "<b>Channel: %{x}<br>Frequency: %{y:}</b><extra></extra>",
         "legendgroup": "Stefan Milo",
         "marker": {
          "color": "#7c84b8",
          "pattern": {
           "shape": ""
          }
         },
         "name": "Stefan Milo",
         "offsetgroup": "Stefan Milo",
         "orientation": "v",
         "showlegend": true,
         "text": [
          "0.077%"
         ],
         "textfont": {
          "color": "#545b89",
          "size": 15
         },
         "textposition": "outside",
         "type": "bar",
         "x": [
          "Stefan Milo"
         ],
         "xaxis": "x",
         "y": [
          96
         ],
         "yaxis": "y"
        },
        {
         "alignmentgroup": "True",
         "hovertemplate": "<b>Channel: %{x}<br>Frequency: %{y:}</b><extra></extra>",
         "legendgroup": "The Green Witch",
         "marker": {
          "color": "#7c85b9",
          "pattern": {
           "shape": ""
          }
         },
         "name": "The Green Witch",
         "offsetgroup": "The Green Witch",
         "orientation": "v",
         "showlegend": true,
         "text": [
          "0.076%"
         ],
         "textfont": {
          "color": "#545b89",
          "size": 15
         },
         "textposition": "outside",
         "type": "bar",
         "x": [
          "The Green Witch"
         ],
         "xaxis": "x",
         "y": [
          95
         ],
         "yaxis": "y"
        },
        {
         "alignmentgroup": "True",
         "hovertemplate": "<b>Channel: %{x}<br>Frequency: %{y:}</b><extra></extra>",
         "legendgroup": "OwlKitty",
         "marker": {
          "color": "#7d86ba",
          "pattern": {
           "shape": ""
          }
         },
         "name": "OwlKitty",
         "offsetgroup": "OwlKitty",
         "orientation": "v",
         "showlegend": true,
         "text": [
          "0.073%"
         ],
         "textfont": {
          "color": "#545b89",
          "size": 15
         },
         "textposition": "outside",
         "type": "bar",
         "x": [
          "OwlKitty"
         ],
         "xaxis": "x",
         "y": [
          91
         ],
         "yaxis": "y"
        },
        {
         "alignmentgroup": "True",
         "hovertemplate": "<b>Channel: %{x}<br>Frequency: %{y:}</b><extra></extra>",
         "legendgroup": "Planeta Aves",
         "marker": {
          "color": "#7e87bc",
          "pattern": {
           "shape": ""
          }
         },
         "name": "Planeta Aves",
         "offsetgroup": "Planeta Aves",
         "orientation": "v",
         "showlegend": true,
         "text": [
          "0.07%"
         ],
         "textfont": {
          "color": "#545b89",
          "size": 15
         },
         "textposition": "outside",
         "type": "bar",
         "x": [
          "Planeta Aves"
         ],
         "xaxis": "x",
         "y": [
          87
         ],
         "yaxis": "y"
        },
        {
         "alignmentgroup": "True",
         "hovertemplate": "<b>Channel: %{x}<br>Frequency: %{y:}</b><extra></extra>",
         "legendgroup": "The Tim Traveller",
         "marker": {
          "color": "#7f88bc",
          "pattern": {
           "shape": ""
          }
         },
         "name": "The Tim Traveller",
         "offsetgroup": "The Tim Traveller",
         "orientation": "v",
         "showlegend": true,
         "text": [
          "0.068%"
         ],
         "textfont": {
          "color": "#545b89",
          "size": 15
         },
         "textposition": "outside",
         "type": "bar",
         "x": [
          "The Tim Traveller"
         ],
         "xaxis": "x",
         "y": [
          84
         ],
         "yaxis": "y"
        },
        {
         "alignmentgroup": "True",
         "hovertemplate": "<b>Channel: %{x}<br>Frequency: %{y:}</b><extra></extra>",
         "legendgroup": "Wanna Walk",
         "marker": {
          "color": "#8089bd",
          "pattern": {
           "shape": ""
          }
         },
         "name": "Wanna Walk",
         "offsetgroup": "Wanna Walk",
         "orientation": "v",
         "showlegend": true,
         "text": [
          "0.068%"
         ],
         "textfont": {
          "color": "#545b89",
          "size": 15
         },
         "textposition": "outside",
         "type": "bar",
         "x": [
          "Wanna Walk"
         ],
         "xaxis": "x",
         "y": [
          84
         ],
         "yaxis": "y"
        },
        {
         "alignmentgroup": "True",
         "hovertemplate": "<b>Channel: %{x}<br>Frequency: %{y:}</b><extra></extra>",
         "legendgroup": "Jay Foreman",
         "marker": {
          "color": "#8089be",
          "pattern": {
           "shape": ""
          }
         },
         "name": "Jay Foreman",
         "offsetgroup": "Jay Foreman",
         "orientation": "v",
         "showlegend": true,
         "text": [
          "0.068%"
         ],
         "textfont": {
          "color": "#545b89",
          "size": 15
         },
         "textposition": "outside",
         "type": "bar",
         "x": [
          "Jay Foreman"
         ],
         "xaxis": "x",
         "y": [
          84
         ],
         "yaxis": "y"
        },
        {
         "alignmentgroup": "True",
         "hovertemplate": "<b>Channel: %{x}<br>Frequency: %{y:}</b><extra></extra>",
         "legendgroup": "Chess Talk",
         "marker": {
          "color": "#818abf",
          "pattern": {
           "shape": ""
          }
         },
         "name": "Chess Talk",
         "offsetgroup": "Chess Talk",
         "orientation": "v",
         "showlegend": true,
         "text": [
          "0.067%"
         ],
         "textfont": {
          "color": "#545b89",
          "size": 15
         },
         "textposition": "outside",
         "type": "bar",
         "x": [
          "Chess Talk"
         ],
         "xaxis": "x",
         "y": [
          83
         ],
         "yaxis": "y"
        },
        {
         "alignmentgroup": "True",
         "hovertemplate": "<b>Channel: %{x}<br>Frequency: %{y:}</b><extra></extra>",
         "legendgroup": "DutchPilotGirl",
         "marker": {
          "color": "#838cc1",
          "pattern": {
           "shape": ""
          }
         },
         "name": "DutchPilotGirl",
         "offsetgroup": "DutchPilotGirl",
         "orientation": "v",
         "showlegend": true,
         "text": [
          "0.066%"
         ],
         "textfont": {
          "color": "#545b89",
          "size": 15
         },
         "textposition": "outside",
         "type": "bar",
         "x": [
          "DutchPilotGirl"
         ],
         "xaxis": "x",
         "y": [
          82
         ],
         "yaxis": "y"
        },
        {
         "alignmentgroup": "True",
         "hovertemplate": "<b>Channel: %{x}<br>Frequency: %{y:}</b><extra></extra>",
         "legendgroup": "cyriak",
         "marker": {
          "color": "#838cc1",
          "pattern": {
           "shape": ""
          }
         },
         "name": "cyriak",
         "offsetgroup": "cyriak",
         "orientation": "v",
         "showlegend": true,
         "text": [
          "0.063%"
         ],
         "textfont": {
          "color": "#545b89",
          "size": 15
         },
         "textposition": "outside",
         "type": "bar",
         "x": [
          "cyriak"
         ],
         "xaxis": "x",
         "y": [
          78
         ],
         "yaxis": "y"
        },
        {
         "alignmentgroup": "True",
         "hovertemplate": "<b>Channel: %{x}<br>Frequency: %{y:}</b><extra></extra>",
         "legendgroup": "Microsoft Flight Simulator",
         "marker": {
          "color": "#848dc2",
          "pattern": {
           "shape": ""
          }
         },
         "name": "Microsoft Flight Simulator",
         "offsetgroup": "Microsoft Flight Simulator",
         "orientation": "v",
         "showlegend": true,
         "text": [
          "0.062%"
         ],
         "textfont": {
          "color": "#545b89",
          "size": 15
         },
         "textposition": "outside",
         "type": "bar",
         "x": [
          "Microsoft Flight Simulator"
         ],
         "xaxis": "x",
         "y": [
          77
         ],
         "yaxis": "y"
        },
        {
         "alignmentgroup": "True",
         "hovertemplate": "<b>Channel: %{x}<br>Frequency: %{y:}</b><extra></extra>",
         "legendgroup": "Cinema Therapy",
         "marker": {
          "color": "#858ec3",
          "pattern": {
           "shape": ""
          }
         },
         "name": "Cinema Therapy",
         "offsetgroup": "Cinema Therapy",
         "orientation": "v",
         "showlegend": true,
         "text": [
          "0.058%"
         ],
         "textfont": {
          "color": "#545b89",
          "size": 15
         },
         "textposition": "outside",
         "type": "bar",
         "x": [
          "Cinema Therapy"
         ],
         "xaxis": "x",
         "y": [
          72
         ],
         "yaxis": "y"
        },
        {
         "alignmentgroup": "True",
         "hovertemplate": "<b>Channel: %{x}<br>Frequency: %{y:}</b><extra></extra>",
         "legendgroup": "Fala Vegan",
         "marker": {
          "color": "#868fc4",
          "pattern": {
           "shape": ""
          }
         },
         "name": "Fala Vegan",
         "offsetgroup": "Fala Vegan",
         "orientation": "v",
         "showlegend": true,
         "text": [
          "0.054%"
         ],
         "textfont": {
          "color": "#545b89",
          "size": 15
         },
         "textposition": "outside",
         "type": "bar",
         "x": [
          "Fala Vegan"
         ],
         "xaxis": "x",
         "y": [
          67
         ],
         "yaxis": "y"
        },
        {
         "alignmentgroup": "True",
         "hovertemplate": "<b>Channel: %{x}<br>Frequency: %{y:}</b><extra></extra>",
         "legendgroup": "Integrando Conhecimento",
         "marker": {
          "color": "#8790c6",
          "pattern": {
           "shape": ""
          }
         },
         "name": "Integrando Conhecimento",
         "offsetgroup": "Integrando Conhecimento",
         "orientation": "v",
         "showlegend": true,
         "text": [
          "0.051%"
         ],
         "textfont": {
          "color": "#545b89",
          "size": 15
         },
         "textposition": "outside",
         "type": "bar",
         "x": [
          "Integrando Conhecimento"
         ],
         "xaxis": "x",
         "y": [
          64
         ],
         "yaxis": "y"
        },
        {
         "alignmentgroup": "True",
         "hovertemplate": "<b>Channel: %{x}<br>Frequency: %{y:}</b><extra></extra>",
         "legendgroup": "OneikaTraveller",
         "marker": {
          "color": "#8791c6",
          "pattern": {
           "shape": ""
          }
         },
         "name": "OneikaTraveller",
         "offsetgroup": "OneikaTraveller",
         "orientation": "v",
         "showlegend": true,
         "text": [
          "0.049%"
         ],
         "textfont": {
          "color": "#545b89",
          "size": 15
         },
         "textposition": "outside",
         "type": "bar",
         "x": [
          "OneikaTraveller"
         ],
         "xaxis": "x",
         "y": [
          61
         ],
         "yaxis": "y"
        },
        {
         "alignmentgroup": "True",
         "hovertemplate": "<b>Channel: %{x}<br>Frequency: %{y:}</b><extra></extra>",
         "legendgroup": "OnlyConnect Fan",
         "marker": {
          "color": "#8892c7",
          "pattern": {
           "shape": ""
          }
         },
         "name": "OnlyConnect Fan",
         "offsetgroup": "OnlyConnect Fan",
         "orientation": "v",
         "showlegend": true,
         "text": [
          "0.042%"
         ],
         "textfont": {
          "color": "#545b89",
          "size": 15
         },
         "textposition": "outside",
         "type": "bar",
         "x": [
          "OnlyConnect Fan"
         ],
         "xaxis": "x",
         "y": [
          52
         ],
         "yaxis": "y"
        },
        {
         "alignmentgroup": "True",
         "hovertemplate": "<b>Channel: %{x}<br>Frequency: %{y:}</b><extra></extra>",
         "legendgroup": "VeganBlackMetalChef",
         "marker": {
          "color": "#8992c8",
          "pattern": {
           "shape": ""
          }
         },
         "name": "VeganBlackMetalChef",
         "offsetgroup": "VeganBlackMetalChef",
         "orientation": "v",
         "showlegend": true,
         "text": [
          "0.038%"
         ],
         "textfont": {
          "color": "#545b89",
          "size": 15
         },
         "textposition": "outside",
         "type": "bar",
         "x": [
          "VeganBlackMetalChef"
         ],
         "xaxis": "x",
         "y": [
          47
         ],
         "yaxis": "y"
        },
        {
         "alignmentgroup": "True",
         "hovertemplate": "<b>Channel: %{x}<br>Frequency: %{y:}</b><extra></extra>",
         "legendgroup": "Cradle Of Filth",
         "marker": {
          "color": "#8a93c9",
          "pattern": {
           "shape": ""
          }
         },
         "name": "Cradle Of Filth",
         "offsetgroup": "Cradle Of Filth",
         "orientation": "v",
         "showlegend": true,
         "text": [
          "0.038%"
         ],
         "textfont": {
          "color": "#545b89",
          "size": 15
         },
         "textposition": "outside",
         "type": "bar",
         "x": [
          "Cradle Of Filth"
         ],
         "xaxis": "x",
         "y": [
          47
         ],
         "yaxis": "y"
        },
        {
         "alignmentgroup": "True",
         "hovertemplate": "<b>Channel: %{x}<br>Frequency: %{y:}</b><extra></extra>",
         "legendgroup": "Subject Zero Science",
         "marker": {
          "color": "#8b94cb",
          "pattern": {
           "shape": ""
          }
         },
         "name": "Subject Zero Science",
         "offsetgroup": "Subject Zero Science",
         "orientation": "v",
         "showlegend": true,
         "text": [
          "0.035%"
         ],
         "textfont": {
          "color": "#545b89",
          "size": 15
         },
         "textposition": "outside",
         "type": "bar",
         "x": [
          "Subject Zero Science"
         ],
         "xaxis": "x",
         "y": [
          43
         ],
         "yaxis": "y"
        },
        {
         "alignmentgroup": "True",
         "hovertemplate": "<b>Channel: %{x}<br>Frequency: %{y:}</b><extra></extra>",
         "legendgroup": "OBF",
         "marker": {
          "color": "#8b95cb",
          "pattern": {
           "shape": ""
          }
         },
         "name": "OBF",
         "offsetgroup": "OBF",
         "orientation": "v",
         "showlegend": true,
         "text": [
          "0.032%"
         ],
         "textfont": {
          "color": "#545b89",
          "size": 15
         },
         "textposition": "outside",
         "type": "bar",
         "x": [
          "OBF"
         ],
         "xaxis": "x",
         "y": [
          40
         ],
         "yaxis": "y"
        },
        {
         "alignmentgroup": "True",
         "hovertemplate": "<b>Channel: %{x}<br>Frequency: %{y:}</b><extra></extra>",
         "legendgroup": "neo",
         "marker": {
          "color": "#8c96cc",
          "pattern": {
           "shape": ""
          }
         },
         "name": "neo",
         "offsetgroup": "neo",
         "orientation": "v",
         "showlegend": true,
         "text": [
          "0.03%"
         ],
         "textfont": {
          "color": "#545b89",
          "size": 15
         },
         "textposition": "outside",
         "type": "bar",
         "x": [
          "neo"
         ],
         "xaxis": "x",
         "y": [
          37
         ],
         "yaxis": "y"
        },
        {
         "alignmentgroup": "True",
         "hovertemplate": "<b>Channel: %{x}<br>Frequency: %{y:}</b><extra></extra>",
         "legendgroup": "Mustard",
         "marker": {
          "color": "#8d97cd",
          "pattern": {
           "shape": ""
          }
         },
         "name": "Mustard",
         "offsetgroup": "Mustard",
         "orientation": "v",
         "showlegend": true,
         "text": [
          "0.029%"
         ],
         "textfont": {
          "color": "#545b89",
          "size": 15
         },
         "textposition": "outside",
         "type": "bar",
         "x": [
          "Mustard"
         ],
         "xaxis": "x",
         "y": [
          36
         ],
         "yaxis": "y"
        },
        {
         "alignmentgroup": "True",
         "hovertemplate": "<b>Channel: %{x}<br>Frequency: %{y:}</b><extra></extra>",
         "legendgroup": "Huygens Optics",
         "marker": {
          "color": "#8e98ce",
          "pattern": {
           "shape": ""
          }
         },
         "name": "Huygens Optics",
         "offsetgroup": "Huygens Optics",
         "orientation": "v",
         "showlegend": true,
         "text": [
          "0.024%"
         ],
         "textfont": {
          "color": "#545b89",
          "size": 15
         },
         "textposition": "outside",
         "type": "bar",
         "x": [
          "Huygens Optics"
         ],
         "xaxis": "x",
         "y": [
          30
         ],
         "yaxis": "y"
        },
        {
         "alignmentgroup": "True",
         "hovertemplate": "<b>Channel: %{x}<br>Frequency: %{y:}</b><extra></extra>",
         "legendgroup": "Fancy Fairy Wings & Things",
         "marker": {
          "color": "#8f99d0",
          "pattern": {
           "shape": ""
          }
         },
         "name": "Fancy Fairy Wings & Things",
         "offsetgroup": "Fancy Fairy Wings & Things",
         "orientation": "v",
         "showlegend": true,
         "text": [
          "0.022%"
         ],
         "textfont": {
          "color": "#545b89",
          "size": 15
         },
         "textposition": "outside",
         "type": "bar",
         "x": [
          "Fancy Fairy Wings & Things"
         ],
         "xaxis": "x",
         "y": [
          27
         ],
         "yaxis": "y"
        },
        {
         "alignmentgroup": "True",
         "hovertemplate": "<b>Channel: %{x}<br>Frequency: %{y:}</b><extra></extra>",
         "legendgroup": "Your Dinosaurs Are Wrong",
         "marker": {
          "color": "#9099d0",
          "pattern": {
           "shape": ""
          }
         },
         "name": "Your Dinosaurs Are Wrong",
         "offsetgroup": "Your Dinosaurs Are Wrong",
         "orientation": "v",
         "showlegend": true,
         "text": [
          "0.022%"
         ],
         "textfont": {
          "color": "#545b89",
          "size": 15
         },
         "textposition": "outside",
         "type": "bar",
         "x": [
          "Your Dinosaurs Are Wrong"
         ],
         "xaxis": "x",
         "y": [
          27
         ],
         "yaxis": "y"
        },
        {
         "alignmentgroup": "True",
         "hovertemplate": "<b>Channel: %{x}<br>Frequency: %{y:}</b><extra></extra>",
         "legendgroup": "Studson Studio",
         "marker": {
          "color": "#919ad1",
          "pattern": {
           "shape": ""
          }
         },
         "name": "Studson Studio",
         "offsetgroup": "Studson Studio",
         "orientation": "v",
         "showlegend": true,
         "text": [
          "0.02%"
         ],
         "textfont": {
          "color": "#545b89",
          "size": 15
         },
         "textposition": "outside",
         "type": "bar",
         "x": [
          "Studson Studio"
         ],
         "xaxis": "x",
         "y": [
          25
         ],
         "yaxis": "y"
        },
        {
         "alignmentgroup": "True",
         "hovertemplate": "<b>Channel: %{x}<br>Frequency: %{y:}</b><extra></extra>",
         "legendgroup": "Jessica in the Kitchen - Vegan Recipes",
         "marker": {
          "color": "#919bd2",
          "pattern": {
           "shape": ""
          }
         },
         "name": "Jessica in the Kitchen - Vegan Recipes",
         "offsetgroup": "Jessica in the Kitchen - Vegan Recipes",
         "orientation": "v",
         "showlegend": true,
         "text": [
          "0.02%"
         ],
         "textfont": {
          "color": "#545b89",
          "size": 15
         },
         "textposition": "outside",
         "type": "bar",
         "x": [
          "Jessica in the Kitchen - Vegan Recipes"
         ],
         "xaxis": "x",
         "y": [
          25
         ],
         "yaxis": "y"
        },
        {
         "alignmentgroup": "True",
         "hovertemplate": "<b>Channel: %{x}<br>Frequency: %{y:}</b><extra></extra>",
         "legendgroup": "MAKE UP FOR EVER",
         "marker": {
          "color": "#929cd3",
          "pattern": {
           "shape": ""
          }
         },
         "name": "MAKE UP FOR EVER",
         "offsetgroup": "MAKE UP FOR EVER",
         "orientation": "v",
         "showlegend": true,
         "text": [
          "0.016%"
         ],
         "textfont": {
          "color": "#545b89",
          "size": 15
         },
         "textposition": "outside",
         "type": "bar",
         "x": [
          "MAKE UP FOR EVER"
         ],
         "xaxis": "x",
         "y": [
          20
         ],
         "yaxis": "y"
        },
        {
         "alignmentgroup": "True",
         "hovertemplate": "<b>Channel: %{x}<br>Frequency: %{y:}</b><extra></extra>",
         "legendgroup": "Tomorrow's Build",
         "marker": {
          "color": "#939dd5",
          "pattern": {
           "shape": ""
          }
         },
         "name": "Tomorrow's Build",
         "offsetgroup": "Tomorrow's Build",
         "orientation": "v",
         "showlegend": true,
         "text": [
          "0.015%"
         ],
         "textfont": {
          "color": "#545b89",
          "size": 15
         },
         "textposition": "outside",
         "type": "bar",
         "x": [
          "Tomorrow's Build"
         ],
         "xaxis": "x",
         "y": [
          19
         ],
         "yaxis": "y"
        },
        {
         "alignmentgroup": "True",
         "hovertemplate": "<b>Channel: %{x}<br>Frequency: %{y:}</b><extra></extra>",
         "legendgroup": "Reverse Engineering",
         "marker": {
          "color": "#949ed5",
          "pattern": {
           "shape": ""
          }
         },
         "name": "Reverse Engineering",
         "offsetgroup": "Reverse Engineering",
         "orientation": "v",
         "showlegend": true,
         "text": [
          "0.014%"
         ],
         "textfont": {
          "color": "#545b89",
          "size": 15
         },
         "textposition": "outside",
         "type": "bar",
         "x": [
          "Reverse Engineering"
         ],
         "xaxis": "x",
         "y": [
          17
         ],
         "yaxis": "y"
        },
        {
         "alignmentgroup": "True",
         "hovertemplate": "<b>Channel: %{x}<br>Frequency: %{y:}</b><extra></extra>",
         "legendgroup": "Naomi Farr",
         "marker": {
          "color": "#959fd6",
          "pattern": {
           "shape": ""
          }
         },
         "name": "Naomi Farr",
         "offsetgroup": "Naomi Farr",
         "orientation": "v",
         "showlegend": true,
         "text": [
          "0.01%"
         ],
         "textfont": {
          "color": "#545b89",
          "size": 15
         },
         "textposition": "outside",
         "type": "bar",
         "x": [
          "Naomi Farr"
         ],
         "xaxis": "x",
         "y": [
          12
         ],
         "yaxis": "y"
        },
        {
         "alignmentgroup": "True",
         "hovertemplate": "<b>Channel: %{x}<br>Frequency: %{y:}</b><extra></extra>",
         "legendgroup": "Steve Cutts",
         "marker": {
          "color": "#959fd7",
          "pattern": {
           "shape": ""
          }
         },
         "name": "Steve Cutts",
         "offsetgroup": "Steve Cutts",
         "orientation": "v",
         "showlegend": true,
         "text": [
          "0.01%"
         ],
         "textfont": {
          "color": "#545b89",
          "size": 15
         },
         "textposition": "outside",
         "type": "bar",
         "x": [
          "Steve Cutts"
         ],
         "xaxis": "x",
         "y": [
          12
         ],
         "yaxis": "y"
        },
        {
         "alignmentgroup": "True",
         "hovertemplate": "<b>Channel: %{x}<br>Frequency: %{y:}</b><extra></extra>",
         "legendgroup": "Perception",
         "marker": {
          "color": "#96a0d8",
          "pattern": {
           "shape": ""
          }
         },
         "name": "Perception",
         "offsetgroup": "Perception",
         "orientation": "v",
         "showlegend": true,
         "text": [
          "0.008%"
         ],
         "textfont": {
          "color": "#545b89",
          "size": 15
         },
         "textposition": "outside",
         "type": "bar",
         "x": [
          "Perception"
         ],
         "xaxis": "x",
         "y": [
          10
         ],
         "yaxis": "y"
        }
       ],
       "layout": {
        "barmode": "relative",
        "font": {
         "size": 18
        },
        "height": 600,
        "hoverlabel": {
         "font": {
          "family": "Rockwell",
          "size": 18
         }
        },
        "legend": {
         "title": {
          "text": "channel"
         },
         "tracegroupgap": 0
        },
        "margin": {
         "b": 20,
         "l": 20,
         "r": 20,
         "t": 50
        },
        "plot_bgcolor": "white",
        "showlegend": false,
        "template": {
         "data": {
          "bar": [
           {
            "error_x": {
             "color": "#2a3f5f"
            },
            "error_y": {
             "color": "#2a3f5f"
            },
            "marker": {
             "line": {
              "color": "#E5ECF6",
              "width": 0.5
             },
             "pattern": {
              "fillmode": "overlay",
              "size": 10,
              "solidity": 0.2
             }
            },
            "type": "bar"
           }
          ],
          "barpolar": [
           {
            "marker": {
             "line": {
              "color": "#E5ECF6",
              "width": 0.5
             },
             "pattern": {
              "fillmode": "overlay",
              "size": 10,
              "solidity": 0.2
             }
            },
            "type": "barpolar"
           }
          ],
          "carpet": [
           {
            "aaxis": {
             "endlinecolor": "#2a3f5f",
             "gridcolor": "white",
             "linecolor": "white",
             "minorgridcolor": "white",
             "startlinecolor": "#2a3f5f"
            },
            "baxis": {
             "endlinecolor": "#2a3f5f",
             "gridcolor": "white",
             "linecolor": "white",
             "minorgridcolor": "white",
             "startlinecolor": "#2a3f5f"
            },
            "type": "carpet"
           }
          ],
          "choropleth": [
           {
            "colorbar": {
             "outlinewidth": 0,
             "ticks": ""
            },
            "type": "choropleth"
           }
          ],
          "contour": [
           {
            "colorbar": {
             "outlinewidth": 0,
             "ticks": ""
            },
            "colorscale": [
             [
              0,
              "#0d0887"
             ],
             [
              0.1111111111111111,
              "#46039f"
             ],
             [
              0.2222222222222222,
              "#7201a8"
             ],
             [
              0.3333333333333333,
              "#9c179e"
             ],
             [
              0.4444444444444444,
              "#bd3786"
             ],
             [
              0.5555555555555556,
              "#d8576b"
             ],
             [
              0.6666666666666666,
              "#ed7953"
             ],
             [
              0.7777777777777778,
              "#fb9f3a"
             ],
             [
              0.8888888888888888,
              "#fdca26"
             ],
             [
              1,
              "#f0f921"
             ]
            ],
            "type": "contour"
           }
          ],
          "contourcarpet": [
           {
            "colorbar": {
             "outlinewidth": 0,
             "ticks": ""
            },
            "type": "contourcarpet"
           }
          ],
          "heatmap": [
           {
            "colorbar": {
             "outlinewidth": 0,
             "ticks": ""
            },
            "colorscale": [
             [
              0,
              "#0d0887"
             ],
             [
              0.1111111111111111,
              "#46039f"
             ],
             [
              0.2222222222222222,
              "#7201a8"
             ],
             [
              0.3333333333333333,
              "#9c179e"
             ],
             [
              0.4444444444444444,
              "#bd3786"
             ],
             [
              0.5555555555555556,
              "#d8576b"
             ],
             [
              0.6666666666666666,
              "#ed7953"
             ],
             [
              0.7777777777777778,
              "#fb9f3a"
             ],
             [
              0.8888888888888888,
              "#fdca26"
             ],
             [
              1,
              "#f0f921"
             ]
            ],
            "type": "heatmap"
           }
          ],
          "heatmapgl": [
           {
            "colorbar": {
             "outlinewidth": 0,
             "ticks": ""
            },
            "colorscale": [
             [
              0,
              "#0d0887"
             ],
             [
              0.1111111111111111,
              "#46039f"
             ],
             [
              0.2222222222222222,
              "#7201a8"
             ],
             [
              0.3333333333333333,
              "#9c179e"
             ],
             [
              0.4444444444444444,
              "#bd3786"
             ],
             [
              0.5555555555555556,
              "#d8576b"
             ],
             [
              0.6666666666666666,
              "#ed7953"
             ],
             [
              0.7777777777777778,
              "#fb9f3a"
             ],
             [
              0.8888888888888888,
              "#fdca26"
             ],
             [
              1,
              "#f0f921"
             ]
            ],
            "type": "heatmapgl"
           }
          ],
          "histogram": [
           {
            "marker": {
             "pattern": {
              "fillmode": "overlay",
              "size": 10,
              "solidity": 0.2
             }
            },
            "type": "histogram"
           }
          ],
          "histogram2d": [
           {
            "colorbar": {
             "outlinewidth": 0,
             "ticks": ""
            },
            "colorscale": [
             [
              0,
              "#0d0887"
             ],
             [
              0.1111111111111111,
              "#46039f"
             ],
             [
              0.2222222222222222,
              "#7201a8"
             ],
             [
              0.3333333333333333,
              "#9c179e"
             ],
             [
              0.4444444444444444,
              "#bd3786"
             ],
             [
              0.5555555555555556,
              "#d8576b"
             ],
             [
              0.6666666666666666,
              "#ed7953"
             ],
             [
              0.7777777777777778,
              "#fb9f3a"
             ],
             [
              0.8888888888888888,
              "#fdca26"
             ],
             [
              1,
              "#f0f921"
             ]
            ],
            "type": "histogram2d"
           }
          ],
          "histogram2dcontour": [
           {
            "colorbar": {
             "outlinewidth": 0,
             "ticks": ""
            },
            "colorscale": [
             [
              0,
              "#0d0887"
             ],
             [
              0.1111111111111111,
              "#46039f"
             ],
             [
              0.2222222222222222,
              "#7201a8"
             ],
             [
              0.3333333333333333,
              "#9c179e"
             ],
             [
              0.4444444444444444,
              "#bd3786"
             ],
             [
              0.5555555555555556,
              "#d8576b"
             ],
             [
              0.6666666666666666,
              "#ed7953"
             ],
             [
              0.7777777777777778,
              "#fb9f3a"
             ],
             [
              0.8888888888888888,
              "#fdca26"
             ],
             [
              1,
              "#f0f921"
             ]
            ],
            "type": "histogram2dcontour"
           }
          ],
          "mesh3d": [
           {
            "colorbar": {
             "outlinewidth": 0,
             "ticks": ""
            },
            "type": "mesh3d"
           }
          ],
          "parcoords": [
           {
            "line": {
             "colorbar": {
              "outlinewidth": 0,
              "ticks": ""
             }
            },
            "type": "parcoords"
           }
          ],
          "pie": [
           {
            "automargin": true,
            "type": "pie"
           }
          ],
          "scatter": [
           {
            "marker": {
             "colorbar": {
              "outlinewidth": 0,
              "ticks": ""
             }
            },
            "type": "scatter"
           }
          ],
          "scatter3d": [
           {
            "line": {
             "colorbar": {
              "outlinewidth": 0,
              "ticks": ""
             }
            },
            "marker": {
             "colorbar": {
              "outlinewidth": 0,
              "ticks": ""
             }
            },
            "type": "scatter3d"
           }
          ],
          "scattercarpet": [
           {
            "marker": {
             "colorbar": {
              "outlinewidth": 0,
              "ticks": ""
             }
            },
            "type": "scattercarpet"
           }
          ],
          "scattergeo": [
           {
            "marker": {
             "colorbar": {
              "outlinewidth": 0,
              "ticks": ""
             }
            },
            "type": "scattergeo"
           }
          ],
          "scattergl": [
           {
            "marker": {
             "colorbar": {
              "outlinewidth": 0,
              "ticks": ""
             }
            },
            "type": "scattergl"
           }
          ],
          "scattermapbox": [
           {
            "marker": {
             "colorbar": {
              "outlinewidth": 0,
              "ticks": ""
             }
            },
            "type": "scattermapbox"
           }
          ],
          "scatterpolar": [
           {
            "marker": {
             "colorbar": {
              "outlinewidth": 0,
              "ticks": ""
             }
            },
            "type": "scatterpolar"
           }
          ],
          "scatterpolargl": [
           {
            "marker": {
             "colorbar": {
              "outlinewidth": 0,
              "ticks": ""
             }
            },
            "type": "scatterpolargl"
           }
          ],
          "scatterternary": [
           {
            "marker": {
             "colorbar": {
              "outlinewidth": 0,
              "ticks": ""
             }
            },
            "type": "scatterternary"
           }
          ],
          "surface": [
           {
            "colorbar": {
             "outlinewidth": 0,
             "ticks": ""
            },
            "colorscale": [
             [
              0,
              "#0d0887"
             ],
             [
              0.1111111111111111,
              "#46039f"
             ],
             [
              0.2222222222222222,
              "#7201a8"
             ],
             [
              0.3333333333333333,
              "#9c179e"
             ],
             [
              0.4444444444444444,
              "#bd3786"
             ],
             [
              0.5555555555555556,
              "#d8576b"
             ],
             [
              0.6666666666666666,
              "#ed7953"
             ],
             [
              0.7777777777777778,
              "#fb9f3a"
             ],
             [
              0.8888888888888888,
              "#fdca26"
             ],
             [
              1,
              "#f0f921"
             ]
            ],
            "type": "surface"
           }
          ],
          "table": [
           {
            "cells": {
             "fill": {
              "color": "#EBF0F8"
             },
             "line": {
              "color": "white"
             }
            },
            "header": {
             "fill": {
              "color": "#C8D4E3"
             },
             "line": {
              "color": "white"
             }
            },
            "type": "table"
           }
          ]
         },
         "layout": {
          "annotationdefaults": {
           "arrowcolor": "#2a3f5f",
           "arrowhead": 0,
           "arrowwidth": 1
          },
          "autotypenumbers": "strict",
          "coloraxis": {
           "colorbar": {
            "outlinewidth": 0,
            "ticks": ""
           }
          },
          "colorscale": {
           "diverging": [
            [
             0,
             "#8e0152"
            ],
            [
             0.1,
             "#c51b7d"
            ],
            [
             0.2,
             "#de77ae"
            ],
            [
             0.3,
             "#f1b6da"
            ],
            [
             0.4,
             "#fde0ef"
            ],
            [
             0.5,
             "#f7f7f7"
            ],
            [
             0.6,
             "#e6f5d0"
            ],
            [
             0.7,
             "#b8e186"
            ],
            [
             0.8,
             "#7fbc41"
            ],
            [
             0.9,
             "#4d9221"
            ],
            [
             1,
             "#276419"
            ]
           ],
           "sequential": [
            [
             0,
             "#0d0887"
            ],
            [
             0.1111111111111111,
             "#46039f"
            ],
            [
             0.2222222222222222,
             "#7201a8"
            ],
            [
             0.3333333333333333,
             "#9c179e"
            ],
            [
             0.4444444444444444,
             "#bd3786"
            ],
            [
             0.5555555555555556,
             "#d8576b"
            ],
            [
             0.6666666666666666,
             "#ed7953"
            ],
            [
             0.7777777777777778,
             "#fb9f3a"
            ],
            [
             0.8888888888888888,
             "#fdca26"
            ],
            [
             1,
             "#f0f921"
            ]
           ],
           "sequentialminus": [
            [
             0,
             "#0d0887"
            ],
            [
             0.1111111111111111,
             "#46039f"
            ],
            [
             0.2222222222222222,
             "#7201a8"
            ],
            [
             0.3333333333333333,
             "#9c179e"
            ],
            [
             0.4444444444444444,
             "#bd3786"
            ],
            [
             0.5555555555555556,
             "#d8576b"
            ],
            [
             0.6666666666666666,
             "#ed7953"
            ],
            [
             0.7777777777777778,
             "#fb9f3a"
            ],
            [
             0.8888888888888888,
             "#fdca26"
            ],
            [
             1,
             "#f0f921"
            ]
           ]
          },
          "colorway": [
           "#636efa",
           "#EF553B",
           "#00cc96",
           "#ab63fa",
           "#FFA15A",
           "#19d3f3",
           "#FF6692",
           "#B6E880",
           "#FF97FF",
           "#FECB52"
          ],
          "font": {
           "color": "#2a3f5f"
          },
          "geo": {
           "bgcolor": "white",
           "lakecolor": "white",
           "landcolor": "#E5ECF6",
           "showlakes": true,
           "showland": true,
           "subunitcolor": "white"
          },
          "hoverlabel": {
           "align": "left"
          },
          "hovermode": "closest",
          "mapbox": {
           "style": "light"
          },
          "paper_bgcolor": "white",
          "plot_bgcolor": "#E5ECF6",
          "polar": {
           "angularaxis": {
            "gridcolor": "white",
            "linecolor": "white",
            "ticks": ""
           },
           "bgcolor": "#E5ECF6",
           "radialaxis": {
            "gridcolor": "white",
            "linecolor": "white",
            "ticks": ""
           }
          },
          "scene": {
           "xaxis": {
            "backgroundcolor": "#E5ECF6",
            "gridcolor": "white",
            "gridwidth": 2,
            "linecolor": "white",
            "showbackground": true,
            "ticks": "",
            "zerolinecolor": "white"
           },
           "yaxis": {
            "backgroundcolor": "#E5ECF6",
            "gridcolor": "white",
            "gridwidth": 2,
            "linecolor": "white",
            "showbackground": true,
            "ticks": "",
            "zerolinecolor": "white"
           },
           "zaxis": {
            "backgroundcolor": "#E5ECF6",
            "gridcolor": "white",
            "gridwidth": 2,
            "linecolor": "white",
            "showbackground": true,
            "ticks": "",
            "zerolinecolor": "white"
           }
          },
          "shapedefaults": {
           "line": {
            "color": "#2a3f5f"
           }
          },
          "ternary": {
           "aaxis": {
            "gridcolor": "white",
            "linecolor": "white",
            "ticks": ""
           },
           "baxis": {
            "gridcolor": "white",
            "linecolor": "white",
            "ticks": ""
           },
           "bgcolor": "#E5ECF6",
           "caxis": {
            "gridcolor": "white",
            "linecolor": "white",
            "ticks": ""
           }
          },
          "title": {
           "x": 0.05
          },
          "xaxis": {
           "automargin": true,
           "gridcolor": "white",
           "linecolor": "white",
           "ticks": "",
           "title": {
            "standoff": 15
           },
           "zerolinecolor": "white",
           "zerolinewidth": 2
          },
          "yaxis": {
           "automargin": true,
           "gridcolor": "white",
           "linecolor": "white",
           "ticks": "",
           "title": {
            "standoff": 15
           },
           "zerolinecolor": "white",
           "zerolinewidth": 2
          }
         }
        },
        "xaxis": {
         "anchor": "y",
         "categoryarray": [
          "BBC",
          "CNBC",
          "Insider",
          "Netflix",
          "Business Insider",
          "Adam Savage’s Tested",
          "Global Cycling Network",
          "TED",
          "SpaceToday",
          "NASA",
          "SciShow",
          "European Space Agency, ESA",
          "Scott Manley",
          "Canal do Schwarza",
          "Disney Parks",
          "CrazyRussianHacker",
          "Diolinux",
          "Porta dos Fundos",
          "Jacques Slade",
          "Meteoro Brasil",
          "Star Wars Comics",
          "Guinness World Records",
          "GMHikaru",
          "LockPickingLawyer",
          "Parafernalha",
          "MW Informática",
          "Aviões e Músicas com Lito Sousa",
          "Fabio Chaves",
          "UrAvgConsumer",
          "Roberto Blake",
          "Alec Steele",
          "Traversy Media",
          "Rebecca Watson",
          "Rachel's English",
          "Disney",
          "DW Euromaxx",
          "Classic Mr Bean",
          "DW Documentary",
          "Computerphile",
          "Aero Por Trás da Aviação",
          "Periodic Videos",
          "Azusa Barbie",
          "Simple Flying",
          "Joe Scott",
          "Tom Scott",
          "Numberphile",
          "TecLab",
          "That Pedal Show",
          "Código Fonte TV",
          "Loira na Estrada",
          "Bob Ross",
          "Professor Noslen",
          "Buenas Ideias",
          "Cheddar",
          "It's Black Friday",
          "Naomi Brockwell",
          "The Modern Rogue",
          "AWE me",
          "CaspianReport",
          "The British Museum",
          "Cole and Marmalade",
          "Tá Querida",
          "Hydraulic Press Channel",
          "MathTheBeautiful",
          "TÁ NA MESA VEGG",
          "SmarterEveryDay",
          "SpaceX",
          "Everyday Astronaut",
          "Nátaly Neri",
          "Professor Julio Borbo",
          "Riddle",
          "The B1M",
          "Veritasium",
          "TopMovieClips",
          "PBS Space Time",
          "Potato Jet",
          "The Slow Mo Guys",
          "Living Big In A Tiny House",
          "Tyta Montrase",
          "The 8-Bit Guy",
          "Nyma Tang",
          "Ask a Mortician",
          "Marc Rebillet",
          "RealLifeLore",
          "Knowledgia",
          "Darko Audio",
          "Prowalk Tours",
          "Kirsten & Joerg",
          "Tempero Drag",
          "UM BOTÂNICO NO APARTAMENTO",
          "Urban Gardening",
          "Animalogic",
          "Earthling Ed",
          "Maven of the Eventide",
          "Wanderlust Travel Videos",
          "zefrank1",
          "Nox et Lux",
          "Uma história a mais",
          "Curious Droid",
          "Astrum",
          "Physics Girl",
          "PBS Eons",
          "Imperial War Museums",
          "Launch Pad Astronomy",
          "Marcel Vos",
          "VIEWGANAS",
          "MetaBallStudios",
          "AstroTubers",
          "Primitive Building",
          "Kurzgesagt – In a Nutshell",
          "Prof. André Azevedo da Fonseca",
          "Mintfaery",
          "Chaves Estranho",
          "Atila Iamarino",
          "Real Engineering",
          "O Pimentinha",
          "Hello Korea",
          "Journey to the Microcosmos",
          "3Blue1Brown",
          "Nerdforge",
          "Anglo-Link",
          "Simone Giertz",
          "Matt Jordan",
          "Captain Disillusion",
          "Baumgartner Restoration",
          "All Things Secured",
          "Intensivo Pedagógico",
          "Stefan Milo",
          "The Green Witch",
          "OwlKitty",
          "Planeta Aves",
          "The Tim Traveller",
          "Wanna Walk",
          "Jay Foreman",
          "Chess Talk",
          "DutchPilotGirl",
          "cyriak",
          "Microsoft Flight Simulator",
          "Cinema Therapy",
          "Fala Vegan",
          "Integrando Conhecimento",
          "OneikaTraveller",
          "OnlyConnect Fan",
          "VeganBlackMetalChef",
          "Cradle Of Filth",
          "Subject Zero Science",
          "OBF",
          "neo",
          "Mustard",
          "Huygens Optics",
          "Fancy Fairy Wings & Things",
          "Your Dinosaurs Are Wrong",
          "Studson Studio",
          "Jessica in the Kitchen - Vegan Recipes",
          "MAKE UP FOR EVER",
          "Tomorrow's Build",
          "Reverse Engineering",
          "Naomi Farr",
          "Steve Cutts",
          "Perception"
         ],
         "categoryorder": "array",
         "domain": [
          0,
          1
         ],
         "tickangle": 40,
         "title": {
          "text": "<b>Channel</b>"
         }
        },
        "yaxis": {
         "anchor": "x",
         "domain": [
          0,
          1
         ],
         "title": {
          "text": "<b>Number of Videos</b>"
         },
         "type": "log"
        }
       }
      }
     },
     "metadata": {},
     "output_type": "display_data"
    }
   ],
   "source": [
    "# Frequencie of videos:\n",
    "video_counts = df_videos['channel_title'].value_counts()\n",
    "df_plot = pd.DataFrame(\n",
    "    {\n",
    "        \"channel\": video_counts.index.tolist(),\n",
    "        \"freq\": video_counts.tolist()\n",
    "    }\n",
    ")\n",
    "\n",
    "# Relative frequency:\n",
    "df_plot[\"freq_rel\"] = [round(i/sum(df_plot[\"freq\"])*100, 3) for i in df_plot[\"freq\"]]\n",
    "df_plot[\"freq_rel_char\"] = [str(i) + \"%\" for i in df_plot[\"freq_rel\"]]\n",
    "\n",
    "# Palette:\n",
    "n_levels = df_plot.shape[0]\n",
    "cmap = LinearSegmentedColormap.from_list(\"my_palette\", [\"#111539\", \"#97A1D9\"])\n",
    "my_palette = [to_hex(j) for j in  [cmap(i/n_levels) for i in np.array(range(n_levels))]]\n",
    "\n",
    "# Plot:\n",
    "fig = px.bar(\n",
    "    data_frame = df_plot,\n",
    "    x = \"channel\",\n",
    "    y = \"freq\",\n",
    "    log_y = True,\n",
    "    color = \"channel\",\n",
    "    color_discrete_sequence = my_palette,\n",
    "    text = \"freq_rel_char\"\n",
    ")\n",
    "fig.update_traces(\n",
    "    textposition = \"outside\",\n",
    "    textfont_color = my_palette[n_levels//2],\n",
    "    textfont_size = 15,\n",
    "    hovertemplate = \"<b>Channel: %{x}<br>Frequency: %{y:}</b><extra></extra>\"\n",
    ")\n",
    "fig.update_layout(\n",
    "    xaxis_title = \"<b>Channel</b>\" ,\n",
    "    yaxis_title = \"<b>Number of Videos</b>\",\n",
    "    xaxis = dict(\n",
    "        tickangle = 40\n",
    "    ),\n",
    "    font = dict(\n",
    "        size = 18\n",
    "    ),\n",
    "    showlegend = False,\n",
    "    plot_bgcolor = \"white\",\n",
    "    hoverlabel = dict(\n",
    "        font_size = 18,\n",
    "        font_family = \"Rockwell\"\n",
    "    ),\n",
    "    margin = dict(\n",
    "        l = 20,\n",
    "        r = 20,\n",
    "        t = 50,\n",
    "        b = 20\n",
    "    ),\n",
    "    height = 600\n",
    ")"
   ]
  },
  {
   "cell_type": "markdown",
   "metadata": {},
   "source": [
    "# Dynamic plots"
   ]
  },
  {
   "cell_type": "markdown",
   "metadata": {},
   "source": [
    "## Variables and options"
   ]
  },
  {
   "cell_type": "code",
   "execution_count": 10,
   "metadata": {},
   "outputs": [],
   "source": [
    "# Variables names:\n",
    "vars_names = {\n",
    "    \"Views\": \"views\",\n",
    "    \"Likes\": \"likes\",\n",
    "    \"Dislikes\": \"dislikes\",\n",
    "    \"Comments\": \"comments\",\n",
    "    \"Likes/dislikes\": \"likes_dislikes_ratio\",\n",
    "    \"Age (days)\": \"age_days\",\n",
    "    \"Likes/dislikes\": \"likes_dislikes_ratio\",\n",
    "    \"Likes/views\": \"likes_views_ratio\",\n",
    "    \"Dislikes/views\": \"dislikes_views_ratio\",\n",
    "    \"Comments/views\": \"comments_views_ratio\",\n",
    "    \"Comments/likes\": \"comments_likes_ratio\",\n",
    "    \"Comments/dislikes\": \"comments_dislikes_ratio\",\n",
    "    \"Mean views per day\": \"mean_views_day\",\n",
    "    \"Mean likes per day\": \"mean_likes_day\",\n",
    "    \"Mean dislikes per day\": \"mean_dislikes_day\",\n",
    "    \"Mean comments per day\": \"mean_comments_day\",\n",
    "    \"Mean likes/dislikes per day\": \"mean_likes_dislikes_ratio_day\",\n",
    "    \"Mean likes/views per day\": \"mean_likes_views_ratio_day\",\n",
    "    \"Mean dislikes/views per day\": \"mean_dislikes_views_ratio_day\",\n",
    "    \"Mean comments/views per day\": \"mean_comments_views_ratio_day\",\n",
    "    \"Mean comments/likes per day\": \"mean_comments_likes_ratio_day\",\n",
    "    \"Mean comments/dislikes per day\": \"mean_comments_dislikes_ratio_day\"\n",
    "}\n",
    "\n",
    "# Options:\n",
    "opts_channel = np.sort(df_videos[\"channel_title\"].unique()).tolist()\n",
    "opts_vars = list(vars_names.keys())\n",
    "opts_vars = [i for i in vars_names.keys()]\n",
    "opts_vars.sort()\n",
    "\n",
    "# Custom hovers:\n",
    "custom_vars = list(vars_names.values())\n",
    "custom_template = \"<b>Video title: %{text}<br>\"\n",
    "for i in range(0, len(custom_vars)):\n",
    "    custom_template += list(vars_names.keys())[i] + \": %{customdata[\" + str(i) + \"]:}<br>\"\n",
    "custom_template = custom_template + \"</b><extra></extra>\""
   ]
  },
  {
   "cell_type": "markdown",
   "metadata": {},
   "source": [
    "## 1D histogram"
   ]
  },
  {
   "cell_type": "code",
   "execution_count": 11,
   "metadata": {},
   "outputs": [
    {
     "data": {
      "application/vnd.jupyter.widget-view+json": {
       "model_id": "53171234c6f44fa88269aef7feb29c13",
       "version_major": 2,
       "version_minor": 0
      },
      "text/plain": [
       "VBox(children=(HBox(children=(Dropdown(description='Variable: ', options=('Views', 'Likes', 'Dislikes', 'Comme…"
      ]
     },
     "metadata": {},
     "output_type": "display_data"
    }
   ],
   "source": [
    "# Variable and filters widgets:\n",
    "input_xvar = widgets.Dropdown(\n",
    "    description = \"Variable: \",\n",
    "    options = list(vars_names.keys()),\n",
    "    value = list(vars_names.keys())[0]\n",
    ")\n",
    "input_channels = widgets.Dropdown(\n",
    "    description = \"Channel: \",\n",
    "    options = opts_channel,\n",
    "    value = opts_channel[0]\n",
    ")\n",
    "input_bins = widgets.IntSlider(\n",
    "    description = \"Bins: \",\n",
    "    min = 10,\n",
    "    max = 1000,\n",
    "    step = 10,\n",
    "    value = 200\n",
    ")\n",
    "input_xmin = widgets.FloatText(\n",
    "    value = np.min(df_videos[vars_names[input_xvar.value]]),\n",
    "    description = \"Min: \"\n",
    ")\n",
    "input_xmax = widgets.FloatText(\n",
    "    value = np.max(df_videos[vars_names[input_xvar.value]]),\n",
    "    description = \"Max: \"\n",
    ")\n",
    "\n",
    "# Statistics in the title:\n",
    "def plot_title(x):\n",
    "    title = \"Filtered sample statistics<br>\" +\\\n",
    "            \"<b style = 'color: #900c3f'>Mean</b>: \" + f\"{np.mean(x):.7g}      \" +\\\n",
    "            \"<b style = 'color: #ffc300'>Median</b>: \" + f\"{np.median(x):.7g}      \" +\\\n",
    "            \"<b>Standard deviation</b>: \" + f\"{np.std(x):.7g}      \" +\\\n",
    "            \"<b>Skewness</b>: \" + f\"{skew(x):.3g}\"\n",
    "    return(title)\n",
    "\n",
    "# Mean and median lines:\n",
    "def vert_lines(x):\n",
    "    vertical_lines = [\n",
    "        {\n",
    "            'line': {\n",
    "                'color': '#900c3f',\n",
    "                'dash': 'dash',\n",
    "                'width': 2\n",
    "            },\n",
    "            'type': 'line',\n",
    "            'x0': np.mean(x),\n",
    "            'x1': np.mean(x),\n",
    "            'xref': 'x',\n",
    "            'y0': 0,\n",
    "            'y1': 1,\n",
    "            'yref': 'paper'\n",
    "        },\n",
    "        {\n",
    "            'line': {\n",
    "                'color': '#ffc300',\n",
    "                'dash': 'dash',\n",
    "                'width': 2\n",
    "            },\n",
    "            'type': 'line',\n",
    "            'x0': np.median(x),\n",
    "            'x1': np.median(x),\n",
    "            'xref': 'x',\n",
    "            'y0': 0,\n",
    "            'y1': 1,\n",
    "            'yref': 'paper'\n",
    "        }\n",
    "    ]\n",
    "    return(vertical_lines)\n",
    "\n",
    "# Initialize the figure:\n",
    "x_init = df_videos.loc[df_videos[\"channel_title\"] == opts_channel[0], vars_names[input_xvar.value]]\n",
    "x_mean = np.mean(x_init)\n",
    "x_median = np.median(x_init)\n",
    "fig = go.FigureWidget(\n",
    "    data = [\n",
    "        go.Histogram(\n",
    "            x = x_init,\n",
    "            histfunc = \"count\",\n",
    "            nbinsx = input_bins.value,\n",
    "            marker_color = \"#00baad\",\n",
    "            opacity = 0.9\n",
    "        )\n",
    "    ],\n",
    "    layout = go.Layout(\n",
    "        title = plot_title(x_init),\n",
    "        xaxis_title = \"<b>\" + input_xvar.value + \"</b>\",\n",
    "        yaxis_title = \"<b>Counts</b>\",\n",
    "        font = dict(\n",
    "            size = 18\n",
    "        ),\n",
    "        showlegend = False,\n",
    "        plot_bgcolor = \"white\",\n",
    "        hoverlabel = dict(\n",
    "            font_size = 18,\n",
    "            font_family = \"Rockwell\"\n",
    "        ),\n",
    "        margin = dict(\n",
    "            l = 20,\n",
    "            r = 20,\n",
    "            t = 100,\n",
    "            b = 20\n",
    "        ),\n",
    "        height = 600,\n",
    "        shapes = vert_lines(x_init)\n",
    "    )\n",
    ")\n",
    "\n",
    "# Filter and update function:\n",
    "def filtering(chosen_xvar, chosen_channel, chosen_bins, chosen_xmin, chosen_xmax):\n",
    "    # Filter by channel:\n",
    "    df_filtered = df_videos.copy()[df_videos[\"channel_title\"] == chosen_channel]\n",
    "    \n",
    "    # Variable:\n",
    "    x_vals = df_filtered[vars_names[chosen_xvar]]\n",
    "\n",
    "    # Filter the range:\n",
    "    if chosen_xmin >= chosen_xmax or chosen_xmax < np.min(x_vals) or chosen_xmin > np.max(x_vals):\n",
    "        pass\n",
    "    else:\n",
    "        if chosen_xmin < np.min(x_vals):\n",
    "            pass\n",
    "        else:\n",
    "            x_vals = x_vals[x_vals > chosen_xmin]\n",
    "        if chosen_xmax > np.max(x_vals):\n",
    "            pass\n",
    "        else:\n",
    "            x_vals = x_vals[x_vals < chosen_xmax]\n",
    "    \n",
    "    # Drop the nan:\n",
    "    x_vals = x_vals.dropna()\n",
    "\n",
    "    # Update the figure:\n",
    "    with fig.batch_update():\n",
    "        fig.data[0].x = x_vals\n",
    "        fig.data[0].nbinsx = chosen_bins\n",
    "        fig.layout.xaxis.title = \"<b>\" + chosen_xvar + \"</b>\"\n",
    "        fig.layout.title = plot_title(x_vals)\n",
    "        fig.layout.shapes = vert_lines(x_vals)\n",
    "\n",
    "# Event handlers:\n",
    "def eventhandler_xvar(change):\n",
    "    filtering(chosen_xvar = change.new,\n",
    "              chosen_channel = input_channels.value,\n",
    "              chosen_bins = input_bins.value,\n",
    "              chosen_xmin = input_xmin.value,\n",
    "              chosen_xmax = input_xmax.value)\n",
    "def eventhandler_channels(change):\n",
    "    filtering(chosen_xvar = input_xvar.value,\n",
    "              chosen_channel = change.new,\n",
    "              chosen_bins = input_bins.value,\n",
    "              chosen_xmin = input_xmin.value,\n",
    "              chosen_xmax = input_xmax.value)\n",
    "def eventhandler_bins(change):\n",
    "    filtering(chosen_xvar = input_xvar.value,\n",
    "              chosen_channel = input_channels.value,\n",
    "              chosen_bins = change.new,\n",
    "              chosen_xmin = input_xmin.value,\n",
    "              chosen_xmax = input_xmax.value)\n",
    "def eventhandler_xmin(change):\n",
    "    filtering(chosen_xvar = input_xvar.value,\n",
    "              chosen_channel = input_channels.value,\n",
    "              chosen_bins = input_bins.value,\n",
    "              chosen_xmin = change.new,\n",
    "              chosen_xmax = input_xmax.value)\n",
    "def eventhandler_xmax(change):\n",
    "    filtering(chosen_xvar = input_xvar.value,\n",
    "              chosen_channel = input_channels.value,\n",
    "              chosen_bins = input_bins.value,\n",
    "              chosen_xmin = input_xmin.value,\n",
    "              chosen_xmax = change.new)\n",
    "\n",
    "# Observes:\n",
    "input_xvar.observe(eventhandler_xvar,\n",
    "                   names = \"value\")\n",
    "input_channels.observe(eventhandler_channels,\n",
    "                       names = \"value\")\n",
    "input_bins.observe(eventhandler_bins,\n",
    "                   names = \"value\")\n",
    "input_xmin.observe(eventhandler_xmin,\n",
    "                   names = \"value\")\n",
    "input_xmax.observe(eventhandler_xmax,\n",
    "                   names = \"value\")\n",
    "\n",
    "# Row of filters:\n",
    "row_filters = widgets.HBox(\n",
    "    [\n",
    "        input_xvar,\n",
    "        input_channels,\n",
    "        input_bins,\n",
    "        input_xmin,\n",
    "        input_xmax\n",
    "    ]\n",
    ")\n",
    "\n",
    "# Main box:\n",
    "widgets.VBox(\n",
    "    [\n",
    "        row_filters,\n",
    "        fig\n",
    "    ]\n",
    ")"
   ]
  },
  {
   "cell_type": "markdown",
   "metadata": {},
   "source": [
    "## 2D Density"
   ]
  },
  {
   "cell_type": "code",
   "execution_count": 11,
   "metadata": {},
   "outputs": [
    {
     "data": {
      "application/vnd.jupyter.widget-view+json": {
       "model_id": "eb4132663ba2424a8a3ab87802257c7b",
       "version_major": 2,
       "version_minor": 0
      },
      "text/plain": [
       "VBox(children=(HBox(children=(Dropdown(description='x: ', options=('Views', 'Likes', 'Dislikes', 'Comments', '…"
      ]
     },
     "metadata": {},
     "output_type": "display_data"
    }
   ],
   "source": [
    "# Variables and filters widgets:\n",
    "input_xvar = widgets.Dropdown(\n",
    "    description = \"x: \",\n",
    "    options = list(vars_names.keys()),\n",
    "    value = list(vars_names.keys())[0]\n",
    ")\n",
    "input_yvar = widgets.Dropdown(\n",
    "    description = \"y: \",\n",
    "    options = list(vars_names.keys()),\n",
    "    value = list(vars_names.keys())[1]\n",
    ")\n",
    "input_channels = widgets.Dropdown(\n",
    "    description = \"Channel: \",\n",
    "    options = opts_channel,\n",
    "    value = opts_channel[0]\n",
    ")\n",
    "\n",
    "# Palette:\n",
    "my_colors = [\"#000000\", \"#E008F8\", \"#F81D08\", \"#F88A08\", \"#F7FE04\"]\n",
    "\n",
    "# Initialize the figure:\n",
    "df_plot = df_videos[df_videos[\"channel_title\"] == opts_channel[0]]\n",
    "x_init = df_plot[vars_names[input_xvar.value]]\n",
    "y_init = df_plot[vars_names[input_yvar.value]]\n",
    "fig = go.FigureWidget(\n",
    "    data = [\n",
    "        go.Histogram2dContour(\n",
    "            x = x_init,\n",
    "            y = y_init,\n",
    "            colorscale = my_colors,\n",
    "            ncontours = 10,\n",
    "            histnorm = \"probability density\",\n",
    "            colorbar = dict(\n",
    "                title = \"<b>Density</b>\"\n",
    "            )\n",
    "        )\n",
    "    ],\n",
    "    layout = go.Layout(\n",
    "        xaxis_title = \"<b>\" + input_xvar.value + \"</b>\",\n",
    "        yaxis_title = \"<b>\" + input_yvar.value + \"</b>\",\n",
    "        font = dict(\n",
    "            size = 18\n",
    "        ),\n",
    "        showlegend = False,\n",
    "        plot_bgcolor = \"white\",\n",
    "        hoverlabel = dict(\n",
    "            font_size = 18,\n",
    "            font_family = \"Rockwell\"\n",
    "        ),\n",
    "        margin = dict(\n",
    "            l = 400,\n",
    "            r = 20,\n",
    "            t = 20,\n",
    "            b = 20\n",
    "        ),\n",
    "        height = 600,\n",
    "        width = 1100\n",
    "    )\n",
    ")\n",
    "\n",
    "# Filter and update function:\n",
    "def filtering(chosen_xvar, chosen_yvar, chosen_channel):\n",
    "    # Filter by channel:\n",
    "    df_filtered = df_videos.copy()[df_videos[\"channel_title\"] == chosen_channel]\n",
    "    \n",
    "    # Variables:\n",
    "    x_vals = df_filtered[vars_names[chosen_xvar]]\n",
    "    y_vals = df_filtered[vars_names[chosen_yvar]]\n",
    "\n",
    "    # Update the figure:\n",
    "    with fig.batch_update():\n",
    "        fig.data[0].x = x_vals\n",
    "        fig.data[0].y = y_vals\n",
    "        fig.layout.xaxis.title = \"<b>\" + chosen_xvar + \"</b>\"\n",
    "        fig.layout.yaxis.title = \"<b>\" + chosen_yvar + \"</b>\"\n",
    "\n",
    "# Event handlers:\n",
    "def eventhandler_xvar(change):\n",
    "    filtering(chosen_xvar = change.new,\n",
    "              chosen_yvar = input_yvar.value,\n",
    "              chosen_channel = input_channels.value)\n",
    "def eventhandler_yvar(change):\n",
    "    filtering(chosen_xvar = input_xvar.value,\n",
    "              chosen_yvar = change.new,\n",
    "              chosen_channel = input_channels.value)\n",
    "def eventhandler_channels(change):\n",
    "    filtering(chosen_xvar = input_xvar.value,\n",
    "              chosen_yvar = input_yvar.value,\n",
    "              chosen_channel = change.new)\n",
    "\n",
    "# Observes:\n",
    "input_xvar.observe(eventhandler_xvar,\n",
    "                   names = \"value\")\n",
    "input_yvar.observe(eventhandler_yvar,\n",
    "                   names = \"value\")\n",
    "input_channels.observe(eventhandler_channels,\n",
    "                       names = \"value\")\n",
    "\n",
    "# Row of filters:\n",
    "row_filters = widgets.HBox(\n",
    "    [\n",
    "        input_xvar,\n",
    "        input_yvar,\n",
    "        input_channels\n",
    "    ]\n",
    ")\n",
    "\n",
    "# Main box:\n",
    "widgets.VBox(\n",
    "    [\n",
    "        row_filters,\n",
    "        fig\n",
    "    ]\n",
    ")"
   ]
  },
  {
   "cell_type": "markdown",
   "metadata": {},
   "source": [
    "## Scatter with colors"
   ]
  },
  {
   "cell_type": "code",
   "execution_count": 39,
   "metadata": {},
   "outputs": [
    {
     "data": {
      "application/vnd.jupyter.widget-view+json": {
       "model_id": "8c14a46876464de7802ce8d4685389c2",
       "version_major": 2,
       "version_minor": 0
      },
      "text/plain": [
       "VBox(children=(HBox(children=(Dropdown(description='x: ', options=('Views', 'Likes', 'Dislikes', 'Comments', '…"
      ]
     },
     "metadata": {},
     "output_type": "display_data"
    }
   ],
   "source": [
    "# Variables and filters widgets:\n",
    "input_xvar = widgets.Dropdown(\n",
    "    description = \"x: \",\n",
    "    options = list(vars_names.keys()),\n",
    "    value = list(vars_names.keys())[0]\n",
    ")\n",
    "input_yvar = widgets.Dropdown(\n",
    "    description = \"y: \",\n",
    "    options = list(vars_names.keys()),\n",
    "    value = list(vars_names.keys())[1]\n",
    ")\n",
    "input_cvar = widgets.Dropdown(\n",
    "    description = \"color: \",\n",
    "    options = list(vars_names.keys()),\n",
    "    value = list(vars_names.keys())[2]\n",
    ")\n",
    "input_channels = widgets.Dropdown(\n",
    "    description = \"Channel: \",\n",
    "    options = opts_channel,\n",
    "    value = opts_channel[0]\n",
    ")\n",
    "\n",
    "# Palette:\n",
    "n_colors = 100\n",
    "my_colors = [\"#000000\", \"#E008F8\", \"#F81D08\", \"#F88A08\", \"#F7FE04\"]\n",
    "cmap = LinearSegmentedColormap.from_list(\"my_palette\", my_colors)\n",
    "my_palette = [to_hex(j) for j in  [cmap(i/n_colors) for i in np.array(range(n_colors))]]\n",
    "\n",
    "# Initialize the figure:\n",
    "df_plot = df_videos[df_videos[\"channel_title\"] == opts_channel[0]]\n",
    "x_init = df_plot[vars_names[input_xvar.value]]\n",
    "y_init = df_plot[vars_names[input_yvar.value]]\n",
    "c_init = df_plot[vars_names[input_cvar.value]]\n",
    "fig = go.FigureWidget(\n",
    "    data = [\n",
    "        go.Scatter(\n",
    "            x = x_init,\n",
    "            y = y_init,\n",
    "            mode = \"markers\",\n",
    "            marker = {\n",
    "                \"size\": 7,\n",
    "                \"color\": c_init,\n",
    "                \"colorscale\": my_palette,\n",
    "                \"showscale\": True,\n",
    "                \"colorbar\": {\n",
    "                    \"title\": \"<b>\" + input_cvar.value + \"</b>\"\n",
    "                }\n",
    "            },\n",
    "            text = df_plot[\"video_title\"],\n",
    "            customdata = df_plot[custom_vars],\n",
    "            hovertemplate = custom_template\n",
    "        )\n",
    "    ],\n",
    "    layout = go.Layout(\n",
    "        xaxis_title = \"<b>\" + input_xvar.value + \"</b>\",\n",
    "        yaxis_title = \"<b>\" + input_yvar.value + \"</b>\",\n",
    "        font = dict(\n",
    "            size = 18\n",
    "        ),\n",
    "        showlegend = False,\n",
    "        plot_bgcolor = \"white\",\n",
    "        hoverlabel = dict(\n",
    "            font_size = 18,\n",
    "            font_family = \"Rockwell\"\n",
    "        ),\n",
    "        margin = dict(\n",
    "            l = 20,\n",
    "            r = 20,\n",
    "            t = 20,\n",
    "            b = 20\n",
    "        ),\n",
    "        height = 600\n",
    "    )\n",
    ")\n",
    "\n",
    "# Filter and update function:\n",
    "def filtering(chosen_xvar, chosen_yvar, chosen_cvar, chosen_channel):\n",
    "    # Filter by channel:\n",
    "    df_filtered = df_videos.copy()[df_videos[\"channel_title\"] == chosen_channel]\n",
    "    \n",
    "    # Variables:\n",
    "    x_vals = df_filtered[vars_names[chosen_xvar]]\n",
    "    y_vals = df_filtered[vars_names[chosen_yvar]]\n",
    "    c_vals = df_filtered[vars_names[chosen_cvar]]\n",
    "\n",
    "    # Update the figure:\n",
    "    with fig.batch_update():\n",
    "        fig.data[0].x = x_vals\n",
    "        fig.data[0].y = y_vals\n",
    "        fig.layout.xaxis.title = \"<b>\" + chosen_xvar + \"</b>\"\n",
    "        fig.layout.yaxis.title = \"<b>\" + chosen_yvar + \"</b>\"\n",
    "        fig.data[0].marker.color = c_vals\n",
    "        fig.data[0].marker.colorbar.title = \"<b>\" + chosen_cvar + \"</b>\"\n",
    "        fig.data[0].text = df_filtered[\"video_title\"]\n",
    "        fig.data[0].customdata = df_filtered[custom_vars]\n",
    "\n",
    "# Event handlers:\n",
    "def eventhandler_xvar(change):\n",
    "    filtering(chosen_xvar = change.new,\n",
    "              chosen_yvar = input_yvar.value,\n",
    "              chosen_cvar = input_cvar.value,\n",
    "              chosen_channel = input_channels.value)\n",
    "def eventhandler_yvar(change):\n",
    "    filtering(chosen_xvar = input_xvar.value,\n",
    "              chosen_yvar = change.new,\n",
    "              chosen_cvar = input_cvar.value,\n",
    "              chosen_channel = input_channels.value)\n",
    "def eventhandler_cvar(change):\n",
    "    filtering(chosen_xvar = input_xvar.value,\n",
    "              chosen_yvar = input_yvar.value,\n",
    "              chosen_cvar = change.new,\n",
    "              chosen_channel = input_channels.value)\n",
    "def eventhandler_channels(change):\n",
    "    filtering(chosen_xvar = input_xvar.value,\n",
    "              chosen_yvar = input_yvar.value,\n",
    "              chosen_cvar = input_cvar.value,\n",
    "              chosen_channel = change.new)\n",
    "\n",
    "# Observes:\n",
    "input_xvar.observe(eventhandler_xvar,\n",
    "                   names = \"value\")\n",
    "input_yvar.observe(eventhandler_yvar,\n",
    "                   names = \"value\")\n",
    "input_cvar.observe(eventhandler_cvar,\n",
    "                   names = \"value\")\n",
    "input_channels.observe(eventhandler_channels,\n",
    "                       names = \"value\")\n",
    "\n",
    "# Row of filters:\n",
    "row_filters = widgets.HBox(\n",
    "    [\n",
    "        input_xvar,\n",
    "        input_yvar,\n",
    "        input_cvar,\n",
    "        input_channels\n",
    "    ]\n",
    ")\n",
    "\n",
    "# Main box:\n",
    "widgets.VBox(\n",
    "    [\n",
    "        row_filters,\n",
    "        fig\n",
    "    ]\n",
    ")"
   ]
  },
  {
   "cell_type": "markdown",
   "metadata": {},
   "source": [
    "## Bubble with colors"
   ]
  },
  {
   "cell_type": "code",
   "execution_count": 40,
   "metadata": {},
   "outputs": [
    {
     "data": {
      "application/vnd.jupyter.widget-view+json": {
       "model_id": "dd059a3f5ab54049981aa6f383aa3fd0",
       "version_major": 2,
       "version_minor": 0
      },
      "text/plain": [
       "VBox(children=(HBox(children=(Dropdown(description='x: ', options=('Views', 'Likes', 'Dislikes', 'Comments', '…"
      ]
     },
     "metadata": {},
     "output_type": "display_data"
    }
   ],
   "source": [
    "# Variables and filters widgets:\n",
    "input_xvar = widgets.Dropdown(\n",
    "    description = \"x: \",\n",
    "    options = list(vars_names.keys()),\n",
    "    value = list(vars_names.keys())[0]\n",
    ")\n",
    "input_yvar = widgets.Dropdown(\n",
    "    description = \"y: \",\n",
    "    options = list(vars_names.keys()),\n",
    "    value = list(vars_names.keys())[1]\n",
    ")\n",
    "input_cvar = widgets.Dropdown(\n",
    "    description = \"color: \",\n",
    "    options = list(vars_names.keys()),\n",
    "    value = list(vars_names.keys())[2]\n",
    ")\n",
    "input_svar = widgets.Dropdown(\n",
    "    description = \"size: \",\n",
    "    options = list(vars_names.keys()),\n",
    "    value = list(vars_names.keys())[3]\n",
    ")\n",
    "input_channels = widgets.Dropdown(\n",
    "    description = \"Channel: \",\n",
    "    options = opts_channel,\n",
    "    value = opts_channel[0]\n",
    ")\n",
    "\n",
    "# Palette:\n",
    "n_colors = 100\n",
    "my_colors = [\"#000000\", \"#E008F8\", \"#F81D08\", \"#F88A08\", \"#F7FE04\"]\n",
    "cmap = LinearSegmentedColormap.from_list(\"my_palette\", my_colors)\n",
    "my_palette = [to_hex(j) for j in  [cmap(i/n_colors) for i in np.array(range(n_colors))]]\n",
    "\n",
    "# Dynamic bubble size:\n",
    "def size_func(s_vals):\n",
    "    ref_size = max(s_init)/(20**2)\n",
    "    return(ref_size)\n",
    "\n",
    "# Initialize the figure:\n",
    "df_plot = df_videos[df_videos[\"channel_title\"] == opts_channel[0]]\n",
    "x_init = df_plot[vars_names[input_xvar.value]]\n",
    "y_init = df_plot[vars_names[input_yvar.value]]\n",
    "c_init = df_plot[vars_names[input_cvar.value]]\n",
    "s_init = df_plot[vars_names[input_svar.value]]\n",
    "fig = go.FigureWidget(\n",
    "    data = [\n",
    "        go.Scatter(\n",
    "            x = x_init,\n",
    "            y = y_init,\n",
    "            mode = \"markers\",\n",
    "            marker = {\n",
    "                \"color\": c_init,\n",
    "                \"colorscale\": my_palette,\n",
    "                \"showscale\": True,\n",
    "                \"colorbar\": {\n",
    "                    \"title\": \"<b>\" + input_cvar.value + \"</b>\"\n",
    "                },\n",
    "                \"size\": s_init,\n",
    "                \"opacity\": 0.9,\n",
    "                \"sizemode\": \"area\",\n",
    "                \"sizeref\": size_func(s_init),\n",
    "                \"sizemin\": 2\n",
    "            },\n",
    "            text = df_plot[\"video_title\"],\n",
    "            customdata = df_plot[custom_vars],\n",
    "            hovertemplate = custom_template\n",
    "        )\n",
    "    ],\n",
    "    layout = go.Layout(\n",
    "        xaxis_title = \"<b>\" + input_xvar.value + \"</b>\",\n",
    "        yaxis_title = \"<b>\" + input_yvar.value + \"</b>\",\n",
    "        font = dict(\n",
    "            size = 18\n",
    "        ),\n",
    "        showlegend = False,\n",
    "        plot_bgcolor = \"white\",\n",
    "        hoverlabel = dict(\n",
    "            font_size = 18,\n",
    "            font_family = \"Rockwell\"\n",
    "        ),\n",
    "        margin = dict(\n",
    "            l = 20,\n",
    "            r = 20,\n",
    "            t = 20,\n",
    "            b = 20\n",
    "        ),\n",
    "        height = 600\n",
    "    )\n",
    ")\n",
    "\n",
    "# Filter and update function:\n",
    "def filtering(chosen_xvar, chosen_yvar, chosen_cvar, chosen_svar, chosen_channel):\n",
    "    # Filter by channel:\n",
    "    df_filtered = df_videos.copy()[df_videos[\"channel_title\"] == chosen_channel]\n",
    "    \n",
    "    # Variables:\n",
    "    x_vals = df_filtered[vars_names[chosen_xvar]]\n",
    "    y_vals = df_filtered[vars_names[chosen_yvar]]\n",
    "    c_vals = df_filtered[vars_names[chosen_cvar]]\n",
    "    s_vals = df_filtered[vars_names[chosen_svar]]\n",
    "\n",
    "    # Update the figure:\n",
    "    with fig.batch_update():\n",
    "        fig.data[0].x = x_vals\n",
    "        fig.data[0].y = y_vals\n",
    "        fig.layout.xaxis.title = \"<b>\" + chosen_xvar + \"</b>\"\n",
    "        fig.layout.yaxis.title = \"<b>\" + chosen_yvar + \"</b>\"\n",
    "        fig.data[0].marker.color = c_vals\n",
    "        fig.data[0].marker.colorbar.title = \"<b>\" + chosen_cvar + \"</b>\"\n",
    "        fig.data[0].text = df_filtered[\"video_title\"]\n",
    "        fig.data[0].customdata = df_filtered[custom_vars]\n",
    "        fig.data[0].marker.size = s_vals\n",
    "        fig.data[0].marker.size = size_func(s_vals)\n",
    "\n",
    "# Event handlers:\n",
    "def eventhandler_xvar(change):\n",
    "    filtering(chosen_xvar = change.new,\n",
    "              chosen_yvar = input_yvar.value,\n",
    "              chosen_cvar = input_cvar.value,\n",
    "              chosen_svar = input_svar.value,\n",
    "              chosen_channel = input_channels.value)\n",
    "def eventhandler_yvar(change):\n",
    "    filtering(chosen_xvar = input_xvar.value,\n",
    "              chosen_yvar = change.new,\n",
    "              chosen_cvar = input_cvar.value,\n",
    "              chosen_svar = input_svar.value,\n",
    "              chosen_channel = input_channels.value)\n",
    "def eventhandler_cvar(change):\n",
    "    filtering(chosen_xvar = input_xvar.value,\n",
    "              chosen_yvar = input_yvar.value,\n",
    "              chosen_cvar = change.new,\n",
    "              chosen_svar = input_svar.value,\n",
    "              chosen_channel = input_channels.value)\n",
    "def eventhandler_svar(change):\n",
    "    filtering(chosen_xvar = input_xvar.value,\n",
    "              chosen_yvar = input_yvar.value,\n",
    "              chosen_cvar = input_cvar.value,\n",
    "              chosen_svar = change.new,\n",
    "              chosen_channel = input_channels.value)\n",
    "def eventhandler_channels(change):\n",
    "    filtering(chosen_xvar = input_xvar.value,\n",
    "              chosen_yvar = input_yvar.value,\n",
    "              chosen_cvar = input_cvar.value,\n",
    "              chosen_svar = input_svar.value,\n",
    "              chosen_channel = change.new)\n",
    "\n",
    "# Observes:\n",
    "input_xvar.observe(eventhandler_xvar,\n",
    "                   names = \"value\")\n",
    "input_yvar.observe(eventhandler_yvar,\n",
    "                   names = \"value\")\n",
    "input_cvar.observe(eventhandler_cvar,\n",
    "                   names = \"value\")\n",
    "input_svar.observe(eventhandler_svar,\n",
    "                   names = \"value\")\n",
    "input_channels.observe(eventhandler_channels,\n",
    "                       names = \"value\")\n",
    "\n",
    "# Row of filters:\n",
    "row_filters = widgets.HBox(\n",
    "    [\n",
    "        input_xvar,\n",
    "        input_yvar,\n",
    "        input_cvar,\n",
    "        input_svar,\n",
    "        input_channels\n",
    "    ]\n",
    ")\n",
    "\n",
    "# Main box:\n",
    "widgets.VBox(\n",
    "    [\n",
    "        row_filters,\n",
    "        fig\n",
    "    ]\n",
    ")"
   ]
  },
  {
   "cell_type": "markdown",
   "metadata": {},
   "source": [
    "## Scatter to compare 2 channels"
   ]
  },
  {
   "cell_type": "code",
   "execution_count": 41,
   "metadata": {},
   "outputs": [
    {
     "data": {
      "application/vnd.jupyter.widget-view+json": {
       "model_id": "581b414d506b44988bb6385901c59ad8",
       "version_major": 2,
       "version_minor": 0
      },
      "text/plain": [
       "VBox(children=(HBox(children=(Dropdown(description='x: ', options=('Views', 'Likes', 'Dislikes', 'Comments', '…"
      ]
     },
     "metadata": {},
     "output_type": "display_data"
    }
   ],
   "source": [
    "# Variables and filters widgets:\n",
    "input_xvar = widgets.Dropdown(\n",
    "    description = \"x: \",\n",
    "    options = list(vars_names.keys()),\n",
    "    value = list(vars_names.keys())[0]\n",
    ")\n",
    "input_yvar = widgets.Dropdown(\n",
    "    description = \"y: \",\n",
    "    options = list(vars_names.keys()),\n",
    "    value = list(vars_names.keys())[1]\n",
    ")\n",
    "input_channel1 = widgets.Dropdown(\n",
    "    description = \"Channel 1: \",\n",
    "    options = opts_channel,\n",
    "    value = opts_channel[0]\n",
    ")\n",
    "input_channel2 = widgets.Dropdown(\n",
    "    description = \"Channel 2: \",\n",
    "    options = opts_channel,\n",
    "    value = opts_channel[1]\n",
    ")\n",
    "\n",
    "# Initialize the figure:\n",
    "df_plot1 = df_videos[df_videos[\"channel_title\"] == opts_channel[0]]\n",
    "x_init1 = df_plot1[vars_names[input_xvar.value]]\n",
    "y_init1 = df_plot1[vars_names[input_yvar.value]]\n",
    "df_plot2 = df_videos[df_videos[\"channel_title\"] == opts_channel[1]]\n",
    "x_init2 = df_plot2[vars_names[input_xvar.value]]\n",
    "y_init2 = df_plot2[vars_names[input_yvar.value]]\n",
    "\n",
    "fig = go.FigureWidget(\n",
    "    data = [\n",
    "        go.Scatter(\n",
    "            x = x_init1,\n",
    "            y = y_init1,\n",
    "            mode = \"markers\",\n",
    "            marker = {\n",
    "                \"size\": 7,\n",
    "                \"color\": \"#2a7b9b\"\n",
    "            },\n",
    "            name = opts_channel[0],\n",
    "            text = df_plot1[\"video_title\"],\n",
    "            customdata = df_plot1[custom_vars],\n",
    "            hovertemplate = custom_template\n",
    "        ),\n",
    "        go.Scatter(\n",
    "            x = x_init1,\n",
    "            y = y_init1,\n",
    "            mode = \"markers\",\n",
    "            marker = {\n",
    "                \"size\": 7,\n",
    "                \"color\": \"#ff8d1a\"\n",
    "            },\n",
    "            name = opts_channel[1],\n",
    "            text = df_plot2[\"video_title\"],\n",
    "            customdata = df_plot2[custom_vars],\n",
    "            hovertemplate = custom_template\n",
    "        )\n",
    "    ],\n",
    "    layout = go.Layout(\n",
    "        xaxis_title = \"<b>\" + input_xvar.value + \"</b>\",\n",
    "        yaxis_title = \"<b>\" + input_yvar.value + \"</b>\",\n",
    "        font = dict(\n",
    "            size = 18\n",
    "        ),\n",
    "        showlegend = True,\n",
    "        plot_bgcolor = \"white\",\n",
    "        hoverlabel = dict(\n",
    "            font_size = 18,\n",
    "            font_family = \"Rockwell\"\n",
    "        ),\n",
    "        margin = dict(\n",
    "            l = 20,\n",
    "            r = 20,\n",
    "            t = 20,\n",
    "            b = 20\n",
    "        ),\n",
    "        height = 600\n",
    "    )\n",
    ")\n",
    "\n",
    "# Filter and update function:\n",
    "def filtering(chosen_xvar, chosen_yvar, chosen_channel1, chosen_channel2):\n",
    "    # Filter by channel:\n",
    "    df_filtered1 = df_videos.copy()[df_videos[\"channel_title\"] == chosen_channel1]\n",
    "    df_filtered2 = df_videos.copy()[df_videos[\"channel_title\"] == chosen_channel2]\n",
    "    \n",
    "    # Variables:\n",
    "    x_vals1 = df_filtered1[vars_names[chosen_xvar]]\n",
    "    y_vals1 = df_filtered1[vars_names[chosen_yvar]]\n",
    "    x_vals2 = df_filtered2[vars_names[chosen_xvar]]\n",
    "    y_vals2 = df_filtered2[vars_names[chosen_yvar]]\n",
    "\n",
    "    # Update the figure:\n",
    "    with fig.batch_update():\n",
    "        fig.data[0].x = x_vals1\n",
    "        fig.data[0].y = y_vals1\n",
    "        fig.data[1].x = x_vals2\n",
    "        fig.data[1].y = y_vals2\n",
    "        fig.layout.xaxis.title = \"<b>\" + chosen_xvar + \"</b>\"\n",
    "        fig.layout.yaxis.title = \"<b>\" + chosen_yvar + \"</b>\"\n",
    "        fig.data[0].name = chosen_channel1\n",
    "        fig.data[1].name = chosen_channel2\n",
    "        fig.data[0].text = df_filtered1[\"video_title\"]\n",
    "        fig.data[0].customdata = df_filtered1[custom_vars]\n",
    "        fig.data[1].text = df_filtered2[\"video_title\"]\n",
    "        fig.data[1].customdata = df_filtered2[custom_vars]\n",
    "\n",
    "# Event handlers:\n",
    "def eventhandler_xvar(change):\n",
    "    filtering(chosen_xvar = change.new,\n",
    "              chosen_yvar = input_yvar.value,\n",
    "              chosen_channel1 = input_channel1.value,\n",
    "              chosen_channel2 = input_channel2.value)\n",
    "def eventhandler_yvar(change):\n",
    "    filtering(chosen_xvar = input_xvar.value,\n",
    "              chosen_yvar = change.new,\n",
    "              chosen_channel1 = input_channel1.value,\n",
    "              chosen_channel2 = input_channel2.value)\n",
    "def eventhandler_channel1(change):\n",
    "    filtering(chosen_xvar = input_xvar.value,\n",
    "              chosen_yvar = input_yvar.value,\n",
    "              chosen_channel1 = change.new,\n",
    "              chosen_channel2 = input_channel2.value)\n",
    "def eventhandler_channel2(change):\n",
    "    filtering(chosen_xvar = input_xvar.value,\n",
    "              chosen_yvar = input_yvar.value,\n",
    "              chosen_channel1 = input_channel1.value,\n",
    "              chosen_channel2 = change.new)\n",
    "\n",
    "# Observes:\n",
    "input_xvar.observe(eventhandler_xvar,\n",
    "                   names = \"value\")\n",
    "input_yvar.observe(eventhandler_yvar,\n",
    "                   names = \"value\")\n",
    "input_channel1.observe(eventhandler_channel1,\n",
    "                       names = \"value\")\n",
    "input_channel2.observe(eventhandler_channel2,\n",
    "                       names = \"value\")\n",
    "\n",
    "# Row of filters:\n",
    "row_filters = widgets.HBox(\n",
    "    [\n",
    "        input_xvar,\n",
    "        input_yvar,\n",
    "        input_channel1,\n",
    "        input_channel2\n",
    "    ]\n",
    ")\n",
    "\n",
    "# Main box:\n",
    "widgets.VBox(\n",
    "    [\n",
    "        row_filters,\n",
    "        fig\n",
    "    ]\n",
    ")"
   ]
  },
  {
   "cell_type": "markdown",
   "metadata": {},
   "source": [
    "## Correlation matrix"
   ]
  },
  {
   "cell_type": "code",
   "execution_count": 42,
   "metadata": {},
   "outputs": [
    {
     "data": {
      "application/vnd.jupyter.widget-view+json": {
       "model_id": "dfada436d5b04bfb9360ff341b369fce",
       "version_major": 2,
       "version_minor": 0
      },
      "text/plain": [
       "VBox(children=(HBox(children=(Dropdown(description='Channel: ', options=('3Blue1Brown', 'AWE me', 'Adam Savage…"
      ]
     },
     "metadata": {},
     "output_type": "display_data"
    }
   ],
   "source": [
    "# Variables and filters widgets:\n",
    "input_channels = widgets.Dropdown(\n",
    "    description = \"Channel: \",\n",
    "    options = opts_channel,\n",
    "    value = opts_channel[0]\n",
    ")\n",
    "\n",
    "# Palette:\n",
    "n_colors = 100\n",
    "my_colors = [\"#000000\", \"#E008F8\", \"#F81D08\", \"#F88A08\", \"#F7FE04\"]\n",
    "cmap = LinearSegmentedColormap.from_list(\"my_palette\", my_colors)\n",
    "my_palette = [to_hex(j) for j in  [cmap(i/n_colors) for i in np.array(range(n_colors))]]\n",
    "\n",
    "# Initialize the figure:\n",
    "xy_names = list(vars_names.keys())\n",
    "df_plot = df_videos[df_videos[\"channel_title\"] == opts_channel[0]]\n",
    "df_plot = df_plot[list(vars_names.values())]\n",
    "corr_init = df_plot.corr()\n",
    "fig = go.FigureWidget(\n",
    "    data = [\n",
    "        go.Heatmap(\n",
    "            x = xy_names,\n",
    "            y = xy_names,\n",
    "            z = corr_init,\n",
    "            colorscale = my_palette,\n",
    "            colorbar = dict(\n",
    "                title = \"<b>Pearson correlation </b>\"\n",
    "            ),\n",
    "            zmin = -1,\n",
    "            zmax = 1,\n",
    "            hovertemplate = \"<b>\" +\n",
    "                            \"%{x}<br>\" +\n",
    "                            \"%{y}</br>\" +\n",
    "                            \"Correlation: %{z:, }</b><extra></extra>\"\n",
    "        )\n",
    "    ],\n",
    "    layout = go.Layout(\n",
    "        font = dict(\n",
    "            size = 18\n",
    "        ),\n",
    "        showlegend = False,\n",
    "        plot_bgcolor = \"white\",\n",
    "        hoverlabel = dict(\n",
    "            font_size = 18,\n",
    "            font_family = \"Rockwell\"\n",
    "        ),\n",
    "        margin = dict(\n",
    "            l = 400,\n",
    "            r = 20,\n",
    "            t = 20,\n",
    "            b = 20\n",
    "        ),\n",
    "        height = 900,\n",
    "        width = 1300\n",
    "    )\n",
    ")\n",
    "\n",
    "# Filter and update function:\n",
    "def filtering(chosen_channel):\n",
    "    # Filter by channel:\n",
    "    df_filtered = df_videos.copy()[df_videos[\"channel_title\"] == chosen_channel]\n",
    "    \n",
    "    # Variables:\n",
    "    df_filtered = df_filtered[list(vars_names.values())]\n",
    "    corr_vals = df_filtered.corr()\n",
    "\n",
    "    # Update the figure:\n",
    "    with fig.batch_update():\n",
    "        fig.data[0].z = corr_vals\n",
    "\n",
    "# Event handlers:\n",
    "def eventhandler_channels(change):\n",
    "    filtering(chosen_channel = change.new)\n",
    "\n",
    "# Observes:\n",
    "input_channels.observe(eventhandler_channels,\n",
    "                       names = \"value\")\n",
    "\n",
    "# Row of filters:\n",
    "row_filters = widgets.HBox(\n",
    "    [\n",
    "        input_channels\n",
    "    ]\n",
    ")\n",
    "\n",
    "# Main box:\n",
    "widgets.VBox(\n",
    "    [\n",
    "        row_filters,\n",
    "        fig\n",
    "    ]\n",
    ")"
   ]
  },
  {
   "cell_type": "code",
   "execution_count": null,
   "metadata": {},
   "outputs": [],
   "source": []
  },
  {
   "cell_type": "code",
   "execution_count": null,
   "metadata": {},
   "outputs": [],
   "source": []
  }
 ],
 "metadata": {
  "interpreter": {
   "hash": "df1daafec530e3a216b78e890da387731a57cc07fa0b2d3ae60d44cd480dcb69"
  },
  "kernelspec": {
   "display_name": "Python 3.8.10 64-bit ('venv': venv)",
   "name": "python3"
  },
  "language_info": {
   "codemirror_mode": {
    "name": "ipython",
    "version": 3
   },
   "file_extension": ".py",
   "mimetype": "text/x-python",
   "name": "python",
   "nbconvert_exporter": "python",
   "pygments_lexer": "ipython3",
   "version": "3.8.10"
  }
 },
 "nbformat": 4,
 "nbformat_minor": 4
}
