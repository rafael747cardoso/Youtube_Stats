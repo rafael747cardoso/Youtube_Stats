{
 "cells": [
  {
   "cell_type": "code",
   "execution_count": 1,
   "metadata": {},
   "outputs": [],
   "source": [
    "import numpy as np\n",
    "import pandas as pd\n",
    "from googleapiclient.discovery import build"
   ]
  },
  {
   "cell_type": "code",
   "execution_count": 2,
   "metadata": {},
   "outputs": [],
   "source": [
    "# Youtube Data API:\n",
    "yt = build(\n",
    "    serviceName = \"youtube\",\n",
    "    version = \"v3\",\n",
    "    developerKey = \"\" # my key\n",
    ")"
   ]
  },
  {
   "cell_type": "code",
   "execution_count": 5,
   "metadata": {},
   "outputs": [],
   "source": [
    "### Channels data:\n",
    "\n",
    "# Channels names:\n",
    "channel_title = [\"Tom Scott\"]\n",
    "\n",
    "# Channels Ids (from content = \"https://www.youtube.com/channel/):\n",
    "channel_id = [\"UCBa659QWEk1AI4Tg--mrJ2A\"]\n",
    "\n",
    "# Extract the videos data for the channels:\n",
    "content = yt.channels().list(id = channel_id,\n",
    "                             part = \"contentDe\").execute()\n",
    "sa"
   ]
  },
  {
   "cell_type": "code",
   "execution_count": 10,
   "metadata": {},
   "outputs": [],
   "source": [
    "content = yt.channels().list(id = channel_id,\n",
    "                             part = \"contentDe\").execute()"
   ]
  },
  {
   "cell_type": "code",
   "execution_count": 11,
   "metadata": {},
   "outputs": [
    {
     "data": {
      "text/plain": [
       "{'kind': 'youtube#channelListResponse',\n",
       " 'etag': 'PtCpAhUpINHxGRGeYqwEPUPTFmM',\n",
       " 'pageInfo': {'totalResults': 1, 'resultsPerPage': 5},\n",
       " 'items': [{'kind': 'youtube#channel',\n",
       "   'etag': 'oqcIn8VyKliVdTlrKEkyvZVd7K0',\n",
       "   'id': 'UCXvA7wLxIJDa1SWYWl7e-oQ',\n",
       "   'contentDetails': {'relatedPlaylists': {'likes': '',\n",
       "     'uploads': 'UUXvA7wLxIJDa1SWYWl7e-oQ'}}}]}"
      ]
     },
     "execution_count": 11,
     "metadata": {},
     "output_type": "execute_result"
    }
   ],
   "source": [
    "content"
   ]
  },
  {
   "cell_type": "code",
   "execution_count": 12,
   "metadata": {},
   "outputs": [],
   "source": [
    "uploadId = content[\"items\"][0][\"contentDetails\"][\"relatedPlaylists\"][\"uploads\"]\n",
    "all_videos = []\n",
    "next_pg_token = None\n",
    "res = yt.playlistItems().list(playlistId = uploadId,\n",
    "                              maxResults = 50,\n",
    "                              part = \"snippet\",\n",
    "                              pageToken = next_pg_token).execute()\n",
    "while True:\n",
    "    res = yt.playlistItems().list(playlistId = uploadId,\n",
    "                                  maxResults = 50,\n",
    "                                  part = \"snippet\",\n",
    "                                  pageToken = next_pg_token).execute()\n",
    "    all_videos += res[\"items\"]\n",
    "    next_pg_token = res.get(\"nextPageToken\")\n",
    "    if next_pg_token is None:\n",
    "        break\n"
   ]
  },
  {
   "cell_type": "code",
   "execution_count": 13,
   "metadata": {},
   "outputs": [
    {
     "data": {
      "text/plain": [
       "[{'kind': 'youtube#playlistItem',\n",
       "  'etag': 'tXRFas022mY5us8XJii3cz09ZvA',\n",
       "  'id': 'VVVYdkE3d0x4SUpEYTFTV1lXbDdlLW9RLm00dGZudHU0WFM4',\n",
       "  'snippet': {'publishedAt': '2021-07-12T19:42:09Z',\n",
       "   'channelId': 'UCXvA7wLxIJDa1SWYWl7e-oQ',\n",
       "   'title': 'Around the world with The Tim Traveller International Staycation Challenge',\n",
       "   'description': 'We wanted to take part in The Tim Traveller Staycation Challenge, so we traveled around the world in Brussels. :)\\nhttps://www.youtube.com/watch?v=V6LpWGfkhHU\\n\\n#internationalstaycationchallenge',\n",
       "   'thumbnails': {'default': {'url': 'https://i.ytimg.com/vi/m4tfntu4XS8/default.jpg',\n",
       "     'width': 120,\n",
       "     'height': 90},\n",
       "    'medium': {'url': 'https://i.ytimg.com/vi/m4tfntu4XS8/mqdefault.jpg',\n",
       "     'width': 320,\n",
       "     'height': 180},\n",
       "    'high': {'url': 'https://i.ytimg.com/vi/m4tfntu4XS8/hqdefault.jpg',\n",
       "     'width': 480,\n",
       "     'height': 360},\n",
       "    'standard': {'url': 'https://i.ytimg.com/vi/m4tfntu4XS8/sddefault.jpg',\n",
       "     'width': 640,\n",
       "     'height': 480},\n",
       "    'maxres': {'url': 'https://i.ytimg.com/vi/m4tfntu4XS8/maxresdefault.jpg',\n",
       "     'width': 1280,\n",
       "     'height': 720}},\n",
       "   'channelTitle': 'arewethereyet',\n",
       "   'playlistId': 'UUXvA7wLxIJDa1SWYWl7e-oQ',\n",
       "   'position': 0,\n",
       "   'resourceId': {'kind': 'youtube#video', 'videoId': 'm4tfntu4XS8'},\n",
       "   'videoOwnerChannelTitle': 'arewethereyet',\n",
       "   'videoOwnerChannelId': 'UCXvA7wLxIJDa1SWYWl7e-oQ'}},\n",
       " {'kind': 'youtube#playlistItem',\n",
       "  'etag': 'hWyCrI-hphOYAuHMpvc-JW4Ty-o',\n",
       "  'id': 'VVVYdkE3d0x4SUpEYTFTV1lXbDdlLW9RLk4xZEVjNmU3U21r',\n",
       "  'snippet': {'publishedAt': '2021-05-17T23:48:04Z',\n",
       "   'channelId': 'UCXvA7wLxIJDa1SWYWl7e-oQ',\n",
       "   'title': 'How the university of Leuven kept losing its library.',\n",
       "   'description': 'The university of Leuven is more than 600 years old. Its library less than 60. This is why the university of Leuven kept losing its library.',\n",
       "   'thumbnails': {'default': {'url': 'https://i.ytimg.com/vi/N1dEc6e7Smk/default.jpg',\n",
       "     'width': 120,\n",
       "     'height': 90},\n",
       "    'medium': {'url': 'https://i.ytimg.com/vi/N1dEc6e7Smk/mqdefault.jpg',\n",
       "     'width': 320,\n",
       "     'height': 180},\n",
       "    'high': {'url': 'https://i.ytimg.com/vi/N1dEc6e7Smk/hqdefault.jpg',\n",
       "     'width': 480,\n",
       "     'height': 360},\n",
       "    'standard': {'url': 'https://i.ytimg.com/vi/N1dEc6e7Smk/sddefault.jpg',\n",
       "     'width': 640,\n",
       "     'height': 480},\n",
       "    'maxres': {'url': 'https://i.ytimg.com/vi/N1dEc6e7Smk/maxresdefault.jpg',\n",
       "     'width': 1280,\n",
       "     'height': 720}},\n",
       "   'channelTitle': 'arewethereyet',\n",
       "   'playlistId': 'UUXvA7wLxIJDa1SWYWl7e-oQ',\n",
       "   'position': 1,\n",
       "   'resourceId': {'kind': 'youtube#video', 'videoId': 'N1dEc6e7Smk'},\n",
       "   'videoOwnerChannelTitle': 'arewethereyet',\n",
       "   'videoOwnerChannelId': 'UCXvA7wLxIJDa1SWYWl7e-oQ'}},\n",
       " {'kind': 'youtube#playlistItem',\n",
       "  'etag': 'kbRhsSdZO-2M3ntA4a0DoBxK1i8',\n",
       "  'id': 'VVVYdkE3d0x4SUpEYTFTV1lXbDdlLW9RLlEzMUNoZEVGa1lr',\n",
       "  'snippet': {'publishedAt': '2021-04-20T23:00:17Z',\n",
       "   'channelId': 'UCXvA7wLxIJDa1SWYWl7e-oQ',\n",
       "   'title': 'The very lively ghost town of Doel.',\n",
       "   'description': \"If you search on YouTube for Doel, you will find video after video after video of influencers strolling  through empty houses and streets, set to spooky music. Doel is Belgium's only ghost town, and everybody with a GoPro has visited it by now.\\n\\nIncluding us. \\n\\n\\nExcept, when we visited Doel on a beautiful spring day in April, the village seemed surprisingly lively for a ghost town.\\n\\n\\nSo, what is the deal with Doel?\\n\\n\\n---------\\nextra soundstage by\\nhttps://freesound.org/people/klankbeeld/\\nhttps://freesound.org/people/costaipsa/\\nhttps://freesound.org/people/dobroide/\",\n",
       "   'thumbnails': {'default': {'url': 'https://i.ytimg.com/vi/Q31ChdEFkYk/default.jpg',\n",
       "     'width': 120,\n",
       "     'height': 90},\n",
       "    'medium': {'url': 'https://i.ytimg.com/vi/Q31ChdEFkYk/mqdefault.jpg',\n",
       "     'width': 320,\n",
       "     'height': 180},\n",
       "    'high': {'url': 'https://i.ytimg.com/vi/Q31ChdEFkYk/hqdefault.jpg',\n",
       "     'width': 480,\n",
       "     'height': 360}},\n",
       "   'channelTitle': 'arewethereyet',\n",
       "   'playlistId': 'UUXvA7wLxIJDa1SWYWl7e-oQ',\n",
       "   'position': 2,\n",
       "   'resourceId': {'kind': 'youtube#video', 'videoId': 'Q31ChdEFkYk'},\n",
       "   'videoOwnerChannelTitle': 'arewethereyet',\n",
       "   'videoOwnerChannelId': 'UCXvA7wLxIJDa1SWYWl7e-oQ'}},\n",
       " {'kind': 'youtube#playlistItem',\n",
       "  'etag': '9DPQu3A50q3WXaKWX86jRNm7b_g',\n",
       "  'id': 'VVVYdkE3d0x4SUpEYTFTV1lXbDdlLW9RLkdTVTl6WUJaUHk4',\n",
       "  'snippet': {'publishedAt': '2021-04-03T23:57:01Z',\n",
       "   'channelId': 'UCXvA7wLxIJDa1SWYWl7e-oQ',\n",
       "   'title': \"How Brussels lost it's river, and where you can still find it.\",\n",
       "   'description': 'Brussels, in old Dutch, literally means, the house on the Swamp. For centuries Brussels struggled to control the Zenne, the river meandering trough its center. Yet, when you visit Brussels today, there is no river to be found in the city, let alone a swamp.',\n",
       "   'thumbnails': {'default': {'url': 'https://i.ytimg.com/vi/GSU9zYBZPy8/default.jpg',\n",
       "     'width': 120,\n",
       "     'height': 90},\n",
       "    'medium': {'url': 'https://i.ytimg.com/vi/GSU9zYBZPy8/mqdefault.jpg',\n",
       "     'width': 320,\n",
       "     'height': 180},\n",
       "    'high': {'url': 'https://i.ytimg.com/vi/GSU9zYBZPy8/hqdefault.jpg',\n",
       "     'width': 480,\n",
       "     'height': 360},\n",
       "    'standard': {'url': 'https://i.ytimg.com/vi/GSU9zYBZPy8/sddefault.jpg',\n",
       "     'width': 640,\n",
       "     'height': 480},\n",
       "    'maxres': {'url': 'https://i.ytimg.com/vi/GSU9zYBZPy8/maxresdefault.jpg',\n",
       "     'width': 1280,\n",
       "     'height': 720}},\n",
       "   'channelTitle': 'arewethereyet',\n",
       "   'playlistId': 'UUXvA7wLxIJDa1SWYWl7e-oQ',\n",
       "   'position': 3,\n",
       "   'resourceId': {'kind': 'youtube#video', 'videoId': 'GSU9zYBZPy8'},\n",
       "   'videoOwnerChannelTitle': 'arewethereyet',\n",
       "   'videoOwnerChannelId': 'UCXvA7wLxIJDa1SWYWl7e-oQ'}}]"
      ]
     },
     "execution_count": 13,
     "metadata": {},
     "output_type": "execute_result"
    }
   ],
   "source": [
    "all_videos"
   ]
  },
  {
   "cell_type": "code",
   "execution_count": 14,
   "metadata": {},
   "outputs": [],
   "source": [
    "videos_ids = list(map(lambda x: x[\"snippet\"][\"resourceId\"][\"videoId\"], all_videos))"
   ]
  },
  {
   "cell_type": "code",
   "execution_count": 15,
   "metadata": {},
   "outputs": [
    {
     "data": {
      "text/plain": [
       "['m4tfntu4XS8', 'N1dEc6e7Smk', 'Q31ChdEFkYk', 'GSU9zYBZPy8']"
      ]
     },
     "execution_count": 15,
     "metadata": {},
     "output_type": "execute_result"
    }
   ],
   "source": [
    "videos_ids"
   ]
  },
  {
   "cell_type": "code",
   "execution_count": 16,
   "metadata": {},
   "outputs": [],
   "source": [
    "stats = []\n",
    "for i in range(0, len(videos_ids), 40):\n",
    "    res = (yt).videos().list(id = \",\".join(videos_ids[i:i + 40]),\n",
    "                             part = \"statistics\").execute()\n",
    "    stats += res[\"items\"]"
   ]
  },
  {
   "cell_type": "code",
   "execution_count": 17,
   "metadata": {},
   "outputs": [
    {
     "data": {
      "text/plain": [
       "[{'kind': 'youtube#video',\n",
       "  'etag': 'HF3swoWAvihifsUVJz8RNqi6VUE',\n",
       "  'id': 'm4tfntu4XS8',\n",
       "  'statistics': {'viewCount': '3584',\n",
       "   'likeCount': '555',\n",
       "   'dislikeCount': '1',\n",
       "   'favoriteCount': '0',\n",
       "   'commentCount': '53'}},\n",
       " {'kind': 'youtube#video',\n",
       "  'etag': 'QZZUdQRzIGMRspPVPAVo0anMEOg',\n",
       "  'id': 'N1dEc6e7Smk',\n",
       "  'statistics': {'viewCount': '900',\n",
       "   'likeCount': '188',\n",
       "   'dislikeCount': '0',\n",
       "   'favoriteCount': '0',\n",
       "   'commentCount': '20'}},\n",
       " {'kind': 'youtube#video',\n",
       "  'etag': 'F_znARqxvQCts8FlMi7BW8a1s6s',\n",
       "  'id': 'Q31ChdEFkYk',\n",
       "  'statistics': {'viewCount': '953',\n",
       "   'likeCount': '146',\n",
       "   'dislikeCount': '0',\n",
       "   'favoriteCount': '0',\n",
       "   'commentCount': '21'}},\n",
       " {'kind': 'youtube#video',\n",
       "  'etag': '_u-R-6Y7XeCgXQ7BM1HLZbTbRH0',\n",
       "  'id': 'GSU9zYBZPy8',\n",
       "  'statistics': {'viewCount': '2369',\n",
       "   'likeCount': '293',\n",
       "   'dislikeCount': '0',\n",
       "   'favoriteCount': '0',\n",
       "   'commentCount': '53'}}]"
      ]
     },
     "execution_count": 17,
     "metadata": {},
     "output_type": "execute_result"
    }
   ],
   "source": [
    "stats"
   ]
  },
  {
   "cell_type": "code",
   "execution_count": 18,
   "metadata": {},
   "outputs": [],
   "source": [
    "video_id, views, likes, dislikes, favorites, comments = [], [], [], [], [], []\n",
    "for i in range(len(stats)):\n",
    "    video_id += [stats[i][\"id\"]]\n",
    "    views += [stats[i][\"statistics\"][\"viewCount\"]]\n",
    "    likes += [stats[i][\"statistics\"][\"likeCount\"]]\n",
    "    dislikes += [stats[i][\"statistics\"][\"dislikeCount\"]]\n",
    "    favorites += [stats[i][\"statistics\"][\"favoriteCount\"]]\n",
    "    comments += [stats[i][\"statistics\"][\"commentCount\"]]\n",
    "df_videos = pd.DataFrame(\n",
    "    {\n",
    "        \"channel_title\": channel_title,\n",
    "        \"channel_id\": channel_id,\n",
    "        \"video_title\": list(map(lambda x: x[\"snippet\"][\"title\"], all_videos)),\n",
    "        \"video_id\": video_id,\n",
    "        \"views\": views,\n",
    "        \"likes\": likes,\n",
    "        \"dislikes\": dislikes,\n",
    "        \"favorites\": favorites,\n",
    "        \"comments\": comments        \n",
    "    }\n",
    ")"
   ]
  },
  {
   "cell_type": "code",
   "execution_count": 19,
   "metadata": {},
   "outputs": [
    {
     "data": {
      "text/html": [
       "<div>\n",
       "<style scoped>\n",
       "    .dataframe tbody tr th:only-of-type {\n",
       "        vertical-align: middle;\n",
       "    }\n",
       "\n",
       "    .dataframe tbody tr th {\n",
       "        vertical-align: top;\n",
       "    }\n",
       "\n",
       "    .dataframe thead th {\n",
       "        text-align: right;\n",
       "    }\n",
       "</style>\n",
       "<table border=\"1\" class=\"dataframe\">\n",
       "  <thead>\n",
       "    <tr style=\"text-align: right;\">\n",
       "      <th></th>\n",
       "      <th>channel_title</th>\n",
       "      <th>channel_id</th>\n",
       "      <th>video_title</th>\n",
       "      <th>video_id</th>\n",
       "      <th>views</th>\n",
       "      <th>likes</th>\n",
       "      <th>dislikes</th>\n",
       "      <th>favorites</th>\n",
       "      <th>comments</th>\n",
       "    </tr>\n",
       "  </thead>\n",
       "  <tbody>\n",
       "    <tr>\n",
       "      <th>0</th>\n",
       "      <td>arewethereyet</td>\n",
       "      <td>UCXvA7wLxIJDa1SWYWl7e-oQ</td>\n",
       "      <td>Around the world with The Tim Traveller Intern...</td>\n",
       "      <td>m4tfntu4XS8</td>\n",
       "      <td>3584</td>\n",
       "      <td>555</td>\n",
       "      <td>1</td>\n",
       "      <td>0</td>\n",
       "      <td>53</td>\n",
       "    </tr>\n",
       "    <tr>\n",
       "      <th>1</th>\n",
       "      <td>arewethereyet</td>\n",
       "      <td>UCXvA7wLxIJDa1SWYWl7e-oQ</td>\n",
       "      <td>How the university of Leuven kept losing its l...</td>\n",
       "      <td>N1dEc6e7Smk</td>\n",
       "      <td>900</td>\n",
       "      <td>188</td>\n",
       "      <td>0</td>\n",
       "      <td>0</td>\n",
       "      <td>20</td>\n",
       "    </tr>\n",
       "    <tr>\n",
       "      <th>2</th>\n",
       "      <td>arewethereyet</td>\n",
       "      <td>UCXvA7wLxIJDa1SWYWl7e-oQ</td>\n",
       "      <td>The very lively ghost town of Doel.</td>\n",
       "      <td>Q31ChdEFkYk</td>\n",
       "      <td>953</td>\n",
       "      <td>146</td>\n",
       "      <td>0</td>\n",
       "      <td>0</td>\n",
       "      <td>21</td>\n",
       "    </tr>\n",
       "    <tr>\n",
       "      <th>3</th>\n",
       "      <td>arewethereyet</td>\n",
       "      <td>UCXvA7wLxIJDa1SWYWl7e-oQ</td>\n",
       "      <td>How Brussels lost it's river, and where you ca...</td>\n",
       "      <td>GSU9zYBZPy8</td>\n",
       "      <td>2369</td>\n",
       "      <td>293</td>\n",
       "      <td>0</td>\n",
       "      <td>0</td>\n",
       "      <td>53</td>\n",
       "    </tr>\n",
       "  </tbody>\n",
       "</table>\n",
       "</div>"
      ],
      "text/plain": [
       "   channel_title                channel_id  \\\n",
       "0  arewethereyet  UCXvA7wLxIJDa1SWYWl7e-oQ   \n",
       "1  arewethereyet  UCXvA7wLxIJDa1SWYWl7e-oQ   \n",
       "2  arewethereyet  UCXvA7wLxIJDa1SWYWl7e-oQ   \n",
       "3  arewethereyet  UCXvA7wLxIJDa1SWYWl7e-oQ   \n",
       "\n",
       "                                         video_title     video_id views likes  \\\n",
       "0  Around the world with The Tim Traveller Intern...  m4tfntu4XS8  3584   555   \n",
       "1  How the university of Leuven kept losing its l...  N1dEc6e7Smk   900   188   \n",
       "2                The very lively ghost town of Doel.  Q31ChdEFkYk   953   146   \n",
       "3  How Brussels lost it's river, and where you ca...  GSU9zYBZPy8  2369   293   \n",
       "\n",
       "  dislikes favorites comments  \n",
       "0        1         0       53  \n",
       "1        0         0       20  \n",
       "2        0         0       21  \n",
       "3        0         0       53  "
      ]
     },
     "execution_count": 19,
     "metadata": {},
     "output_type": "execute_result"
    }
   ],
   "source": [
    "df_videos"
   ]
  },
  {
   "cell_type": "code",
   "execution_count": null,
   "metadata": {},
   "outputs": [],
   "source": []
  },
  {
   "cell_type": "code",
   "execution_count": null,
   "metadata": {},
   "outputs": [],
   "source": []
  },
  {
   "cell_type": "code",
   "execution_count": null,
   "metadata": {},
   "outputs": [],
   "source": []
  },
  {
   "cell_type": "code",
   "execution_count": null,
   "metadata": {},
   "outputs": [],
   "source": []
  }
 ],
 "metadata": {
  "kernelspec": {
   "display_name": "youtube_data_venv",
   "language": "python",
   "name": "youtube_data_venv"
  },
  "language_info": {
   "codemirror_mode": {
    "name": "ipython",
    "version": 3
   },
   "file_extension": ".py",
   "mimetype": "text/x-python",
   "name": "python",
   "nbconvert_exporter": "python",
   "pygments_lexer": "ipython3",
   "version": "3.8.10"
  }
 },
 "nbformat": 4,
 "nbformat_minor": 4
}
